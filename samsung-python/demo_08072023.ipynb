{
 "cells": [
  {
   "cell_type": "markdown",
   "id": "1511fd5a",
   "metadata": {},
   "source": [
    "## Circumference of a circle"
   ]
  },
  {
   "cell_type": "code",
   "execution_count": 24,
   "id": "721909d5",
   "metadata": {
    "scrolled": false
   },
   "outputs": [
    {
     "name": "stdout",
     "output_type": "stream",
     "text": [
      "+-----------------------------------------------------------------+\n",
      "|radius: 4  , circumference: 25.12               , area: 50.24|         \n",
      "+-----------------------------------------------------------------+\n",
      "|radius: 5  , circumference: 31.400000000000002  , area: 78.5|         \n",
      "+-----------------------------------------------------------------+\n",
      "|radius: 6  , circumference: 37.68               , area: 113.04|         \n",
      "+-----------------------------------------------------------------+\n",
      "|radius: 10 , circumference: 62.800000000000004  , area: 314.0|         \n",
      "+-----------------------------------------------------------------+\n",
      "|radius: 20 , circumference: 125.60000000000001  , area: 1256.0|         \n",
      "+-----------------------------------------------------------------+\n",
      "|radius: 33 , circumference: 207.24              , area: 3419.46|         \n",
      "-----------------------------------------------------------------\n"
     ]
    }
   ],
   "source": [
    "radii = [4, 5, 6, 10, 20, 33]\n",
    "line_len = 65\n",
    "\n",
    "for i in radii:\n",
    "    print(\"+\" + \"-\" * line_len + \"+\")\n",
    "    print(\"|radius: {}, circumference: {}, area: {}\".format(\n",
    "        str(i).ljust(3),\n",
    "        str(2 * i * 3.14).ljust(20),\n",
    "        (str(i * i * 3.14) + \"|\".ljust(10)).ljust(3)\n",
    "    ))\n",
    "#     print(\"|\")\n",
    "    \n",
    "print(\"-\" * line_len)"
   ]
  },
  {
   "cell_type": "markdown",
   "id": "a2f86530",
   "metadata": {},
   "source": [
    "## floor division"
   ]
  },
  {
   "cell_type": "code",
   "execution_count": 44,
   "id": "1fc67644",
   "metadata": {},
   "outputs": [
    {
     "data": {
      "text/plain": [
       "3"
      ]
     },
     "execution_count": 44,
     "metadata": {},
     "output_type": "execute_result"
    }
   ],
   "source": [
    "7 // 2 # == int(7 / 2)"
   ]
  },
  {
   "cell_type": "markdown",
   "id": "c99ed9f8",
   "metadata": {},
   "source": [
    "## power"
   ]
  },
  {
   "cell_type": "code",
   "execution_count": 43,
   "id": "380216b4",
   "metadata": {},
   "outputs": [
    {
     "data": {
      "text/plain": [
       "2.0"
      ]
     },
     "execution_count": 43,
     "metadata": {},
     "output_type": "execute_result"
    }
   ],
   "source": [
    "4**0.5 # quare root of a number"
   ]
  },
  {
   "cell_type": "markdown",
   "id": "a271b62f",
   "metadata": {},
   "source": [
    "## Aritmetic operators"
   ]
  },
  {
   "cell_type": "code",
   "execution_count": 45,
   "id": "e6bf2c21",
   "metadata": {},
   "outputs": [
    {
     "data": {
      "text/plain": [
       "120"
      ]
     },
     "execution_count": 45,
     "metadata": {},
     "output_type": "execute_result"
    }
   ],
   "source": [
    "100 + 20"
   ]
  },
  {
   "cell_type": "code",
   "execution_count": 46,
   "id": "1b764e7d",
   "metadata": {},
   "outputs": [
    {
     "data": {
      "text/plain": [
       "80"
      ]
     },
     "execution_count": 46,
     "metadata": {},
     "output_type": "execute_result"
    }
   ],
   "source": [
    "100 - 20"
   ]
  },
  {
   "cell_type": "code",
   "execution_count": 47,
   "id": "79440608",
   "metadata": {},
   "outputs": [
    {
     "data": {
      "text/plain": [
       "2000"
      ]
     },
     "execution_count": 47,
     "metadata": {},
     "output_type": "execute_result"
    }
   ],
   "source": [
    "100 * 20"
   ]
  },
  {
   "cell_type": "code",
   "execution_count": 48,
   "id": "2ab4cd39",
   "metadata": {},
   "outputs": [
    {
     "data": {
      "text/plain": [
       "5.0"
      ]
     },
     "execution_count": 48,
     "metadata": {},
     "output_type": "execute_result"
    }
   ],
   "source": [
    "100 / 20"
   ]
  },
  {
   "cell_type": "markdown",
   "id": "42164df9",
   "metadata": {},
   "source": [
    "## remainder"
   ]
  },
  {
   "cell_type": "code",
   "execution_count": 49,
   "id": "4ff195bf",
   "metadata": {},
   "outputs": [
    {
     "data": {
      "text/plain": [
       "1"
      ]
     },
     "execution_count": 49,
     "metadata": {},
     "output_type": "execute_result"
    }
   ],
   "source": [
    "100 % 3"
   ]
  },
  {
   "cell_type": "markdown",
   "id": "84935528",
   "metadata": {},
   "source": [
    "# type"
   ]
  },
  {
   "cell_type": "markdown",
   "id": "42a5e7d8",
   "metadata": {},
   "source": [
    "## Get all variables and functions in a module"
   ]
  },
  {
   "cell_type": "code",
   "execution_count": 57,
   "id": "4fb37a5c",
   "metadata": {},
   "outputs": [
    {
     "name": "stdout",
     "output_type": "stream",
     "text": [
      "<class 'module'>\n",
      "<module 'itertools' (built-in)>\n",
      "['_grouper', '_tee', '_tee_dataobject', 'accumulate', 'chain', 'combinations', 'combinations_with_replacement', 'compress', 'count', 'cycle', 'dropwhile', 'filterfalse', 'groupby', 'islice', 'permutations', 'product', 'repeat', 'starmap', 'takewhile', 'tee', 'zip_longest']\n",
      "name: __doc__, type: <class 'str'>\n",
      "name: __loader__, type: <class 'str'>\n",
      "name: __name__, type: <class 'str'>\n",
      "name: __package__, type: <class 'str'>\n",
      "name: __spec__, type: <class 'str'>\n",
      "name: _grouper, type: <class 'str'>\n",
      "name: _tee, type: <class 'str'>\n",
      "name: _tee_dataobject, type: <class 'str'>\n",
      "name: accumulate, type: <class 'str'>\n",
      "name: chain, type: <class 'str'>\n",
      "name: combinations, type: <class 'str'>\n",
      "name: combinations_with_replacement, type: <class 'str'>\n",
      "name: compress, type: <class 'str'>\n",
      "name: count, type: <class 'str'>\n",
      "name: cycle, type: <class 'str'>\n",
      "name: dropwhile, type: <class 'str'>\n",
      "name: filterfalse, type: <class 'str'>\n",
      "name: groupby, type: <class 'str'>\n",
      "name: islice, type: <class 'str'>\n",
      "name: permutations, type: <class 'str'>\n",
      "name: product, type: <class 'str'>\n",
      "name: repeat, type: <class 'str'>\n",
      "name: starmap, type: <class 'str'>\n",
      "name: takewhile, type: <class 'str'>\n",
      "name: tee, type: <class 'str'>\n",
      "name: zip_longest, type: <class 'str'>\n"
     ]
    }
   ],
   "source": [
    "import itertools\n",
    "\n",
    "names = [name for name in dir(itertools) if not name.startswith(\"__\")]\n",
    "\n",
    "print(type(itertools))\n",
    "print(itertools)\n",
    "print(names)\n",
    "\n",
    "for name in dir(itertools):\n",
    "    print(f\"name: {name}, type: {type(name)}\")"
   ]
  },
  {
   "cell_type": "markdown",
   "id": "c10b9e97",
   "metadata": {},
   "source": [
    "## print out all variables and functions with dir(), callable() and getattr()"
   ]
  },
  {
   "cell_type": "code",
   "execution_count": 63,
   "id": "08a05246",
   "metadata": {},
   "outputs": [
    {
     "name": "stdout",
     "output_type": "stream",
     "text": [
      "ChainMap                       is a function\n",
      "Counter                        is a function\n",
      "OrderedDict                    is a function\n",
      "UserDict                       is a function\n",
      "UserList                       is a function\n",
      "UserString                     is a function\n",
      "_Link                          is a function\n",
      "_OrderedDictItemsView          is a function\n",
      "_OrderedDictKeysView           is a function\n",
      "_OrderedDictValuesView         is a function\n",
      "__all__                        is a variable\n",
      "__builtins__                   is a variable\n",
      "__cached__                     is a variable\n",
      "__doc__                        is a variable\n",
      "__file__                       is a variable\n",
      "__getattr__                    is a function\n",
      "__loader__                     is a variable\n",
      "__name__                       is a variable\n",
      "__package__                    is a variable\n",
      "__path__                       is a variable\n",
      "__spec__                       is a variable\n",
      "_chain                         is a function\n",
      "_collections_abc               is a variable\n",
      "_count_elements                is a function\n",
      "_eq                            is a function\n",
      "_heapq                         is a variable\n",
      "_iskeyword                     is a function\n",
      "_itemgetter                    is a function\n",
      "_proxy                         is a function\n",
      "_recursive_repr                is a function\n",
      "_repeat                        is a function\n",
      "_starmap                       is a function\n",
      "_sys                           is a variable\n",
      "_tuplegetter                   is a function\n",
      "abc                            is a variable\n",
      "defaultdict                    is a function\n",
      "deque                          is a function\n",
      "namedtuple                     is a function\n"
     ]
    }
   ],
   "source": [
    "import collections\n",
    "\n",
    "names = dir(collections)\n",
    "\n",
    "for name in names:\n",
    "    if callable(getattr(collections, name)):\n",
    "        print(f\"{name.ljust(30)} is a function\")\n",
    "    else:\n",
    "        print(f\"{name.ljust(30)} is a variable\")"
   ]
  },
  {
   "cell_type": "markdown",
   "id": "69e4b348",
   "metadata": {},
   "source": [
    "# Quiz 1\n",
    "## output 100 with \"50\" and 50"
   ]
  },
  {
   "cell_type": "code",
   "execution_count": 66,
   "id": "ff4dc331",
   "metadata": {
    "scrolled": true
   },
   "outputs": [
    {
     "name": "stdout",
     "output_type": "stream",
     "text": [
      "100\n",
      "5050\n"
     ]
    }
   ],
   "source": [
    "str_50 = \"50\"\n",
    "int_50 = 50\n",
    "\n",
    "print(int(str_50) + int_50)\n",
    "print(str_50 + str(int_50))"
   ]
  },
  {
   "cell_type": "code",
   "execution_count": 67,
   "id": "869b0ede",
   "metadata": {},
   "outputs": [
    {
     "name": "stdout",
     "output_type": "stream",
     "text": [
      "1000\n"
     ]
    }
   ],
   "source": [
    "print(int(\"1\" + \"0\" + \"0\" + \"0\"))"
   ]
  },
  {
   "cell_type": "markdown",
   "id": "78616e27",
   "metadata": {},
   "source": [
    "# print type vs type with __name__"
   ]
  },
  {
   "cell_type": "code",
   "execution_count": 70,
   "id": "f0f18f59",
   "metadata": {},
   "outputs": [
    {
     "name": "stdout",
     "output_type": "stream",
     "text": [
      "<class 'int'>\n",
      "int\n"
     ]
    }
   ],
   "source": [
    "print(type(100))\n",
    "print(type(100).__name__)"
   ]
  },
  {
   "cell_type": "markdown",
   "id": "604663ec",
   "metadata": {},
   "source": [
    "# Complex number operations"
   ]
  },
  {
   "cell_type": "code",
   "execution_count": 77,
   "id": "d615ee57",
   "metadata": {},
   "outputs": [
    {
     "data": {
      "text/plain": [
       "(7+13j)"
      ]
     },
     "execution_count": 77,
     "metadata": {},
     "output_type": "execute_result"
    }
   ],
   "source": [
    "(3 + 8j) + (4 + 5j)"
   ]
  },
  {
   "cell_type": "code",
   "execution_count": 73,
   "id": "3c8d0bef",
   "metadata": {},
   "outputs": [
    {
     "data": {
      "text/plain": [
       "(-1+3j)"
      ]
     },
     "execution_count": 73,
     "metadata": {},
     "output_type": "execute_result"
    }
   ],
   "source": [
    "(3 + 8j) - (4 + 5j)"
   ]
  },
  {
   "cell_type": "code",
   "execution_count": 75,
   "id": "f9b3b421",
   "metadata": {},
   "outputs": [
    {
     "data": {
      "text/plain": [
       "(-28+47j)"
      ]
     },
     "execution_count": 75,
     "metadata": {},
     "output_type": "execute_result"
    }
   ],
   "source": [
    "(3 + 8j) * (4 + 5j)"
   ]
  },
  {
   "cell_type": "code",
   "execution_count": 120,
   "id": "0785d5e4",
   "metadata": {},
   "outputs": [
    {
     "name": "stdout",
     "output_type": "stream",
     "text": [
      "1.375 + 0.625j\n"
     ]
    }
   ],
   "source": [
    "z = ((3 + 8j) / (4 + 4j))\n",
    "\n",
    "if z.imag < 0:\n",
    "    print(f\"({z.real}\", f\"{z.imag}j)\")\n",
    "else:\n",
    "    print(f\"{z.real}\", \"+\", f\"{z.imag}j\")"
   ]
  },
  {
   "cell_type": "markdown",
   "id": "b9c35607",
   "metadata": {},
   "source": [
    "# factorial"
   ]
  },
  {
   "cell_type": "code",
   "execution_count": 134,
   "id": "c0413a12",
   "metadata": {},
   "outputs": [
    {
     "name": "stdout",
     "output_type": "stream",
     "text": [
      "Enter a number: 20\n",
      "2432902008176640000\n",
      "2432902008176640000\n"
     ]
    }
   ],
   "source": [
    "inp = int(input(\"Enter a number: \"))\n",
    "\n",
    "result = 1\n",
    "\n",
    "for i in range(1, inp + 1):\n",
    "    result = result * i\n",
    "    \n",
    "    \n",
    "total = 1\n",
    "i = 0\n",
    "while True:\n",
    "    total = total * (inp - i)\n",
    "    i += 1\n",
    "    \n",
    "    if i == inp:\n",
    "        break\n",
    "    \n",
    "print(result)\n",
    "print(total)"
   ]
  },
  {
   "cell_type": "markdown",
   "id": "b0750377",
   "metadata": {},
   "source": [
    "# Static type of a variable"
   ]
  },
  {
   "cell_type": "code",
   "execution_count": 140,
   "id": "d4822df2",
   "metadata": {
    "scrolled": true
   },
   "outputs": [
    {
     "ename": "ValueError",
     "evalue": "invalid literal for int() with base 10: 'Hello'",
     "output_type": "error",
     "traceback": [
      "\u001b[1;31m---------------------------------------------------------------------------\u001b[0m",
      "\u001b[1;31mValueError\u001b[0m                                Traceback (most recent call last)",
      "\u001b[1;32m~\\AppData\\Local\\Temp\\ipykernel_4924\\4260979862.py\u001b[0m in \u001b[0;36m<module>\u001b[1;34m\u001b[0m\n\u001b[1;32m----> 1\u001b[1;33m \u001b[0mint\u001b[0m\u001b[1;33m(\u001b[0m\u001b[0mage\u001b[0m\u001b[1;33m)\u001b[0m\u001b[1;33m\u001b[0m\u001b[1;33m\u001b[0m\u001b[0m\n\u001b[0m\u001b[0;32m      2\u001b[0m \u001b[0mage\u001b[0m \u001b[1;33m=\u001b[0m \u001b[1;34m\"Hello\"\u001b[0m\u001b[1;33m\u001b[0m\u001b[1;33m\u001b[0m\u001b[0m\n\u001b[0;32m      3\u001b[0m \u001b[1;33m\u001b[0m\u001b[0m\n\u001b[0;32m      4\u001b[0m \u001b[0mprint\u001b[0m\u001b[1;33m(\u001b[0m\u001b[0mtype\u001b[0m\u001b[1;33m(\u001b[0m\u001b[0mage\u001b[0m\u001b[1;33m)\u001b[0m\u001b[1;33m)\u001b[0m\u001b[1;33m\u001b[0m\u001b[1;33m\u001b[0m\u001b[0m\n\u001b[0;32m      5\u001b[0m \u001b[0mprint\u001b[0m\u001b[1;33m(\u001b[0m\u001b[0mage\u001b[0m\u001b[1;33m)\u001b[0m\u001b[1;33m\u001b[0m\u001b[1;33m\u001b[0m\u001b[0m\n",
      "\u001b[1;31mValueError\u001b[0m: invalid literal for int() with base 10: 'Hello'"
     ]
    }
   ],
   "source": [
    "int(age)\n",
    "age = \"Hello\"\n",
    "\n",
    "print(type(age))\n",
    "print(age)"
   ]
  },
  {
   "cell_type": "markdown",
   "id": "60cb0865",
   "metadata": {},
   "source": [
    "# BMI"
   ]
  },
  {
   "cell_type": "code",
   "execution_count": 7,
   "id": "ee5e0c86",
   "metadata": {
    "scrolled": true
   },
   "outputs": [
    {
     "name": "stdout",
     "output_type": "stream",
     "text": [
      "Please enter your weight: 55\n",
      "Please enter your height: -233433\n",
      "You have negative weight??????\n"
     ]
    },
    {
     "data": {
      "text/plain": [
       "-1"
      ]
     },
     "execution_count": 7,
     "metadata": {},
     "output_type": "execute_result"
    }
   ],
   "source": [
    "def calc_bmi(weight, height):\n",
    "    # height is between 10 and 1000\n",
    "    if height < 1000 and height > 10:\n",
    "        bmi = weight / ((height / 100) * (height / 100))\n",
    "        return bmi\n",
    "\n",
    "    # height is more than 1000\n",
    "    elif height > 1000:\n",
    "        print(\"There is no way you're this tall lmao!\")\n",
    "        return -1\n",
    "\n",
    "    # height is between 0 and 10\n",
    "    elif height < 10 and height > 0:\n",
    "        bmi = weight / (height * height)\n",
    "        return bmi\n",
    "    else:\n",
    "        print(\"You have negative weight??????\")\n",
    "        return -2\n",
    "\n",
    "def main():\n",
    "    weight = float(input(\"Please enter your weight: \"))\n",
    "    height = float(input(\"Please enter your height: \"))\n",
    "\n",
    "    bmi = calc_bmi(weight, height)\n",
    "    if bmi < 0:\n",
    "        return -1\n",
    "    \n",
    "    print(\"BMI: %.2f\" % bmi)\n",
    "\n",
    "    if bmi < 18:\n",
    "        print(\"You're underweight, bro!\")\n",
    "    elif bmi < 25:\n",
    "        print(\"You're so healthy. It's comical!\")\n",
    "    elif bmi < 30:\n",
    "        print(\"You're almost too fat. Keep it down will ya?\")\n",
    "    else:\n",
    "        print(\"Stop eating. Just stop!\")\n",
    "        \n",
    "main()"
   ]
  },
  {
   "cell_type": "markdown",
   "id": "a0312699",
   "metadata": {},
   "source": [
    "# module: keyword"
   ]
  },
  {
   "cell_type": "code",
   "execution_count": 11,
   "id": "e8347465",
   "metadata": {
    "scrolled": false
   },
   "outputs": [
    {
     "name": "stdout",
     "output_type": "stream",
     "text": [
      "Python keywords are: ['False', 'None', 'True', '__peg_parser__', 'and', 'as', 'assert', 'async', 'await', 'break', 'class', 'continue', 'def', 'del', 'elif', 'else', 'except', 'finally', 'for', 'from', 'global', 'if', 'import', 'in', 'is', 'lambda', 'nonlocal', 'not', 'or', 'pass', 'raise', 'return', 'try', 'while', 'with', 'yield']\n"
     ]
    }
   ],
   "source": [
    "import keyword\n",
    "\n",
    "print(f\"Python keywords are: {keyword.kwlist}\")"
   ]
  },
  {
   "cell_type": "markdown",
   "id": "f2116552",
   "metadata": {},
   "source": [
    "# Change in coins"
   ]
  },
  {
   "cell_type": "code",
   "execution_count": 1,
   "id": "f2ac699a",
   "metadata": {},
   "outputs": [
    {
     "name": "stdout",
     "output_type": "stream",
     "text": [
      "Money paid: 1000\n",
      "Price of item: 450\n",
      "Amount of change:  550\n",
      "Piecse of 500 won coins:  1\n",
      "Piecse of 100 won coins:  0\n"
     ]
    }
   ],
   "source": [
    "money = int(input(\"Money paid: \"))\n",
    "price = int(input(\"Price of item: \"))\n",
    "\n",
    "change = money - price\n",
    "\n",
    "print(\"Amount of change: \", change)\n",
    "\n",
    "coin500s = change // 500\n",
    "change = change % 500\n",
    "coin100s = change // 100\n",
    "\n",
    "print(\"Piecse of 500 won coins: \", coin500s)\n",
    "print(\"Piecse of 100 won coins: \", coin100s)"
   ]
  },
  {
   "cell_type": "markdown",
   "id": "eda0574a",
   "metadata": {},
   "source": [
    "# Area of rectangle"
   ]
  },
  {
   "cell_type": "code",
   "execution_count": 4,
   "id": "b17521c4",
   "metadata": {},
   "outputs": [
    {
     "name": "stdout",
     "output_type": "stream",
     "text": [
      "Area of Rectangle: 1800\n"
     ]
    }
   ],
   "source": [
    "width, height = 30, 60\n",
    "\n",
    "print(\"Area of Rectangle: {}\".format(width * height))"
   ]
  },
  {
   "cell_type": "markdown",
   "id": "2d70ced8",
   "metadata": {},
   "source": [
    "# Pythagorean"
   ]
  },
  {
   "cell_type": "code",
   "execution_count": 47,
   "id": "5b162633",
   "metadata": {
    "scrolled": true
   },
   "outputs": [
    {
     "name": "stdout",
     "output_type": "stream",
     "text": [
      "side1: 43, side2: 39\n",
      "Hypotenuse: 58.05\n"
     ]
    },
    {
     "ename": "NameError",
     "evalue": "name 'random' is not defined",
     "output_type": "error",
     "traceback": [
      "\u001b[1;31m---------------------------------------------------------------------------\u001b[0m",
      "\u001b[1;31mNameError\u001b[0m                                 Traceback (most recent call last)",
      "\u001b[1;32m~\\AppData\\Local\\Temp\\ipykernel_5376\\1503872605.py\u001b[0m in \u001b[0;36m<module>\u001b[1;34m\u001b[0m\n\u001b[0;32m      8\u001b[0m \u001b[0mprint\u001b[0m\u001b[1;33m(\u001b[0m\u001b[1;34m\"Hypotenuse: {:.2f}\"\u001b[0m\u001b[1;33m.\u001b[0m\u001b[0mformat\u001b[0m\u001b[1;33m(\u001b[0m\u001b[1;33m(\u001b[0m\u001b[0mside1\u001b[0m\u001b[1;33m**\u001b[0m\u001b[1;36m2\u001b[0m \u001b[1;33m+\u001b[0m \u001b[0mside2\u001b[0m\u001b[1;33m**\u001b[0m\u001b[1;36m2\u001b[0m\u001b[1;33m)\u001b[0m\u001b[1;33m**\u001b[0m\u001b[1;36m0.5\u001b[0m\u001b[1;33m)\u001b[0m\u001b[1;33m)\u001b[0m\u001b[1;33m\u001b[0m\u001b[1;33m\u001b[0m\u001b[0m\n\u001b[0;32m      9\u001b[0m \u001b[1;33m\u001b[0m\u001b[0m\n\u001b[1;32m---> 10\u001b[1;33m \u001b[1;32mdel\u001b[0m \u001b[0mrandom\u001b[0m\u001b[1;33m\u001b[0m\u001b[1;33m\u001b[0m\u001b[0m\n\u001b[0m",
      "\u001b[1;31mNameError\u001b[0m: name 'random' is not defined"
     ]
    }
   ],
   "source": [
    "from random import randint\n",
    "\n",
    "side1 = randint(1, 100)\n",
    "side2 = randint(1, 100)\n",
    "\n",
    "print(\"side1: {}, side2: {}\".format(side1, side2))\n",
    "\n",
    "print(\"Hypotenuse: {:.2f}\".format((side1**2 + side2**2)**0.5))"
   ]
  },
  {
   "cell_type": "markdown",
   "id": "62823cfd",
   "metadata": {},
   "source": [
    "# two int addition"
   ]
  },
  {
   "cell_type": "code",
   "execution_count": 50,
   "id": "89c38891",
   "metadata": {},
   "outputs": [
    {
     "name": "stdout",
     "output_type": "stream",
     "text": [
      "Enter the first integer: 123\n",
      "Enter the second integer: 123\n",
      "The sum of 123 and 123 is 246\n"
     ]
    }
   ],
   "source": [
    "x = int(input(\"Enter the first integer: \"))\n",
    "y = int(input(\"Enter the second integer: \")) \n",
    "\n",
    "s = x + y\n",
    "\n",
    "print(\"The sum of\", x, \"and\", y, \"is\", s)"
   ]
  },
  {
   "cell_type": "code",
   "execution_count": 46,
   "id": "76793426",
   "metadata": {
    "scrolled": true
   },
   "outputs": [
    {
     "name": "stdout",
     "output_type": "stream",
     "text": [
      "Enter the first integer: 100\n",
      "Enter the second integer: 200\n",
      "The sum of 100 and 200 is 300\n"
     ]
    }
   ],
   "source": [
    "print(\"The sum of\", x, \"and\", y, \"is\", s)"
   ]
  },
  {
   "cell_type": "markdown",
   "id": "a2c078cf",
   "metadata": {},
   "source": [
    "# isdigit()"
   ]
  },
  {
   "cell_type": "code",
   "execution_count": null,
   "id": "65fc905f",
   "metadata": {
    "scrolled": true
   },
   "outputs": [],
   "source": [
    "x = input(\"Enter an integer: \")\n",
    "print(\"Inputted data type: \", type(x))\n",
    "\n",
    "if x.isdigit():\n",
    "    x = int(x)\n",
    "    print(\"Input data type: \", type(x))\n",
    "else: \n",
    "    print(\"x is not an integer!\")"
   ]
  },
  {
   "cell_type": "markdown",
   "id": "59e85233",
   "metadata": {},
   "source": [
    "# Area and Circumference"
   ]
  },
  {
   "cell_type": "code",
   "execution_count": 56,
   "id": "8b122c01",
   "metadata": {},
   "outputs": [
    {
     "name": "stdout",
     "output_type": "stream",
     "text": [
      "Enter a radius: 123\n",
      "Circumference of circle: 772.831632\n",
      "Area of circle: 47529.145368000005\n",
      "\n"
     ]
    }
   ],
   "source": [
    "r = int(input(\"Enter a radius: \"))\n",
    "pi = 3.141592\n",
    "\n",
    "cir = 2*pi*r\n",
    "area = pi*r**2\n",
    "\n",
    "print(f'''Circumference of circle: {cir}\n",
    "Area of circle: {area}\n",
    "''')"
   ]
  },
  {
   "cell_type": "code",
   "execution_count": null,
   "id": "0e41bfe4",
   "metadata": {},
   "outputs": [],
   "source": []
  },
  {
   "cell_type": "code",
   "execution_count": null,
   "id": "b7ec9f6a",
   "metadata": {},
   "outputs": [],
   "source": []
  },
  {
   "cell_type": "markdown",
   "id": "4a457c02",
   "metadata": {},
   "source": [
    "# Square "
   ]
  },
  {
   "cell_type": "code",
   "execution_count": 80,
   "id": "38e0368f",
   "metadata": {},
   "outputs": [
    {
     "name": "stdout",
     "output_type": "stream",
     "text": [
      "a         n         a**n      \n",
      "2         2         4         \n",
      "3         2         9         \n",
      "4         2         16        \n",
      "5         2         25        \n",
      "6         2         36        \n"
     ]
    }
   ],
   "source": [
    "nums = [\"2\", \"3\", \"4\", \"5\", \"6\"]\n",
    "\n",
    "sqrt_nums = [str(int(num)**2) for num in nums]\n",
    "\n",
    "print(\"a\".ljust(10) + \"n\".ljust(10) + \"a**n\".ljust(10))\n",
    "\n",
    "for i in range(len(nums)):\n",
    "    print(f\"{nums[i].ljust(10)}{str(2).ljust(10)}{sqrt_nums[i].ljust(10)}\")"
   ]
  },
  {
   "cell_type": "markdown",
   "id": "a8e93b0d",
   "metadata": {},
   "source": [
    "# Leap year"
   ]
  },
  {
   "cell_type": "code",
   "execution_count": 95,
   "id": "48ad03ed",
   "metadata": {},
   "outputs": [
    {
     "name": "stdout",
     "output_type": "stream",
     "text": [
      "Enter the year: 2024\n",
      "Very cool! Your year is a leap year!\n"
     ]
    }
   ],
   "source": [
    "year = int(input(\"Enter the year: \"))\n",
    "\n",
    "leap_year = (year % 4 == 0 and year % 100 != 0) or year % 400 == 0\n",
    "\n",
    "print(\"Very cool! Your year is a leap year!\" if leap_year else \"No quite a leap year!\")"
   ]
  },
  {
   "cell_type": "markdown",
   "id": "c3089b31",
   "metadata": {},
   "source": [
    "# Comparison "
   ]
  },
  {
   "cell_type": "code",
   "execution_count": 102,
   "id": "fc6b4883",
   "metadata": {},
   "outputs": [
    {
     "name": "stdout",
     "output_type": "stream",
     "text": [
      "Result of 10 > 5 True\n",
      "Result of 5 < 1 False\n",
      "Result of 5 == 5 True\n",
      "Result of 5 != 5 False\n",
      "Result of 'a' > 'b' False\n"
     ]
    }
   ],
   "source": [
    "print(\"Result of 10 > 5\", 10 > 5)\n",
    "print(\"Result of 5 < 1\", 5 < 1)\n",
    "print(\"Result of 5 == 5\", 5 == 5)\n",
    "print(\"Result of 5 != 5\", 5 != 5)\n",
    "print(\"Result of 'a' > 'b'\", 'a' > 'b')"
   ]
  },
  {
   "cell_type": "markdown",
   "id": "a66daa63",
   "metadata": {},
   "source": [
    "# bool() "
   ]
  },
  {
   "cell_type": "code",
   "execution_count": 108,
   "id": "f646b384",
   "metadata": {},
   "outputs": [
    {
     "name": "stdout",
     "output_type": "stream",
     "text": [
      "             0: False\n",
      "             1: True\n",
      "          True: True\n",
      "         False: False\n",
      "            -1: True\n",
      "          None: False\n",
      "            \"\": False\n",
      "    \"Qu ni de\": True\n",
      "            []: False\n",
      "      [69, 420] True\n"
     ]
    }
   ],
   "source": [
    "print(\"0:\".rjust(15),            bool(0))\n",
    "print(\"1:\".rjust(15),            bool(1))\n",
    "print(\"True:\".rjust(15),         bool(True))\n",
    "print(\"False:\".rjust(15),        bool(False))\n",
    "\n",
    "print(\"-1:\".rjust(15),           bool(-1))\n",
    "print(\"None:\".rjust(15),         bool(None))\n",
    "print(\"\\\"\\\":\".rjust(15),         bool(\"\"))\n",
    "print(\"\\\"Qu ni de\\\":\".rjust(15), bool(\"Qu ni de\"))\n",
    "print(\"[]:\".rjust(15),           bool([]))\n",
    "print(\"[69, 420]\".rjust(15),     bool([69, 420]))"
   ]
  },
  {
   "cell_type": "markdown",
   "id": "1a8bb438",
   "metadata": {},
   "source": [
    "# Comparison V.2"
   ]
  },
  {
   "cell_type": "code",
   "execution_count": 110,
   "id": "5332bea5",
   "metadata": {},
   "outputs": [
    {
     "name": "stdout",
     "output_type": "stream",
     "text": [
      "False\n",
      "True\n",
      "True\n",
      "False\n",
      "True\n",
      "False\n"
     ]
    }
   ],
   "source": [
    "a = 100\n",
    "b = 200\n",
    "print(a == b)\n",
    "print(a != b)\n",
    "print(a < b)\n",
    "print(a > b)\n",
    "print(a <= b)\n",
    "print(a >= b)"
   ]
  },
  {
   "cell_type": "markdown",
   "id": "7d361e72",
   "metadata": {},
   "source": [
    "# Is it even?"
   ]
  },
  {
   "cell_type": "code",
   "execution_count": 112,
   "id": "69000d41",
   "metadata": {},
   "outputs": [
    {
     "name": "stdout",
     "output_type": "stream",
     "text": [
      "Enter an integer: 132423\n",
      "Is the integer even?\n",
      " False\n"
     ]
    }
   ],
   "source": [
    "n = int(input(\"Enter an integer: \"))\n",
    "print(\"Is the integer even?\\n\", n % 2 == 0)"
   ]
  },
  {
   "cell_type": "markdown",
   "id": "d92db2db",
   "metadata": {},
   "source": [
    "# str comparison"
   ]
  },
  {
   "cell_type": "code",
   "execution_count": 115,
   "id": "816e6f47",
   "metadata": {
    "scrolled": true
   },
   "outputs": [
    {
     "name": "stdout",
     "output_type": "stream",
     "text": [
      "True\n",
      "False\n",
      "False\n",
      "True\n"
     ]
    }
   ],
   "source": [
    "print('aaa' == 'aaa')\n",
    "print('aaa' == 'bbb')\n",
    "print('aaa' != 'aaa')\n",
    "print('aaa' != 'bbb')"
   ]
  },
  {
   "cell_type": "markdown",
   "id": "b0f39468",
   "metadata": {},
   "source": [
    "# == vs is"
   ]
  },
  {
   "cell_type": "code",
   "execution_count": 119,
   "id": "8aff4782",
   "metadata": {
    "scrolled": true
   },
   "outputs": [
    {
     "name": "stdout",
     "output_type": "stream",
     "text": [
      "True\n",
      "False\n"
     ]
    }
   ],
   "source": [
    "a = 1\n",
    "b = 1.0\n",
    "\n",
    "print(a == b)\n",
    "print(a is b)"
   ]
  },
  {
   "cell_type": "markdown",
   "id": "b9124231",
   "metadata": {},
   "source": [
    "# double the trouble ( ... < ... < ...)"
   ]
  },
  {
   "cell_type": "code",
   "execution_count": 129,
   "id": "97c39ccb",
   "metadata": {},
   "outputs": [
    {
     "name": "stdout",
     "output_type": "stream",
     "text": [
      "n = 99\n",
      "n is definitely between 'that' number.\n"
     ]
    }
   ],
   "source": [
    "n = 69420\n",
    "\n",
    "print(\"n =\", n)\n",
    "if 0 < n < 100:\n",
    "    print(\"n is definitely between 'that' number.\")\n",
    "else:\n",
    "    print(\"Nah, fam! The number is not between 'that' number.\")"
   ]
  },
  {
   "cell_type": "markdown",
   "id": "140b599e",
   "metadata": {},
   "source": [
    "# and, or, not"
   ]
  },
  {
   "cell_type": "code",
   "execution_count": 130,
   "id": "83146578",
   "metadata": {},
   "outputs": [
    {
     "name": "stdout",
     "output_type": "stream",
     "text": [
      "False\n",
      "True\n",
      "False\n",
      "True\n"
     ]
    }
   ],
   "source": [
    "true = True\n",
    "false = False\n",
    "\n",
    "print(true and false)\n",
    "print(true or false)\n",
    "print(not true)\n",
    "print(not false)"
   ]
  },
  {
   "cell_type": "code",
   "execution_count": 132,
   "id": "ef14471e",
   "metadata": {},
   "outputs": [
    {
     "name": "stdout",
     "output_type": "stream",
     "text": [
      "Enter an integer: 12\n",
      "Is the inputted integer an even integer between 0 and 100? True\n"
     ]
    }
   ],
   "source": [
    "num = int(input(\"Enter an integer: \"))\n",
    "result = (num >= 0 and num <= 100 and num % 2 == 0)\n",
    "\n",
    "print(\"Is the inputted integer an even integer between 0 and 100?\", result)"
   ]
  },
  {
   "cell_type": "markdown",
   "id": "2d03b257",
   "metadata": {},
   "source": [
    "# Even or odd?"
   ]
  },
  {
   "cell_type": "code",
   "execution_count": 133,
   "id": "50769298",
   "metadata": {},
   "outputs": [
    {
     "name": "stdout",
     "output_type": "stream",
     "text": [
      "Enter an integer: 123\n",
      "False\n"
     ]
    }
   ],
   "source": [
    "inp = int(input(\"Enter an integer: \"))\n",
    "even_or_odd = inp % 2 == 0\n",
    "\n",
    "print(even_or_odd)"
   ]
  },
  {
   "cell_type": "markdown",
   "id": "a70e92a1",
   "metadata": {},
   "source": [
    "# 3-digit"
   ]
  },
  {
   "cell_type": "code",
   "execution_count": 138,
   "id": "1521b9f6",
   "metadata": {},
   "outputs": [
    {
     "name": "stdout",
     "output_type": "stream",
     "text": [
      "Enter a 3-digit integer: 123\n",
      "So close! Unfortunately this 3-digit number doesn't start with the desired number.\n"
     ]
    }
   ],
   "source": [
    "user = int(input(\"Enter a 3-digit integer: \"))\n",
    "\n",
    "if user // 100 == 3:\n",
    "    print(\"Ayy! your number is in the hundred and has a starting number of 3.\")\n",
    "elif user // 100 != 3:\n",
    "    print(\"So close! Unfortunately this 3-digit number doesn't start with the desired number.\")\n",
    "elif user < 100 and user > 1000:\n",
    "    print(\"Looks like someone doesn't know what a 3-digit integer is.\")"
   ]
  },
  {
   "cell_type": "markdown",
   "id": "07fd7cc4",
   "metadata": {},
   "source": [
    "# multiple of 5"
   ]
  },
  {
   "cell_type": "code",
   "execution_count": 141,
   "id": "e6f3a2c6",
   "metadata": {},
   "outputs": [
    {
     "name": "stdout",
     "output_type": "stream",
     "text": [
      "Enter an integer: 25\n",
      "True\n"
     ]
    }
   ],
   "source": [
    "user_input = int(input(\"Enter an integer: \"))\n",
    "\n",
    "is_multiple_of_5 = user_input % 5 == 0\n",
    "\n",
    "print(is_multiple_of_5)"
   ]
  },
  {
   "cell_type": "markdown",
   "id": "13d87901",
   "metadata": {},
   "source": [
    "# "
   ]
  }
 ],
 "metadata": {
  "kernelspec": {
   "display_name": "Python 3 (ipykernel)",
   "language": "python",
   "name": "python3"
  },
  "language_info": {
   "codemirror_mode": {
    "name": "ipython",
    "version": 3
   },
   "file_extension": ".py",
   "mimetype": "text/x-python",
   "name": "python",
   "nbconvert_exporter": "python",
   "pygments_lexer": "ipython3",
   "version": "3.9.13"
  }
 },
 "nbformat": 4,
 "nbformat_minor": 5
}
