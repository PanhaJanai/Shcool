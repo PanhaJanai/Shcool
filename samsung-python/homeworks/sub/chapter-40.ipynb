{
 "cells": [
  {
   "cell_type": "code",
   "execution_count": null,
   "metadata": {},
   "outputs": [],
   "source": [
    "import pandas as pd\n",
    "import numpy as np \n",
    "import datetime\n",
    "import matplotlib.pyplot as plt \n",
    "from datetime import date, datetime, time, timezone\n",
    "\n",
    "df = pd.read_csv(\"./data/mini-project-datasources/covid-vaccination-doses-per-capita.csv\")"
   ]
  },
  {
   "cell_type": "code",
   "execution_count": null,
   "metadata": {},
   "outputs": [],
   "source": [
    "df.info()"
   ]
  },
  {
   "cell_type": "code",
   "execution_count": null,
   "metadata": {},
   "outputs": [],
   "source": [
    "df[\"date\"] = pd.to_datetime(df[\"Day\"])\n",
    "df.set_index(\"Date\", inplace=True)\n",
    "df.drop([\"Drop\"], axis=1, inplace=True)\n",
    "\n",
    "df.head()"
   ]
  },
  {
   "cell_type": "code",
   "execution_count": null,
   "metadata": {},
   "outputs": [],
   "source": [
    "len(df[\"Entity\"].unique())"
   ]
  },
  {
   "cell_type": "code",
   "execution_count": null,
   "metadata": {},
   "outputs": [],
   "source": [
    "covid_c = df.groupby([\"Entity\"])"
   ]
  },
  {
   "cell_type": "code",
   "execution_count": null,
   "metadata": {},
   "outputs": [],
   "source": [
    "for key, group in covid_c:\n",
    "  print(\"+key:\", key)\n",
    "  print(\"+number:\", len(group))\n",
    "  print(group.head())\n",
    "  print(\"\\n\")"
   ]
  },
  {
   "cell_type": "code",
   "execution_count": null,
   "metadata": {},
   "outputs": [],
   "source": [
    "total_df = covid_c.sum()\n",
    "total_df.head()"
   ]
  },
  {
   "cell_type": "code",
   "execution_count": null,
   "metadata": {},
   "outputs": [],
   "source": [
    "import folium\n",
    "\n",
    "map = folium.Map(location=[37.2594750011864, 127.05145091394964],\n",
    "                 zoom_start=13,\n",
    "                 )\n",
    "\n",
    "map"
   ]
  },
  {
   "cell_type": "code",
   "execution_count": null,
   "metadata": {},
   "outputs": [],
   "source": [
    "marker_map = folium.Map(location=[45.372, -121.69772], zoom_start=12, titles=\"Stamen Terrian\")\n",
    "\n",
    "folium.Marker(\n",
    "  location=[45.3288, -121.7113],\n",
    "  popup=\"\",\n",
    "  icon=folium.Icon(icon=\"\"),\n",
    ").add_to(marker_map)\n",
    "\n",
    "folium.Marker(\n",
    "  location=[45.3288, -121.7113],\n",
    "  popup=\"\",\n",
    "  icon=folium.Icon(icon=\"\"),\n",
    ").add_to(marker_map)\n",
    "\n",
    "folium.CircleMarker(\n",
    "  location=[45.3800, -121.6000],\n",
    "  radius=100,\n",
    "  popup=\"circle\",\n",
    "  fill=True,\n",
    "  fill_color=\"#3186cc\",\n",
    ").add_to(marker_map)\n",
    "\n",
    "marker_map"
   ]
  },
  {
   "cell_type": "code",
   "execution_count": null,
   "metadata": {},
   "outputs": [],
   "source": [
    "import pandas as pd\n",
    "\n",
    "url = (\n",
    "  \"https://raw.githubusercontent.com/python-visualization/folium/master/examples/data\"\n",
    ")\n",
    "\n",
    "state_geo = f\"{url}/us-states.json\"\n",
    "state_unemployment = f\"{url}/US_Unemployment_Oct2012.csv\"\n",
    "state_data = pd.read_csv(state_unemployment)\n",
    "\n",
    "m = folium.Map(location=[48, -102], zoom_start=3)\n",
    "\n",
    "folium.Choropleth(\n",
    "  geo_data=state_geo,\n",
    "  name=\"choropleth\",\n",
    "  data=state_data,\n",
    "  columns=[\"State\", \"Unemployment\"],\n",
    "  key_on=\"feature.id\",\n",
    "  fill_opacity=0.7,\n",
    "  line_opacity=0.2,\n",
    "  legend_name=\"Unemployment Rate (%)\",\n",
    ").add_to(m)\n",
    "\n",
    "folium.LayerControl().add_to(m)\n",
    "\n",
    "m"
   ]
  },
  {
   "cell_type": "code",
   "execution_count": null,
   "metadata": {},
   "outputs": [],
   "source": [
    "import folium\n",
    "import json\n",
    "\n",
    "center = [35.762887375145795, 84.80313219586536]\n",
    "\n",
    "m = folium.Map(location=center, zoom_start=2,\n",
    "               max_bounds=True,\n",
    "               min_zoom=1, min_lat=-84,\n",
    "               max_lat=84, min_lon=-175, max_lon=187,\n",
    "              )\n",
    "\n",
    "geo_path = \"./data//world_geojson/world_Countries_Generalized_.geojson\"\n",
    "\n",
    "json_data = json.load(open(geo_path, encoding=\"utf-8\"))\n",
    "\n",
    "folium.Choropleth(\n",
    "  geo_data=json_data,\n",
    "  data=total_df,\n",
    "  columns=(total_df.index, \"total_vaccinations_per_hundred\"),\n",
    "  key_on=\"properties.COUNTRY\",\n",
    "  fill_color=\"RdYlGn\",\n",
    "  fill_opacity=0.7,\n",
    "  line_opacity=0.2,\n",
    ").add_to(m)\n",
    "\n",
    "folium.LayerControl().add_to(m)"
   ]
  },
  {
   "cell_type": "code",
   "execution_count": null,
   "metadata": {},
   "outputs": [],
   "source": [
    "m"
   ]
  }
 ],
 "metadata": {
  "language_info": {
   "name": "python"
  }
 },
 "nbformat": 4,
 "nbformat_minor": 2
}
