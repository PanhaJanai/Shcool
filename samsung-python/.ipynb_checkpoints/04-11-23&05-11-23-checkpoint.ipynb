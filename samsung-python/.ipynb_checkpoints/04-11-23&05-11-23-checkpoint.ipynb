{
 "cells": [
  {
   "cell_type": "markdown",
   "id": "7c899d97",
   "metadata": {},
   "source": [
    "# Stack"
   ]
  },
  {
   "cell_type": "markdown",
   "id": "f2a57011",
   "metadata": {},
   "source": [
    "\n",
    "## Using stack to detect opening and closing round bracket (parenthesis), brace and square bracket"
   ]
  },
  {
   "cell_type": "code",
   "execution_count": 39,
   "id": "ec86e910",
   "metadata": {},
   "outputs": [
    {
     "name": "stdout",
     "output_type": "stream",
     "text": [
      "([]{()[]){}}()[{}]\n",
      "False\n"
     ]
    }
   ],
   "source": [
    "def check(string):\n",
    "    opening = \"([{\"\n",
    "    closing = \")]}\"\n",
    "    stack = []\n",
    "    \n",
    "    for ch in string:\n",
    "        if ch in opening:\n",
    "            # put opening in stack\n",
    "            stack.append(ch)\n",
    "            \n",
    "        elif ch in closing:\n",
    "            # to test if the there is a closing parenthesis befor an opening one\n",
    "            if len(stack) == 0:\n",
    "                return False\n",
    "            \n",
    "            # get an item in stack and see if its index in opening is NOT corresponding to the same index in closing\n",
    "            # because if it does correspond then it's valid\n",
    "            if opening.index(stack.pop()) != closing.index(ch):\n",
    "                return False\n",
    "            \n",
    "    # to make sure that stack is empty\n",
    "    return len(stack) == 0\n",
    "\n",
    "string = input(\"\")\n",
    "print(check(string))"
   ]
  },
  {
   "cell_type": "code",
   "execution_count": null,
   "id": "288fae17",
   "metadata": {},
   "outputs": [],
   "source": [
    "([]{()[]){}}()[{}]"
   ]
  },
  {
   "cell_type": "markdown",
   "id": "1e576d7c",
   "metadata": {},
   "source": [
    "## Getting to know how push and pop works in stacks"
   ]
  },
  {
   "cell_type": "code",
   "execution_count": 20,
   "id": "9d4d189b",
   "metadata": {},
   "outputs": [
    {
     "name": "stdout",
     "output_type": "stream",
     "text": [
      "[]\n",
      "['A']\n",
      "['A', 'B']\n",
      "['A', 'B', 'C']\n",
      "['A', 'B']\n",
      "['A']\n",
      "[]\n"
     ]
    }
   ],
   "source": [
    "stack = []\n",
    "\n",
    "def push(stack, item):\n",
    "    stack.append(item)\n",
    "    \n",
    "def pop(stack):\n",
    "    return stack.pop()\n",
    "\n",
    "print(stack)\n",
    "\n",
    "push(stack, \"A\")\n",
    "print(stack)\n",
    "\n",
    "push(stack, \"B\")\n",
    "print(stack)\n",
    "\n",
    "push(stack, \"C\")\n",
    "print(stack)\n",
    "\n",
    "pop(stack)\n",
    "print(stack)\n",
    "\n",
    "pop(stack)\n",
    "print(stack)\n",
    "\n",
    "pop(stack)\n",
    "print(stack)"
   ]
  },
  {
   "cell_type": "code",
   "execution_count": 27,
   "id": "4e08a28e",
   "metadata": {},
   "outputs": [
    {
     "name": "stdout",
     "output_type": "stream",
     "text": [
      "False\n"
     ]
    }
   ],
   "source": [
    "def isEmpty(stack):\n",
    "    return True if len(stack) == 0 else False\n",
    "\n",
    "stack = [1]\n",
    "print(isEmpty(stack))"
   ]
  },
  {
   "cell_type": "code",
   "execution_count": 28,
   "id": "5f3bb96b",
   "metadata": {},
   "outputs": [
    {
     "name": "stdout",
     "output_type": "stream",
     "text": [
      "1\n",
      "None\n"
     ]
    }
   ],
   "source": [
    "def pop(stack):\n",
    "    return None if isEmpty(stack) else stack.pop()\n",
    "\n",
    "print(pop(stack))\n",
    "print(pop(stack))"
   ]
  },
  {
   "cell_type": "markdown",
   "id": "e12f1a50",
   "metadata": {},
   "source": [
    "## Create class that represent stack"
   ]
  },
  {
   "cell_type": "code",
   "execution_count": 37,
   "id": "81a7ef4b",
   "metadata": {},
   "outputs": [
    {
     "name": "stdout",
     "output_type": "stream",
     "text": [
      "['Hello', ', ', 'world']\n"
     ]
    }
   ],
   "source": [
    "class Stack:\n",
    "    def __init__(self):\n",
    "        self.stack = []\n",
    "    \n",
    "    def isEmpty(self):\n",
    "        return True if len(self.stack) == 0 else False\n",
    "    \n",
    "    def push(self, item):\n",
    "        self.stack.append(item)\n",
    "        \n",
    "    def pop(self):\n",
    "        return None if isEmpty(self.stack) else self.stack.pop()\n",
    "    \n",
    "    def ret(self):\n",
    "        return self\n",
    "    \n",
    "s1 = Stack()\n",
    "\n",
    "s1.push(\"Hello\")\n",
    "s1.push(\", \")\n",
    "s1.push(\"world\")\n",
    "s1.push(\"blah blah blah\")\n",
    "\n",
    "s1.pop()\n",
    "\n",
    "print(s1.stack)"
   ]
  },
  {
   "cell_type": "markdown",
   "id": "8254c031",
   "metadata": {},
   "source": [
    "# Q1"
   ]
  },
  {
   "cell_type": "markdown",
   "id": "a1545b4a",
   "metadata": {},
   "source": [
    "### [\"Banana\", \"Apple\", \"Strawberry\"]"
   ]
  },
  {
   "cell_type": "markdown",
   "id": "5d6bd408",
   "metadata": {},
   "source": [
    "# Q2"
   ]
  },
  {
   "cell_type": "markdown",
   "id": "253e65f0",
   "metadata": {},
   "source": [
    "### [10, 30, 50, 70, 90]"
   ]
  },
  {
   "cell_type": "markdown",
   "id": "b07504e7",
   "metadata": {},
   "source": [
    "# Hyper Text Markup Language X Python"
   ]
  },
  {
   "cell_type": "code",
   "execution_count": 46,
   "id": "57a010b1",
   "metadata": {
    "scrolled": false
   },
   "outputs": [],
   "source": [
    "def  findTags(text):\n",
    "    start = text.find('<')\n",
    "    while start != -1:\n",
    "        end = text.find('>', start + 1)\n",
    "        tag = text[start:end + 1]\n",
    "        print(tag, end=' ')\n",
    "        start = text.find('<', end + 1)"
   ]
  },
  {
   "cell_type": "code",
   "execution_count": 49,
   "id": "b0e1a45f",
   "metadata": {
    "scrolled": false
   },
   "outputs": [
    {
     "name": "stdout",
     "output_type": "stream",
     "text": [
      "<!DOCTYPE html> <html lang=\"en-US\"> <head> <title> </title> <meta http-equiv=\"Content-Type\" content=\"text/html; charset=UTF-8\"> <meta http-equiv=\"X-UA-Compatible\" content=\"IE=Edge\"> <meta name=\"robots\" content=\"noindex,nofollow\"> <meta name=\"viewport\" content=\"width=device-width,initial-scale=1\"> <link href=\"/cdn-cgi/styles/challenges.css\" rel=\"stylesheet\"> </head> <body class=\"no-js\"> <div class=\"main-wrapper\" role=\"main\"> <div class=\"main-content\"> <noscript> <div id=\"challenge-error-title\"> <div class=\"h2\"> <span class=\"icon-wrapper\"> <div class=\"heading-icon warning-icon\"> </div> </span> <span id=\"challenge-error-text\"> </span> </div> </div> </noscript> </div> </div> <script> </script> <script defer src=\"https://static.cloudflareinsights.com/beacon.min.js/v84a3a4012de94ce1a686ba8c167c359c1696973893317\" integrity=\"sha512-euoFGowhlaLqXsPWQ48qSkBSCFs3DPRyiwVu3FjR96cMPx+Fr+gpWRhIafcHwqwCqWS42RZhIudOvEI+Ckf6MA==\" data-cf-beacon=\\'{\"rayId\":\"820bbb7d5fd76592\",\"b\":1,\"version\":\"2023.10.0\",\"token\":\"92730c73a9e747fbb6a25e1d6657122d\"}\\' crossorigin=\"anonymous\"> </script> </body> </html> "
     ]
    }
   ],
   "source": [
    "import urllib3\n",
    "\n",
    "http = urllib3.PoolManager()\n",
    "url = 'https://www.perplexity.ai'\n",
    "response = http.request('GET', url)\n",
    "html = response.data\n",
    "html = str(html)\n",
    "\n",
    "findTags(html)"
   ]
  },
  {
   "cell_type": "markdown",
   "id": "2046a91f",
   "metadata": {},
   "source": [
    "# Queues"
   ]
  },
  {
   "cell_type": "code",
   "execution_count": 54,
   "id": "9bd3022a",
   "metadata": {},
   "outputs": [
    {
     "name": "stdout",
     "output_type": "stream",
     "text": [
      "Enter number of people: 7\n",
      "Amount of skipping: 3\n",
      "[3, 6, 2, 7, 5, 1, 4]\n"
     ]
    }
   ],
   "source": [
    "def josephusSeq(n, k):\n",
    "    seq = []\n",
    "    q = []\n",
    "    \n",
    "    # put all person in queue\n",
    "    for i in range(1, n + 1):\n",
    "        q.append(i)\n",
    "    j = 1\n",
    "    \n",
    "    while len(q) > 1:\n",
    "        item = q.pop(0)\n",
    "        if j % k == 0:\n",
    "            seq.append(item)\n",
    "        else:\n",
    "            q.append(item)\n",
    "        j += 1\n",
    "        \n",
    "    seq.append(q.pop(0))\n",
    "    return seq\n",
    "\n",
    "n = int(input(\"Enter number of people: \"))\n",
    "k = int(input(\"Amount of skipping: \"))\n",
    "\n",
    "print(josephusSeq(n, k))"
   ]
  },
  {
   "cell_type": "code",
   "execution_count": 57,
   "id": "840b99a0",
   "metadata": {},
   "outputs": [
    {
     "name": "stdout",
     "output_type": "stream",
     "text": [
      "Queue's size is 2 with the items: ['Hamburger', 'Pizza']\n"
     ]
    }
   ],
   "source": [
    "class Queue:\n",
    "    def __init__(self):\n",
    "        self.queue = []\n",
    "        \n",
    "    def isEmpty(self):\n",
    "        return True if len(self.queue) == 0 else False\n",
    "    \n",
    "    def enqueue(self, item):\n",
    "        self.queue.append(item)\n",
    "        \n",
    "    def dequeue(self):\n",
    "        return None if self.isEmpty() else self.queue.pop()\n",
    "    \n",
    "    def size(self):\n",
    "        return len(self.queue)\n",
    "    \n",
    "q = Queue()\n",
    "\n",
    "q.enqueue(\"Hamburger\")\n",
    "q.enqueue(\"Pizza\")\n",
    "q.enqueue(\"Grilled Cheese\")\n",
    "\n",
    "q.dequeue()\n",
    "\n",
    "print(\"Queue's size is {} with the items: {}\".format(q.size(), q.queue))"
   ]
  },
  {
   "cell_type": "code",
   "execution_count": 68,
   "id": "4ed6d9ac",
   "metadata": {},
   "outputs": [
    {
     "name": "stdout",
     "output_type": "stream",
     "text": [
      "Enter number of people: 7\n",
      "Amount of skipping: 3\n",
      "[7, 6, 5, 4, 3, 2, 1]\n"
     ]
    }
   ],
   "source": [
    "def josephusSequence(n, k):\n",
    "    seq = []\n",
    "    q = Queue()\n",
    "    \n",
    "    # put all person in queue\n",
    "    for i in range(1, n + 1):\n",
    "        q.enqueue(i)\n",
    "    j = 1\n",
    "    \n",
    "    while q.size() > 1:\n",
    "        item = q.dequeue()\n",
    "        if j % k == 0:\n",
    "            seq.append(item)\n",
    "        else:\n",
    "            q.enqueue(item)\n",
    "        j += 1\n",
    "        \n",
    "    seq.append(q.dequeue())\n",
    "    return seq\n",
    "\n",
    "n = int(input(\"Enter number of people: \"))\n",
    "k = int(input(\"Amount of skipping: \"))\n",
    "\n",
    "print(josephusSequence(n, k))"
   ]
  },
  {
   "cell_type": "markdown",
   "id": "50b38ba8",
   "metadata": {},
   "source": [
    "# Q1"
   ]
  },
  {
   "cell_type": "markdown",
   "id": "301d3c40",
   "metadata": {},
   "source": [
    "### [\"Tomato\", \"Strawberry\", \"Grapes\"]"
   ]
  },
  {
   "cell_type": "markdown",
   "id": "5c8c3fb9",
   "metadata": {},
   "source": [
    "# Q2"
   ]
  },
  {
   "cell_type": "markdown",
   "id": "201ac6c4",
   "metadata": {},
   "source": [
    "### [50, 60, 70, 80, 90]"
   ]
  },
  {
   "cell_type": "markdown",
   "id": "c10d3ac6",
   "metadata": {},
   "source": [
    "# Deque"
   ]
  },
  {
   "cell_type": "markdown",
   "id": "61f6d8c3",
   "metadata": {},
   "source": [
    "# Q1"
   ]
  },
  {
   "cell_type": "code",
   "execution_count": 14,
   "id": "bc5a3569",
   "metadata": {},
   "outputs": [],
   "source": [
    "class Deque:\n",
    "    def __init__(self):\n",
    "        self.deque = []\n",
    "        \n",
    "    def addFirst(self, item):\n",
    "        # insert item to index 0 of deque\n",
    "        self.deque.insert(0, item)\n",
    "        \n",
    "    def removeFirst(self):\n",
    "        # pop index 0 of deque\n",
    "        self.deque.pop(0)\n",
    "        \n",
    "    def addLast(self, item):\n",
    "        self.deque.append(item)\n",
    "        \n",
    "    def removeLast(self):\n",
    "        self.deque.pop()"
   ]
  },
  {
   "cell_type": "code",
   "execution_count": 16,
   "id": "d3824e21",
   "metadata": {},
   "outputs": [
    {
     "name": "stdout",
     "output_type": "stream",
     "text": [
      "1. Panha is so cool!\n"
     ]
    }
   ],
   "source": [
    "de = Deque()\n",
    "\n",
    "de.addFirst(\"Panha \")\n",
    "de.addFirst(\"1. \")\n",
    "\n",
    "de.addLast(\"lol\")\n",
    "de.removeLast()\n",
    "\n",
    "de.addLast(\"is \")\n",
    "de.addLast(\"so cool!\")\n",
    "\n",
    "print(\"\".join(de.deque))"
   ]
  },
  {
   "cell_type": "markdown",
   "id": "d77aef2b",
   "metadata": {},
   "source": [
    "# Sequential search"
   ]
  },
  {
   "cell_type": "markdown",
   "id": "1ca58f88",
   "metadata": {},
   "source": [
    "## Egg dropping challenge floor finding algorithms"
   ]
  },
  {
   "cell_type": "code",
   "execution_count": 81,
   "id": "d98c88b6",
   "metadata": {},
   "outputs": [],
   "source": [
    "def doExp(floor, breaking):\n",
    "    return floor >= breaking\n",
    "\n",
    "def findHighestSafeFloor(heigh, breaking):\n",
    "    for n in range(1, heigh + 1):\n",
    "        if doExp(n, breaking):\n",
    "            return n - 1\n",
    "    return heigh"
   ]
  },
  {
   "cell_type": "code",
   "execution_count": 87,
   "id": "4a44c582",
   "metadata": {},
   "outputs": [
    {
     "name": "stdout",
     "output_type": "stream",
     "text": [
      "Enter floor number: 1000\n",
      "The highest safest floor is 817\n",
      "The floor which the egg was broken at is 818\n"
     ]
    }
   ],
   "source": [
    "from random import randint\n",
    "\n",
    "user = int(input(\"Enter floor number: \"))\n",
    "ran_floor = randint(0, user)\n",
    "\n",
    "print(\"The highest safest floor is\", findHighestSafeFloor(user, ran_floor))\n",
    "print(\"The floor which the egg was broken at is\", ran_floor)"
   ]
  },
  {
   "cell_type": "code",
   "execution_count": null,
   "id": "13442e75",
   "metadata": {},
   "outputs": [],
   "source": []
  },
  {
   "cell_type": "code",
   "execution_count": 89,
   "id": "979dda78",
   "metadata": {},
   "outputs": [
    {
     "name": "stdout",
     "output_type": "stream",
     "text": [
      "Position of number is: 5\n"
     ]
    }
   ],
   "source": [
    "def seqSearch(nums, x):\n",
    "    for i in range(len(nums)):\n",
    "        if x == nums[i]:\n",
    "            return i\n",
    "    return -1\n",
    "\n",
    "s = [1, 2, 3, 4, 5, 6, 7]\n",
    "print(\"Position of number is:\", seqSearch(s, 6))"
   ]
  },
  {
   "cell_type": "code",
   "execution_count": 119,
   "id": "26c76932",
   "metadata": {},
   "outputs": [
    {
     "name": "stdout",
     "output_type": "stream",
     "text": [
      "Largest number is: 10\n",
      "Position of largest number is: 3\n"
     ]
    }
   ],
   "source": [
    "def findLargest(nums):\n",
    "    if len(nums) == 0:\n",
    "        return -1\n",
    "    max = 0\n",
    "    index = 0\n",
    "    for i in range(len(nums)):\n",
    "        x = nums[i]\n",
    "        if x > max:\n",
    "            max = nums[i]\n",
    "            index = i\n",
    "    return max, index\n",
    "\n",
    "s = [1, 2, 3, 10, 4, 5, 6, 7]\n",
    "print(\"Largest number is:\", findLargest(s)[0])\n",
    "print(\"Position of largest number is:\", findLargest(s)[1])"
   ]
  },
  {
   "cell_type": "markdown",
   "id": "8afec07c",
   "metadata": {},
   "source": [
    "# Q1"
   ]
  },
  {
   "cell_type": "code",
   "execution_count": 155,
   "id": "260e90e4",
   "metadata": {},
   "outputs": [
    {
     "name": "stdout",
     "output_type": "stream",
     "text": [
      "14\n",
      "59 11\n"
     ]
    }
   ],
   "source": [
    "# logic\n",
    "\n",
    "def findTwo(nums):\n",
    "    x = y = 0\n",
    "    for i in range(1, len(nums)):\n",
    "        if nums[x] < nums[i]:\n",
    "            x = i\n",
    "\n",
    "        elif nums[y] > nums[i]:\n",
    "            y = i\n",
    "            \n",
    "    x = y = 0\n",
    "    count = 0\n",
    "    for i in range(1, len(nums)):\n",
    "        if nums[x] < nums[i]:\n",
    "            x = i\n",
    "            count += 1\n",
    "        else: \n",
    "            count += 1\n",
    "            \n",
    "        if nums[x] < nums[i]:\n",
    "            continue\n",
    "        elif nums[y] > nums[i]:\n",
    "            y = i\n",
    "            count += 1\n",
    "        else:\n",
    "            count += 1\n",
    "    \n",
    "    print(count)\n",
    "    return x, y\n",
    "\n",
    "nums = [11, 37, 45, 26, 59, 28, 17, 53]\n",
    "i, j = findTwo(nums)\n",
    "print(nums[i], nums[j])"
   ]
  },
  {
   "cell_type": "markdown",
   "id": "79ba4f9b",
   "metadata": {},
   "source": [
    "# Q2"
   ]
  },
  {
   "cell_type": "markdown",
   "id": "e977a7d7",
   "metadata": {},
   "source": [
    "### 8"
   ]
  },
  {
   "cell_type": "markdown",
   "id": "80c94112",
   "metadata": {},
   "source": [
    "# Binary search"
   ]
  },
  {
   "cell_type": "markdown",
   "id": "aa4de29d",
   "metadata": {},
   "source": [
    "## Binary search on eggs dropping experiment"
   ]
  },
  {
   "cell_type": "code",
   "execution_count": 156,
   "id": "aff21efe",
   "metadata": {},
   "outputs": [
    {
     "name": "stdout",
     "output_type": "stream",
     "text": [
      "Enter number of floors: 100\n",
      "39\n"
     ]
    },
    {
     "ename": "KeyboardInterrupt",
     "evalue": "",
     "output_type": "error",
     "traceback": [
      "\u001b[1;31m---------------------------------------------------------------------------\u001b[0m",
      "\u001b[1;31mKeyboardInterrupt\u001b[0m                         Traceback (most recent call last)",
      "\u001b[1;32m~\\AppData\\Local\\Temp\\ipykernel_13572\\1078432061.py\u001b[0m in \u001b[0;36m<module>\u001b[1;34m\u001b[0m\n\u001b[0;32m     22\u001b[0m \u001b[1;33m\u001b[0m\u001b[0m\n\u001b[0;32m     23\u001b[0m \u001b[0mprint\u001b[0m\u001b[1;33m(\u001b[0m\u001b[0mran_floor\u001b[0m\u001b[1;33m)\u001b[0m\u001b[1;33m\u001b[0m\u001b[1;33m\u001b[0m\u001b[0m\n\u001b[1;32m---> 24\u001b[1;33m \u001b[0mprint\u001b[0m\u001b[1;33m(\u001b[0m\u001b[0mfindFloor\u001b[0m\u001b[1;33m(\u001b[0m\u001b[1;33m)\u001b[0m\u001b[1;33m)\u001b[0m\u001b[1;33m\u001b[0m\u001b[1;33m\u001b[0m\u001b[0m\n\u001b[0m",
      "\u001b[1;32m~\\AppData\\Local\\Temp\\ipykernel_13572\\1078432061.py\u001b[0m in \u001b[0;36mfindFloor\u001b[1;34m()\u001b[0m\n\u001b[0;32m     19\u001b[0m         \u001b[1;32melif\u001b[0m \u001b[0mfloors\u001b[0m \u001b[1;33m==\u001b[0m \u001b[0mmax_floors\u001b[0m\u001b[1;33m:\u001b[0m\u001b[1;33m\u001b[0m\u001b[1;33m\u001b[0m\u001b[0m\n\u001b[0;32m     20\u001b[0m             \u001b[1;32mreturn\u001b[0m \u001b[0mmax_floors\u001b[0m\u001b[1;33m\u001b[0m\u001b[1;33m\u001b[0m\u001b[0m\n\u001b[1;32m---> 21\u001b[1;33m         \u001b[0mfloor\u001b[0m \u001b[1;33m//=\u001b[0m \u001b[1;36m2\u001b[0m\u001b[1;33m\u001b[0m\u001b[1;33m\u001b[0m\u001b[0m\n\u001b[0m\u001b[0;32m     22\u001b[0m \u001b[1;33m\u001b[0m\u001b[0m\n\u001b[0;32m     23\u001b[0m \u001b[0mprint\u001b[0m\u001b[1;33m(\u001b[0m\u001b[0mran_floor\u001b[0m\u001b[1;33m)\u001b[0m\u001b[1;33m\u001b[0m\u001b[1;33m\u001b[0m\u001b[0m\n",
      "\u001b[1;31mKeyboardInterrupt\u001b[0m: "
     ]
    }
   ],
   "source": [
    "from random import randint\n",
    "\n",
    "max_floors = int(input(\"Enter number of floors: \"))\n",
    "ran_floor = randint(0, max_floors)\n",
    "\n",
    "def findFloor():\n",
    "    \n",
    "        \n",
    "        \n",
    "print(ran_floor)\n",
    "print(findFloor())"
   ]
  },
  {
   "cell_type": "code",
   "execution_count": 168,
   "id": "961f3a1f",
   "metadata": {},
   "outputs": [],
   "source": [
    "def doExperiment(floor, breaking_floor):\n",
    "    return floor >= breaking_floor\n",
    "\n",
    "def findHighestSafeFloorV2(height, breaking_floor):\n",
    "    low, high = 1, height\n",
    "    while low < high:\n",
    "        mid = (low + high) // 2\n",
    "        print(low, mid, high)\n",
    "        if doExperiment(mid, breaking_floor):\n",
    "            high = mid\n",
    "        else:\n",
    "            low = mid + 1\n",
    "    return low - 1"
   ]
  },
  {
   "cell_type": "code",
   "execution_count": 169,
   "id": "c5da6d5a",
   "metadata": {
    "scrolled": true
   },
   "outputs": [
    {
     "name": "stdout",
     "output_type": "stream",
     "text": [
      "Enter floor number: 1000\n",
      "1 500 1000\n",
      "1 250 500\n",
      "251 375 500\n",
      "376 438 500\n",
      "376 407 438\n",
      "376 391 407\n",
      "392 399 407\n",
      "400 403 407\n",
      "400 401 403\n",
      "400 400 401\n",
      "The highest safest floor is 400\n",
      "The floor which the egg was broken at is 401\n"
     ]
    }
   ],
   "source": [
    "from random import randint\n",
    "\n",
    "user = int(input(\"Enter floor number: \"))\n",
    "ran_floor = randint(0, user)\n",
    "\n",
    "print(\"The highest safest floor is\", findHighestSafeFloorV2(user, ran_floor))\n",
    "print(\"The floor which the egg was broken at is\", ran_floor)"
   ]
  },
  {
   "cell_type": "markdown",
   "id": "a5b90847",
   "metadata": {},
   "source": [
    "## Binary search on list"
   ]
  },
  {
   "cell_type": "code",
   "execution_count": 172,
   "id": "d2b86ebf",
   "metadata": {},
   "outputs": [],
   "source": [
    "def binSearch(nums, x):\n",
    "    lenght = len(nums)\n",
    "    low, high = 0, lenght\n",
    "    \n",
    "    while low <= high:\n",
    "        \n",
    "        mid = (low + high) // 2\n",
    "        \n",
    "        if x == nums[mid]:\n",
    "            return mid\n",
    "        elif nums[mid] > x:\n",
    "            high = mid - 1\n",
    "        else:\n",
    "            low = mid + 1\n",
    "    return -1"
   ]
  },
  {
   "cell_type": "code",
   "execution_count": 173,
   "id": "3182c5ba",
   "metadata": {},
   "outputs": [
    {
     "name": "stdout",
     "output_type": "stream",
     "text": [
      "Index of item is 4\n"
     ]
    }
   ],
   "source": [
    "nums = [11, 37, 45, 26, 59, 28, 17, 53]\n",
    "print(\"Index of item is\", binSearch(nums, 59))"
   ]
  },
  {
   "cell_type": "markdown",
   "id": "dcadf77d",
   "metadata": {},
   "source": [
    "# Q1"
   ]
  },
  {
   "cell_type": "markdown",
   "id": "022bdbaf",
   "metadata": {},
   "source": [
    "## Guessing number"
   ]
  },
  {
   "cell_type": "code",
   "execution_count": 175,
   "id": "068f7f92",
   "metadata": {},
   "outputs": [
    {
     "name": "stdout",
     "output_type": "stream",
     "text": [
      "Please enter number for the program to guess: 51\n",
      "Please enter the maximum the program should guess within: 100\n",
      "Your number is 51!\n",
      "Total count of halves are:6\n"
     ]
    }
   ],
   "source": [
    "number = int(input(\"Please enter number for the program to guess: \"))\n",
    "maximun = int(input(\"Please enter the maximum the program should guess within: \"))\n",
    "count = 0\n",
    "\n",
    "low, high = 1, maximun\n",
    "\n",
    "while low < high:\n",
    "    mid = (low + high) // 2\n",
    "    count += 1\n",
    "    \n",
    "    if mid == number:\n",
    "        print(f\"Your number is {number}!\")\n",
    "        break\n",
    "    elif mid > number:\n",
    "        high = mid - 1\n",
    "    else:\n",
    "        low = mid + 1\n",
    "    \n",
    "print(f\"Total count of halves are: {count}\")"
   ]
  },
  {
   "cell_type": "code",
   "execution_count": null,
   "id": "2ff9d60e",
   "metadata": {},
   "outputs": [],
   "source": []
  },
  {
   "cell_type": "code",
   "execution_count": null,
   "id": "b12d9e37",
   "metadata": {},
   "outputs": [],
   "source": []
  },
  {
   "cell_type": "code",
   "execution_count": null,
   "id": "5bccdf60",
   "metadata": {},
   "outputs": [],
   "source": []
  }
 ],
 "metadata": {
  "kernelspec": {
   "display_name": "Python 3 (ipykernel)",
   "language": "python",
   "name": "python3"
  },
  "language_info": {
   "codemirror_mode": {
    "name": "ipython",
    "version": 3
   },
   "file_extension": ".py",
   "mimetype": "text/x-python",
   "name": "python",
   "nbconvert_exporter": "python",
   "pygments_lexer": "ipython3",
   "version": "3.9.13"
  }
 },
 "nbformat": 4,
 "nbformat_minor": 5
}
