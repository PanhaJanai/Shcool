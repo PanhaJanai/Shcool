{
 "cells": [
  {
   "cell_type": "markdown",
   "id": "629245d4",
   "metadata": {},
   "source": [
    "# Real world problem"
   ]
  },
  {
   "cell_type": "code",
   "execution_count": 7,
   "id": "b517378b",
   "metadata": {},
   "outputs": [
    {
     "name": "stdout",
     "output_type": "stream",
     "text": [
      "(1, 1, 1)(1, 1, 2)(1, 1, 3)(1, 1, 4)(1, 1, 5)(1, 1, 6)\n",
      "(1, 2, 1)(1, 2, 2)(1, 2, 3)(1, 2, 4)(1, 2, 5)(1, 2, 6)\n",
      "(1, 3, 1)(1, 3, 2)(1, 3, 3)(1, 3, 4)(1, 3, 5)(1, 3, 6)\n",
      "(1, 4, 1)(1, 4, 2)(1, 4, 3)(1, 4, 4)(1, 4, 5)(1, 4, 6)\n",
      "(1, 5, 1)(1, 5, 2)(1, 5, 3)(1, 5, 4)(1, 5, 5)(1, 5, 6)\n",
      "(1, 6, 1)(1, 6, 2)(1, 6, 3)(1, 6, 4)(1, 6, 5)(1, 6, 6)\n",
      "(2, 1, 1)(2, 1, 2)(2, 1, 3)(2, 1, 4)(2, 1, 5)(2, 1, 6)\n",
      "(2, 2, 1)(2, 2, 2)(2, 2, 3)(2, 2, 4)(2, 2, 5)(2, 2, 6)\n",
      "(2, 3, 1)(2, 3, 2)(2, 3, 3)(2, 3, 4)(2, 3, 5)(2, 3, 6)\n",
      "(2, 4, 1)(2, 4, 2)(2, 4, 3)(2, 4, 4)(2, 4, 5)(2, 4, 6)\n",
      "(2, 5, 1)(2, 5, 2)(2, 5, 3)(2, 5, 4)(2, 5, 5)(2, 5, 6)\n",
      "(2, 6, 1)(2, 6, 2)(2, 6, 3)(2, 6, 4)(2, 6, 5)(2, 6, 6)\n",
      "(3, 1, 1)(3, 1, 2)(3, 1, 3)(3, 1, 4)(3, 1, 5)(3, 1, 6)\n",
      "(3, 2, 1)(3, 2, 2)(3, 2, 3)(3, 2, 4)(3, 2, 5)(3, 2, 6)\n",
      "(3, 3, 1)(3, 3, 2)(3, 3, 3)(3, 3, 4)(3, 3, 5)(3, 3, 6)\n",
      "(3, 4, 1)(3, 4, 2)(3, 4, 3)(3, 4, 4)(3, 4, 5)(3, 4, 6)\n",
      "(3, 5, 1)(3, 5, 2)(3, 5, 3)(3, 5, 4)(3, 5, 5)(3, 5, 6)\n",
      "(3, 6, 1)(3, 6, 2)(3, 6, 3)(3, 6, 4)(3, 6, 5)(3, 6, 6)\n",
      "(4, 1, 1)(4, 1, 2)(4, 1, 3)(4, 1, 4)(4, 1, 5)(4, 1, 6)\n",
      "(4, 2, 1)(4, 2, 2)(4, 2, 3)(4, 2, 4)(4, 2, 5)(4, 2, 6)\n",
      "(4, 3, 1)(4, 3, 2)(4, 3, 3)(4, 3, 4)(4, 3, 5)(4, 3, 6)\n",
      "(4, 4, 1)(4, 4, 2)(4, 4, 3)(4, 4, 4)(4, 4, 5)(4, 4, 6)\n",
      "(4, 5, 1)(4, 5, 2)(4, 5, 3)(4, 5, 4)(4, 5, 5)(4, 5, 6)\n",
      "(4, 6, 1)(4, 6, 2)(4, 6, 3)(4, 6, 4)(4, 6, 5)(4, 6, 6)\n",
      "(5, 1, 1)(5, 1, 2)(5, 1, 3)(5, 1, 4)(5, 1, 5)(5, 1, 6)\n",
      "(5, 2, 1)(5, 2, 2)(5, 2, 3)(5, 2, 4)(5, 2, 5)(5, 2, 6)\n",
      "(5, 3, 1)(5, 3, 2)(5, 3, 3)(5, 3, 4)(5, 3, 5)(5, 3, 6)\n",
      "(5, 4, 1)(5, 4, 2)(5, 4, 3)(5, 4, 4)(5, 4, 5)(5, 4, 6)\n",
      "(5, 5, 1)(5, 5, 2)(5, 5, 3)(5, 5, 4)(5, 5, 5)(5, 5, 6)\n",
      "(5, 6, 1)(5, 6, 2)(5, 6, 3)(5, 6, 4)(5, 6, 5)(5, 6, 6)\n",
      "(6, 1, 1)(6, 1, 2)(6, 1, 3)(6, 1, 4)(6, 1, 5)(6, 1, 6)\n",
      "(6, 2, 1)(6, 2, 2)(6, 2, 3)(6, 2, 4)(6, 2, 5)(6, 2, 6)\n",
      "(6, 3, 1)(6, 3, 2)(6, 3, 3)(6, 3, 4)(6, 3, 5)(6, 3, 6)\n",
      "(6, 4, 1)(6, 4, 2)(6, 4, 3)(6, 4, 4)(6, 4, 5)(6, 4, 6)\n",
      "(6, 5, 1)(6, 5, 2)(6, 5, 3)(6, 5, 4)(6, 5, 5)(6, 5, 6)\n",
      "(6, 6, 1)(6, 6, 2)(6, 6, 3)(6, 6, 4)(6, 6, 5)(6, 6, 6)\n",
      "216\n"
     ]
    }
   ],
   "source": [
    "cases = set()\n",
    "\n",
    "for i in range(1, 7):\n",
    "    for j in range(1, 7):\n",
    "        for k in range(1, 7):\n",
    "            cases.add((i, j, k))\n",
    "            print((i, j, k), end=\"\")\n",
    "        print()\n",
    "            \n",
    "print(len(cases))"
   ]
  },
  {
   "cell_type": "code",
   "execution_count": 9,
   "id": "72954256",
   "metadata": {},
   "outputs": [
    {
     "name": "stdout",
     "output_type": "stream",
     "text": [
      "Probability of getting more than  3 is 100.00%\n",
      "Probability of getting more than  4 is  99.54%\n",
      "Probability of getting more than  5 is  98.15%\n",
      "Probability of getting more than  6 is  95.37%\n",
      "Probability of getting more than  7 is  90.74%\n",
      "Probability of getting more than  8 is  83.80%\n",
      "Probability of getting more than  9 is  74.07%\n",
      "Probability of getting more than 10 is  62.50%\n",
      "Probability of getting more than 11 is  50.00%\n",
      "Probability of getting more than 12 is  37.50%\n",
      "Probability of getting more than 13 is  25.93%\n",
      "Probability of getting more than 14 is  16.20%\n",
      "Probability of getting more than 15 is   9.26%\n",
      "Probability of getting more than 16 is   4.63%\n",
      "Probability of getting more than 17 is   1.85%\n",
      "Probability of getting more than 18 is   0.46%\n"
     ]
    }
   ],
   "source": [
    "for i in range(3, 19):\n",
    "    total_cases = len(cases)\n",
    "    \n",
    "    # n_case will be the number of cases that sum(c) >= i\n",
    "    n_cases = 0\n",
    "    \n",
    "    for c in cases:\n",
    "        if sum(c) >= i:\n",
    "            n_cases += 1\n",
    "    prob = n_cases * 100 / total_cases\n",
    "    print(\"Probability of getting more than {:2d} is {:6.2f}%\".format(i, prob))"
   ]
  },
  {
   "cell_type": "markdown",
   "id": "1a95ea15",
   "metadata": {},
   "source": [
    "# sets"
   ]
  },
  {
   "cell_type": "code",
   "execution_count": 10,
   "id": "31b77b30",
   "metadata": {},
   "outputs": [
    {
     "name": "stdout",
     "output_type": "stream",
     "text": [
      "{'Wed', 'Sat', 'Mon', 'Sun', 'Fri', 'Thu', 'Tue'}\n"
     ]
    }
   ],
   "source": [
    "days_list = [\"Mon\", \"Tue\", \"Wed\", \"Thu\", \"Fri\", \"Sat\", \"Sun\"]\n",
    "days_set = set(days_list)\n",
    "print(days_set)"
   ]
  },
  {
   "cell_type": "code",
   "execution_count": 20,
   "id": "f5c7f175",
   "metadata": {},
   "outputs": [
    {
     "name": "stdout",
     "output_type": "stream",
     "text": [
      "{'apple', 'orange', 'watermelon'}\n"
     ]
    }
   ],
   "source": [
    "fruit_tuple = (\"apple\", \"orange\", \"watermelon\")\n",
    "fruit_set = set(fruit_tuple)\n",
    "print(fruit_set)"
   ]
  },
  {
   "cell_type": "code",
   "execution_count": 48,
   "id": "dd574121",
   "metadata": {},
   "outputs": [
    {
     "name": "stdout",
     "output_type": "stream",
     "text": [
      "{',', '!', 'H', ' ', 'W', 'o', 'r', 'l', 'd', 'e'}\n"
     ]
    }
   ],
   "source": [
    "string = \"Hello, World!\"\n",
    "my_set = set(string)\n",
    "print(my_set)"
   ]
  },
  {
   "cell_type": "markdown",
   "id": "4100eae2",
   "metadata": {},
   "source": [
    "## .add() and .romove()"
   ]
  },
  {
   "cell_type": "code",
   "execution_count": 23,
   "id": "0406cd01",
   "metadata": {
    "scrolled": true
   },
   "outputs": [
    {
     "name": "stdout",
     "output_type": "stream",
     "text": [
      "{' Is', ' Panha', ' Name', 'My'}\n",
      "{' Is', ' Name', 'My'}\n"
     ]
    }
   ],
   "source": [
    "my_set = {\n",
    "    \"My\",\n",
    "    \" Name\",\n",
    "    \" Is\",\n",
    "}\n",
    "\n",
    "my_set.add(\" Panha\")\n",
    "print(my_set)\n",
    "\n",
    "my_set.remove(\" Panha\")\n",
    "print(my_set)"
   ]
  },
  {
   "cell_type": "markdown",
   "id": "1bf57ab0",
   "metadata": {},
   "source": [
    "## Union, intersection, difference and symmetric difference"
   ]
  },
  {
   "cell_type": "code",
   "execution_count": 29,
   "id": "6f5d406d",
   "metadata": {},
   "outputs": [
    {
     "name": "stdout",
     "output_type": "stream",
     "text": [
      "{1, 2, 4, 5, 6, 8, 9}\n",
      "{1, 2, 3, 4, 6, 8, 9}\n",
      "\n",
      "Union of first_set and second_set (w/ |): {1, 2, 3, 4, 5, 6, 8, 9}\n",
      "Union of first_set and second_set (w/ .union()): {1, 2, 3, 4, 5, 6, 8, 9}\n",
      "\n",
      "Intersection of first_set and second_set (w/ &): {1, 2, 4, 6, 8, 9}\n",
      "Intersection of first_set and second_set (w/ .intersection()): {1, 2, 4, 6, 8, 9}\n",
      "\n",
      "Difference of first_set and second_set (w/ -): {5}\n",
      "Difference of first_set and second_set (w/ .difference()): {5}\n",
      "\n",
      "Symmetric differenc of first_set and second_set (w/ ^): {3, 5}\n",
      "Symmetric differenc of first_set and second_set (w/ .symmetric_differnce()): {3, 5}\n",
      "\n"
     ]
    }
   ],
   "source": [
    "first_set = {1, 2, 8, 9, 4, 5, 6}\n",
    "second_set = {2, 3, 6, 8, 4, 9, 1}\n",
    "\n",
    "print(first_set)\n",
    "print(second_set)\n",
    "print()\n",
    "\n",
    "print(f\"Union of first_set and second_set (w/ |): {first_set | second_set}\")\n",
    "print(f\"Union of first_set and second_set (w/ .union()): {first_set.union(second_set)}\")\n",
    "print()\n",
    "\n",
    "print(f\"Intersection of first_set and second_set (w/ &): {first_set & second_set}\")\n",
    "print(f\"Intersection of first_set and second_set (w/ .intersection()): {first_set.intersection(second_set)}\")\n",
    "print()\n",
    "      \n",
    "print(f\"Difference of first_set and second_set (w/ -): {first_set - second_set}\")\n",
    "print(f\"Difference of first_set and second_set (w/ .difference()): {first_set.difference(second_set)}\")\n",
    "print()\n",
    "\n",
    "print(f\"Symmetric differenc of first_set and second_set (w/ ^): {first_set ^ second_set}\")\n",
    "print(f\"Symmetric differenc of first_set and second_set (w/ .symmetric_differnce()): {first_set.symmetric_difference(second_set)}\")\n",
    "print()"
   ]
  },
  {
   "cell_type": "markdown",
   "id": "7b7a003e",
   "metadata": {},
   "source": [
    "## Multiple operators"
   ]
  },
  {
   "cell_type": "code",
   "execution_count": 30,
   "id": "66c21d8e",
   "metadata": {},
   "outputs": [
    {
     "name": "stdout",
     "output_type": "stream",
     "text": [
      "{1, 2, 4, 6, 9}\n"
     ]
    }
   ],
   "source": [
    "s1 = {1, 2, 8, 9, 4, 5, 6}\n",
    "s2 = {2, 3, 6, 8, 4, 9, 1}\n",
    "s3 = {4, 5, 7, 9, 2, 1, 6}\n",
    "\n",
    "print(s1 & s2 & s3)"
   ]
  },
  {
   "cell_type": "markdown",
   "id": "f197ca7d",
   "metadata": {},
   "source": [
    "## issubset(), issuperset(), isdisjoint()"
   ]
  },
  {
   "cell_type": "code",
   "execution_count": 58,
   "id": "7798edb9",
   "metadata": {},
   "outputs": [
    {
     "name": "stdout",
     "output_type": "stream",
     "text": [
      "False\n",
      "True\n",
      "\n",
      "True\n",
      "False\n"
     ]
    }
   ],
   "source": [
    "s1 = {1, 2, 3, 4, 5}\n",
    "s2 = {1, 2, 3}\n",
    "s3 = {1, 2, 6}\n",
    "\n",
    "print(s1.issubset(s2))\n",
    "print(s2.issubset(s1))\n",
    "print()\n",
    "\n",
    "print(s1.issuperset(s2))\n",
    "print(s1.issuperset(s3))"
   ]
  },
  {
   "cell_type": "code",
   "execution_count": 76,
   "id": "52be5c0a",
   "metadata": {},
   "outputs": [
    {
     "name": "stdout",
     "output_type": "stream",
     "text": [
      "True\n"
     ]
    }
   ],
   "source": [
    "s1 = {1, 2, 3}\n",
    "s2 = {10, 20, 30}\n",
    "\n",
    "print(s1.isdisjoint(s2))"
   ]
  },
  {
   "cell_type": "code",
   "execution_count": null,
   "id": "749481f7",
   "metadata": {},
   "outputs": [],
   "source": []
  },
  {
   "cell_type": "code",
   "execution_count": 79,
   "id": "49f51a27",
   "metadata": {},
   "outputs": [
    {
     "name": "stdout",
     "output_type": "stream",
     "text": [
      "a: {1, 3}\n",
      "b: {2, 4}\n",
      "axb: {(3, 2), (1, 2), (3, 4), (1, 4)}\n"
     ]
    }
   ],
   "source": [
    "a = {1, 3} \n",
    "b = {2, 4}\n",
    "\n",
    "res = set()\n",
    "for i in a:\n",
    "    for j in b:\n",
    "        res = res | {(i, j)}\n",
    "        \n",
    "axb = res\n",
    "\n",
    "print(\"a:\", a)\n",
    "print(\"b:\", b)\n",
    "print(\"axb:\", axb)"
   ]
  },
  {
   "cell_type": "markdown",
   "id": "9294f02c",
   "metadata": {},
   "source": [
    "# Q1"
   ]
  },
  {
   "cell_type": "code",
   "execution_count": 82,
   "id": "8840c129",
   "metadata": {},
   "outputs": [
    {
     "name": "stdout",
     "output_type": "stream",
     "text": [
      "s1 = {'apple', 'banana', 'mango'}\n"
     ]
    }
   ],
   "source": [
    "lst = [\"apple\", \"mango\", \"banana\"]\n",
    "s1 = set(lst)\n",
    "\n",
    "print(\"s1 =\", s1)"
   ]
  },
  {
   "cell_type": "markdown",
   "id": "57bfc6b4",
   "metadata": {},
   "source": [
    "# Q2"
   ]
  },
  {
   "cell_type": "code",
   "execution_count": null,
   "id": "067b8045",
   "metadata": {},
   "outputs": [],
   "source": [
    "s1 = {10, 20, 30, 40}\n",
    "s2 = {30, 40, 50, 60, 70}\n"
   ]
  },
  {
   "cell_type": "markdown",
   "id": "d2fb4ee3",
   "metadata": {},
   "source": [
    "## all(), any()"
   ]
  },
  {
   "cell_type": "code",
   "execution_count": 83,
   "id": "3fc23121",
   "metadata": {},
   "outputs": [
    {
     "data": {
      "text/plain": [
       "(False, True)"
      ]
     },
     "execution_count": 83,
     "metadata": {},
     "output_type": "execute_result"
    }
   ],
   "source": [
    "s = {0, 1, 2, 3, 4}\n",
    "\n",
    "all(s), any(s)"
   ]
  },
  {
   "cell_type": "code",
   "execution_count": 85,
   "id": "6440165b",
   "metadata": {},
   "outputs": [
    {
     "data": {
      "text/plain": [
       "False"
      ]
     },
     "execution_count": 85,
     "metadata": {},
     "output_type": "execute_result"
    }
   ],
   "source": [
    "any({0, 0, 0})"
   ]
  },
  {
   "cell_type": "code",
   "execution_count": 87,
   "id": "fa6e3c91",
   "metadata": {},
   "outputs": [
    {
     "data": {
      "text/plain": [
       "False"
      ]
     },
     "execution_count": 87,
     "metadata": {},
     "output_type": "execute_result"
    }
   ],
   "source": [
    "all({0, 0, 0})"
   ]
  },
  {
   "cell_type": "markdown",
   "id": "4fb01549",
   "metadata": {},
   "source": [
    "## Aliquot and greatest common factor"
   ]
  },
  {
   "cell_type": "code",
   "execution_count": 92,
   "id": "0c2853cd",
   "metadata": {},
   "outputs": [
    {
     "name": "stdout",
     "output_type": "stream",
     "text": [
      "10 's true aliquot: [2, 5]\n"
     ]
    }
   ],
   "source": [
    "num = 10\n",
    "divisors = []\n",
    "\n",
    "for i in range(2, num):\n",
    "    if num % i == 0:\n",
    "        divisors.append(i)\n",
    "        \n",
    "print(num, \"'s true aliquot:\", divisors)"
   ]
  },
  {
   "cell_type": "code",
   "execution_count": null,
   "id": "b359caef",
   "metadata": {},
   "outputs": [],
   "source": [
    "num = 69\n",
    "divisors = set()\n",
    "\n",
    "for i in range(2, num):\n",
    "    "
   ]
  },
  {
   "cell_type": "markdown",
   "id": "3539f743",
   "metadata": {},
   "source": [
    "## zip()"
   ]
  },
  {
   "cell_type": "code",
   "execution_count": 98,
   "id": "12589ed5",
   "metadata": {},
   "outputs": [
    {
     "name": "stdout",
     "output_type": "stream",
     "text": [
      "(10, 'ten')\n",
      "(20, 'twenty')\n"
     ]
    }
   ],
   "source": [
    "a = [10, 20, 30]\n",
    "b = (\"ten\", \"twenty\", \"thirty\")\n",
    "\n",
    "for val in zip(a, b):\n",
    "    print(val)"
   ]
  },
  {
   "cell_type": "code",
   "execution_count": null,
   "id": "c3b4de6a",
   "metadata": {},
   "outputs": [],
   "source": []
  },
  {
   "cell_type": "code",
   "execution_count": null,
   "id": "a6a12c8b",
   "metadata": {},
   "outputs": [],
   "source": []
  },
  {
   "cell_type": "code",
   "execution_count": null,
   "id": "c11e8a67",
   "metadata": {},
   "outputs": [],
   "source": []
  },
  {
   "cell_type": "code",
   "execution_count": null,
   "id": "fe7d1877",
   "metadata": {},
   "outputs": [],
   "source": []
  },
  {
   "cell_type": "code",
   "execution_count": null,
   "id": "80ad6001",
   "metadata": {},
   "outputs": [],
   "source": []
  }
 ],
 "metadata": {
  "kernelspec": {
   "display_name": "Python 3 (ipykernel)",
   "language": "python",
   "name": "python3"
  },
  "language_info": {
   "codemirror_mode": {
    "name": "ipython",
    "version": 3
   },
   "file_extension": ".py",
   "mimetype": "text/x-python",
   "name": "python",
   "nbconvert_exporter": "python",
   "pygments_lexer": "ipython3",
   "version": "3.9.13"
  }
 },
 "nbformat": 4,
 "nbformat_minor": 5
}
