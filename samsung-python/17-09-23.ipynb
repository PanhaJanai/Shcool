{
 "cells": [
  {
   "cell_type": "markdown",
   "id": "7119af09",
   "metadata": {},
   "source": [
    "# Q1"
   ]
  },
  {
   "cell_type": "code",
   "execution_count": 3,
   "id": "f75aa02c",
   "metadata": {},
   "outputs": [
    {
     "name": "stdout",
     "output_type": "stream",
     "text": [
      "Enter three numbers: 9 2 6\n",
      "The average value of 9, 2, 6 is 5.666666666666667\n",
      "The maximun value of 9, 2, 6 is 9\n",
      "The minimum value of 9, 2, 6 is 2\n"
     ]
    }
   ],
   "source": [
    "nums_str = input(\"Enter three numbers: \").split()\n",
    "\n",
    "nums = [int(i) for i in nums_str]\n",
    "\n",
    "a, b, c = nums\n",
    "\n",
    "avg = (a + b + c) / 3\n",
    "maxi = max(nums)\n",
    "mini = min(nums)\n",
    "\n",
    "print(\"The average value of {}, {}, {} is {}\".format(a, b, c, avg))\n",
    "print(\"The maximun value of {}, {}, {} is {}\".format(a, b, c, maxi))\n",
    "print(\"The minimum value of {}, {}, {} is {}\".format(a, b, c, mini))"
   ]
  },
  {
   "cell_type": "markdown",
   "id": "b78e17f8",
   "metadata": {},
   "source": [
    "## Tower of Hanoi"
   ]
  },
  {
   "cell_type": "code",
   "execution_count": 5,
   "id": "03fe904f",
   "metadata": {},
   "outputs": [
    {
     "name": "stdout",
     "output_type": "stream",
     "text": [
      "Number 1, A -> B\n",
      "Number 2, A -> C\n",
      "Number 1, B -> C\n",
      "Number 3, A -> B\n",
      "Number 1, C -> A\n",
      "Number 2, C -> B\n",
      "Number 1, A -> B\n",
      "Number 4, A -> C\n",
      "Number 1, B -> C\n",
      "Number 2, B -> A\n",
      "Number 1, C -> A\n",
      "Number 3, B -> C\n",
      "Number 1, A -> B\n",
      "Number 2, A -> C\n",
      "Number 1, B -> C\n",
      "Number 5, A -> B\n",
      "Number 1, C -> A\n",
      "Number 2, C -> B\n",
      "Number 1, A -> B\n",
      "Number 3, C -> A\n",
      "Number 1, B -> C\n",
      "Number 2, B -> A\n",
      "Number 1, C -> A\n",
      "Number 4, C -> B\n",
      "Number 1, A -> B\n",
      "Number 2, A -> C\n",
      "Number 1, B -> C\n",
      "Number 3, A -> B\n",
      "Number 1, C -> A\n",
      "Number 2, C -> B\n",
      "Number 1, A -> B\n",
      "Number 6, A -> C\n",
      "Number 1, B -> C\n",
      "Number 2, B -> A\n",
      "Number 1, C -> A\n",
      "Number 3, B -> C\n",
      "Number 1, A -> B\n",
      "Number 2, A -> C\n",
      "Number 1, B -> C\n",
      "Number 4, B -> A\n",
      "Number 1, C -> A\n",
      "Number 2, C -> B\n",
      "Number 1, A -> B\n",
      "Number 3, C -> A\n",
      "Number 1, B -> C\n",
      "Number 2, B -> A\n",
      "Number 1, C -> A\n",
      "Number 5, B -> C\n",
      "Number 1, A -> B\n",
      "Number 2, A -> C\n",
      "Number 1, B -> C\n",
      "Number 3, A -> B\n",
      "Number 1, C -> A\n",
      "Number 2, C -> B\n",
      "Number 1, A -> B\n",
      "Number 4, A -> C\n",
      "Number 1, B -> C\n",
      "Number 2, B -> A\n",
      "Number 1, C -> A\n",
      "Number 3, B -> C\n",
      "Number 1, A -> B\n",
      "Number 2, A -> C\n",
      "Number 1, B -> C\n",
      "Number 7, A -> B\n",
      "Number 1, C -> A\n",
      "Number 2, C -> B\n",
      "Number 1, A -> B\n",
      "Number 3, C -> A\n",
      "Number 1, B -> C\n",
      "Number 2, B -> A\n",
      "Number 1, C -> A\n",
      "Number 4, C -> B\n",
      "Number 1, A -> B\n",
      "Number 2, A -> C\n",
      "Number 1, B -> C\n",
      "Number 3, A -> B\n",
      "Number 1, C -> A\n",
      "Number 2, C -> B\n",
      "Number 1, A -> B\n",
      "Number 5, C -> A\n",
      "Number 1, B -> C\n",
      "Number 2, B -> A\n",
      "Number 1, C -> A\n",
      "Number 3, B -> C\n",
      "Number 1, A -> B\n",
      "Number 2, A -> C\n",
      "Number 1, B -> C\n",
      "Number 4, B -> A\n",
      "Number 1, C -> A\n",
      "Number 2, C -> B\n",
      "Number 1, A -> B\n",
      "Number 3, C -> A\n",
      "Number 1, B -> C\n",
      "Number 2, B -> A\n",
      "Number 1, C -> A\n",
      "Number 6, C -> B\n",
      "Number 1, A -> B\n",
      "Number 2, A -> C\n",
      "Number 1, B -> C\n",
      "Number 3, A -> B\n",
      "Number 1, C -> A\n",
      "Number 2, C -> B\n",
      "Number 1, A -> B\n",
      "Number 4, A -> C\n",
      "Number 1, B -> C\n",
      "Number 2, B -> A\n",
      "Number 1, C -> A\n",
      "Number 3, B -> C\n",
      "Number 1, A -> B\n",
      "Number 2, A -> C\n",
      "Number 1, B -> C\n",
      "Number 5, A -> B\n",
      "Number 1, C -> A\n",
      "Number 2, C -> B\n",
      "Number 1, A -> B\n",
      "Number 3, C -> A\n",
      "Number 1, B -> C\n",
      "Number 2, B -> A\n",
      "Number 1, C -> A\n",
      "Number 4, C -> B\n",
      "Number 1, A -> B\n",
      "Number 2, A -> C\n",
      "Number 1, B -> C\n",
      "Number 3, A -> B\n",
      "Number 1, C -> A\n",
      "Number 2, C -> B\n",
      "Number 1, A -> B\n",
      "Number 8, A -> C\n",
      "Number 1, B -> C\n",
      "Number 2, B -> A\n",
      "Number 1, C -> A\n",
      "Number 3, B -> C\n",
      "Number 1, A -> B\n",
      "Number 2, A -> C\n",
      "Number 1, B -> C\n",
      "Number 4, B -> A\n",
      "Number 1, C -> A\n",
      "Number 2, C -> B\n",
      "Number 1, A -> B\n",
      "Number 3, C -> A\n",
      "Number 1, B -> C\n",
      "Number 2, B -> A\n",
      "Number 1, C -> A\n",
      "Number 5, B -> C\n",
      "Number 1, A -> B\n",
      "Number 2, A -> C\n",
      "Number 1, B -> C\n",
      "Number 3, A -> B\n",
      "Number 1, C -> A\n",
      "Number 2, C -> B\n",
      "Number 1, A -> B\n",
      "Number 4, A -> C\n",
      "Number 1, B -> C\n",
      "Number 2, B -> A\n",
      "Number 1, C -> A\n",
      "Number 3, B -> C\n",
      "Number 1, A -> B\n",
      "Number 2, A -> C\n",
      "Number 1, B -> C\n",
      "Number 6, B -> A\n",
      "Number 1, C -> A\n",
      "Number 2, C -> B\n",
      "Number 1, A -> B\n",
      "Number 3, C -> A\n",
      "Number 1, B -> C\n",
      "Number 2, B -> A\n",
      "Number 1, C -> A\n",
      "Number 4, C -> B\n",
      "Number 1, A -> B\n",
      "Number 2, A -> C\n",
      "Number 1, B -> C\n",
      "Number 3, A -> B\n",
      "Number 1, C -> A\n",
      "Number 2, C -> B\n",
      "Number 1, A -> B\n",
      "Number 5, C -> A\n",
      "Number 1, B -> C\n",
      "Number 2, B -> A\n",
      "Number 1, C -> A\n",
      "Number 3, B -> C\n",
      "Number 1, A -> B\n",
      "Number 2, A -> C\n",
      "Number 1, B -> C\n",
      "Number 4, B -> A\n",
      "Number 1, C -> A\n",
      "Number 2, C -> B\n",
      "Number 1, A -> B\n",
      "Number 3, C -> A\n",
      "Number 1, B -> C\n",
      "Number 2, B -> A\n",
      "Number 1, C -> A\n",
      "Number 7, B -> C\n",
      "Number 1, A -> B\n",
      "Number 2, A -> C\n",
      "Number 1, B -> C\n",
      "Number 3, A -> B\n",
      "Number 1, C -> A\n",
      "Number 2, C -> B\n",
      "Number 1, A -> B\n",
      "Number 4, A -> C\n",
      "Number 1, B -> C\n",
      "Number 2, B -> A\n",
      "Number 1, C -> A\n",
      "Number 3, B -> C\n",
      "Number 1, A -> B\n",
      "Number 2, A -> C\n",
      "Number 1, B -> C\n",
      "Number 5, A -> B\n",
      "Number 1, C -> A\n",
      "Number 2, C -> B\n",
      "Number 1, A -> B\n",
      "Number 3, C -> A\n",
      "Number 1, B -> C\n",
      "Number 2, B -> A\n",
      "Number 1, C -> A\n",
      "Number 4, C -> B\n",
      "Number 1, A -> B\n",
      "Number 2, A -> C\n",
      "Number 1, B -> C\n",
      "Number 3, A -> B\n",
      "Number 1, C -> A\n",
      "Number 2, C -> B\n",
      "Number 1, A -> B\n",
      "Number 6, A -> C\n",
      "Number 1, B -> C\n",
      "Number 2, B -> A\n",
      "Number 1, C -> A\n",
      "Number 3, B -> C\n",
      "Number 1, A -> B\n",
      "Number 2, A -> C\n",
      "Number 1, B -> C\n",
      "Number 4, B -> A\n",
      "Number 1, C -> A\n",
      "Number 2, C -> B\n",
      "Number 1, A -> B\n",
      "Number 3, C -> A\n",
      "Number 1, B -> C\n",
      "Number 2, B -> A\n",
      "Number 1, C -> A\n",
      "Number 5, B -> C\n",
      "Number 1, A -> B\n",
      "Number 2, A -> C\n",
      "Number 1, B -> C\n",
      "Number 3, A -> B\n",
      "Number 1, C -> A\n",
      "Number 2, C -> B\n",
      "Number 1, A -> B\n",
      "Number 4, A -> C\n",
      "Number 1, B -> C\n",
      "Number 2, B -> A\n",
      "Number 1, C -> A\n",
      "Number 3, B -> C\n",
      "Number 1, A -> B\n",
      "Number 2, A -> C\n",
      "Number 1, B -> C\n"
     ]
    }
   ],
   "source": [
    "def hanoi(n, from_, to_, via_):\n",
    "    if n == 1:\n",
    "        print(\"Number {}, {} -> {}\".format(n, from_, to_))\n",
    "    else:\n",
    "        hanoi(n - 1, from_, via_, to_)\n",
    "        print(\"Number {}, {} -> {}\".format(n, from_, to_))\n",
    "        hanoi(n - 1, via_, to_, from_)\n",
    "        \n",
    "hanoi(8, 'A', 'C', 'B')"
   ]
  },
  {
   "cell_type": "markdown",
   "id": "330ee955",
   "metadata": {},
   "source": [
    "## Factorial without function"
   ]
  },
  {
   "cell_type": "code",
   "execution_count": 10,
   "id": "b2670476",
   "metadata": {
    "scrolled": true
   },
   "outputs": [
    {
     "name": "stdout",
     "output_type": "stream",
     "text": [
      "n: 52\n",
      "52! = 80658175170943878571660636856403766975289505440883277824000000000000\n"
     ]
    }
   ],
   "source": [
    "n = int(input(\"n: \"))\n",
    "fac = 1\n",
    "for i in range(1, n + 1):\n",
    "    fac *= i\n",
    "    \n",
    "print(f\"{n}! = {fac}\")"
   ]
  },
  {
   "cell_type": "markdown",
   "id": "cd8c5195",
   "metadata": {},
   "source": [
    "## Factorial with recursion"
   ]
  },
  {
   "cell_type": "code",
   "execution_count": 12,
   "id": "53721f45",
   "metadata": {},
   "outputs": [
    {
     "name": "stdout",
     "output_type": "stream",
     "text": [
      "52! = 80658175170943878571660636856403766975289505440883277824000000000000\n"
     ]
    }
   ],
   "source": [
    "def factorial(n):\n",
    "    if n <= 1:\n",
    "        return 1\n",
    "    else:\n",
    "        return n * factorial(n - 1)\n",
    "\n",
    "fac = factorial(n)\n",
    "print(f\"{n}! = {fac}\")"
   ]
  },
  {
   "cell_type": "markdown",
   "id": "ec98604e",
   "metadata": {},
   "source": [
    "## Fibonacci Sequence with loop"
   ]
  },
  {
   "cell_type": "code",
   "execution_count": 28,
   "id": "7cd28e41",
   "metadata": {},
   "outputs": [
    {
     "name": "stdout",
     "output_type": "stream",
     "text": [
      "0\n",
      "1\n",
      "1\n",
      "2\n",
      "3\n",
      "5\n",
      "8\n",
      "13\n",
      "21\n",
      "34\n",
      "55\n",
      "89\n",
      "144\n",
      "233\n",
      "377\n",
      "610\n",
      "987\n",
      "1597\n",
      "2584\n",
      "4181\n",
      "6765\n",
      "10946\n",
      "17711\n"
     ]
    }
   ],
   "source": [
    "f0 = 0\n",
    "f1 = 1\n",
    "f2 = 1\n",
    "\n",
    "n = 22\n",
    "\n",
    "print(f0)\n",
    "print(f1)\n",
    "print(f2)\n",
    "\n",
    "for i in range(n - 2):\n",
    "    f = f1 + f2\n",
    "    f2 = f1\n",
    "    f1 = f\n",
    "    print(f)"
   ]
  },
  {
   "cell_type": "markdown",
   "id": "104591e3",
   "metadata": {},
   "source": [
    "## Fiboncacci sequence with recursion"
   ]
  },
  {
   "cell_type": "code",
   "execution_count": 29,
   "id": "685554aa",
   "metadata": {},
   "outputs": [
    {
     "name": "stdout",
     "output_type": "stream",
     "text": [
      "How many Fibonacci numbers do you want?: 10\n",
      "Fibonacci sequence:  0 1 1 2 3 5 8 13 21 34 "
     ]
    }
   ],
   "source": [
    "def fib(n):\n",
    "    if n <= 1:\n",
    "        return n\n",
    "    else:\n",
    "        return fib(n - 1) + fib(n - 2)\n",
    "    \n",
    "nterms = int(input(\"How many Fibonacci numbers do you want?: \"))\n",
    "\n",
    "if nterms <= 0:\n",
    "    print(\"Error: Enter positive number.\")\n",
    "else:\n",
    "    print(\"Fibonacci sequence: \", end=' ')\n",
    "    for i in range(nterms):\n",
    "        print(fib(i), end=' ')"
   ]
  },
  {
   "cell_type": "markdown",
   "id": "5e3df7ff",
   "metadata": {},
   "source": [
    "# timeit module"
   ]
  },
  {
   "cell_type": "code",
   "execution_count": 44,
   "id": "cceab410",
   "metadata": {},
   "outputs": [
    {
     "name": "stdout",
     "output_type": "stream",
     "text": [
      "fib2(30) * 20 times: 26.94295449999936 seconds\n"
     ]
    }
   ],
   "source": [
    "from timeit import *\n",
    "\n",
    "def fib2(n):\n",
    "    if n == 0:\n",
    "        return 0\n",
    "    elif n == 1:\n",
    "        return 1\n",
    "    else:\n",
    "        return fib2(n - 1) + fib2(n - 2)\n",
    "    \n",
    "t3 = 0\n",
    "t3 = Timer(\"fib2(30)\", \"from __main__ import fib2\")\n",
    "print(\"fib2(30) * 20 times:\", t3.timeit(number=20), \"seconds\")"
   ]
  },
  {
   "cell_type": "markdown",
   "id": "0fc61ccd",
   "metadata": {},
   "source": [
    "## Using mamoization"
   ]
  },
  {
   "cell_type": "code",
   "execution_count": 47,
   "id": "10e5cb2c",
   "metadata": {},
   "outputs": [
    {
     "name": "stdout",
     "output_type": "stream",
     "text": [
      "fib2(52) * 20 times: 6.340000072668772e-05 seconds\n"
     ]
    }
   ],
   "source": [
    "from timeit import *\n",
    "\n",
    "dic = {0:0, 1:1}\n",
    "\n",
    "def fib2(n):\n",
    "    if n in dic:\n",
    "        return dic[n]\n",
    "    \n",
    "    dic[n] = fib2(n - 1) + fib2(n - 2)\n",
    "    return dic[n]\n",
    "    \n",
    "t2 = 0\n",
    "t2 = Timer(\"fib2(52)\", \"from __main__ import fib2\")\n",
    "print(\"fib2(52) * 20 times:\", t3.timeit(number=20), \"seconds\")"
   ]
  },
  {
   "cell_type": "markdown",
   "id": "8ae1463e",
   "metadata": {},
   "source": [
    "# Q1"
   ]
  },
  {
   "cell_type": "code",
   "execution_count": 50,
   "id": "e8333986",
   "metadata": {},
   "outputs": [
    {
     "name": "stdout",
     "output_type": "stream",
     "text": [
      "Enter a number: 10\n",
      "55\n"
     ]
    }
   ],
   "source": [
    "def summing(n):\n",
    "    if n <= 0:\n",
    "        return 0\n",
    "    return n + summing(n - 1)\n",
    "    \n",
    "inp = int(input(\"Enter a number: \"))\n",
    "print(summing(inp))"
   ]
  },
  {
   "cell_type": "markdown",
   "id": "572d72af",
   "metadata": {},
   "source": [
    "# Q2"
   ]
  },
  {
   "cell_type": "code",
   "execution_count": 1,
   "id": "51c6ed51",
   "metadata": {},
   "outputs": [
    {
     "name": "stdout",
     "output_type": "stream",
     "text": [
      "1048576\n"
     ]
    }
   ],
   "source": [
    "def square(base, exponent):\n",
    "    if exponent == 0:\n",
    "        return 1\n",
    "    return base * square(base, exponent - 1)\n",
    "\n",
    "print(square(2, 20))"
   ]
  },
  {
   "cell_type": "markdown",
   "id": "0362f89f",
   "metadata": {},
   "source": [
    "# Messing around with memory addresses"
   ]
  },
  {
   "cell_type": "code",
   "execution_count": 26,
   "id": "2fad8a7c",
   "metadata": {},
   "outputs": [
    {
     "name": "stdout",
     "output_type": "stream",
     "text": [
      "0x1e5e4b13400\n",
      "2086895956992\n"
     ]
    }
   ],
   "source": [
    "n = len\n",
    "print(hex(id(n)))\n",
    "print(id(n))"
   ]
  },
  {
   "cell_type": "code",
   "execution_count": 27,
   "id": "589aad38",
   "metadata": {},
   "outputs": [
    {
     "name": "stdout",
     "output_type": "stream",
     "text": [
      "<built-in function len>\n"
     ]
    }
   ],
   "source": [
    "import ctypes\n",
    "\n",
    "# calculate memory address of variable\n",
    "\n",
    "memory_address = 0x1e5e4b13400\n",
    "\n",
    "# get value of memory address\n",
    "value = ctypes.cast(memory_address, ctypes.py_object).value\n",
    "\n",
    "# print value\n",
    "print(value)"
   ]
  },
  {
   "cell_type": "markdown",
   "id": "929db444",
   "metadata": {},
   "source": [
    "# Q1 "
   ]
  },
  {
   "cell_type": "code",
   "execution_count": 33,
   "id": "11e1361e",
   "metadata": {},
   "outputs": [
    {
     "name": "stdout",
     "output_type": "stream",
     "text": [
      "eular(20) = 2.71828\n"
     ]
    }
   ],
   "source": [
    "def factorial(n):\n",
    "    if n <= 1:\n",
    "        return 1\n",
    "    else:\n",
    "        return n * factorial(n - 1)\n",
    "\n",
    "def eular(n):\n",
    "    if n < 1:\n",
    "        return 0\n",
    "    return 1 / factorial(n - 1) + eular(n - 1)\n",
    "\n",
    "print(\"eular(20) = {:.5f}\".format(eular(20)))"
   ]
  }
 ],
 "metadata": {
  "kernelspec": {
   "display_name": "Python 3 (ipykernel)",
   "language": "python",
   "name": "python3"
  },
  "language_info": {
   "codemirror_mode": {
    "name": "ipython",
    "version": 3
   },
   "file_extension": ".py",
   "mimetype": "text/x-python",
   "name": "python",
   "nbconvert_exporter": "python",
   "pygments_lexer": "ipython3",
   "version": "3.9.13"
  }
 },
 "nbformat": 4,
 "nbformat_minor": 5
}
