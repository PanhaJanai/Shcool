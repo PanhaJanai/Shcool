{
 "cells": [
  {
   "cell_type": "code",
   "execution_count": null,
   "metadata": {},
   "outputs": [],
   "source": [
    "import pandas as pd\n",
    "import numpy as np\n",
    "import matplotlib.pyplot as plt\n",
    "import seaborn as sns\n",
    "\n",
    "student_data = pd.read_csv(\"./data/37-data sources/student-mat.csv\", sep=\";\")\n",
    "\n",
    "pd.set_option('expand_frame_repr', False)\n",
    "\n",
    "print(student_data)"
   ]
  },
  {
   "cell_type": "code",
   "execution_count": null,
   "metadata": {},
   "outputs": [],
   "source": [
    "# see data frame and mask every single null (NaN) with true\n",
    "null_table = student_data.isnull()\n",
    "\n",
    "# sum all null value for every field\n",
    "null_table.sum()"
   ]
  },
  {
   "cell_type": "code",
   "execution_count": null,
   "metadata": {},
   "outputs": [],
   "source": [
    "# summing all null value in every fields\n",
    "student_data.isnull().sum().sum()"
   ]
  },
  {
   "cell_type": "code",
   "execution_count": null,
   "metadata": {},
   "outputs": [],
   "source": [
    "plt.hist(student_data['absences'])\n",
    "\n",
    "# q: since the data is in scientific notation, how to turn it back to regular numbers\n",
    "# a: use the following code\n",
    "plt.ticklabel_format(style='plain', axis='x', useOffset=False)\n",
    "\n",
    "plt.xlabel('Absence')\n",
    "plt.ylabel('Count')\n",
    "\n",
    "# q: is there a way to shrink count\n",
    "# a: use the following code\n",
    "plt.ylim(0, 100)\n",
    "\n",
    "plt.grid(True)"
   ]
  },
  {
   "cell_type": "code",
   "execution_count": null,
   "metadata": {},
   "outputs": [],
   "source": [
    "plt.hist(student_data['age'])\n",
    "\n",
    "plt.ticklabel_format(style='plain', axis='x', useOffset=False)\n",
    "\n",
    "plt.xlabel('Age')\n",
    "plt.ylabel('Count')\n",
    "\n",
    "plt.grid(True)"
   ]
  },
  {
   "cell_type": "code",
   "execution_count": null,
   "metadata": {},
   "outputs": [],
   "source": [
    "student_data.describe()"
   ]
  },
  {
   "cell_type": "code",
   "execution_count": null,
   "metadata": {},
   "outputs": [],
   "source": [
    "# median() finds the middle value of a series\n",
    "student_data['studytime'].median()"
   ]
  },
  {
   "cell_type": "code",
   "execution_count": null,
   "metadata": {},
   "outputs": [],
   "source": [
    "# mode() finds the most common value of a series\n",
    "student_data['studytime'].mode()"
   ]
  },
  {
   "cell_type": "code",
   "execution_count": null,
   "metadata": {},
   "outputs": [],
   "source": [
    "# var() finds the variance of a series\n",
    "# q: what does variance of a series mean?\n",
    "# a: variance is the average of the squared differences from the mean\n",
    "# q: what is the mean?\n",
    "# a: mean is the average of a series\n",
    "student_data['studytime'].var()"
   ]
  },
  {
   "cell_type": "code",
   "execution_count": null,
   "metadata": {},
   "outputs": [],
   "source": [
    "student_data['studytime'].std()"
   ]
  },
  {
   "cell_type": "code",
   "execution_count": null,
   "metadata": {},
   "outputs": [],
   "source": [
    "plt.boxplot(student_data['G1'])\n",
    "plt.grid(True)"
   ]
  },
  {
   "cell_type": "code",
   "execution_count": null,
   "metadata": {},
   "outputs": [],
   "source": [
    "plt.boxplot(student_data['absences'])\n",
    "plt.grid(True)"
   ]
  },
  {
   "cell_type": "code",
   "execution_count": null,
   "metadata": {},
   "outputs": [],
   "source": [
    "plt.boxplot([student_data['G1'], student_data['G2'], student_data['G3'], student_data['Walc'], student_data['absences']])\n",
    "plt.grid(True)"
   ]
  },
  {
   "cell_type": "code",
   "execution_count": null,
   "metadata": {},
   "outputs": [],
   "source": [
    "# CV is Coefficient of Variation\n",
    "study_time_cv = student_data[\"studytime\"].std() / student_data[\"studytime\"].mean()\n",
    "print(study_time_cv)"
   ]
  },
  {
   "cell_type": "code",
   "execution_count": null,
   "metadata": {},
   "outputs": [],
   "source": [
    "absences_cv = student_data[\"absences\"].std() / student_data[\"absences\"].mean()\n",
    "print(absences_cv)"
   ]
  },
  {
   "cell_type": "code",
   "execution_count": null,
   "metadata": {},
   "outputs": [],
   "source": [
    "numeric_student_data = student_data._get_numeric_data()\n",
    "# q: why is _get_numeric_data() left out from my intellisense?\n",
    "# a: because it is a private method\n",
    "# q: what is a private method?\n",
    "# a: a private method is a method that is only accessible within the class\n",
    "\n",
    "cv = numeric_student_data.std() / numeric_student_data.mean()\n",
    "print(cv)"
   ]
  },
  {
   "cell_type": "code",
   "execution_count": null,
   "metadata": {},
   "outputs": [],
   "source": [
    "numeric_student_data.cov(min_periods=None, ddof=1)"
   ]
  },
  {
   "cell_type": "code",
   "execution_count": null,
   "metadata": {},
   "outputs": [],
   "source": [
    "np.cov(student_data['G1'], student_data['G3'])"
   ]
  },
  {
   "cell_type": "code",
   "execution_count": null,
   "metadata": {},
   "outputs": [],
   "source": [
    "print(student_data['G1'].var())\n",
    "print(student_data['G3'].var())"
   ]
  },
  {
   "cell_type": "code",
   "execution_count": null,
   "metadata": {},
   "outputs": [],
   "source": [
    "numeric_student_data.corr()"
   ]
  },
  {
   "cell_type": "code",
   "execution_count": null,
   "metadata": {},
   "outputs": [],
   "source": [
    "# plot g1 and g3\n",
    "plt.plot(student_data['G1'], student_data['G3'], 'o')\n",
    "plt.xlabel('G1')\n",
    "plt.ylabel('G3')\n",
    "plt.grid(True)"
   ]
  },
  {
   "cell_type": "code",
   "execution_count": null,
   "metadata": {},
   "outputs": [],
   "source": [
    "sns.pairplot(student_data[['Dalc', 'Walc', 'G1', 'G3']])\n",
    "plt.grid(True)"
   ]
  }
 ],
 "metadata": {
  "kernelspec": {
   "display_name": "Python 3",
   "language": "python",
   "name": "python3"
  },
  "language_info": {
   "codemirror_mode": {
    "name": "ipython",
    "version": 3
   },
   "file_extension": ".py",
   "mimetype": "text/x-python",
   "name": "python",
   "nbconvert_exporter": "python",
   "pygments_lexer": "ipython3",
   "version": "3.10.4"
  }
 },
 "nbformat": 4,
 "nbformat_minor": 2
}
