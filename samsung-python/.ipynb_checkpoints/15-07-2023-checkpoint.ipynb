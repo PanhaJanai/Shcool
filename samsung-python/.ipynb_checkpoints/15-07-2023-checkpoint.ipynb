{
 "cells": [
  {
   "cell_type": "markdown",
   "id": "213172f6",
   "metadata": {},
   "source": [
    "# Lottery"
   ]
  },
  {
   "cell_type": "code",
   "execution_count": 15,
   "id": "b3242cc3",
   "metadata": {},
   "outputs": [
    {
     "name": "stdout",
     "output_type": "stream",
     "text": [
      "<class 'tuple'>\n",
      "Enter three two-digit lottery number: 10 20 30\n",
      "Congrats!\n"
     ]
    }
   ],
   "source": [
    "winning_num = 10, 20, 30\n",
    "\n",
    "print(type(winning_num))\n",
    "\n",
    "right = 0\n",
    "\n",
    "l = input(\"Enter three two-digit lottery number: \").split()\n",
    "\n",
    "a, b, c = [int(num) for num in l]\n",
    "\n",
    "if a in winning_num:\n",
    "    right += 1\n",
    "if b in winning_num:\n",
    "    right += 1\n",
    "if c in winning_num:\n",
    "    right += 1\n",
    "    \n",
    "if right == 3:\n",
    "    print(\"Congrats!\")"
   ]
  },
  {
   "cell_type": "markdown",
   "id": "75f45f93",
   "metadata": {},
   "source": [
    "# first degree equation (not completed, very)"
   ]
  },
  {
   "cell_type": "code",
   "execution_count": 42,
   "id": "5e0d371f",
   "metadata": {},
   "outputs": [
    {
     "name": "stdout",
     "output_type": "stream",
     "text": [
      "['1x', '+', '2y', '=', '3']\n",
      "Abort mission!\n",
      "['1x', '2y', '3']\n",
      "['1', '2', '3']\n"
     ]
    }
   ],
   "source": [
    "# equ = input(\"Enter an equation: \")\n",
    "equ = \"1x + 2y = 3\"\n",
    "equ = equ.split()\n",
    "print(equ)\n",
    "\n",
    "find = \"x\"\n",
    "\n",
    "try:\n",
    "    isPositive = False\n",
    "    equ.remove(\"+\")\n",
    "    isPositive = True\n",
    "    equ.remove(\"-\")\n",
    "except ValueError:\n",
    "    print(\"Abort mission!\")\n",
    "    \n",
    "equ.remove(\"=\")\n",
    "\n",
    "print(equ)\n",
    "\n",
    "equ[0] = equ[0].replace(\"x\", \"\")\n",
    "equ[1] = equ[1].replace(\"y\", \"\")\n",
    "print(equ)\n",
    "\n",
    "if find == \"x\":\n",
    "    result = equ[2] - equ[1]"
   ]
  },
  {
   "cell_type": "markdown",
   "id": "94d8f17f",
   "metadata": {},
   "source": [
    "# Master of a game"
   ]
  },
  {
   "cell_type": "code",
   "execution_count": 48,
   "id": "b2b31b19",
   "metadata": {},
   "outputs": [
    {
     "name": "stdout",
     "output_type": "stream",
     "text": [
      "Enter your score: 1001\n",
      "game_score = 1001\n",
      "You are a master.\n"
     ]
    }
   ],
   "source": [
    "game_score = int(input(\"Enter your score: \"))\n",
    "\n",
    "if game_score > 1000:\n",
    "    print(\"game_score =\", game_score)\n",
    "    print(\"You are a master.\")"
   ]
  },
  {
   "cell_type": "markdown",
   "id": "406dbe75",
   "metadata": {},
   "source": [
    "# natural number"
   ]
  },
  {
   "cell_type": "code",
   "execution_count": 51,
   "id": "bd74f077",
   "metadata": {},
   "outputs": [
    {
     "name": "stdout",
     "output_type": "stream",
     "text": [
      "Enter integer: 99\n",
      "99 is a natural number.\n"
     ]
    }
   ],
   "source": [
    "x = int(input(\"Enter integer: \"))\n",
    "\n",
    "if -100 < x < 100 and x > 0:\n",
    "    print(\"{} is a natural number.\".format(x))\n",
    "else:\n",
    "    print(\"x = {}\".format(x))"
   ]
  },
  {
   "cell_type": "markdown",
   "id": "a3a9c765",
   "metadata": {},
   "source": [
    "# split()"
   ]
  },
  {
   "cell_type": "code",
   "execution_count": 85,
   "id": "403d6c2c",
   "metadata": {},
   "outputs": [
    {
     "ename": "SyntaxError",
     "evalue": "f-string: unmatched '(' (584942182.py, line 9)",
     "output_type": "error",
     "traceback": [
      "\u001b[1;36m  File \u001b[1;32m\"C:\\Users\\Dara\\AppData\\Local\\Temp\\ipykernel_7020\\584942182.py\"\u001b[1;36m, line \u001b[1;32m9\u001b[0m\n\u001b[1;33m    print(f\"string 2 splitted: {list(str2.split(\"abc\"))}\")\u001b[0m\n\u001b[1;37m                                                 ^\u001b[0m\n\u001b[1;31mSyntaxError\u001b[0m\u001b[1;31m:\u001b[0m f-string: unmatched '('\n"
     ]
    }
   ],
   "source": [
    "str1 = \"This is so cool on god.\"\n",
    "print(f\"string 1: {str1}\")\n",
    "print(\"string 1 splitted: {}\".format(str1.split()))\n",
    "\n",
    "str2 = \"IabcamabcPanha\"\n",
    "print(f\"string 2: {str2}\")\n",
    "l = str2.split(\"abc\")\n",
    "print(f\"string 2 splitted: {l}\")\n",
    "print(f\"string 2 splitted: {list(str2.split(\"abc\"))}\")"
   ]
  },
  {
   "cell_type": "markdown",
   "id": "74bfb964",
   "metadata": {},
   "source": [
    "# Age categorization"
   ]
  },
  {
   "cell_type": "code",
   "execution_count": 64,
   "id": "36f4baeb",
   "metadata": {},
   "outputs": [
    {
     "name": "stdout",
     "output_type": "stream",
     "text": [
      "Enter in age: 344\n",
      "Adult\n"
     ]
    }
   ],
   "source": [
    "age = int(input(\"Enter in age: \"))\n",
    "\n",
    "if age > 20:\n",
    "    print(\"Adult\")\n",
    "elif 10 < age < 20:\n",
    "    print(\"Youth\")\n",
    "elif age < 10:\n",
    "    print(\"Kid\")"
   ]
  },
  {
   "cell_type": "code",
   "execution_count": null,
   "id": "5e4fa625",
   "metadata": {},
   "outputs": [],
   "source": []
  }
 ],
 "metadata": {
  "kernelspec": {
   "display_name": "Python 3 (ipykernel)",
   "language": "python",
   "name": "python3"
  },
  "language_info": {
   "codemirror_mode": {
    "name": "ipython",
    "version": 3
   },
   "file_extension": ".py",
   "mimetype": "text/x-python",
   "name": "python",
   "nbconvert_exporter": "python",
   "pygments_lexer": "ipython3",
   "version": "3.9.13"
  }
 },
 "nbformat": 4,
 "nbformat_minor": 5
}
