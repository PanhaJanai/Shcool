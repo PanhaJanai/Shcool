{
 "cells": [
  {
   "cell_type": "markdown",
   "id": "899e35d0",
   "metadata": {},
   "source": [
    "## change to number of coins"
   ]
  },
  {
   "cell_type": "code",
   "execution_count": 2,
   "id": "1f843675",
   "metadata": {},
   "outputs": [],
   "source": [
    "def amount2Coin(coins, amount):\n",
    "    changes = []\n",
    "    largest = 0\n",
    "    while amount > 0:\n",
    "        if amount < coins[largest]:\n",
    "            largest += 1\n",
    "        else:\n",
    "            amount -= coins[largest]\n",
    "            changes.append(coins[largest])\n",
    "    return changes"
   ]
  },
  {
   "cell_type": "code",
   "execution_count": 11,
   "id": "60e65214",
   "metadata": {},
   "outputs": [
    {
     "name": "stdout",
     "output_type": "stream",
     "text": [
      "Input change: 1234\n",
      "[500, 500, 100, 100, 10, 10, 10, 1, 1, 1, 1] 11\n"
     ]
    }
   ],
   "source": [
    "coins = [500, 100, 50, 10, 1]\n",
    "\n",
    "amount = int(input(\"Input change: \"))\n",
    "\n",
    "changes = amount2Coin(coins, amount)\n",
    "\n",
    "print(changes, len(changes))"
   ]
  },
  {
   "cell_type": "markdown",
   "id": "b1d86803",
   "metadata": {},
   "source": [
    "##  Activity"
   ]
  },
  {
   "cell_type": "code",
   "execution_count": 12,
   "id": "4aa751c4",
   "metadata": {},
   "outputs": [
    {
     "name": "stdout",
     "output_type": "stream",
     "text": [
      "[0, 1, 4, 5] 4\n"
     ]
    }
   ],
   "source": [
    "def activitySelection(start, finish):\n",
    "    result = []\n",
    "    i = 0\n",
    "    result.append(i)\n",
    "    for j in range(1, len(start)):\n",
    "        if finish[i] <= start[j]:\n",
    "            result.append(j)\n",
    "            i = j\n",
    "    return result\n",
    "\n",
    "start = [1, 3, 2, 0, 5, 8, 5]\n",
    "finish = [2, 4, 5, 6, 6, 9, 9]\n",
    "meetings = activitySelection(start, finish)\n",
    "maximum = len(meetings)\n",
    "print(meetings, maximum)"
   ]
  },
  {
   "cell_type": "markdown",
   "id": "c69c647d",
   "metadata": {},
   "source": [
    "# Q2"
   ]
  },
  {
   "cell_type": "code",
   "execution_count": 15,
   "id": "e560fa39",
   "metadata": {},
   "outputs": [
    {
     "name": "stdout",
     "output_type": "stream",
     "text": [
      "Input the coins: 500 50 50 100 50 10 10\n",
      "[500, 100, 50, 50, 50, 10, 10]\n",
      "Input change: 710\n",
      "[500, 100, 100, 10] 4\n"
     ]
    }
   ],
   "source": [
    "def amount2Coin(coins, amount):\n",
    "    changes = []\n",
    "    largest = 0\n",
    "    while amount > 0:\n",
    "        if amount < coins[largest]:\n",
    "            largest += 1\n",
    "        else:\n",
    "            changes.append(coins[largest])\n",
    "            amount -= coins[largest]\n",
    "    return changes\n",
    "\n",
    "coins = list(map(int, input(\"Input the coins: \").split()))\n",
    "\n",
    "coins.sort(reverse=True)\n",
    "\n",
    "print(coins)\n",
    "\n",
    "amount = int(input(\"Input change: \"))\n",
    "\n",
    "changes = amount2Coin(coins, amount)\n",
    "\n",
    "print(changes, len(changes))"
   ]
  },
  {
   "cell_type": "code",
   "execution_count": null,
   "id": "f10ffab1",
   "metadata": {},
   "outputs": [],
   "source": []
  },
  {
   "cell_type": "code",
   "execution_count": null,
   "id": "ed1c34a7",
   "metadata": {},
   "outputs": [],
   "source": []
  }
 ],
 "metadata": {
  "kernelspec": {
   "display_name": "Python 3 (ipykernel)",
   "language": "python",
   "name": "python3"
  },
  "language_info": {
   "codemirror_mode": {
    "name": "ipython",
    "version": 3
   },
   "file_extension": ".py",
   "mimetype": "text/x-python",
   "name": "python",
   "nbconvert_exporter": "python",
   "pygments_lexer": "ipython3",
   "version": "3.9.13"
  }
 },
 "nbformat": 4,
 "nbformat_minor": 5
}
