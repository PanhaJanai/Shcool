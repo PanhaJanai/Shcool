{
 "cells": [
  {
   "cell_type": "markdown",
   "id": "1d00cb31",
   "metadata": {},
   "source": [
    "## Population"
   ]
  },
  {
   "cell_type": "code",
   "execution_count": 4,
   "id": "258fbfff",
   "metadata": {},
   "outputs": [
    {
     "name": "stdout",
     "output_type": "stream",
     "text": [
      "The degree fo aging in town A and B are 0.165 and 0.003 respectively.\n"
     ]
    }
   ],
   "source": [
    "population_a = (100, 150, 230, 120, 180, 100, 140, 95, 81, 21, 4)\n",
    "population_b = (300, 420, 530, 420, 400, 300, 40, 5, 1, 1, 1)\n",
    "\n",
    "old_a = sum(population_a[7:])\n",
    "old_b = sum(population_b[7:])\n",
    "\n",
    "total_a = sum(population_a)\n",
    "total_b = sum(population_b)\n",
    "\n",
    "old_rate_a = old_a / total_a\n",
    "old_rate_b = old_b / total_b\n",
    "\n",
    "\n",
    "print(\"The degree fo aging in town A and B are {:5.3f} and {:5.3f} respectively.\".format(old_rate_a, old_rate_b))"
   ]
  },
  {
   "cell_type": "markdown",
   "id": "2c46bac1",
   "metadata": {},
   "source": [
    "## operators: in ,  not in"
   ]
  },
  {
   "cell_type": "code",
   "execution_count": 7,
   "id": "5457b7e0",
   "metadata": {},
   "outputs": [
    {
     "name": "stdout",
     "output_type": "stream",
     "text": [
      "True\n",
      "False\n",
      "\n",
      "True\n",
      "False\n"
     ]
    }
   ],
   "source": [
    "l = [10, 20, 30, 69, 40, 50]\n",
    "t = [10, 20, 30, 69, 40, 50]\n",
    "\n",
    "print(69 in l)\n",
    "print(69 not in l)\n",
    "\n",
    "print()\n",
    "\n",
    "print(69 in t)\n",
    "print(69 not in t)"
   ]
  },
  {
   "cell_type": "code",
   "execution_count": null,
   "id": "bb51bbea",
   "metadata": {},
   "outputs": [],
   "source": []
  },
  {
   "cell_type": "code",
   "execution_count": 9,
   "id": "d9d99758",
   "metadata": {
    "scrolled": true
   },
   "outputs": [
    {
     "name": "stdout",
     "output_type": "stream",
     "text": [
      "False\n"
     ]
    }
   ],
   "source": [
    "print('p' in \"Panha\")"
   ]
  },
  {
   "cell_type": "markdown",
   "id": "0a02ef45",
   "metadata": {},
   "source": [
    "## multiplying a list"
   ]
  },
  {
   "cell_type": "code",
   "execution_count": 10,
   "id": "19a10bc6",
   "metadata": {},
   "outputs": [
    {
     "name": "stdout",
     "output_type": "stream",
     "text": [
      "[1, 2, 3, 4, 5, 1, 2, 3, 4, 5]\n"
     ]
    }
   ],
   "source": [
    "print([1, 2, 3, 4, 5] * 2)"
   ]
  },
  {
   "cell_type": "markdown",
   "id": "2ee4c28b",
   "metadata": {},
   "source": [
    "# Tuple"
   ]
  },
  {
   "cell_type": "code",
   "execution_count": 11,
   "id": "4e2d373c",
   "metadata": {},
   "outputs": [
    {
     "name": "stdout",
     "output_type": "stream",
     "text": [
      "3\n"
     ]
    }
   ],
   "source": [
    "tup1 = (1, 2, 3, 1, 4, 5, 1)\n",
    "print(tup1.count(1))"
   ]
  },
  {
   "cell_type": "code",
   "execution_count": 12,
   "id": "1a9c6b30",
   "metadata": {
    "scrolled": true
   },
   "outputs": [
    {
     "name": "stdout",
     "output_type": "stream",
     "text": [
      "3\n"
     ]
    }
   ],
   "source": [
    "str1 = \"Hello, World!\"\n",
    "\n",
    "print(str1.count('l'))"
   ]
  },
  {
   "cell_type": "code",
   "execution_count": 13,
   "id": "a6f4227e",
   "metadata": {},
   "outputs": [
    {
     "name": "stdout",
     "output_type": "stream",
     "text": [
      "5\n",
      "1\n"
     ]
    }
   ],
   "source": [
    "ran = range(0, 5, 1)\n",
    "\n",
    "print(len(ran))\n",
    "\n",
    "print(ran.count(2))"
   ]
  },
  {
   "cell_type": "code",
   "execution_count": 14,
   "id": "fccaccec",
   "metadata": {},
   "outputs": [
    {
     "name": "stdout",
     "output_type": "stream",
     "text": [
      "even_list:  [2, 4, 6, 8, 10]\n"
     ]
    }
   ],
   "source": [
    "even_list = list(range(2, 11, 2))\n",
    "\n",
    "print(\"even_list: \", even_list)"
   ]
  },
  {
   "cell_type": "markdown",
   "id": "f8d85d56",
   "metadata": {},
   "source": [
    "# ASCII code for the letter"
   ]
  },
  {
   "cell_type": "code",
   "execution_count": 21,
   "id": "0ed61b0a",
   "metadata": {},
   "outputs": [
    {
     "name": "stdout",
     "output_type": "stream",
     "text": [
      "67\n",
      "49\n",
      "False\n",
      "True\n"
     ]
    }
   ],
   "source": [
    "a = ('A', 'B', 'C')\n",
    "b = ('a', 'b', 'c')\n",
    "\n",
    "print(ord(a[2]))\n",
    "print(ord('1'))\n",
    "\n",
    "print(a > b)\n",
    "print(a < b)"
   ]
  },
  {
   "cell_type": "markdown",
   "id": "1b423ae5",
   "metadata": {},
   "source": [
    "## Q1"
   ]
  },
  {
   "cell_type": "code",
   "execution_count": 26,
   "id": "9f080f36",
   "metadata": {},
   "outputs": [
    {
     "name": "stdout",
     "output_type": "stream",
     "text": [
      "True\n",
      "False\n",
      "True\n",
      "[('a', 'b', 'c', 'd', 'e')]\n",
      "('a', 'b', 'c')\n",
      "294\n",
      "294\n",
      "201\n"
     ]
    }
   ],
   "source": [
    "t1 = 'a', 'b', 'c'\n",
    "t2 = ('a', 'b', 'c')\n",
    "t3 = ('d', 'e')\n",
    "\n",
    "print(t1 == t2)\n",
    "\n",
    "print(t1 > t3)\n",
    "\n",
    "print(t1 < t3)\n",
    "\n",
    "print([t2 + t3])\n",
    "\n",
    "print(t1)\n",
    "\n",
    "print(sum(ord(i) for i in t1))\n",
    "print(sum(ord(i) for i in t2))\n",
    "print(sum(ord(i) for i in t3))"
   ]
  },
  {
   "cell_type": "markdown",
   "id": "e95e254f",
   "metadata": {},
   "source": [
    "## Q2"
   ]
  },
  {
   "cell_type": "code",
   "execution_count": 36,
   "id": "bb38196e",
   "metadata": {},
   "outputs": [
    {
     "name": "stdout",
     "output_type": "stream",
     "text": [
      "3\n",
      "3\n"
     ]
    }
   ],
   "source": [
    "sales = (100, 121, 120, 130, 140, 120, 122, 123, 190, 125)\n",
    "\n",
    "n = 0\n",
    "\n",
    "for i in range(len(sales) - 1): \n",
    "    if sales[i + 1] < sales[i]:\n",
    "        n += 1\n",
    "        \n",
    "print(n)\n",
    "n = 0\n",
    "\n",
    "for i, s in enumerate(sales[:-1]):\n",
    "    if sales[i + 1] < sales[i]:\n",
    "        n += 1\n",
    "        \n",
    "print(n)"
   ]
  },
  {
   "cell_type": "code",
   "execution_count": 41,
   "id": "c2a06e45",
   "metadata": {},
   "outputs": [
    {
     "name": "stdout",
     "output_type": "stream",
     "text": [
      "None\n",
      "1234\n"
     ]
    }
   ],
   "source": [
    "dic = {\"v\": 1234}\n",
    "print(dic.get(\"jhfsdoidjoi\"))\n",
    "print(dic.get('v'))\n",
    "\n",
    "if dic.get(\"sdddf\"):\n",
    "    print(\"LOOOOOOL\")"
   ]
  },
  {
   "cell_type": "markdown",
   "id": "479aaad1",
   "metadata": {},
   "source": [
    "## Swap values"
   ]
  },
  {
   "cell_type": "code",
   "execution_count": 43,
   "id": "d73266ab",
   "metadata": {},
   "outputs": [
    {
     "name": "stdout",
     "output_type": "stream",
     "text": [
      "2 1\n"
     ]
    }
   ],
   "source": [
    "a = 1\n",
    "b = 2\n",
    "\n",
    "b, a = a, b\n",
    "\n",
    "print(a, b)"
   ]
  },
  {
   "cell_type": "markdown",
   "id": "e9774bbd",
   "metadata": {},
   "source": [
    "## sort()"
   ]
  },
  {
   "cell_type": "code",
   "execution_count": 45,
   "id": "5c252845",
   "metadata": {
    "scrolled": true
   },
   "outputs": [
    {
     "name": "stdout",
     "output_type": "stream",
     "text": [
      "[0, 1, 2, 3, 4, 5, 6, 7, 8, 9]\n"
     ]
    }
   ],
   "source": [
    "tup = (1, 4, 5, 6, 7, 9, 0, 2, 3, 8)\n",
    "\n",
    "temp = list(tup)\n",
    "\n",
    "temp.sort()\n",
    "\n",
    "print(temp)"
   ]
  },
  {
   "cell_type": "markdown",
   "id": "40567c31",
   "metadata": {},
   "source": [
    "# Q1"
   ]
  },
  {
   "cell_type": "code",
   "execution_count": 55,
   "id": "e2052b3a",
   "metadata": {},
   "outputs": [
    {
     "name": "stdout",
     "output_type": "stream",
     "text": [
      "The most frequent element: 9\n"
     ]
    }
   ],
   "source": [
    "t = (1, 2, 5, 4, 3, 2, 1, 4, 7, 8, 9, 9, 3, 7, 3, 9)\n",
    "d = {}\n",
    "l = []\n",
    "\n",
    "# Pair each number with its counts\n",
    "for e in set(t):\n",
    "    d[e] = t.count(e)\n",
    "    \n",
    "# print(d)\n",
    "\n",
    "# Go through the dictionary to see what is the biggest count of all the numbers\n",
    "maximun = max([d[k] for k in d])\n",
    "\n",
    "# Search every keys for its value. If the value is equal to maximun, append it to a list.\n",
    "for k in d:\n",
    "    if d[k] == maximun:\n",
    "        l.append(k)\n",
    "        \n",
    "# print(l)\n",
    "\n",
    "# Print the bigger number between the numbers in list l\n",
    "print(\"The most frequent element:\", max(l))"
   ]
  }
 ],
 "metadata": {
  "kernelspec": {
   "display_name": "Python 3 (ipykernel)",
   "language": "python",
   "name": "python3"
  },
  "language_info": {
   "codemirror_mode": {
    "name": "ipython",
    "version": 3
   },
   "file_extension": ".py",
   "mimetype": "text/x-python",
   "name": "python",
   "nbconvert_exporter": "python",
   "pygments_lexer": "ipython3",
   "version": "3.9.13"
  }
 },
 "nbformat": 4,
 "nbformat_minor": 5
}
