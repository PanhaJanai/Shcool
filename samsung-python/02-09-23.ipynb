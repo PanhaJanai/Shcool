{
 "cells": [
  {
   "cell_type": "code",
   "execution_count": 30,
   "id": "47a52dd6",
   "metadata": {},
   "outputs": [
    {
     "name": "stdout",
     "output_type": "stream",
     "text": [
      "{1: 1, 2: 2, 3: 3, 'four': 4, 5: 5, 6: 6}\n"
     ]
    }
   ],
   "source": [
    "dic = {\n",
    "    1: 1,\n",
    "    2: 2,\n",
    "    3: 3\n",
    "}\n",
    "\n",
    "dic.update(four=4)\n",
    "dic.update(([5, 5], [6, 6]))\n",
    "\n",
    "print(dic)"
   ]
  },
  {
   "cell_type": "markdown",
   "id": "ae27ddd7",
   "metadata": {},
   "source": [
    "## fromkeys() of dictionary"
   ]
  },
  {
   "cell_type": "code",
   "execution_count": 34,
   "id": "7f13b49f",
   "metadata": {},
   "outputs": [
    {
     "name": "stdout",
     "output_type": "stream",
     "text": [
      "{'apple': None, 'banana': None, 'coconut': None}\n"
     ]
    }
   ],
   "source": [
    "dic = {}\n",
    "\n",
    "keys = [\"apple\", \"banana\", \"coconut\"]\n",
    "\n",
    "dic = dic.fromkeys(keys, None)\n",
    "\n",
    "print(dic)"
   ]
  },
  {
   "cell_type": "markdown",
   "id": "dce35c04",
   "metadata": {},
   "source": [
    "# defaultdict of collections module"
   ]
  },
  {
   "cell_type": "code",
   "execution_count": 44,
   "id": "00c3a387",
   "metadata": {},
   "outputs": [
    {
     "name": "stdout",
     "output_type": "stream",
     "text": [
      "{'apple': 6, 'banana': 6, 'coconut': 6}\n",
      "defaultdict(<class 'int'>, {})\n",
      "{}\n",
      "0\n"
     ]
    }
   ],
   "source": [
    "from collections import defaultdict\n",
    "\n",
    "dic = {}\n",
    "keys = [\"apple\", \"banana\", \"coconut\"]\n",
    "\n",
    "y = dic.fromkeys(keys, 6)\n",
    "print(y)\n",
    "\n",
    "y = defaultdict(int) \n",
    "print(y)\n",
    "\n",
    "print(dic)\n",
    "print(y['blah blah blah'])"
   ]
  },
  {
   "cell_type": "markdown",
   "id": "875ee188",
   "metadata": {},
   "source": [
    "## defaultdict for counting characters of a string"
   ]
  },
  {
   "cell_type": "code",
   "execution_count": 46,
   "id": "6e78ee0a",
   "metadata": {},
   "outputs": [
    {
     "name": "stdout",
     "output_type": "stream",
     "text": [
      "defaultdict(<class 'int'>,\n",
      "            {' ': 3,\n",
      "             'G': 1,\n",
      "             'L': 1,\n",
      "             'N': 2,\n",
      "             'a': 1,\n",
      "             'e': 2,\n",
      "             'f': 1,\n",
      "             'i': 1,\n",
      "             'm': 1,\n",
      "             'o': 2})\n"
     ]
    }
   ],
   "source": [
    "# Already import defaultdict\n",
    "import pprint\n",
    "\n",
    "word = \"No Game No Life\"\n",
    "counter_dic = defaultdict(int)\n",
    "\n",
    "for letter in word: \n",
    "    counter_dic[letter] += 1\n",
    "    \n",
    "pprint.pprint(counter_dic)"
   ]
  },
  {
   "cell_type": "code",
   "execution_count": 51,
   "id": "67555d5b",
   "metadata": {},
   "outputs": [
    {
     "name": "stdout",
     "output_type": "stream",
     "text": [
      "Coffee - Pen - Paper cup - Milk - Coke - Book - "
     ]
    }
   ],
   "source": [
    "products = {\n",
    "    \"Coffee\": 7,\n",
    "    \"Pen\": 3,\n",
    "    \"Paper cup\": 2,\n",
    "    \"Milk\": 1,\n",
    "    \"Coke\": 4,\n",
    "    \"Book\": 5\n",
    "}\n",
    "\n",
    "for key, value in products.items():\n",
    "    print(key, end=' - ')"
   ]
  },
  {
   "cell_type": "markdown",
   "id": "cdce93a0",
   "metadata": {},
   "source": [
    "## Nested dictionaries"
   ]
  },
  {
   "cell_type": "code",
   "execution_count": 53,
   "id": "579a48a8",
   "metadata": {},
   "outputs": [
    {
     "name": "stdout",
     "output_type": "stream",
     "text": [
      "365.25641\n"
     ]
    }
   ],
   "source": [
    "terrestrial_planet = {\n",
    "    \"Mercury\": {\n",
    "        \"mean_radius\": 2439.7,\n",
    "        \"mass\": 3.3022E+23,\n",
    "        \"orbital_period\": 87.969\n",
    "    },\n",
    "    \"Venus\": {\n",
    "        \"mean_radius\": 6051.8,\n",
    "        \"mass\": 4.8676E+24,\n",
    "        \"orbital_period\": 224.70069\n",
    "    },\n",
    "    \"Earth\": {\n",
    "        \"mean_radius\": 6371.0,\n",
    "        \"mass\": 5.97219E+24,\n",
    "        \"orbital_period\": 365.25641\n",
    "    },\n",
    "    \"Mars\": {\n",
    "        \"mean_radius\": 3389.5,\n",
    "        \"mass\": 6.4185E+23,\n",
    "        \"orbital_period\": 686.9600\n",
    "    }\n",
    "}\n",
    "\n",
    "print(terrestrial_planet[\"Earth\"][\"orbital_period\"])"
   ]
  },
  {
   "cell_type": "markdown",
   "id": "1bdb9b6d",
   "metadata": {},
   "source": [
    "## Copying"
   ]
  },
  {
   "cell_type": "code",
   "execution_count": 57,
   "id": "8d2469ec",
   "metadata": {},
   "outputs": [
    {
     "name": "stdout",
     "output_type": "stream",
     "text": [
      "{'Coffee': 10, 'Pen': 3, 'Paper cup': 2, 'Milk': 1, 'Coke': 4, 'Book': 5}\n",
      "{'Coffee': 69, 'Pen': 3, 'Paper cup': 2, 'Milk': 1, 'Coke': 4, 'Book': 5}\n",
      "{'Coffee': 10, 'Pen': 3, 'Paper cup': 2, 'Milk': 1, 'Coke': 4, 'Book': 5}\n"
     ]
    }
   ],
   "source": [
    "products = {\n",
    "    \"Coffee\": 7,\n",
    "    \"Pen\": 3,\n",
    "    \"Paper cup\": 2,\n",
    "    \"Milk\": 1,\n",
    "    \"Coke\": 4,\n",
    "    \"Book\": 5\n",
    "}\n",
    "\n",
    "# Y is a reference to products\n",
    "y = products\n",
    "y[\"Coffee\"] = 10\n",
    "\n",
    "# .copy() method of dictionaries\n",
    "# copy the dictionary meaning when something is done to z, it will not affect products\n",
    "z = products.copy()\n",
    "z[\"Coffee\"] = 69\n",
    "\n",
    "print(y)\n",
    "print(z)\n",
    "print(products)"
   ]
  },
  {
   "cell_type": "markdown",
   "id": "56f05483",
   "metadata": {},
   "source": [
    "# Q1"
   ]
  },
  {
   "cell_type": "code",
   "execution_count": 101,
   "id": "95f314b2",
   "metadata": {},
   "outputs": [
    {
     "name": "stdout",
     "output_type": "stream",
     "text": [
      "{'211101': ('David Doe', '010-1234-4500'),\n",
      " '211102': ('John Smith', '010-2230-6540'),\n",
      " '211103': ('Jane Carter', '010-3232-7788')}\n"
     ]
    }
   ],
   "source": [
    "stu_tup = (\n",
    "    (\"211101\", \"David Doe\", \"010-1234-4500\"), \n",
    "    (\"211102\", \"John Smith\", \"010-2230-6540\"), \n",
    "    (\"211103\", \"Jane Carter\", \"010-3232-7788\"))\n",
    "stu_dic = {}\n",
    "keys = tuple(x[0] for x in stu_tup)\n",
    "# print((keys))\n",
    "\n",
    "i = 0\n",
    "for key in keys:\n",
    "    stu_dic[key] = stu_tup[i][1:]\n",
    "    i += 1\n",
    "\n",
    "pprint.pprint(stu_dic)"
   ]
  },
  {
   "cell_type": "markdown",
   "id": "357fb60f",
   "metadata": {},
   "source": [
    "# Q2"
   ]
  },
  {
   "cell_type": "markdown",
   "id": "d8759668",
   "metadata": {},
   "source": [
    "# datetime module"
   ]
  },
  {
   "cell_type": "code",
   "execution_count": 251,
   "id": "10a8e31c",
   "metadata": {},
   "outputs": [
    {
     "name": "stdout",
     "output_type": "stream",
     "text": [
      "datetime.datetime(2023, 9, 2, 15, 31, 1, 388420)\n"
     ]
    },
    {
     "data": {
      "text/plain": [
       "datetime.datetime(2023, 10, 29, 15, 31, 1, 388420)"
      ]
     },
     "execution_count": 251,
     "metadata": {},
     "output_type": "execute_result"
    }
   ],
   "source": [
    "import datetime\n",
    "\n",
    "d = datetime.datetime.now()\n",
    "\n",
    "# (year, month, day, hour, minute, second, millisecond)\n",
    "pprint.pprint(datetime.datetime.now())\n",
    "\n",
    "d = d.replace(month = 10, day = 29)\n",
    "d"
   ]
  },
  {
   "cell_type": "markdown",
   "id": "e6a1ad84",
   "metadata": {},
   "source": [
    "# time module"
   ]
  },
  {
   "cell_type": "code",
   "execution_count": 248,
   "id": "2586c3a3",
   "metadata": {},
   "outputs": [
    {
     "name": "stdout",
     "output_type": "stream",
     "text": [
      "Time in second currently: 1693643348.3889124\n"
     ]
    }
   ],
   "source": [
    "import time\n",
    "\n",
    "seconds = time.time()\n",
    "\n",
    "print(\"Time in second currently:\", seconds)"
   ]
  },
  {
   "cell_type": "markdown",
   "id": "86abf4ef",
   "metadata": {},
   "source": [
    "# Q1"
   ]
  },
  {
   "cell_type": "code",
   "execution_count": 258,
   "id": "62f4b7bb",
   "metadata": {},
   "outputs": [
    {
     "name": "stdout",
     "output_type": "stream",
     "text": [
      "211101: David Doe\n",
      "211102: John Smith\n",
      "211103: Jane Carter\n",
      "Enter student ID number: 211101\n",
      "ID 211101 student is David Doe and their phone number is 010-1234-4500\n"
     ]
    }
   ],
   "source": [
    "stu_tup = (\n",
    "    (\"211101\", \"David Doe\", \"010-1234-4500\"), \n",
    "    (\"211102\", \"John Smith\", \"010-2230-6540\"), \n",
    "    (\"211103\", \"Jane Carter\", \"010-3232-7788\"))\n",
    "\n",
    "stu_dict = defaultdict.fromkeys([t[0] for t in stu_tup], None)\n",
    "\n",
    "for t in stu_tup:\n",
    "    stu_dict[t[0]] = (t[1], t[2])\n",
    "\n",
    "for stu in stu_tup:\n",
    "    print(f\"{stu[0]}: {stu[1]}\")\n",
    "    \n",
    "user = input(\"Enter student ID number: \")\n",
    "print(f\"ID {user} student is {stu_dict[user][0]} and their phone number is {stu_dict[user][1]}\")"
   ]
  },
  {
   "cell_type": "code",
   "execution_count": null,
   "id": "8e827f1c",
   "metadata": {},
   "outputs": [],
   "source": []
  },
  {
   "cell_type": "code",
   "execution_count": null,
   "id": "b28a49af",
   "metadata": {},
   "outputs": [],
   "source": []
  },
  {
   "cell_type": "code",
   "execution_count": null,
   "id": "263a837c",
   "metadata": {},
   "outputs": [],
   "source": []
  },
  {
   "cell_type": "code",
   "execution_count": null,
   "id": "5771ebd7",
   "metadata": {},
   "outputs": [],
   "source": []
  },
  {
   "cell_type": "code",
   "execution_count": null,
   "id": "e6a57a6a",
   "metadata": {},
   "outputs": [],
   "source": []
  },
  {
   "cell_type": "code",
   "execution_count": null,
   "id": "9276f7cf",
   "metadata": {},
   "outputs": [],
   "source": []
  },
  {
   "cell_type": "code",
   "execution_count": null,
   "id": "32bcda98",
   "metadata": {},
   "outputs": [],
   "source": []
  },
  {
   "cell_type": "code",
   "execution_count": null,
   "id": "d5debc74",
   "metadata": {},
   "outputs": [],
   "source": []
  },
  {
   "cell_type": "code",
   "execution_count": null,
   "id": "d8037651",
   "metadata": {},
   "outputs": [],
   "source": []
  },
  {
   "cell_type": "code",
   "execution_count": null,
   "id": "c9fd416e",
   "metadata": {},
   "outputs": [],
   "source": []
  }
 ],
 "metadata": {
  "kernelspec": {
   "display_name": "Python 3 (ipykernel)",
   "language": "python",
   "name": "python3"
  },
  "language_info": {
   "codemirror_mode": {
    "name": "ipython",
    "version": 3
   },
   "file_extension": ".py",
   "mimetype": "text/x-python",
   "name": "python",
   "nbconvert_exporter": "python",
   "pygments_lexer": "ipython3",
   "version": "3.9.13"
  }
 },
 "nbformat": 4,
 "nbformat_minor": 5
}
