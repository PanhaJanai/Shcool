{
 "cells": [
  {
   "cell_type": "code",
   "execution_count": null,
   "metadata": {},
   "outputs": [],
   "source": [
    "import pandas as pd\n",
    "import numpy as np\n",
    "import matplotlib.pyplot as plt\n",
    "import datetime\n",
    "\n",
    "from datetime import date, datetime, time, timezone\n",
    "\n",
    "df = pd.read_csv('./data/38-data sources/capture-fisheries-vs-aquaculture.csv')\n",
    "df.head()"
   ]
  },
  {
   "cell_type": "code",
   "execution_count": null,
   "metadata": {},
   "outputs": [],
   "source": [
    "df.info()"
   ]
  },
  {
   "cell_type": "code",
   "execution_count": null,
   "metadata": {},
   "outputs": [],
   "source": [
    "df.drop(['Code'], axis=1, inplace=True)\n",
    "df.head()"
   ]
  },
  {
   "cell_type": "code",
   "execution_count": null,
   "metadata": {},
   "outputs": [],
   "source": [
    "df.isnull().sum()"
   ]
  },
  {
   "cell_type": "code",
   "execution_count": null,
   "metadata": {},
   "outputs": [],
   "source": [
    "change_value = 0\n",
    "\n",
    "# replace all null values with change_value\n",
    "df.fillna(change_value, inplace=True)\n",
    "\n",
    "df.isnull().sum()"
   ]
  },
  {
   "cell_type": "code",
   "execution_count": null,
   "metadata": {},
   "outputs": [],
   "source": [
    "df[\"new_year\"] = pd.to_datetime(df[\"Year\"].astype(str), format='%Y')\n",
    "df.set_index(\"new_year\", inplace=True)\n",
    "df.drop([\"Year\"], axis=1, inplace=True)\n",
    "\n",
    "df.head()"
   ]
  },
  {
   "cell_type": "code",
   "execution_count": null,
   "metadata": {},
   "outputs": [],
   "source": [
    "df.info()"
   ]
  },
  {
   "cell_type": "code",
   "execution_count": null,
   "metadata": {},
   "outputs": [],
   "source": [
    "new_df = df.sort_index()\n",
    "new_df.head()"
   ]
  },
  {
   "cell_type": "code",
   "execution_count": null,
   "metadata": {},
   "outputs": [],
   "source": [
    "new_df[\"Entity\"] = new_df[\"Entity\"].astype(\"category\")\n",
    "new_df.info()"
   ]
  },
  {
   "cell_type": "code",
   "execution_count": null,
   "metadata": {},
   "outputs": [],
   "source": [
    "# count all repeated values of field \"Entity\"\n",
    "new_df[\"Entity\"].value_counts()"
   ]
  },
  {
   "cell_type": "code",
   "execution_count": null,
   "metadata": {},
   "outputs": [],
   "source": [
    "g = new_df.groupby([\"new_year\"])\n",
    "g.head()"
   ]
  },
  {
   "cell_type": "code",
   "execution_count": null,
   "metadata": {},
   "outputs": [],
   "source": [
    "type(g)\n",
    "for key, group in g:\n",
    "  print(\"+key: \", key)\n",
    "  print(\"+number: \", len(group))\n",
    "  print(group.head())\n",
    "  print(\"\\n\")"
   ]
  },
  {
   "cell_type": "code",
   "execution_count": null,
   "metadata": {},
   "outputs": [],
   "source": [
    "world_total = g.sum()\n",
    "world_total.head()"
   ]
  },
  {
   "cell_type": "code",
   "execution_count": null,
   "metadata": {},
   "outputs": [],
   "source": [
    "plt.style.use('ggplot')\n",
    "world_total.plot(kind=\"area\", alpha=0.5, stacked=False, figsize=(20, 10))\n",
    "\n",
    "plt.legend()\n",
    "plt.show()"
   ]
  },
  {
   "cell_type": "code",
   "execution_count": null,
   "metadata": {},
   "outputs": [],
   "source": [
    "country = new_df[\"Entity\"].value_counts()\n",
    "print(country)\n",
    "print(\"Data type =>\", type(country))"
   ]
  },
  {
   "cell_type": "code",
   "execution_count": null,
   "metadata": {},
   "outputs": [],
   "source": [
    "\"South Korea\" in country"
   ]
  },
  {
   "cell_type": "code",
   "execution_count": null,
   "metadata": {},
   "outputs": [],
   "source": [
    "s = new_df.loc[new_df[\"Entity\"] == \"South Korea\"]\n",
    "c = new_df.loc[new_df[\"Entity\"] == \"China\"]\n",
    "a = new_df.loc[new_df[\"Entity\"] == \"Afghanistan\"]\n",
    "\n",
    "print(s.head())\n",
    "print(c.head())\n",
    "print(a.head())"
   ]
  },
  {
   "cell_type": "code",
   "execution_count": null,
   "metadata": {},
   "outputs": [],
   "source": [
    "s_y = s[[\"Aquaculture production (metric tons)\", \"Capture fisheries production (metric tons)\"]]\n",
    "s_x = s.index\n",
    "\n",
    "c_y = c[[\"Aquaculture production (metric tons)\", \"Capture fisheries production (metric tons)\"]]\n",
    "c_x = c.index\n",
    "\n",
    "a_y = a[[\"Aquaculture production (metric tons)\", \"Capture fisheries production (metric tons)\"]]\n",
    "a_x = a.index"
   ]
  },
  {
   "cell_type": "code",
   "execution_count": null,
   "metadata": {},
   "outputs": [],
   "source": [
    "fig, axs = plt.subplots(1, 3, figsize=(15, 5))\n",
    "axs[0].plot(s_x, s_y)\n",
    "axs[1].plot(c_x, c_y)\n",
    "axs[2].plot(a_x, a_y)\n",
    "\n",
    "fig.suptitle(\"Fish Production\")"
   ]
  },
  {
   "cell_type": "code",
   "execution_count": null,
   "metadata": {},
   "outputs": [],
   "source": []
  },
  {
   "cell_type": "code",
   "execution_count": null,
   "metadata": {},
   "outputs": [],
   "source": []
  }
 ],
 "metadata": {
  "kernelspec": {
   "display_name": "Python 3",
   "language": "python",
   "name": "python3"
  },
  "language_info": {
   "codemirror_mode": {
    "name": "ipython",
    "version": 3
   },
   "file_extension": ".py",
   "mimetype": "text/x-python",
   "name": "python",
   "nbconvert_exporter": "python",
   "pygments_lexer": "ipython3",
   "version": "3.10.4"
  }
 },
 "nbformat": 4,
 "nbformat_minor": 2
}
