{
 "cells": [
  {
   "cell_type": "markdown",
   "id": "5663b7ec",
   "metadata": {},
   "source": [
    "## Caesar Cipher"
   ]
  },
  {
   "cell_type": "code",
   "execution_count": null,
   "id": "3e4044aa",
   "metadata": {},
   "outputs": [],
   "source": [
    "import string\n",
    "alp = string.ascii_uppercase\n",
    "\n",
    "# Add the last 23 letters and the first 3 letters\n",
    "cip = alp[3:] + alp[:3]\n",
    "\n",
    "print(cip)\n",
    "\n",
    "def cipher(a):\n",
    "    \n",
    "    # Find index of a character that is found in alp\n",
    "    idx = alp.index(a)\n",
    "    \n",
    "    # Return back ciphered (in cip) letter corresponded to the inputted character\n",
    "    return cip[idx]\n",
    "\n",
    "alp = string.ascii_uppercase\n",
    "cip = alp[4:] + alp[:4]\n",
    "\n",
    "text = input(\"Enter text: \")\n",
    "print(\"Encryped text: \", end='')\n",
    "\n",
    "for ch in text:\n",
    "    if ch in alp:\n",
    "        print(cipher(ch), end='')\n",
    "    else:\n",
    "        print(ch, end='')\n",
    "        \n",
    "print()"
   ]
  },
  {
   "cell_type": "markdown",
   "id": "8d7a2819",
   "metadata": {},
   "source": [
    "# Functions"
   ]
  },
  {
   "cell_type": "markdown",
   "id": "d1512041",
   "metadata": {},
   "source": [
    "## Simple function"
   ]
  },
  {
   "cell_type": "code",
   "execution_count": null,
   "id": "a37b0709",
   "metadata": {},
   "outputs": [],
   "source": [
    "def greetMe():\n",
    "    print(\"Hello, Master Panha!\")\n",
    "    \n",
    "greetMe()\n",
    "greetMe()\n",
    "greetMe()\n",
    "greetMe()"
   ]
  },
  {
   "cell_type": "markdown",
   "id": "eeffb9ba",
   "metadata": {},
   "source": [
    "## Parameters and Aruguments"
   ]
  },
  {
   "cell_type": "code",
   "execution_count": null,
   "id": "c348609c",
   "metadata": {},
   "outputs": [],
   "source": [
    "def summing(a, b): # a and b is called parameters\n",
    "    return a + b;\n",
    "\n",
    "print(summing(10, 20)) # 10 and 20 is called arguments"
   ]
  },
  {
   "cell_type": "markdown",
   "id": "1b802bfb",
   "metadata": {},
   "source": [
    "## Function with parameter"
   ]
  },
  {
   "cell_type": "code",
   "execution_count": null,
   "id": "d8323180",
   "metadata": {},
   "outputs": [],
   "source": [
    "def printStar(n):\n",
    "    for _ in range(n):\n",
    "        print(\"***\")\n",
    "        \n",
    "printStar(3)"
   ]
  },
  {
   "cell_type": "markdown",
   "id": "e9c1caf6",
   "metadata": {},
   "source": [
    "## Arbitrary argument passing"
   ]
  },
  {
   "cell_type": "code",
   "execution_count": null,
   "id": "f4d2ee60",
   "metadata": {},
   "outputs": [],
   "source": [
    "def greet(*names, punc):\n",
    "    for name in names:\n",
    "        print(\"Hello,\", name + punc)\n",
    "        \n",
    "greet(punc=\"!\")\n",
    "greet(\"Panha\", \"Hak\", \"Sing\", punc=\"!\")"
   ]
  },
  {
   "cell_type": "code",
   "execution_count": null,
   "id": "d763929f",
   "metadata": {},
   "outputs": [],
   "source": [
    "def foo(*args):\n",
    "    print(\"The number of argument:\", len(args))\n",
    "    print(args)\n",
    "    \n",
    "foo(1, 2, 3, 4, 5, 6, 7, 8, 9, 0)"
   ]
  },
  {
   "cell_type": "markdown",
   "id": "788ba434",
   "metadata": {},
   "source": [
    "## Summing N number of numbers"
   ]
  },
  {
   "cell_type": "code",
   "execution_count": null,
   "id": "cc1b050f",
   "metadata": {},
   "outputs": [],
   "source": [
    "def summing(*numbers):\n",
    "    sum = 0\n",
    "    for n in numbers:\n",
    "        sum += n\n",
    "        \n",
    "    return sum\n",
    "\n",
    "print(summing(10, 20, 90))"
   ]
  },
  {
   "cell_type": "markdown",
   "id": "62927318",
   "metadata": {},
   "source": [
    "## Default parameters"
   ]
  },
  {
   "cell_type": "code",
   "execution_count": null,
   "id": "5b834d4f",
   "metadata": {},
   "outputs": [],
   "source": [
    "def printNums(num=1):\n",
    "    for _ in range(num):\n",
    "        print(_)\n",
    "        \n",
    "printNums()\n",
    "printNums(3)"
   ]
  },
  {
   "cell_type": "code",
   "execution_count": null,
   "id": "4fd080c5",
   "metadata": {},
   "outputs": [],
   "source": [
    "def div(a, b=2):\n",
    "    return a / b\n",
    "\n",
    "print(div(420))\n",
    "print(div(69, 3))\n",
    "print(div())"
   ]
  },
  {
   "cell_type": "code",
   "execution_count": null,
   "id": "c2f5b182",
   "metadata": {},
   "outputs": [],
   "source": [
    "def getRoot(a, b, c):\n",
    "    r1 = (-b + (b ** 2 - 4 * a * c) ** 0.5) / (2 * a)\n",
    "    r2 = (-b - (b ** 2 - 4 * a * c) ** 0.5) / (2 * a)\n",
    "    return r1, r2\n",
    "\n",
    "result1, result2 = getRoot(1, 2, -8)\n",
    "print(f\"The root is either {result1} or {result2}\")"
   ]
  },
  {
   "cell_type": "code",
   "execution_count": null,
   "id": "bdf70dbc",
   "metadata": {},
   "outputs": [],
   "source": [
    "result1, result2 = getRoot(c=-8, a=1, b=2)\n",
    "print(f\"The root is either {result1} or {result2}\")"
   ]
  },
  {
   "cell_type": "code",
   "execution_count": null,
   "id": "53f6954b",
   "metadata": {},
   "outputs": [],
   "source": [
    "result1, result2 = getRoot(c=-8, b=2, a=1)\n",
    "print(f\"The root is either {result1} or {result2}\")"
   ]
  },
  {
   "cell_type": "code",
   "execution_count": null,
   "id": "ff19b6db",
   "metadata": {},
   "outputs": [],
   "source": [
    "result1, result2 = getRoot(b=2, a=1, c=-8)\n",
    "print(f\"The root is either {result1} or {result2}\")"
   ]
  },
  {
   "cell_type": "code",
   "execution_count": null,
   "id": "fcda2f48",
   "metadata": {},
   "outputs": [],
   "source": [
    "baz = getRoot(1, 2, -8)\n",
    "print(baz)"
   ]
  },
  {
   "cell_type": "markdown",
   "id": "bdbeb9f3",
   "metadata": {},
   "source": [
    "# Q1 "
   ]
  },
  {
   "cell_type": "code",
   "execution_count": null,
   "id": "64780a4e",
   "metadata": {},
   "outputs": [],
   "source": [
    "def my_greet():\n",
    "    print(\"Welcome.\")\n",
    "    \n",
    "my_greet()\n",
    "my_greet()"
   ]
  },
  {
   "cell_type": "markdown",
   "id": "30c4b0e7",
   "metadata": {},
   "source": [
    "# Q2"
   ]
  },
  {
   "cell_type": "code",
   "execution_count": null,
   "id": "b393307d",
   "metadata": {},
   "outputs": [],
   "source": [
    "def max2(m, n):\n",
    "    if m > n:\n",
    "        return m\n",
    "    else:\n",
    "        return n\n",
    "\n",
    "def min2(m, n):\n",
    "    if m < n:\n",
    "        return m\n",
    "    else:\n",
    "        return n\n",
    "\n",
    "num1, num2 = 100, 200\n",
    "\n",
    "print(f\"The greater of {num1} and {num2} is:\", max2(num1, num2))\n",
    "print(f\"The smaller of {num1} and {num2} is:\", min2(num1, num2))"
   ]
  },
  {
   "cell_type": "markdown",
   "id": "bb8894cd",
   "metadata": {},
   "source": [
    "# Q3"
   ]
  },
  {
   "cell_type": "code",
   "execution_count": null,
   "id": "4294e910",
   "metadata": {},
   "outputs": [],
   "source": [
    "def mileToKilo(n):\n",
    "    for _ in range(1, n + 1):\n",
    "        print(f\"{_} mile = {_ * 1.61} kilometers\")\n",
    "        \n",
    "mileToKilo(5)"
   ]
  },
  {
   "cell_type": "markdown",
   "id": "85b74989",
   "metadata": {},
   "source": [
    "# Q4"
   ]
  },
  {
   "cell_type": "code",
   "execution_count": null,
   "id": "6e1ddf1e",
   "metadata": {},
   "outputs": [],
   "source": [
    "def celToFah(n):\n",
    "    for _ in range(1, n + 1):\n",
    "        cel = _ * 10\n",
    "        print(f\"{cel} degrees Celsius = {cel * 9 / 5 + 32} degrees Fahrenheit\")\n",
    "        \n",
    "celToFah(5)"
   ]
  },
  {
   "cell_type": "markdown",
   "id": "32c91714",
   "metadata": {},
   "source": [
    "# String proccessing"
   ]
  },
  {
   "cell_type": "code",
   "execution_count": null,
   "id": "bb45a683",
   "metadata": {},
   "outputs": [],
   "source": [
    "bod = \"19.10.2003\"\n",
    "max(bod)"
   ]
  },
  {
   "cell_type": "code",
   "execution_count": null,
   "id": "4764b74c",
   "metadata": {},
   "outputs": [],
   "source": [
    "ord(max(bod))"
   ]
  },
  {
   "cell_type": "code",
   "execution_count": null,
   "id": "ca8ff491",
   "metadata": {},
   "outputs": [],
   "source": [
    "ord(min(bod))"
   ]
  },
  {
   "cell_type": "code",
   "execution_count": null,
   "id": "6bab8c02",
   "metadata": {},
   "outputs": [],
   "source": [
    "chr(57), chr(46)"
   ]
  },
  {
   "cell_type": "code",
   "execution_count": null,
   "id": "578b0006",
   "metadata": {},
   "outputs": [],
   "source": [
    "s = \"People die when they are killed.\""
   ]
  },
  {
   "cell_type": "code",
   "execution_count": null,
   "id": "5c1b1b8f",
   "metadata": {},
   "outputs": [],
   "source": [
    "s.count('i')"
   ]
  },
  {
   "cell_type": "code",
   "execution_count": null,
   "id": "1d6a9fb4",
   "metadata": {},
   "outputs": [],
   "source": [
    "s.find(\"die\")"
   ]
  },
  {
   "cell_type": "code",
   "execution_count": null,
   "id": "3b255aef",
   "metadata": {},
   "outputs": [],
   "source": [
    "a = \"I love python\"\n",
    "b = \"I Love Python\"\n",
    "c = \"I LOVE PYTHON\"\n",
    "\n",
    "print(a.upper())\n",
    "print(c.lower())\n",
    "print(b.swapcase())\n",
    "print(a.istitle())\n",
    "print(b.istitle())"
   ]
  },
  {
   "cell_type": "markdown",
   "id": "9ce2f61d",
   "metadata": {},
   "source": [
    "# string module"
   ]
  },
  {
   "cell_type": "code",
   "execution_count": null,
   "id": "b7f264f7",
   "metadata": {},
   "outputs": [],
   "source": [
    "import string\n",
    "\n",
    "src = string.ascii_uppercase\n",
    "\n",
    "print(string.ascii_letters)\n",
    "print(string.ascii_lowercase)\n",
    "print(string.ascii_uppercase)"
   ]
  },
  {
   "cell_type": "code",
   "execution_count": null,
   "id": "9dfe8fa8",
   "metadata": {},
   "outputs": [],
   "source": [
    "print(src.index('C'))"
   ]
  },
  {
   "cell_type": "markdown",
   "id": "3ed2c81d",
   "metadata": {},
   "source": [
    "## Using function to calculate circumferemce of circles"
   ]
  },
  {
   "cell_type": "code",
   "execution_count": null,
   "id": "a177ebda",
   "metadata": {},
   "outputs": [],
   "source": [
    "def cir_area_circum(radius):\n",
    "    area = 3.14 * radius ** 2\n",
    "    circum = 2 * 3.14 * radius\n",
    "    return area, circum\n",
    "\n",
    "radius = 10\n",
    "area, circum = cir_area_circum(radius)\n",
    "print(\"The area of circle of radius {} is {:.1f}, and the circumference of the circle is {:.1f}\".format(radius, area, circum))"
   ]
  },
  {
   "cell_type": "markdown",
   "id": "cf1dc694",
   "metadata": {},
   "source": [
    "## Global variable"
   ]
  },
  {
   "cell_type": "code",
   "execution_count": null,
   "id": "c393d232",
   "metadata": {},
   "outputs": [],
   "source": [
    "def printSum():\n",
    "    result = a + b\n",
    "    print(\"Inside printSum(): the sum of\", a, \"and\", b, \"is\", result)\n",
    "    \n",
    "a = 99\n",
    "b = 1\n",
    "result = a + b\n",
    "printSum()\n",
    "print(\"Outside printSum(): the sum of\", a, \"and\", b, \"is\", result)"
   ]
  },
  {
   "cell_type": "markdown",
   "id": "cf103883",
   "metadata": {},
   "source": [
    "## global keyword"
   ]
  },
  {
   "cell_type": "code",
   "execution_count": 3,
   "id": "c28bef12",
   "metadata": {},
   "outputs": [
    {
     "name": "stdout",
     "output_type": "stream",
     "text": [
      "Inside printSum(): the sum of 69 and 31 is 100\n",
      "Outside printSum(): the sum of 69 and 31 is 100\n"
     ]
    }
   ],
   "source": [
    "def printSum():\n",
    "    global a, b\n",
    "    a = 69\n",
    "    b = 31\n",
    "    result = a + b\n",
    "    print(\"Inside printSum(): the sum of\", a, \"and\", b, \"is\", result)\n",
    "    \n",
    "printSum()\n",
    "# result uses the new global variable from\n",
    "result = a + b\n",
    "\n",
    "print(\"Outside printSum(): the sum of\", a, \"and\", b, \"is\", result)"
   ]
  },
  {
   "cell_type": "markdown",
   "id": "dffc1162",
   "metadata": {},
   "source": [
    "## Global constants"
   ]
  },
  {
   "cell_type": "code",
   "execution_count": 6,
   "id": "c5484341",
   "metadata": {},
   "outputs": [
    {
     "name": "stdout",
     "output_type": "stream",
     "text": [
      "102400\n"
     ]
    }
   ],
   "source": [
    "GLOBAL_VALUE = 1024\n",
    "\n",
    "def foo():\n",
    "    global GLOBAL_VALUE\n",
    "\n",
    "    a = GLOBAL_VALUE * 100\n",
    "    print(a)\n",
    "    \n",
    "foo()"
   ]
  },
  {
   "cell_type": "markdown",
   "id": "f528f583",
   "metadata": {},
   "source": [
    "## format() and its placeholder(s)"
   ]
  },
  {
   "cell_type": "code",
   "execution_count": 7,
   "id": "51267088",
   "metadata": {},
   "outputs": [
    {
     "name": "stdout",
     "output_type": "stream",
     "text": [
      "Hello, Hello, Hello! Python\n",
      "Hello, Hello, Hello! Python\n",
      "Hello Python, Hello Python, Hello Python!\n",
      "100 200, 100 200, 100 200!\n"
     ]
    }
   ],
   "source": [
    "print(\"{0}, {0}, {0}! Python\".format(\"Hello\"))\n",
    "print(\"{0}, {0}, {0}! Python\".format(\"Hello\", \"Hi\"))\n",
    "print(\"{0} {1}, {0} {1}, {0} {1}!\".format(\"Hello\", \"Python\"))\n",
    "print(\"{0} {1}, {0} {1}, {0} {1}!\".format(100, 200))"
   ]
  },
  {
   "cell_type": "code",
   "execution_count": null,
   "id": "19fcfd9e",
   "metadata": {},
   "outputs": [],
   "source": []
  },
  {
   "cell_type": "code",
   "execution_count": null,
   "id": "0aa3b0b7",
   "metadata": {},
   "outputs": [],
   "source": []
  },
  {
   "cell_type": "code",
   "execution_count": null,
   "id": "a2b52d9e",
   "metadata": {},
   "outputs": [],
   "source": []
  },
  {
   "cell_type": "code",
   "execution_count": null,
   "id": "e50b8d71",
   "metadata": {},
   "outputs": [],
   "source": []
  }
 ],
 "metadata": {
  "kernelspec": {
   "display_name": "Python 3 (ipykernel)",
   "language": "python",
   "name": "python3"
  },
  "language_info": {
   "codemirror_mode": {
    "name": "ipython",
    "version": 3
   },
   "file_extension": ".py",
   "mimetype": "text/x-python",
   "name": "python",
   "nbconvert_exporter": "python",
   "pygments_lexer": "ipython3",
   "version": "3.9.13"
  }
 },
 "nbformat": 4,
 "nbformat_minor": 5
}
