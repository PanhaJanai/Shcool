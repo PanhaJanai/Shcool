{
 "cells": [
  {
   "cell_type": "markdown",
   "id": "187dfc34",
   "metadata": {},
   "source": [
    "# Print Hello using print with both ' and \""
   ]
  },
  {
   "cell_type": "code",
   "execution_count": 27,
   "id": "f8c24a61",
   "metadata": {},
   "outputs": [
    {
     "name": "stdout",
     "output_type": "stream",
     "text": [
      "Hello\n"
     ]
    }
   ],
   "source": [
    "print(\"Hello\")"
   ]
  },
  {
   "cell_type": "code",
   "execution_count": 28,
   "id": "b96e1e2d",
   "metadata": {
    "scrolled": true
   },
   "outputs": [
    {
     "name": "stdout",
     "output_type": "stream",
     "text": [
      "Hello\n"
     ]
    }
   ],
   "source": [
    "print('Hello')"
   ]
  },
  {
   "cell_type": "markdown",
   "id": "112f2d3b",
   "metadata": {},
   "source": [
    "# Multiple-lined string"
   ]
  },
  {
   "cell_type": "code",
   "execution_count": 29,
   "id": "3e6945ce",
   "metadata": {},
   "outputs": [
    {
     "name": "stdout",
     "output_type": "stream",
     "text": [
      "\n",
      "    Roses are red,\n",
      "    Violets are blue,\n",
      "    ...\n",
      "\n"
     ]
    }
   ],
   "source": [
    "str = \"\"\"\n",
    "    Roses are red,\n",
    "    Violets are blue,\n",
    "    ...\n",
    "\"\"\"\n",
    "\n",
    "print(str)"
   ]
  },
  {
   "cell_type": "markdown",
   "id": "058badbb",
   "metadata": {},
   "source": [
    "# Print multiple words using , in print()"
   ]
  },
  {
   "cell_type": "code",
   "execution_count": 30,
   "id": "9c9fedb3",
   "metadata": {},
   "outputs": [
    {
     "name": "stdout",
     "output_type": "stream",
     "text": [
      "Hello, World\n"
     ]
    }
   ],
   "source": [
    "print(\"Hello,\", \"World\")"
   ]
  },
  {
   "cell_type": "markdown",
   "id": "0ab67e1a",
   "metadata": {},
   "source": [
    "# Plus operator with strings"
   ]
  },
  {
   "cell_type": "code",
   "execution_count": 31,
   "id": "57c22b4e",
   "metadata": {},
   "outputs": [
    {
     "name": "stdout",
     "output_type": "stream",
     "text": [
      "My name's panha\n"
     ]
    }
   ],
   "source": [
    "name = \"panha\"\n",
    "print(\"My name's \" + name)"
   ]
  },
  {
   "cell_type": "markdown",
   "id": "9cc02568",
   "metadata": {},
   "source": [
    "# Multiplication with strings"
   ]
  },
  {
   "cell_type": "code",
   "execution_count": 32,
   "id": "2a69e18e",
   "metadata": {},
   "outputs": [
    {
     "name": "stdout",
     "output_type": "stream",
     "text": [
      "I really really really love Python\n"
     ]
    }
   ],
   "source": [
    "print(\"I\", \"really \" * 3 + \"love Python\")"
   ]
  },
  {
   "cell_type": "markdown",
   "id": "7da46a7c",
   "metadata": {},
   "source": [
    "# end parameter in print()"
   ]
  },
  {
   "cell_type": "code",
   "execution_count": 33,
   "id": "b320f4fb",
   "metadata": {},
   "outputs": [
    {
     "name": "stdout",
     "output_type": "stream",
     "text": [
      "Hello, my name is my name!"
     ]
    }
   ],
   "source": [
    "print(\"Hello, \", end=\"my name is my name!\")"
   ]
  },
  {
   "cell_type": "code",
   "execution_count": 34,
   "id": "6a17deae",
   "metadata": {},
   "outputs": [
    {
     "name": "stdout",
     "output_type": "stream",
     "text": [
      "\n",
      "    This\n",
      "    is\n",
      "    so\n",
      "    cool\n",
      "my name is my name!"
     ]
    }
   ],
   "source": [
    "print('''\n",
    "    This\n",
    "    is\n",
    "    so\n",
    "    cool\n",
    "''', end=\"my name is my name!\")"
   ]
  },
  {
   "cell_type": "markdown",
   "id": "18e90ea4",
   "metadata": {},
   "source": [
    "# sep in print()"
   ]
  },
  {
   "cell_type": "code",
   "execution_count": 35,
   "id": "beba6da2",
   "metadata": {},
   "outputs": [
    {
     "name": "stdout",
     "output_type": "stream",
     "text": [
      "$100 $50 $20 $10 $5 $2 $1\n"
     ]
    }
   ],
   "source": [
    "print(\"$100\", \"50\", \"20\", \"10\", \"5\", \"2\", \"1\", sep=\" $\")"
   ]
  },
  {
   "cell_type": "markdown",
   "id": "df432a3b",
   "metadata": {},
   "source": [
    "# CV"
   ]
  },
  {
   "cell_type": "code",
   "execution_count": 36,
   "id": "1b405183",
   "metadata": {},
   "outputs": [
    {
     "name": "stdout",
     "output_type": "stream",
     "text": [
      "Hell, my name is Panha!\n",
      "Age: 19\n",
      "Job: N/A\n",
      "Address: Takmao, Kandal, Cambodia\n",
      "------------------------------------------\n"
     ]
    }
   ],
   "source": [
    "print(\"Hell, my name is Panha!\")\n",
    "print(\"Age: 19\")\n",
    "print(\"Job: N/A\")\n",
    "print(\"Address: Takmao, Kandal, Cambodia\")\n",
    "print(\"------\" * 7)"
   ]
  },
  {
   "cell_type": "markdown",
   "id": "d1daab43",
   "metadata": {},
   "source": [
    "# If statement but in different line??"
   ]
  },
  {
   "cell_type": "code",
   "execution_count": 37,
   "id": "4f8ca315",
   "metadata": {
    "scrolled": true
   },
   "outputs": [
    {
     "ename": "NameError",
     "evalue": "name 'age' is not defined",
     "output_type": "error",
     "traceback": [
      "\u001b[1;31m---------------------------------------------------------------------------\u001b[0m",
      "\u001b[1;31mNameError\u001b[0m                                 Traceback (most recent call last)",
      "\u001b[1;32m~\\AppData\\Local\\Temp\\ipykernel_12704\\1993291063.py\u001b[0m in \u001b[0;36m<module>\u001b[1;34m\u001b[0m\n\u001b[1;32m----> 1\u001b[1;33m \u001b[1;32mif\u001b[0m \u001b[0mname\u001b[0m \u001b[1;33m==\u001b[0m \u001b[1;34m\"Panha\"\u001b[0m \u001b[1;32mor\u001b[0m \u001b[0mname\u001b[0m \u001b[1;33m==\u001b[0m \u001b[1;34m\"panha\"\u001b[0m \u001b[1;32mand\u001b[0m \u001b[0mage\u001b[0m \u001b[1;33m==\u001b[0m \u001b[1;36m19\u001b[0m \u001b[1;32mand\u001b[0m \u001b[0msex\u001b[0m \u001b[1;33m==\u001b[0m \u001b[1;34m\"M\"\u001b[0m\u001b[1;33m:\u001b[0m\u001b[1;33m\u001b[0m\u001b[1;33m\u001b[0m\u001b[0m\n\u001b[0m\u001b[0;32m      2\u001b[0m     \u001b[0mprint\u001b[0m\u001b[1;33m(\u001b[0m\u001b[1;34m\"He is so cool!\"\u001b[0m\u001b[1;33m)\u001b[0m\u001b[1;33m\u001b[0m\u001b[1;33m\u001b[0m\u001b[0m\n",
      "\u001b[1;31mNameError\u001b[0m: name 'age' is not defined"
     ]
    }
   ],
   "source": [
    "if name == \"Panha\" or name == \"panha\" and age == 19 and sex == \"M\":\n",
    "    print(\"He is so cool!\")"
   ]
  },
  {
   "cell_type": "markdown",
   "id": "ec68fd68",
   "metadata": {},
   "source": [
    "# try & except statement"
   ]
  },
  {
   "cell_type": "code",
   "execution_count": 42,
   "id": "868cfb6a",
   "metadata": {},
   "outputs": [
    {
     "name": "stdout",
     "output_type": "stream",
     "text": [
      "Enter two number: 3434 354345\n",
      "3434 * 354345 is 1216820730.0.\n"
     ]
    }
   ],
   "source": [
    "try:\n",
    "    a, b = input(\"Enter two number: \").split()\n",
    "    result = float(a) * float(b)\n",
    "    print(\"{} * {} is {}.\".format(a, b , result))\n",
    "except ValueError:\n",
    "    print(\"Look like someone did not follow the instruction!\")"
   ]
  },
  {
   "cell_type": "markdown",
   "id": "c061e5f8",
   "metadata": {},
   "source": [
    "# Quiz"
   ]
  },
  {
   "cell_type": "code",
   "execution_count": 84,
   "id": "e641b467",
   "metadata": {},
   "outputs": [
    {
     "name": "stdout",
     "output_type": "stream",
     "text": [
      "Enter number: 30\n",
      "                             *\n",
      "                            ***\n",
      "                           *****\n",
      "                          *******\n",
      "                         *********\n",
      "                        ***********\n",
      "                       *************\n",
      "                      ***************\n",
      "                     *****************\n",
      "                    *******************\n",
      "                   *********************\n",
      "                  ***********************\n",
      "                 *************************\n",
      "                ***************************\n",
      "               *****************************\n",
      "              *******************************\n",
      "             *********************************\n",
      "            ***********************************\n",
      "           *************************************\n",
      "          ***************************************\n",
      "         *****************************************\n",
      "        *******************************************\n",
      "       *********************************************\n",
      "      ***********************************************\n",
      "     *************************************************\n",
      "    ***************************************************\n",
      "   *****************************************************\n",
      "  *******************************************************\n",
      " *********************************************************\n",
      "***********************************************************\n",
      " *********************************************************\n",
      "  *******************************************************\n",
      "   *****************************************************\n",
      "    ***************************************************\n",
      "     *************************************************\n",
      "      ***********************************************\n",
      "       *********************************************\n",
      "        *******************************************\n",
      "         *****************************************\n",
      "          ***************************************\n",
      "           *************************************\n",
      "            ***********************************\n",
      "             *********************************\n",
      "              *******************************\n",
      "               *****************************\n",
      "                ***************************\n",
      "                 *************************\n",
      "                  ***********************\n",
      "                   *********************\n",
      "                    *******************\n",
      "                     *****************\n",
      "                      ***************\n",
      "                       *************\n",
      "                        ***********\n",
      "                         *********\n",
      "                          *******\n",
      "                           *****\n",
      "                            ***\n",
      "                             *\n"
     ]
    }
   ],
   "source": [
    "# ssss*\n",
    "# sss***\n",
    "# ss*****\n",
    "# s*******\n",
    "# *********\n",
    "\n",
    "n = int(input(\"Enter number: \"))\n",
    "l = n\n",
    "\n",
    "for i in range(1, n + 1):\n",
    "    for j in range(int(n - i)):\n",
    "        print(\" \", end=\"\")\n",
    "    for k in range(int(n - l) + 1):\n",
    "        print(\"*\", end=\"\")\n",
    "    l -= 2\n",
    "    print()\n",
    "\n",
    "l = 3\n",
    "    \n",
    "for i in range(n - 1):\n",
    "    for j in range(int(i + 1)): \n",
    "        print(\" \", end=\"\")\n",
    "    for k in range(int(n * 2 - l)):\n",
    "        print(\"*\", end=\"\")\n",
    "    print()\n",
    "    l += 2\n",
    "\n",
    "    \n",
    "    "
   ]
  },
  {
   "cell_type": "code",
   "execution_count": 89,
   "id": "a954c5fe",
   "metadata": {
    "scrolled": true
   },
   "outputs": [
    {
     "name": "stdout",
     "output_type": "stream",
     "text": [
      "Enter diamond's height: 4\n",
      "   *\n",
      "  ***\n",
      " *****\n",
      "*******\n",
      " *****\n",
      "  ***\n",
      "   *\n"
     ]
    }
   ],
   "source": [
    "height = int(input(\"Enter diamond's height: \"))\n",
    "\n",
    "# upper half of diamond\n",
    "for i in range(height):\n",
    "  print(\" \" * (height - i - 1) + \"*\" * (2 * i + 1))\n",
    "\n",
    "# lower half of diamond\n",
    "for i in range(height - 2, -1, -1):\n",
    "  print(\" \" * (height - i - 1) + \"*\" * (2 * i + 1))"
   ]
  },
  {
   "cell_type": "code",
   "execution_count": null,
   "id": "e7ae5c08",
   "metadata": {},
   "outputs": [],
   "source": []
  }
 ],
 "metadata": {
  "kernelspec": {
   "display_name": "Python 3 (ipykernel)",
   "language": "python",
   "name": "python3"
  },
  "language_info": {
   "codemirror_mode": {
    "name": "ipython",
    "version": 3
   },
   "file_extension": ".py",
   "mimetype": "text/x-python",
   "name": "python",
   "nbconvert_exporter": "python",
   "pygments_lexer": "ipython3",
   "version": "3.9.13"
  }
 },
 "nbformat": 4,
 "nbformat_minor": 5
}
