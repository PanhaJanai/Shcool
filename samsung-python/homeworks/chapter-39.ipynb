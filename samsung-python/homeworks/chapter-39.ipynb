{
 "cells": [
  {
   "cell_type": "code",
   "execution_count": null,
   "metadata": {},
   "outputs": [],
   "source": [
    "import pandas as pd\n",
    "import numpy as np \n",
    "import datetime\n",
    "import matplotlib.pyplot as plt \n",
    "import pandas_datareader.data as web\n",
    "\n",
    "from datetime import date, datetime, time, timezone"
   ]
  },
  {
   "cell_type": "code",
   "execution_count": null,
   "metadata": {},
   "outputs": [],
   "source": [
    "def get_stock_data(ticker, start, end):\n",
    "  data = web.DataReader(name=ticker, data_source=\"yahoo\", start=start, end=end)\n",
    "  data.insert(0, \"Ticker\", ticker)\n",
    "  return data"
   ]
  },
  {
   "cell_type": "code",
   "execution_count": null,
   "metadata": {},
   "outputs": [],
   "source": [
    "ticker = \"DIS\"\n",
    "start = datetime(2020, 1, 1)\n",
    "end = datetime.today()"
   ]
  },
  {
   "cell_type": "code",
   "execution_count": null,
   "metadata": {},
   "outputs": [],
   "source": [
    "d = get_stock_data(ticker, start, end)\n",
    "d.head()"
   ]
  },
  {
   "cell_type": "code",
   "execution_count": null,
   "metadata": {},
   "outputs": [],
   "source": [
    "d = d.pivot(index=None, columns=\"Ticker\", values=\"Close\")\n",
    "d.head()"
   ]
  },
  {
   "cell_type": "code",
   "execution_count": null,
   "metadata": {},
   "outputs": [],
   "source": [
    "SPY = get_stock_data(\"SPY\", start, end)\n",
    "IYW = get_stock_data(\"IYW\", start, end)\n",
    "VT = get_stock_data(\"VT\", start, end)\n",
    "DBA = get_stock_data(\"DBA\", start, end)\n",
    "TLT = get_stock_data(\"TLT\", start, end)\n",
    "PDBC = get_stock_data(\"PDBC\", start, end)\n",
    "IAU = get_stock_data(\"IAU\", start, end)"
   ]
  },
  {
   "cell_type": "code",
   "execution_count": null,
   "metadata": {},
   "outputs": [],
   "source": [
    "SPY.info()"
   ]
  },
  {
   "cell_type": "code",
   "execution_count": null,
   "metadata": {},
   "outputs": [],
   "source": [
    "SPY = SPY.pivot(index=None, columns=\"Ticker\", values=\"Close\")\n",
    "IYW = IYW.pivot(index=None, columns=\"Ticker\", values=\"Close\")\n",
    "VT = VT.pivot(index=None, columns=\"Ticker\", values=\"Close\")\n",
    "DBA = DBA.pivot(index=None, columns=\"Ticker\", values=\"Close\")\n",
    "TLT = TLT.pivot(index=None, columns=\"Ticker\", values=\"Close\")\n",
    "PDBC = PDBC.pivot(index=None, columns=\"Ticker\", values=\"Close\")\n",
    "IAU = IAU.pivot(index=None, columns=\"Ticker\", values=\"Close\")"
   ]
  },
  {
   "cell_type": "code",
   "execution_count": null,
   "metadata": {},
   "outputs": [],
   "source": [
    "stock = pd.concat([SPY, IYW, VT, DBA, TLT, PDBC, IAU],\n",
    "                  axis=1,\n",
    "                  join='outer')\n",
    "stock.head()"
   ]
  },
  {
   "cell_type": "code",
   "execution_count": null,
   "metadata": {},
   "outputs": [],
   "source": [
    "plt.style.use(\"ggplot\")\n",
    "stock.plot(figsize=(20, 10))\n",
    "plt.show()"
   ]
  },
  {
   "cell_type": "code",
   "execution_count": null,
   "metadata": {},
   "outputs": [],
   "source": [
    "covid = stock[\"2020-2-1\": \"2020-7-31\"]"
   ]
  },
  {
   "cell_type": "code",
   "execution_count": null,
   "metadata": {},
   "outputs": [],
   "source": [
    "plt.style.use(\"ggplot\")\n",
    "covid.plot(figsize=(20, 10))\n",
    "plt.show()"
   ]
  },
  {
   "cell_type": "code",
   "execution_count": null,
   "metadata": {},
   "outputs": [],
   "source": [
    "x = covid.index\n",
    "s_y = covid[[\"SPY\"]]\n",
    "i_y = covid[[\"IAU\"]]\n",
    "d_y = covid[[\"DBA\"]]\n",
    "t_y = covid[[\"TLT\"]]"
   ]
  },
  {
   "cell_type": "code",
   "execution_count": null,
   "metadata": {},
   "outputs": [],
   "source": [
    "fig, axs = plt.subplots(1, 3, figsize=(15, 5))\n",
    "axs[0].plot(x, s_y)\n",
    "axs[1].plot(x, i_y)\n",
    "axs[2].plot(x, t_y)\n",
    "\n",
    "fig.subtitle(\"Covid 19\")"
   ]
  },
  {
   "cell_type": "code",
   "execution_count": null,
   "metadata": {},
   "outputs": [],
   "source": [
    "import pandas as pd\n",
    "import numpy as np \n",
    "import datetime\n",
    "import matplotlib.pyplot as plt \n",
    "import pandas_datareader.data as web\n",
    "\n",
    "from datetime import date, datetime, time, timezone"
   ]
  },
  {
   "cell_type": "code",
   "execution_count": null,
   "metadata": {},
   "outputs": [],
   "source": [
    "def get_stock_data(ticker, start, end):\n",
    "  data = web.DataReader(ticket, \"yahoo\", start, end)\n",
    "  data.insert(0, \"Ticker\", ticker)\n",
    "  return data"
   ]
  },
  {
   "cell_type": "code",
   "execution_count": null,
   "metadata": {},
   "outputs": [],
   "source": [
    "ticker = \"PDBC\"\n",
    "start = datetime(2020, 1, 1)\n",
    "end = datetime.today()"
   ]
  },
  {
   "cell_type": "code",
   "execution_count": null,
   "metadata": {},
   "outputs": [],
   "source": [
    "df = get_stock_data(ticker, start, end)\n",
    "df.head()"
   ]
  },
  {
   "cell_type": "code",
   "execution_count": null,
   "metadata": {},
   "outputs": [],
   "source": [
    "df.drop([\"Ticker\", \"High\", \"Low\", \"Open\", \"Close\", \"Adj Close\"], axis=1, inplace=True)"
   ]
  },
  {
   "cell_type": "code",
   "execution_count": null,
   "metadata": {},
   "outputs": [],
   "source": [
    "df.head()"
   ]
  },
  {
   "cell_type": "code",
   "execution_count": null,
   "metadata": {},
   "outputs": [],
   "source": [
    "x = df.index\n",
    "y = df[\"Volumn\"]\n",
    "plt.figure(figsize=(15, 3))\n",
    "plt.bar(x, y)\n",
    "plt.show()"
   ]
  },
  {
   "cell_type": "code",
   "execution_count": null,
   "metadata": {},
   "outputs": [],
   "source": [
    "ticker = \"PDBC\"\n",
    "start = datetime(2020, 1, 1)\n",
    "end = datetime.today()"
   ]
  },
  {
   "cell_type": "code",
   "execution_count": null,
   "metadata": {},
   "outputs": [],
   "source": [
    "df = get_stock_data(ticker, start, end)"
   ]
  },
  {
   "cell_type": "code",
   "execution_count": null,
   "metadata": {},
   "outputs": [],
   "source": [
    "fig = plt.figure(figsize=(12, 8))\n",
    "\n",
    "top_grid = plt.subplot2grid((4, 4), (0, 0), rowspan=3, colspan=4)\n",
    "bottom_grid = plt.subplot2grid((4, 4), (0, 0), rowspan=1, colspan=4)\n",
    "\n",
    "# top_grid.plot()\n",
    "bottom_grid.plot(df.index, df[\"Volumn\"], label=\"Volumn\")\n",
    "\n",
    "plt.tight_layout()\n",
    "\n",
    "plt.legend()\n",
    "plt.show()"
   ]
  },
  {
   "cell_type": "code",
   "execution_count": null,
   "metadata": {},
   "outputs": [],
   "source": [
    "stock.head()"
   ]
  },
  {
   "cell_type": "code",
   "execution_count": null,
   "metadata": {},
   "outputs": [],
   "source": [
    "stock[\"SPY\"]"
   ]
  },
  {
   "cell_type": "code",
   "execution_count": null,
   "metadata": {},
   "outputs": [],
   "source": [
    "stock[\"SPY\"].shift(1)"
   ]
  },
  {
   "cell_type": "code",
   "execution_count": null,
   "metadata": {},
   "outputs": [],
   "source": [
    "spy_daily_pc = (stock[\"SPY\"] / stock[\"SPY\"].shift(1) - 1) * 100"
   ]
  },
  {
   "cell_type": "code",
   "execution_count": null,
   "metadata": {},
   "outputs": [],
   "source": [
    "spy_daily_pc"
   ]
  },
  {
   "cell_type": "code",
   "execution_count": null,
   "metadata": {},
   "outputs": [],
   "source": [
    "spy_daily_pc.plot()"
   ]
  },
  {
   "cell_type": "code",
   "execution_count": null,
   "metadata": {},
   "outputs": [],
   "source": [
    "spy_daily_pc = stock([\"SPY\"] - stock[\"SPY\"].shift(1)) / stock[\"SPY\"].shift(1) * 100"
   ]
  },
  {
   "cell_type": "code",
   "execution_count": null,
   "metadata": {},
   "outputs": [],
   "source": [
    "spy_daily_pc.iloc[0] = 0"
   ]
  },
  {
   "cell_type": "code",
   "execution_count": null,
   "metadata": {},
   "outputs": [],
   "source": [
    "plt.hist(spy_daily_pc, bins=50)\n",
    "plt.show()"
   ]
  },
  {
   "cell_type": "code",
   "execution_count": null,
   "metadata": {},
   "outputs": [],
   "source": [
    "stock_daily_pc = (stock - stock.shift(1)) / stock.shift(1) * 100"
   ]
  },
  {
   "cell_type": "code",
   "execution_count": null,
   "metadata": {},
   "outputs": [],
   "source": [
    "stock_daily_pc.head()"
   ]
  },
  {
   "cell_type": "code",
   "execution_count": null,
   "metadata": {},
   "outputs": [],
   "source": [
    "stock_d_cr = stock_daily_pc.cumsum()"
   ]
  },
  {
   "cell_type": "code",
   "execution_count": null,
   "metadata": {},
   "outputs": [],
   "source": [
    "stock_d_cr"
   ]
  },
  {
   "cell_type": "code",
   "execution_count": null,
   "metadata": {},
   "outputs": [],
   "source": [
    "stock_d_cr.plot(figsize=(20, 10))"
   ]
  },
  {
   "cell_type": "code",
   "execution_count": null,
   "metadata": {},
   "outputs": [],
   "source": [
    "df_corr = stock_daily_pc.corr()"
   ]
  },
  {
   "cell_type": "code",
   "execution_count": null,
   "metadata": {},
   "outputs": [],
   "source": [
    "df.corr"
   ]
  },
  {
   "cell_type": "code",
   "execution_count": null,
   "metadata": {},
   "outputs": [],
   "source": [
    "plt.imshow(df_corr, cmap=\"hot\", interpolation=\"none\")\n",
    "plt.colorbar()\n",
    "plt.xticks(range(len(df_corr)), df_corr.columns)\n",
    "plt.yticks(range(len(df_corr)), df_corr.columns)\n",
    "\n",
    "plt.gcf().set_size_inches(10, 10)"
   ]
  },
  {
   "cell_type": "code",
   "execution_count": null,
   "metadata": {},
   "outputs": [],
   "source": [
    "plt.scatter(df_corr.SPY, df_corr.VT)\n",
    "plt.show()"
   ]
  },
  {
   "cell_type": "code",
   "execution_count": null,
   "metadata": {},
   "outputs": [],
   "source": [
    "periods = 75\n",
    "\n",
    "vol = stock_daily_pc.rolling(window=periods).std()\n",
    "\n",
    "vol"
   ]
  },
  {
   "cell_type": "code",
   "execution_count": null,
   "metadata": {},
   "outputs": [],
   "source": [
    "vol[\"SPY\"].plot()\n",
    "vol[\"TLT\"].plot()\n",
    "vol[\"DBA\"].plot()"
   ]
  }
 ],
 "metadata": {
  "kernelspec": {
   "display_name": "Python 3",
   "language": "python",
   "name": "python3"
  },
  "language_info": {
   "codemirror_mode": {
    "name": "ipython",
    "version": 3
   },
   "file_extension": ".py",
   "mimetype": "text/x-python",
   "name": "python",
   "nbconvert_exporter": "python",
   "pygments_lexer": "ipython3",
   "version": "3.10.4"
  }
 },
 "nbformat": 4,
 "nbformat_minor": 2
}
