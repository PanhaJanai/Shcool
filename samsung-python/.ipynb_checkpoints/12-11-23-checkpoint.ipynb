{
 "cells": [
  {
   "cell_type": "markdown",
   "id": "7cb7fe8c",
   "metadata": {},
   "source": [
    "# Bubble, Selection, and Insertion sort"
   ]
  },
  {
   "cell_type": "markdown",
   "id": "d46616a2",
   "metadata": {},
   "source": [
    "## Bubble sort"
   ]
  },
  {
   "cell_type": "markdown",
   "id": "187a0117",
   "metadata": {},
   "source": [
    "### Swap"
   ]
  },
  {
   "cell_type": "code",
   "execution_count": 2,
   "id": "e7e5c09b",
   "metadata": {},
   "outputs": [
    {
     "name": "stdout",
     "output_type": "stream",
     "text": [
      "Before swap: [69, 420]\n",
      "After swap:  [420, 69]\n"
     ]
    }
   ],
   "source": [
    "def swap1(s, x, y):\n",
    "    t = s[x]\n",
    "    s[x] = s[y]\n",
    "    s[y] = t\n",
    "    \n",
    "s = [69, 420]\n",
    "print(\"Before swap:\", s)\n",
    "swap1(s, 0, 1)\n",
    "print(\"After swap: \", s)"
   ]
  },
  {
   "cell_type": "code",
   "execution_count": 3,
   "id": "aee21d67",
   "metadata": {},
   "outputs": [
    {
     "name": "stdout",
     "output_type": "stream",
     "text": [
      "Before swap: [69, 420]\n",
      "After swap:  [420, 69]\n"
     ]
    }
   ],
   "source": [
    "def swap2(s, x, y):\n",
    "    s[x], s[y] = s[y], s[x]\n",
    "    \n",
    "s = [69, 420]\n",
    "print(\"Before swap:\", s)\n",
    "swap1(s, 0, 1)\n",
    "print(\"After swap: \", s)"
   ]
  },
  {
   "cell_type": "code",
   "execution_count": 14,
   "id": "4e9c2adc",
   "metadata": {},
   "outputs": [
    {
     "name": "stdout",
     "output_type": "stream",
     "text": [
      "[9, 8, 7, 6, 5, 4, 3, 2, 1]\n",
      "[8, 7, 6, 5, 4, 3, 2, 1, 9]\n",
      "[7, 6, 5, 4, 3, 2, 1, 8, 9]\n",
      "[6, 5, 4, 3, 2, 1, 7, 8, 9]\n",
      "[5, 4, 3, 2, 1, 6, 7, 8, 9]\n",
      "[4, 3, 2, 1, 5, 6, 7, 8, 9]\n",
      "[3, 2, 1, 4, 5, 6, 7, 8, 9]\n",
      "[2, 1, 3, 4, 5, 6, 7, 8, 9]\n",
      "[1, 2, 3, 4, 5, 6, 7, 8, 9]\n"
     ]
    }
   ],
   "source": [
    "def bubbleSort(s):\n",
    "    n = len(s)\n",
    "    m = 1\n",
    "    for i in range(n):\n",
    "        print(s)\n",
    "        for j in range(n - m):\n",
    "            if s[j] > s[j + 1]:\n",
    "                s[j], s[j + 1] = s[j + 1], s[j]\n",
    "        m += 1\n",
    "                \n",
    "bubbleSort([9, 8, 7, 6, 5, 4, 3, 2, 1])"
   ]
  },
  {
   "cell_type": "markdown",
   "id": "56a06eec",
   "metadata": {},
   "source": [
    "## Selection sort"
   ]
  },
  {
   "cell_type": "code",
   "execution_count": 19,
   "id": "e803f0be",
   "metadata": {},
   "outputs": [
    {
     "name": "stdout",
     "output_type": "stream",
     "text": [
      "[] [9, 8, 7, 6, 5, 4, 3, 2, 1]\n",
      "[1] [9, 8, 7, 6, 5, 4, 3, 2]\n",
      "[1, 2] [9, 8, 7, 6, 5, 4, 3]\n",
      "[1, 2, 3] [9, 8, 7, 6, 5, 4]\n",
      "[1, 2, 3, 4] [9, 8, 7, 6, 5]\n",
      "[1, 2, 3, 4, 5] [9, 8, 7, 6]\n",
      "[1, 2, 3, 4, 5, 6] [9, 8, 7]\n",
      "[1, 2, 3, 4, 5, 6, 7] [9, 8]\n",
      "[1, 2, 3, 4, 5, 6, 7, 8] [9]\n",
      "[1, 2, 3, 4, 5, 6, 7, 8, 9]\n"
     ]
    }
   ],
   "source": [
    "def selectionSort1(s):\n",
    "    r = []\n",
    "    while len(s) > 0:\n",
    "        print(r, s)\n",
    "        smallest = s.index(min(s))\n",
    "        r.append(s[smallest])\n",
    "        s.pop(smallest)\n",
    "    return r\n",
    "\n",
    "l = selectionSort1([9, 8, 7, 6, 5, 4, 3, 2, 1])\n",
    "print(l)"
   ]
  },
  {
   "cell_type": "code",
   "execution_count": 87,
   "id": "18b94339",
   "metadata": {},
   "outputs": [
    {
     "name": "stdout",
     "output_type": "stream",
     "text": [
      "[9, 8, 7, 6, 5, 4, 3, 2, 1, 0, -1, -2, -3]\n",
      "[-3, 8, 7, 6, 5, 4, 3, 2, 1, 0, -1, -2, 9]\n",
      "[-3, -2, 7, 6, 5, 4, 3, 2, 1, 0, -1, 8, 9]\n",
      "[-3, -2, -1, 6, 5, 4, 3, 2, 1, 0, 7, 8, 9]\n",
      "[-3, -2, -1, 0, 5, 4, 3, 2, 1, 6, 7, 8, 9]\n",
      "[-3, -2, -1, 0, 1, 4, 3, 2, 5, 6, 7, 8, 9]\n",
      "[-3, -2, -1, 0, 1, 2, 3, 4, 5, 6, 7, 8, 9]\n",
      "[-3, -2, -1, 0, 1, 2, 3, 4, 5, 6, 7, 8, 9]\n",
      "[-3, -2, -1, 0, 1, 2, 3, 4, 5, 6, 7, 8, 9]\n",
      "[-3, -2, -1, 0, 1, 2, 3, 4, 5, 6, 7, 8, 9]\n",
      "[-3, -2, -1, 0, 1, 2, 3, 4, 5, 6, 7, 8, 9]\n",
      "[-3, -2, -1, 0, 1, 2, 3, 4, 5, 6, 7, 8, 9]\n",
      "[-3, -2, -1, 0, 1, 2, 3, 4, 5, 6, 7, 8, 9]\n",
      "91\n",
      "[14, 39, 71, 90, 33, 82, 82, 75, 30, 81]\n",
      "[14, 39, 71, 90, 33, 82, 82, 75, 30, 81]\n",
      "[14, 30, 71, 90, 33, 82, 82, 75, 39, 81]\n",
      "[14, 30, 33, 90, 71, 82, 82, 75, 39, 81]\n",
      "[14, 30, 33, 39, 71, 82, 82, 75, 90, 81]\n",
      "[14, 30, 33, 39, 71, 82, 82, 75, 90, 81]\n",
      "[14, 30, 33, 39, 71, 75, 82, 82, 90, 81]\n",
      "[14, 30, 33, 39, 71, 75, 81, 82, 90, 82]\n",
      "[14, 30, 33, 39, 71, 75, 81, 82, 90, 82]\n",
      "[14, 30, 33, 39, 71, 75, 81, 82, 82, 90]\n",
      "55\n"
     ]
    }
   ],
   "source": [
    "from random import randint\n",
    "\n",
    "def selectionSort2(s):\n",
    "    n = len(s)\n",
    "    count = 0\n",
    "    for i in range(n):\n",
    "        count += 1\n",
    "        print(s)\n",
    "        smallest = i\n",
    "        for j in range(i + 1, n):\n",
    "            count += 1\n",
    "            if s[j] < s[smallest]:\n",
    "                smallest = j\n",
    "        s[i], s[smallest] = s[smallest], s[i]\n",
    "    print(count)\n",
    "        \n",
    "selectionSort2([9, 8, 7, 6, 5, 4, 3, 2, 1, 0, -1, -2, -3])\n",
    "selectionSort2([randint(0, 100) for i in range(10)])"
   ]
  },
  {
   "cell_type": "code",
   "execution_count": 88,
   "id": "f4aca0c8",
   "metadata": {
    "scrolled": true
   },
   "outputs": [
    {
     "name": "stdout",
     "output_type": "stream",
     "text": [
      "[21, 12, 12, 89, 8, 99, 0, 10, 75, 4]\n",
      "[0, 12, 12, 89, 8, 99, 21, 10, 75, 4]\n",
      "[0, 4, 12, 89, 8, 99, 21, 10, 75, 12]\n",
      "[0, 4, 8, 89, 12, 99, 21, 10, 75, 12]\n",
      "[0, 4, 8, 10, 12, 99, 21, 89, 75, 12]\n",
      "[0, 4, 8, 10, 12, 99, 21, 89, 75, 12]\n",
      "[0, 4, 8, 10, 12, 12, 21, 89, 75, 99]\n",
      "[0, 4, 8, 10, 12, 12, 21, 89, 75, 99]\n",
      "[0, 4, 8, 10, 12, 12, 21, 75, 89, 99]\n",
      "[0, 4, 8, 10, 12, 12, 21, 75, 89, 99]\n"
     ]
    }
   ],
   "source": [
    "def mySelectionSort(nums):\n",
    "    n = len(nums)\n",
    "    \n",
    "    for i in range(n):\n",
    "        print(nums)\n",
    "        smallest = i\n",
    "        for j in range(i + 1, n):\n",
    "            if nums[j] < nums[smallest]:\n",
    "                smallest = j\n",
    "        nums[i], nums[smallest] = nums[smallest], nums[i]\n",
    "        \n",
    "mySelectionSort([randint(0, 100) for i in range(10)])"
   ]
  },
  {
   "cell_type": "markdown",
   "id": "fd26e5f2",
   "metadata": {},
   "source": [
    "## Insertion sort"
   ]
  },
  {
   "cell_type": "code",
   "execution_count": 122,
   "id": "1bdec3ff",
   "metadata": {},
   "outputs": [
    {
     "name": "stdout",
     "output_type": "stream",
     "text": [
      "[] [99, 22, 37, 17, 7, 14, 1, 48, 2, 75]\n",
      "[99] [22, 37, 17, 7, 14, 1, 48, 2, 75]\n",
      "[99, 99, 22] [37, 17, 7, 14, 1, 48, 2, 75]\n",
      "[99, 99, 22, 37] [17, 7, 14, 1, 48, 2, 75]\n",
      "[99, 99, 22, 37, 37, 22, 99, 99, 17] [7, 14, 1, 48, 2, 75]\n",
      "[99, 99, 22, 37, 37, 22, 99, 99, 17, 17, 99, 99, 22, 37, 37, 22, 99, 99, 7] [14, 1, 48, 2, 75]\n",
      "[99, 99, 22, 37, 37, 22, 99, 99, 17, 17, 99, 99, 22, 37, 37, 22, 99, 99, 7, 14] [1, 48, 2, 75]\n",
      "[99, 99, 22, 37, 37, 22, 99, 99, 17, 17, 99, 99, 22, 37, 37, 22, 99, 99, 7, 14, 14, 7, 99, 99, 22, 37, 37, 22, 99, 99, 17, 17, 99, 99, 22, 37, 37, 22, 99, 99, 1] [48, 2, 75]\n",
      "[99, 99, 22, 37, 37, 22, 99, 99, 17, 17, 99, 99, 22, 37, 37, 22, 99, 99, 7, 14, 14, 7, 99, 99, 22, 37, 37, 22, 99, 99, 17, 17, 99, 99, 22, 37, 37, 22, 99, 99, 1, 48] [2, 75]\n",
      "[99, 99, 22, 37, 37, 22, 99, 99, 17, 17, 99, 99, 22, 37, 37, 22, 99, 99, 7, 14, 14, 7, 99, 99, 22, 37, 37, 22, 99, 99, 17, 17, 99, 99, 22, 37, 37, 22, 99, 99, 1, 48, 48, 2] [75]\n"
     ]
    }
   ],
   "source": [
    "from random import randint\n",
    "\n",
    "def insertionSort1(s):\n",
    "    n = len(s)\n",
    "    r = []\n",
    "    \n",
    "    while len(s) > 0:\n",
    "        print(r, s)\n",
    "        x = s.pop(0)\n",
    "        j = len(r) - 1\n",
    "        while j >= 0 and r[j] > x:\n",
    "            r.append(r[j])\n",
    "            j -= 1\n",
    "        r.append(x)\n",
    "        \n",
    "insertionSort1([randint(0, 100) for i in range(10)])"
   ]
  },
  {
   "cell_type": "markdown",
   "id": "9e0ec33c",
   "metadata": {},
   "source": [
    "# Q1"
   ]
  },
  {
   "cell_type": "markdown",
   "id": "9bee045b",
   "metadata": {},
   "source": [
    "How to know if two words are anagrams?\n",
    "\n",
    "1. These two words must be the same length.\n",
    "2. Both words are not the same word meaning if it's the same then it's not an anagram, it's just the word itself duplicated.\n",
    "3. These two words must have the same character."
   ]
  },
  {
   "cell_type": "code",
   "execution_count": 115,
   "id": "59a83b22",
   "metadata": {},
   "outputs": [
    {
     "name": "stdout",
     "output_type": "stream",
     "text": [
      "0\n",
      "1\n",
      "1\n",
      "1\n",
      "0\n"
     ]
    }
   ],
   "source": [
    "def is_anagram(a, b):\n",
    "    if len(a) != len(b):\n",
    "        return 1\n",
    "    if a == b:\n",
    "        return 2\n",
    "    \n",
    "    a = sorted(a)\n",
    "    b = sorted(b)\n",
    "    \n",
    "    if a == b:\n",
    "        return 0\n",
    "    \n",
    "print(is_anagram(\"listen\", \"silent\"))\n",
    "print(is_anagram(\"anagram\", \"nagram\"))\n",
    "print(is_anagram(\"listen\", \"silence\"))\n",
    "print(is_anagram(\"anagram\", \"anagrams\"))\n",
    "print(is_anagram(\"tea\", \"eat\"))"
   ]
  },
  {
   "cell_type": "markdown",
   "id": "365da928",
   "metadata": {},
   "source": [
    "# Q2"
   ]
  },
  {
   "cell_type": "code",
   "execution_count": 114,
   "id": "2dc4649c",
   "metadata": {},
   "outputs": [
    {
     "name": "stdout",
     "output_type": "stream",
     "text": [
      "0\n",
      "1\n",
      "1\n",
      "1\n",
      "0\n"
     ]
    }
   ],
   "source": [
    "def sortLettersSelectionSort(word):\n",
    "    word = list(word)\n",
    "    n = len(word)\n",
    "    \n",
    "    for i in range(n):\n",
    "        print(word)\n",
    "        smallest = i\n",
    "        for j in range(i + 1, n):\n",
    "            if word[j] < word[smallest]:\n",
    "                smallest = j\n",
    "        word[i], word[smallest] = word[smallest], word[i]\n",
    "        \n",
    "def sortLettersInsertionSort(word):\n",
    "    \n",
    "\n",
    "def isAnagramV2(a, b):\n",
    "    if len(a) != len(b):\n",
    "        return False\n",
    "    if a == b:\n",
    "        return False\n",
    "    \n",
    "    sortLettersSelectionSort(a)\n",
    "    \n",
    "    \n",
    "    if a == b:\n",
    "        return True\n",
    "\n",
    "print(is_anagram(\"listen\", \"silent\"))\n",
    "print(is_anagram(\"anagram\", \"nagram\"))\n",
    "print(is_anagram(\"listen\", \"silence\"))\n",
    "print(is_anagram(\"anagram\", \"anagrams\"))\n",
    "print(is_anagram(\"tea\", \"eat\"))"
   ]
  }
 ],
 "metadata": {
  "kernelspec": {
   "display_name": "Python 3 (ipykernel)",
   "language": "python",
   "name": "python3"
  },
  "language_info": {
   "codemirror_mode": {
    "name": "ipython",
    "version": 3
   },
   "file_extension": ".py",
   "mimetype": "text/x-python",
   "name": "python",
   "nbconvert_exporter": "python",
   "pygments_lexer": "ipython3",
   "version": "3.9.13"
  }
 },
 "nbformat": 4,
 "nbformat_minor": 5
}
