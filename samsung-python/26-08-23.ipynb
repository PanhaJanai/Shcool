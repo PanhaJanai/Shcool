{
 "cells": [
  {
   "cell_type": "markdown",
   "id": "604b4f98",
   "metadata": {},
   "source": [
    "## 3x2 list"
   ]
  },
  {
   "cell_type": "code",
   "execution_count": 19,
   "id": "bb8516ec",
   "metadata": {},
   "outputs": [
    {
     "name": "stdout",
     "output_type": "stream",
     "text": [
      "[[0, 0], [0, 0], [0, 0]]\n"
     ]
    }
   ],
   "source": [
    "l = []\n",
    "\n",
    "for i in range(3):\n",
    "    line = []\n",
    "    for j in range(2):\n",
    "        line.append(0)\n",
    "    l.append(line)\n",
    "    \n",
    "print(l)"
   ]
  },
  {
   "cell_type": "markdown",
   "id": "2e7de59f",
   "metadata": {},
   "source": [
    "## List comprehension"
   ]
  },
  {
   "cell_type": "code",
   "execution_count": 20,
   "id": "6a015355",
   "metadata": {},
   "outputs": [
    {
     "name": "stdout",
     "output_type": "stream",
     "text": [
      "[0, 0]\n",
      "[[0, 0], [0, 0], [0, 0]]\n"
     ]
    }
   ],
   "source": [
    "l = [[0] * 2 for i in range(3)]\n",
    "\n",
    "print([0] * 2)\n",
    "print(l)"
   ]
  },
  {
   "cell_type": "code",
   "execution_count": 22,
   "id": "698d5ec7",
   "metadata": {},
   "outputs": [
    {
     "data": {
      "text/plain": [
       "[[0, 0], [0, 0], [0, 0]]"
      ]
     },
     "execution_count": 22,
     "metadata": {},
     "output_type": "execute_result"
    }
   ],
   "source": [
    "[[0] * 2 for i in range(3)]"
   ]
  },
  {
   "cell_type": "markdown",
   "id": "fe16cb4f",
   "metadata": {},
   "source": [
    "## Nested list comprehension"
   ]
  },
  {
   "cell_type": "code",
   "execution_count": 23,
   "id": "49e1e2c9",
   "metadata": {},
   "outputs": [
    {
     "name": "stdout",
     "output_type": "stream",
     "text": [
      "[[0, 0], [0, 0], [0, 0]]\n"
     ]
    }
   ],
   "source": [
    "l = [[0 for j in range(2)] for i in range(3)]\n",
    "\n",
    "print(l)"
   ]
  },
  {
   "cell_type": "markdown",
   "id": "91ddf08f",
   "metadata": {},
   "source": [
    "## 2D-list with while"
   ]
  },
  {
   "cell_type": "code",
   "execution_count": 24,
   "id": "270088c0",
   "metadata": {},
   "outputs": [
    {
     "name": "stdout",
     "output_type": "stream",
     "text": [
      "1 2 3\n",
      "4 5 6\n",
      "7 8 9\n"
     ]
    }
   ],
   "source": [
    "l = [\n",
    "    [1, 2, 3],\n",
    "    [4, 5, 6],\n",
    "    [7, 8, 9]\n",
    "]\n",
    "\n",
    "i = 0\n",
    "\n",
    "while i < len(l):\n",
    "    a, b, c = l[i]\n",
    "    print(a, b, c)\n",
    "    \n",
    "    i += 1"
   ]
  },
  {
   "cell_type": "markdown",
   "id": "cca2c0ce",
   "metadata": {},
   "source": [
    "## list comprehension for jagged list (list columns having different number of items)"
   ]
  },
  {
   "cell_type": "code",
   "execution_count": 28,
   "id": "6d3cc2fa",
   "metadata": {},
   "outputs": [
    {
     "name": "stdout",
     "output_type": "stream",
     "text": [
      "[[1], [2, 2], [3, 3, 3], [4, 4, 4, 4], [5, 5, 5, 5, 5]]\n"
     ]
    }
   ],
   "source": [
    "l = [[i] * i for i in [1, 2, 3, 4, 5]]\n",
    "\n",
    "'''\n",
    "    [0] * 1 = [[0]] +\n",
    "    [0] * 2 = [[0, 0]] +\n",
    "    [0] * 3 = [[0, 0, 0]] +\n",
    "    [0] * 4 = [[0, 0, 0, 0]] +\n",
    "    [0] * 5 = [[0, 0, 0, 0, 0]]\n",
    "'''\n",
    "\n",
    "print(l)"
   ]
  },
  {
   "cell_type": "markdown",
   "id": "5b89c2a3",
   "metadata": {},
   "source": [
    "# Files"
   ]
  },
  {
   "cell_type": "code",
   "execution_count": 38,
   "id": "bd78c7bd",
   "metadata": {},
   "outputs": [],
   "source": [
    "f = open(\"my-file.txt\", 'w')\n",
    "\n",
    "f.write('Hello, me?\\?')\n",
    "\n",
    "f.close()"
   ]
  },
  {
   "cell_type": "code",
   "execution_count": 33,
   "id": "3f7faf06",
   "metadata": {},
   "outputs": [
    {
     "ename": "FileExistsError",
     "evalue": "[Errno 17] File exists: 'my-file.txt'",
     "output_type": "error",
     "traceback": [
      "\u001b[1;31m---------------------------------------------------------------------------\u001b[0m",
      "\u001b[1;31mFileExistsError\u001b[0m                           Traceback (most recent call last)",
      "\u001b[1;32m~\\AppData\\Local\\Temp\\ipykernel_10264\\3155840658.py\u001b[0m in \u001b[0;36m<module>\u001b[1;34m\u001b[0m\n\u001b[1;32m----> 1\u001b[1;33m \u001b[0mf\u001b[0m \u001b[1;33m=\u001b[0m \u001b[0mopen\u001b[0m\u001b[1;33m(\u001b[0m\u001b[1;34m\"my-file.txt\"\u001b[0m\u001b[1;33m,\u001b[0m \u001b[1;34m'x'\u001b[0m\u001b[1;33m)\u001b[0m\u001b[1;33m\u001b[0m\u001b[1;33m\u001b[0m\u001b[0m\n\u001b[0m",
      "\u001b[1;31mFileExistsError\u001b[0m: [Errno 17] File exists: 'my-file.txt'"
     ]
    }
   ],
   "source": [
    "f = open(\"my-file.txt\", 'x')"
   ]
  },
  {
   "cell_type": "code",
   "execution_count": 52,
   "id": "bdda21d5",
   "metadata": {
    "scrolled": true
   },
   "outputs": [
    {
     "name": "stdout",
     "output_type": "stream",
     "text": [
      "15\n"
     ]
    }
   ],
   "source": [
    "f = open(\"my-file.txt\", 'w')\n",
    "print(f.write(\"My name's Panha\"))\n",
    "f.close()"
   ]
  },
  {
   "cell_type": "markdown",
   "id": "f028610b",
   "metadata": {},
   "source": [
    "## Don't forget to seek(0)"
   ]
  },
  {
   "cell_type": "code",
   "execution_count": 70,
   "id": "010309d2",
   "metadata": {},
   "outputs": [
    {
     "name": "stdout",
     "output_type": "stream",
     "text": [
      "Hello, me!\n"
     ]
    }
   ],
   "source": [
    "f = open(\"my-file.txt\", \"w+t\")\n",
    "f.write(\"Hello, me!\")\n",
    "f.seek(0)\n",
    "\n",
    "print(f.read())\n",
    "\n",
    "f.close()"
   ]
  },
  {
   "cell_type": "markdown",
   "id": "18c9d7c7",
   "metadata": {},
   "source": [
    "## f.read()'s perameter"
   ]
  },
  {
   "cell_type": "code",
   "execution_count": 75,
   "id": "493f44d3",
   "metadata": {},
   "outputs": [
    {
     "name": "stdout",
     "output_type": "stream",
     "text": [
      "Hello,\n",
      " me!\n"
     ]
    }
   ],
   "source": [
    "f = open(\"my-file.txt\", 'r')\n",
    "\n",
    "s = f.read(6)\n",
    "print(s)\n",
    "\n",
    "s = f.read()\n",
    "print(s)\n",
    "\n",
    "f.close()"
   ]
  },
  {
   "cell_type": "markdown",
   "id": "39fca604",
   "metadata": {},
   "source": [
    "## readline()"
   ]
  },
  {
   "cell_type": "code",
   "execution_count": 123,
   "id": "3fbf3276",
   "metadata": {},
   "outputs": [
    {
     "name": "stdout",
     "output_type": "stream",
     "text": [
      "Hello, me!\n",
      "This is Panha.\n",
      "I'm so cool.\n",
      "You're lame as fuck!\n"
     ]
    }
   ],
   "source": [
    "f = open(\"my-file.txt\", 'r')\n",
    "\n",
    "# It take the entire line (including \\n)\n",
    "s = f.readline()\n",
    "print(s, end='')\n",
    "\n",
    "s = f.readline()\n",
    "print(s, end='')\n",
    "\n",
    "f.close()"
   ]
  },
  {
   "cell_type": "markdown",
   "id": "3e6985b4",
   "metadata": {},
   "source": [
    "## write to file using user inputs"
   ]
  },
  {
   "cell_type": "code",
   "execution_count": 136,
   "id": "907775ef",
   "metadata": {},
   "outputs": [
    {
     "name": "stdout",
     "output_type": "stream",
     "text": [
      "Enter a number: 1\n",
      "Enter a number: 2\n",
      "Enter a number: 3\n",
      "Enter a number: 4\n",
      "Enter a number: 5\n"
     ]
    }
   ],
   "source": [
    "f = open(\"user-data.txt\", 'w')\n",
    "for _ in range(5):\n",
    "    n = input(\"Enter a number: \")\n",
    "    f.write(n)\n",
    "    f.write('\\n')\n",
    "f.close()"
   ]
  },
  {
   "cell_type": "markdown",
   "id": "3ee87a55",
   "metadata": {},
   "source": [
    "## read from file"
   ]
  },
  {
   "cell_type": "code",
   "execution_count": 137,
   "id": "bb885cf7",
   "metadata": {},
   "outputs": [
    {
     "name": "stdout",
     "output_type": "stream",
     "text": [
      "Sum of the number: 15. Average: 3.0\n"
     ]
    }
   ],
   "source": [
    "f = open(\"user-data.txt\", 'r')\n",
    "\n",
    "n = 5\n",
    "sum = 0\n",
    "\n",
    "for _ in range(n):\n",
    "    n = int(f.readline())\n",
    "    sum += n\n",
    "    \n",
    "print(\"Sum of the number: {}. Average: {}\".format(sum, sum / n))\n",
    "f.close()"
   ]
  },
  {
   "cell_type": "markdown",
   "id": "a7d9f1af",
   "metadata": {},
   "source": [
    "## with statement"
   ]
  },
  {
   "cell_type": "code",
   "execution_count": 138,
   "id": "521251eb",
   "metadata": {},
   "outputs": [
    {
     "name": "stdout",
     "output_type": "stream",
     "text": [
      "1\n",
      "2\n",
      "3\n",
      "4\n",
      "5\n",
      "\n"
     ]
    }
   ],
   "source": [
    "with open(\"user-data.txt\", 'r') as f:\n",
    "    print(f.read())"
   ]
  },
  {
   "cell_type": "markdown",
   "id": "9b09496d",
   "metadata": {},
   "source": [
    "# Q1"
   ]
  },
  {
   "cell_type": "code",
   "execution_count": 162,
   "id": "eba5f00c",
   "metadata": {},
   "outputs": [
    {
     "name": "stdout",
     "output_type": "stream",
     "text": [
      "Enter n: 5\n",
      "1 0 1 0 1 \n",
      "0 1 0 1 0 \n",
      "1 0 1 0 1 \n",
      "0 1 0 1 0 \n",
      "1 0 1 0 1 \n"
     ]
    }
   ],
   "source": [
    "n = int(input(\"Enter n: \"))\n",
    "\n",
    "l = []\n",
    "\n",
    "for i in range(n):\n",
    "    row = []\n",
    "    if i % 2 == 0:\n",
    "        for j in range(n):\n",
    "            if j % 2 == 0:\n",
    "                row.append(1)\n",
    "            else:\n",
    "                row.append(0)\n",
    "    if i % 2 == 1:\n",
    "        for j in range(n):\n",
    "            if j % 2 == 1:\n",
    "                row.append(1)\n",
    "            else:\n",
    "                row.append(0)\n",
    "    l.append(row)\n",
    "\n",
    "for i in l:\n",
    "    for j in i:\n",
    "        print(\"{} \".format(j), end='')\n",
    "    print()"
   ]
  },
  {
   "cell_type": "markdown",
   "id": "0848cc33",
   "metadata": {},
   "source": [
    "# Dictionaries methods"
   ]
  },
  {
   "cell_type": "markdown",
   "id": "51028d08",
   "metadata": {},
   "source": [
    "## café real world problem"
   ]
  },
  {
   "cell_type": "code",
   "execution_count": 164,
   "id": "4e660660",
   "metadata": {},
   "outputs": [
    {
     "name": "stdout",
     "output_type": "stream",
     "text": [
      "----------- MENU ----------\n",
      "Iced latte\n",
      "Iced coffee\n",
      "Iced cappuccino\n",
      "Bubble tea\n",
      "What do you like to order: Iced latte\n",
      "Your Iced latte is priced at 1.89 (after tax)\n"
     ]
    }
   ],
   "source": [
    "menu = {\n",
    "    \"Iced latte\": 1.89,\n",
    "    \"Iced coffee\": 1.49,\n",
    "    \"Iced cappuccino\": 1.99,\n",
    "    \"Bubble tea\": 1.24,\n",
    "}\n",
    "\n",
    "print(\"----------- MENU ----------\")\n",
    "for i in menu:\n",
    "    print(\"{}\".format(i))\n",
    "\n",
    "user_input = input(\"What do you like to order: \")\n",
    "\n",
    "if user_input in menu:\n",
    "    print(\"Your {} is priced at {} (after tax)\".format(user_input, menu[user_input]))\n",
    "else:\n",
    "    print(\"Not a menu item!\")"
   ]
  },
  {
   "cell_type": "markdown",
   "id": "91c4f7e4",
   "metadata": {},
   "source": [
    "## Café - real world problem V.2"
   ]
  },
  {
   "cell_type": "code",
   "execution_count": 172,
   "id": "f98b4262",
   "metadata": {
    "scrolled": true
   },
   "outputs": [
    {
     "name": "stdout",
     "output_type": "stream",
     "text": [
      "Welcome to café program. Press q to quit.\n",
      "$ q\n"
     ]
    }
   ],
   "source": [
    "print(\"Welcome to café program. Press q to quit.\")\n",
    "\n",
    "menu = {\n",
    "    \"Iced latte\": 1.89,\n",
    "    \"Iced coffee\": 1.49,\n",
    "    \"Iced cappuccino\": 1.99,\n",
    "    \"Bubble tea\": 1.24,\n",
    "}\n",
    "\n",
    "while True:\n",
    "    item = input(\"$ \")\n",
    "    if item.startswith('q'):\n",
    "        break\n",
    "        \n",
    "    # command is the first character of user-inputted string\n",
    "    command = item[0]\n",
    "    \n",
    "    if command == '<':\n",
    "        \n",
    "        # remove command tag\n",
    "        item = item.replace('<', '')\n",
    "        \n",
    "        # split inputted string into item and its price\n",
    "        inputItem = item.split(':')\n",
    "        \n",
    "        # You cannot have an item without the price\n",
    "        if len(inputItem) < 2:\n",
    "            print(\"Input ERROR!\")\n",
    "            continue\n",
    "        else:\n",
    "            \n",
    "            # put price into item key\n",
    "            # input item has [item, price]\n",
    "            menu[inputItem[0].strip()] = inputItem[1].strip()\n",
    "            \n",
    "    elif command == '>':\n",
    "        item = item.replace('>', '')\n",
    "        inputItem = item.strip()\n",
    "        \n",
    "        if inputItem in menu:\n",
    "            print(menu[inputItem])\n",
    "        else:\n",
    "            print(\"{} not in the menu.\".format(inputItem))\n",
    "    else:\n",
    "        print('\"{}\" is not a valid operation'.format(command))"
   ]
  },
  {
   "cell_type": "markdown",
   "id": "ee404217",
   "metadata": {},
   "source": [
    "## Dictionary code without setdefault"
   ]
  },
  {
   "cell_type": "code",
   "execution_count": 187,
   "id": "837b7b83",
   "metadata": {},
   "outputs": [
    {
     "name": "stdout",
     "output_type": "stream",
     "text": [
      "[('a', 1)]\n",
      "[('a', 1), ('b', 1)]\n",
      "[('a', 1), ('b', 1), ('c', 1)]\n",
      "[('a', 1), ('b', 2), ('c', 1)]\n",
      "[('a', 2), ('b', 2), ('c', 1)]\n",
      "[('a', 2), ('b', 3), ('c', 1)]\n",
      "[('a', 2), ('b', 3), ('c', 2)]\n",
      "Alphabet counting:  {'a': 2, 'b': 3, 'c': 2}\n"
     ]
    }
   ],
   "source": [
    "str1 = ['a', 'b', 'c', 'b', 'a', 'b', 'c']\n",
    "\n",
    "dic = {}\n",
    "\n",
    "for ch in str1:\n",
    "#     if ch not in dic.keys():\n",
    "#         dic[ch] = 0\n",
    "    dic.setdefault(ch, 0)\n",
    "    dic[ch] += 1\n",
    "    print(list(dic.items()))\n",
    "    \n",
    "print(\"Alphabet counting: \", dic)"
   ]
  },
  {
   "cell_type": "code",
   "execution_count": 189,
   "id": "75a4f818",
   "metadata": {},
   "outputs": [
    {
     "name": "stdout",
     "output_type": "stream",
     "text": [
      "{'apple': 2000, 'banana': 3500, 'coconut': 3500, 'donut': 4000}\n"
     ]
    }
   ],
   "source": [
    "dic = {\n",
    "    'apple': 2000,\n",
    "    'banana': 3500, \n",
    "    'coconut': 3500\n",
    "}\n",
    "\n",
    "dic.setdefault('donut', 4000)\n",
    "\n",
    "print(dic)"
   ]
  },
  {
   "cell_type": "markdown",
   "id": "9e9db2f5",
   "metadata": {},
   "source": [
    "## update method"
   ]
  },
  {
   "cell_type": "code",
   "execution_count": 194,
   "id": "55ae8c7d",
   "metadata": {},
   "outputs": [
    {
     "name": "stdout",
     "output_type": "stream",
     "text": [
      "{'apple': 4000, 'banana': 3500, 'coconut': 3500, 'delicious mango': 2000}\n"
     ]
    }
   ],
   "source": [
    "dic = {\n",
    "    'apple': 2000,\n",
    "    'banana': 3500, \n",
    "    'coconut': 3500\n",
    "}\n",
    "\n",
    "dic.update(apple = 4000)\n",
    "\n",
    "dic.update({\"delicious mango\": 2000})\n",
    "\n",
    "print(dic)"
   ]
  },
  {
   "cell_type": "markdown",
   "id": "c7292ca8",
   "metadata": {},
   "source": [
    "## update() method with list and tuple as parameter"
   ]
  },
  {
   "cell_type": "code",
   "execution_count": 199,
   "id": "f0c69307",
   "metadata": {},
   "outputs": [
    {
     "name": "stdout",
     "output_type": "stream",
     "text": [
      "{'apple': 2000, 'banana': 3500, 'coconut': 3500, 'cake': 20000, 'chicken': 25000, 'french fries': 6000, 'pie': 10000}\n"
     ]
    }
   ],
   "source": [
    "dic = {\n",
    "    'apple': 2000,\n",
    "    'banana': 3500, \n",
    "    'coconut': 3500\n",
    "}\n",
    "\n",
    "dic.update([['cake', 20000], ['chicken', 25000]])\n",
    "\n",
    "dic.update((('french fries', 6000), ('pie', 10000)))\n",
    "\n",
    "print(dic)"
   ]
  },
  {
   "cell_type": "markdown",
   "id": "27148bb1",
   "metadata": {},
   "source": [
    "## update() method with dictionary as parameter"
   ]
  },
  {
   "cell_type": "code",
   "execution_count": 200,
   "id": "ac66488a",
   "metadata": {},
   "outputs": [
    {
     "name": "stdout",
     "output_type": "stream",
     "text": [
      "{'apple': 2000, 'banana': 3500, 'coconut': 3500, 'delicious mango': 2000, 'creamy pasta': 12000}\n"
     ]
    }
   ],
   "source": [
    "dic = {\n",
    "    'apple': 2000,\n",
    "    'banana': 3500, \n",
    "    'coconut': 3500\n",
    "}\n",
    "\n",
    "dic.update({\"delicious mango\": 2000, \"creamy pasta\": 12000})\n",
    "\n",
    "print(dic)"
   ]
  },
  {
   "cell_type": "code",
   "execution_count": null,
   "id": "2e6f1925",
   "metadata": {},
   "outputs": [],
   "source": []
  },
  {
   "cell_type": "code",
   "execution_count": null,
   "id": "116b5329",
   "metadata": {},
   "outputs": [],
   "source": []
  }
 ],
 "metadata": {
  "kernelspec": {
   "display_name": "Python 3 (ipykernel)",
   "language": "python",
   "name": "python3"
  },
  "language_info": {
   "codemirror_mode": {
    "name": "ipython",
    "version": 3
   },
   "file_extension": ".py",
   "mimetype": "text/x-python",
   "name": "python",
   "nbconvert_exporter": "python",
   "pygments_lexer": "ipython3",
   "version": "3.9.13"
  }
 },
 "nbformat": 4,
 "nbformat_minor": 5
}
