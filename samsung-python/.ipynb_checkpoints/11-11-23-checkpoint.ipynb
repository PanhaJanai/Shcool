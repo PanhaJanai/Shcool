{
 "cells": [
  {
   "cell_type": "markdown",
   "id": "ffdd2314-8b1b-49fd-aebc-4d7fda2b57b4",
   "metadata": {},
   "source": [
    "## Roman number converter"
   ]
  },
  {
   "cell_type": "code",
   "execution_count": null,
   "id": "d7a7821c-fd7a-4a30-9ebd-604b14278133",
   "metadata": {},
   "outputs": [],
   "source": [
    "def roman_to_int(rom):\n",
    "    table = {\n",
    "        'M': 1000,\n",
    "        'D': 500,\n",
    "        'C': 100,\n",
    "        'L': 50,\n",
    "        'X': 10,\n",
    "        'V': 5,\n",
    "        'I': 1\n",
    "    }\n",
    "    \n",
    "    for i in range(len(rom)):\n",
    "        if table.ind not in table:\n",
    "            return -1\n",
    "        if num \n",
    "    \n",
    "    \n",
    "rom = input(\"Please input a roman numberal(s): \")\n",
    "# MDCLXVI"
   ]
  }
 ],
 "metadata": {
  "kernelspec": {
   "display_name": "Python 3 (ipykernel)",
   "language": "python",
   "name": "python3"
  },
  "language_info": {
   "codemirror_mode": {
    "name": "ipython",
    "version": 3
   },
   "file_extension": ".py",
   "mimetype": "text/x-python",
   "name": "python",
   "nbconvert_exporter": "python",
   "pygments_lexer": "ipython3",
   "version": "3.9.13"
  }
 },
 "nbformat": 4,
 "nbformat_minor": 5
}
