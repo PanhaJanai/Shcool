{
 "cells": [
  {
   "cell_type": "markdown",
   "id": "85fdb3db",
   "metadata": {},
   "source": [
    "# Dictionaries"
   ]
  },
  {
   "cell_type": "code",
   "execution_count": 3,
   "id": "0db2ebc2",
   "metadata": {},
   "outputs": [
    {
     "name": "stdout",
     "output_type": "stream",
     "text": [
      "PanhaJanai\n",
      "19\n",
      "No idea\n",
      "Certified Billionaire\n"
     ]
    }
   ],
   "source": [
    "person = {\n",
    "    \"name\": \"PanhaJanai\",\n",
    "    \"age\": \"Classified\",\n",
    "    \"weight\": \"No idea\"\n",
    "}\n",
    "\n",
    "person[\"job\"] = \"Certified Billionaire\"\n",
    "person[\"age\"] = 19\n",
    "\n",
    "for i in person:\n",
    "    print(person[i])"
   ]
  },
  {
   "cell_type": "markdown",
   "id": "3f378164",
   "metadata": {},
   "source": [
    "## del key which doesn't exist"
   ]
  },
  {
   "cell_type": "code",
   "execution_count": 6,
   "id": "70f8d115",
   "metadata": {},
   "outputs": [
    {
     "name": "stdout",
     "output_type": "stream",
     "text": [
      "Cannot be deleted because it does not exist!\n"
     ]
    }
   ],
   "source": [
    "person = {\n",
    "    \"name\": \"PanhaJanai\",\n",
    "    \"age\": \"Classified\",\n",
    "    \"weight\": \"No idea\"\n",
    "}\n",
    "\n",
    "if \"hometown\" in person:\n",
    "    del person[\"hometown\"]\n",
    "else:\n",
    "    print(\"Cannot be deleted because it does not exist!\")"
   ]
  },
  {
   "cell_type": "markdown",
   "id": "b1dcef86",
   "metadata": {},
   "source": [
    "## dictionaries only detect keys using []"
   ]
  },
  {
   "cell_type": "code",
   "execution_count": 9,
   "id": "22dda2d2",
   "metadata": {},
   "outputs": [
    {
     "name": "stdout",
     "output_type": "stream",
     "text": [
      "True\n",
      "True\n",
      "False\n",
      "False\n"
     ]
    }
   ],
   "source": [
    "person = {\n",
    "    \"name\": \"PanhaJanai\",\n",
    "    \"age\": \"Classified\",\n",
    "    \"weight\": \"No idea\"\n",
    "}\n",
    "\n",
    "print(\"name\" in person)\n",
    "print(\"age\" in person)\n",
    "print(\"hometown\" in person)\n",
    "print(\"PanhaJanai\" in person)"
   ]
  },
  {
   "cell_type": "markdown",
   "id": "35eb3303",
   "metadata": {},
   "source": [
    "## dictionaries don't discriminate order of keys"
   ]
  },
  {
   "cell_type": "code",
   "execution_count": 22,
   "id": "8f86ec0e",
   "metadata": {},
   "outputs": [
    {
     "name": "stdout",
     "output_type": "stream",
     "text": [
      "True\n"
     ]
    }
   ],
   "source": [
    "dict1 = {\n",
    "    \"a\": 1,\n",
    "    \"b\": 2\n",
    "}\n",
    "\n",
    "dict2 = {\n",
    "    \"b\": 2,\n",
    "    \"a\": 1\n",
    "}\n",
    "\n",
    "print(dict1 == dict2)"
   ]
  },
  {
   "cell_type": "markdown",
   "id": "16bc19b0",
   "metadata": {},
   "source": [
    "# JSON"
   ]
  },
  {
   "cell_type": "code",
   "execution_count": 27,
   "id": "50f5621c",
   "metadata": {},
   "outputs": [
    {
     "ename": "JSONDecodeError",
     "evalue": "Expecting value: line 2 column 246 (char 247)",
     "output_type": "error",
     "traceback": [
      "\u001b[1;31m---------------------------------------------------------------------------\u001b[0m",
      "\u001b[1;31mJSONDecodeError\u001b[0m                           Traceback (most recent call last)",
      "\u001b[1;32m~\\AppData\\Local\\Temp\\ipykernel_752\\590806605.py\u001b[0m in \u001b[0;36m<module>\u001b[1;34m\u001b[0m\n\u001b[0;32m     12\u001b[0m }'''\n\u001b[0;32m     13\u001b[0m \u001b[1;33m\u001b[0m\u001b[0m\n\u001b[1;32m---> 14\u001b[1;33m \u001b[0mjson_data\u001b[0m \u001b[1;33m=\u001b[0m \u001b[0mjson\u001b[0m\u001b[1;33m.\u001b[0m\u001b[0mloads\u001b[0m\u001b[1;33m(\u001b[0m\u001b[0mdata\u001b[0m\u001b[1;33m)\u001b[0m\u001b[1;33m\u001b[0m\u001b[1;33m\u001b[0m\u001b[0m\n\u001b[0m\u001b[0;32m     15\u001b[0m \u001b[1;33m\u001b[0m\u001b[0m\n\u001b[0;32m     16\u001b[0m \u001b[0mprint\u001b[0m\u001b[1;33m(\u001b[0m\u001b[0mtype\u001b[0m\u001b[1;33m(\u001b[0m\u001b[0mjson_data\u001b[0m\u001b[1;33m)\u001b[0m\u001b[1;33m)\u001b[0m\u001b[1;33m\u001b[0m\u001b[1;33m\u001b[0m\u001b[0m\n",
      "\u001b[1;32m~\\anaconda\\lib\\json\\__init__.py\u001b[0m in \u001b[0;36mloads\u001b[1;34m(s, cls, object_hook, parse_float, parse_int, parse_constant, object_pairs_hook, **kw)\u001b[0m\n\u001b[0;32m    344\u001b[0m             \u001b[0mparse_int\u001b[0m \u001b[1;32mis\u001b[0m \u001b[1;32mNone\u001b[0m \u001b[1;32mand\u001b[0m \u001b[0mparse_float\u001b[0m \u001b[1;32mis\u001b[0m \u001b[1;32mNone\u001b[0m \u001b[1;32mand\u001b[0m\u001b[1;33m\u001b[0m\u001b[1;33m\u001b[0m\u001b[0m\n\u001b[0;32m    345\u001b[0m             parse_constant is None and object_pairs_hook is None and not kw):\n\u001b[1;32m--> 346\u001b[1;33m         \u001b[1;32mreturn\u001b[0m \u001b[0m_default_decoder\u001b[0m\u001b[1;33m.\u001b[0m\u001b[0mdecode\u001b[0m\u001b[1;33m(\u001b[0m\u001b[0ms\u001b[0m\u001b[1;33m)\u001b[0m\u001b[1;33m\u001b[0m\u001b[1;33m\u001b[0m\u001b[0m\n\u001b[0m\u001b[0;32m    347\u001b[0m     \u001b[1;32mif\u001b[0m \u001b[0mcls\u001b[0m \u001b[1;32mis\u001b[0m \u001b[1;32mNone\u001b[0m\u001b[1;33m:\u001b[0m\u001b[1;33m\u001b[0m\u001b[1;33m\u001b[0m\u001b[0m\n\u001b[0;32m    348\u001b[0m         \u001b[0mcls\u001b[0m \u001b[1;33m=\u001b[0m \u001b[0mJSONDecoder\u001b[0m\u001b[1;33m\u001b[0m\u001b[1;33m\u001b[0m\u001b[0m\n",
      "\u001b[1;32m~\\anaconda\\lib\\json\\decoder.py\u001b[0m in \u001b[0;36mdecode\u001b[1;34m(self, s, _w)\u001b[0m\n\u001b[0;32m    335\u001b[0m \u001b[1;33m\u001b[0m\u001b[0m\n\u001b[0;32m    336\u001b[0m         \"\"\"\n\u001b[1;32m--> 337\u001b[1;33m         \u001b[0mobj\u001b[0m\u001b[1;33m,\u001b[0m \u001b[0mend\u001b[0m \u001b[1;33m=\u001b[0m \u001b[0mself\u001b[0m\u001b[1;33m.\u001b[0m\u001b[0mraw_decode\u001b[0m\u001b[1;33m(\u001b[0m\u001b[0ms\u001b[0m\u001b[1;33m,\u001b[0m \u001b[0midx\u001b[0m\u001b[1;33m=\u001b[0m\u001b[0m_w\u001b[0m\u001b[1;33m(\u001b[0m\u001b[0ms\u001b[0m\u001b[1;33m,\u001b[0m \u001b[1;36m0\u001b[0m\u001b[1;33m)\u001b[0m\u001b[1;33m.\u001b[0m\u001b[0mend\u001b[0m\u001b[1;33m(\u001b[0m\u001b[1;33m)\u001b[0m\u001b[1;33m)\u001b[0m\u001b[1;33m\u001b[0m\u001b[1;33m\u001b[0m\u001b[0m\n\u001b[0m\u001b[0;32m    338\u001b[0m         \u001b[0mend\u001b[0m \u001b[1;33m=\u001b[0m \u001b[0m_w\u001b[0m\u001b[1;33m(\u001b[0m\u001b[0ms\u001b[0m\u001b[1;33m,\u001b[0m \u001b[0mend\u001b[0m\u001b[1;33m)\u001b[0m\u001b[1;33m.\u001b[0m\u001b[0mend\u001b[0m\u001b[1;33m(\u001b[0m\u001b[1;33m)\u001b[0m\u001b[1;33m\u001b[0m\u001b[1;33m\u001b[0m\u001b[0m\n\u001b[0;32m    339\u001b[0m         \u001b[1;32mif\u001b[0m \u001b[0mend\u001b[0m \u001b[1;33m!=\u001b[0m \u001b[0mlen\u001b[0m\u001b[1;33m(\u001b[0m\u001b[0ms\u001b[0m\u001b[1;33m)\u001b[0m\u001b[1;33m:\u001b[0m\u001b[1;33m\u001b[0m\u001b[1;33m\u001b[0m\u001b[0m\n",
      "\u001b[1;32m~\\anaconda\\lib\\json\\decoder.py\u001b[0m in \u001b[0;36mraw_decode\u001b[1;34m(self, s, idx)\u001b[0m\n\u001b[0;32m    353\u001b[0m             \u001b[0mobj\u001b[0m\u001b[1;33m,\u001b[0m \u001b[0mend\u001b[0m \u001b[1;33m=\u001b[0m \u001b[0mself\u001b[0m\u001b[1;33m.\u001b[0m\u001b[0mscan_once\u001b[0m\u001b[1;33m(\u001b[0m\u001b[0ms\u001b[0m\u001b[1;33m,\u001b[0m \u001b[0midx\u001b[0m\u001b[1;33m)\u001b[0m\u001b[1;33m\u001b[0m\u001b[1;33m\u001b[0m\u001b[0m\n\u001b[0;32m    354\u001b[0m         \u001b[1;32mexcept\u001b[0m \u001b[0mStopIteration\u001b[0m \u001b[1;32mas\u001b[0m \u001b[0merr\u001b[0m\u001b[1;33m:\u001b[0m\u001b[1;33m\u001b[0m\u001b[1;33m\u001b[0m\u001b[0m\n\u001b[1;32m--> 355\u001b[1;33m             \u001b[1;32mraise\u001b[0m \u001b[0mJSONDecodeError\u001b[0m\u001b[1;33m(\u001b[0m\u001b[1;34m\"Expecting value\"\u001b[0m\u001b[1;33m,\u001b[0m \u001b[0ms\u001b[0m\u001b[1;33m,\u001b[0m \u001b[0merr\u001b[0m\u001b[1;33m.\u001b[0m\u001b[0mvalue\u001b[0m\u001b[1;33m)\u001b[0m \u001b[1;32mfrom\u001b[0m \u001b[1;32mNone\u001b[0m\u001b[1;33m\u001b[0m\u001b[1;33m\u001b[0m\u001b[0m\n\u001b[0m\u001b[0;32m    356\u001b[0m         \u001b[1;32mreturn\u001b[0m \u001b[0mobj\u001b[0m\u001b[1;33m,\u001b[0m \u001b[0mend\u001b[0m\u001b[1;33m\u001b[0m\u001b[1;33m\u001b[0m\u001b[0m\n",
      "\u001b[1;31mJSONDecodeError\u001b[0m: Expecting value: line 2 column 246 (char 247)"
     ]
    }
   ],
   "source": [
    "import json\n",
    "\n",
    "data = '''{\n",
    "    \"name\": \"Panha\",\\\n",
    "    \"age\": 19,\\\n",
    "    \"hobby\": [\"Listening to music\", \"dicover new thing tech related\", \"build stuff using programming languages\"],\\\n",
    "    \"family\": {\\\n",
    "        \"mother\": \"classified\",\\\n",
    "        \"farther\": \"classified\"\\\n",
    "    },\\\n",
    "    \"Married\": False\\\n",
    "}'''\n",
    "\n",
    "json_data = json.loads(data)\n",
    "\n",
    "print(type(json_data))\n",
    "print(json_data)"
   ]
  },
  {
   "cell_type": "code",
   "execution_count": 34,
   "id": "cea97363",
   "metadata": {},
   "outputs": [
    {
     "name": "stdout",
     "output_type": "stream",
     "text": [
      "<class 'dict'>\n",
      "{'name': 'Panha', 'age': 19, 'hobby': ['Listening to music', 'dicover new thing tech related', 'build stuff using programming languages'], 'family': {'mother': 'classified', 'farther': 'classified'}, 'Married': False}\n"
     ]
    }
   ],
   "source": [
    "import json\n",
    "\n",
    "data = '{\"name\": \"Panha\",\"age\": 19,\"hobby\": [\"Listening to music\", \"dicover new thing tech related\", \"build stuff using programming languages\"],\"family\": {\"mother\": \"classified\",\"farther\": \"classified\"},\"Married\": false}'\n",
    "\n",
    "json_data = json.loads(data)\n",
    "\n",
    "print(type(json_data))\n",
    "print(json_data)"
   ]
  },
  {
   "cell_type": "code",
   "execution_count": 44,
   "id": "a4ccbcb0",
   "metadata": {},
   "outputs": [],
   "source": [
    "import json\n",
    "\n",
    "data = '{\"name\": \"Panha\",\"age\": 19,\"hobby\": [\"Listening to music\", \"dicover new thing tech related\", \"build stuff using programming languages\"],\"family\": {\"mother\": \"classified\",\"farther\": \"classified\"},\"Married\": false}'\n",
    "\n",
    "json_data = json.loads(data)\n",
    "# json_data = data\n",
    "\n",
    "with open(\"me.json\", 'w') as me:\n",
    "    json.dump(json_data, me, indent=\"\\t\")"
   ]
  },
  {
   "cell_type": "markdown",
   "id": "44eb9fcf",
   "metadata": {},
   "source": [
    "# Quiz 1"
   ]
  },
  {
   "cell_type": "code",
   "execution_count": 3,
   "id": "0332d85c",
   "metadata": {},
   "outputs": [
    {
     "name": "stdout",
     "output_type": "stream",
     "text": [
      "Seoul\n",
      "<class 'str'>\n"
     ]
    }
   ],
   "source": [
    "capital_dic = {\n",
    "    \"Korea\": \"Seoul\",\n",
    "    \"China\": \"Beijing\",\n",
    "    \"USA\": \"Washington DC\"\n",
    "}\n",
    "\n",
    "print(capital_dic[\"Korea\"])\n",
    "# print(type(capital_dic[\"Korea\"]))"
   ]
  },
  {
   "cell_type": "markdown",
   "id": "e898db25",
   "metadata": {},
   "source": [
    "# Quiz 2"
   ]
  },
  {
   "cell_type": "code",
   "execution_count": 4,
   "id": "a605088a",
   "metadata": {},
   "outputs": [
    {
     "name": "stdout",
     "output_type": "stream",
     "text": [
      "The price of an apple is 5000 KRW.\n",
      "The price of an banana is 4000 KRW.\n",
      "The price of an grape is 5300 KRW.\n",
      "The price of an melon is 6500 KRW.\n"
     ]
    }
   ],
   "source": [
    "fruits_dic = {\n",
    "    \"apple\": 5000,\n",
    "    \"banana\": 4000,\n",
    "    \"grape\": 5300,\n",
    "    \"melon\": 6500\n",
    "}\n",
    "\n",
    "for e in fruits_dic:\n",
    "    print(\"The price of an {} is {} KRW.\".format(e, fruits_dic[e]))"
   ]
  },
  {
   "cell_type": "code",
   "execution_count": 9,
   "id": "17679dde",
   "metadata": {},
   "outputs": [
    {
     "name": "stdout",
     "output_type": "stream",
     "text": [
      "<!--<h1>hello</h1>\n"
     ]
    }
   ],
   "source": [
    "print(\"<!--<h1>hello</h1>\")"
   ]
  },
  {
   "cell_type": "markdown",
   "id": "b926771e",
   "metadata": {},
   "source": [
    "## Initialize a dictionary"
   ]
  },
  {
   "cell_type": "code",
   "execution_count": 11,
   "id": "13062995",
   "metadata": {},
   "outputs": [
    {
     "name": "stdout",
     "output_type": "stream",
     "text": [
      "{'Abraham Lincoln': '012-345-678', 'Elon Musk': '0XX-XXX-XXX', 'Xi Jinping': 'Unknown'}\n"
     ]
    }
   ],
   "source": [
    "phone_book = {}\n",
    "\n",
    "phone_book[\"Abraham Lincoln\"] = \"012-345-678\"\n",
    "phone_book[\"Elon Musk\"] = \"0XX-XXX-XXX\"\n",
    "phone_book[\"Xi Jinping\"] = \"Unknown\"\n",
    "\n",
    "print(phone_book)"
   ]
  },
  {
   "cell_type": "markdown",
   "id": "abf4fae3",
   "metadata": {},
   "source": [
    "## pop in list vs dict"
   ]
  },
  {
   "cell_type": "code",
   "execution_count": 16,
   "id": "a0de6ed9",
   "metadata": {},
   "outputs": [
    {
     "name": "stdout",
     "output_type": "stream",
     "text": [
      "Before pop(0): [0, 1, 2, 3, 4]\n",
      "Before pop(0) l[0]: 0\n",
      "After pop(0): [1, 2, 3, 4]\n",
      "After pop(0) l[0]: 1\n"
     ]
    }
   ],
   "source": [
    "l = [0, 1, 2, 3, 4]\n",
    "\n",
    "print(\"Before pop(0):\", l)\n",
    "print(\"Before pop(0) l[0]:\", l[0])\n",
    "\n",
    "l.pop(0)\n",
    "\n",
    "print(\"After pop(0):\", l)\n",
    "print(\"After pop(0) l[0]:\", l[0])"
   ]
  },
  {
   "cell_type": "code",
   "execution_count": 21,
   "id": "33a790bd",
   "metadata": {},
   "outputs": [
    {
     "name": "stdout",
     "output_type": "stream",
     "text": [
      "Before pop(0): dict_items([(0, 11), (1, 22), (2, 33), (3, 44), (4, 55)])\n",
      "Before pop(0) l[1]: 22\n",
      "After pop(0): dict_items([(1, 22), (2, 33), (3, 44), (4, 55)])\n",
      "After pop(0) l[1]: 22\n"
     ]
    }
   ],
   "source": [
    "dic = {0: 11, 1: 22, 2: 33, 3: 44, 4: 55}\n",
    "\n",
    "print(\"Before pop(0):\", dic.items())\n",
    "print(\"Before pop(0) l[1]:\", dic[1])\n",
    "\n",
    "dic.pop(0)\n",
    "\n",
    "print(\"After pop(0):\", dic.items())\n",
    "print(\"After pop(0) l[1]:\", dic[1])"
   ]
  },
  {
   "cell_type": "markdown",
   "id": "aeec1721",
   "metadata": {},
   "source": [
    "## deleting element and the whole dict"
   ]
  },
  {
   "cell_type": "code",
   "execution_count": 22,
   "id": "70dc7c1d",
   "metadata": {},
   "outputs": [
    {
     "name": "stdout",
     "output_type": "stream",
     "text": [
      "{'USA': 'Washington DC', 'Cambodia': 'Phnom Penh'}\n",
      "{}\n"
     ]
    }
   ],
   "source": [
    "capital_dic = {\n",
    "    \"Korea\": \"Seoul\",\n",
    "    \"China\": \"Beijing\",\n",
    "    \"USA\": \"Washington DC\",\n",
    "    \"Cambodia\": \"Phnom Penh\"\n",
    "}\n",
    "\n",
    "del capital_dic[\"Korea\"]\n",
    "del(capital_dic[\"China\"])\n",
    "\n",
    "print(capital_dic)\n",
    "\n",
    "capital_dic.clear()\n",
    "\n",
    "print(capital_dic)"
   ]
  },
  {
   "cell_type": "markdown",
   "id": "e7059b8e",
   "metadata": {},
   "source": [
    "# formatting with .format() "
   ]
  },
  {
   "cell_type": "code",
   "execution_count": 27,
   "id": "94eeffca",
   "metadata": {},
   "outputs": [
    {
     "name": "stdout",
     "output_type": "stream",
     "text": [
      "I like C, C++ and Python.\n",
      "I like C, C++ and Python.\n",
      "I like C, C and C.\n",
      "I like Python, C++ and C.\n"
     ]
    }
   ],
   "source": [
    "print(\"I like {}, {} and {}.\".format(\"C\", \"C++\", \"Python\"))\n",
    "\n",
    "print(\"I like {0}, {1} and {2}.\".format(\"C\", \"C++\", \"Python\"))\n",
    "\n",
    "print(\"I like {0}, {0} and {0}.\".format(\"C\", \"C++\", \"Python\"))\n",
    "\n",
    "print(\"I like {2}, {1} and {0}.\".format(\"C\", \"C++\", \"Python\"))\n",
    "\n",
    "# Error\n",
    "# print(\"I like {3}, {4} and {5}.\".format(\"C\", \"C++\", \"Python\"))"
   ]
  },
  {
   "cell_type": "code",
   "execution_count": 41,
   "id": "7d752cc3",
   "metadata": {},
   "outputs": [
    {
     "name": "stdout",
     "output_type": "stream",
     "text": [
      "    2          4          8\n",
      "    4         16         64\n",
      "    6         36        216\n",
      "    8         64        512\n",
      "   10        100      1,000\n",
      "   12        144      1,728\n",
      "   14        196      2,744\n",
      "   16        256      4,096\n",
      "   18        324      5,832\n",
      "   20        400      8,000\n",
      "   22        484     10,648\n",
      "   24        576     13,824\n",
      "   26        676     17,576\n",
      "   28        784     21,952\n",
      "   30        900     27,000\n",
      "   32      1,024     32,768\n",
      "   34      1,156     39,304\n",
      "   36      1,296     46,656\n",
      "   38      1,444     54,872\n",
      "   40      1,600     64,000\n",
      "   42      1,764     74,088\n",
      "   44      1,936     85,184\n",
      "   46      2,116     97,336\n",
      "   48      2,304    110,592\n",
      "   50      2,500    125,000\n",
      "   52      2,704    140,608\n",
      "   54      2,916    157,464\n",
      "   56      3,136    175,616\n",
      "   58      3,364    195,112\n",
      "   60      3,600    216,000\n",
      "   62      3,844    238,328\n",
      "   64      4,096    262,144\n",
      "   66      4,356    287,496\n",
      "   68      4,624    314,432\n",
      "   70      4,900    343,000\n",
      "   72      5,184    373,248\n",
      "   74      5,476    405,224\n",
      "   76      5,776    438,976\n",
      "   78      6,084    474,552\n",
      "   80      6,400    512,000\n",
      "   82      6,724    551,368\n",
      "   84      7,056    592,704\n",
      "   86      7,396    636,056\n",
      "   88      7,744    681,472\n",
      "   90      8,100    729,000\n",
      "   92      8,464    778,688\n",
      "   94      8,836    830,584\n",
      "   96      9,216    884,736\n",
      "   98      9,604    941,192\n"
     ]
    }
   ],
   "source": [
    "for i in range(2, 100, 2):\n",
    "    print(\"{:5} {:10,} {:10,}\".format(i, i * i, i ** 3))"
   ]
  },
  {
   "cell_type": "markdown",
   "id": "17705586",
   "metadata": {},
   "source": [
    "# Quiz 1"
   ]
  },
  {
   "cell_type": "code",
   "execution_count": 44,
   "id": "ff35e689",
   "metadata": {},
   "outputs": [
    {
     "name": "stdout",
     "output_type": "stream",
     "text": [
      "dict_keys(['apple', 'melon', 'banana', 'orange'])\n",
      "Apple is in fruit_dic.\n",
      "mango is not in fruit_dic\n"
     ]
    }
   ],
   "source": [
    "fruits_dic = {\n",
    "    \"apple\": 6000,\n",
    "    \"melon\": 3000,\n",
    "    \"banana\": 5000,\n",
    "    \"orange\": 4000\n",
    "}\n",
    "\n",
    "fruits = fruits_dic.keys()\n",
    "print(fruits)\n",
    "\n",
    "if \"apple\" in fruits:\n",
    "    print(\"Apple is in fruit_dic.\")\n",
    "    \n",
    "if \"mango\" not in fruits:\n",
    "    print(\"mango is ot in fruit_dic\")"
   ]
  },
  {
   "cell_type": "code",
   "execution_count": 45,
   "id": "5f9acacd",
   "metadata": {},
   "outputs": [
    {
     "ename": "SyntaxError",
     "evalue": "invalid syntax (35268696.py, line 1)",
     "output_type": "error",
     "traceback": [
      "\u001b[1;36m  File \u001b[1;32m\"C:\\Users\\Dara\\AppData\\Local\\Temp\\ipykernel_14512\\35268696.py\"\u001b[1;36m, line \u001b[1;32m1\u001b[0m\n\u001b[1;33m    from colab\u001b[0m\n\u001b[1;37m              ^\u001b[0m\n\u001b[1;31mSyntaxError\u001b[0m\u001b[1;31m:\u001b[0m invalid syntax\n"
     ]
    }
   ],
   "source": []
  },
  {
   "cell_type": "code",
   "execution_count": null,
   "id": "dfc0a800",
   "metadata": {},
   "outputs": [],
   "source": []
  }
 ],
 "metadata": {
  "kernelspec": {
   "display_name": "Python 3 (ipykernel)",
   "language": "python",
   "name": "python3"
  },
  "language_info": {
   "codemirror_mode": {
    "name": "ipython",
    "version": 3
   },
   "file_extension": ".py",
   "mimetype": "text/x-python",
   "name": "python",
   "nbconvert_exporter": "python",
   "pygments_lexer": "ipython3",
   "version": "3.9.13"
  }
 },
 "nbformat": 4,
 "nbformat_minor": 5
}
