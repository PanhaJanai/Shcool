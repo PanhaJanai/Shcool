{
 "cells": [
  {
   "cell_type": "markdown",
   "id": "58377b0a",
   "metadata": {},
   "source": [
    "# random module"
   ]
  },
  {
   "cell_type": "code",
   "execution_count": null,
   "id": "1354da88",
   "metadata": {},
   "outputs": [],
   "source": [
    "import random\n",
    "\n",
    "rand_num = random.randint(0, 10)\n",
    "\n",
    "print(rand_num)"
   ]
  },
  {
   "cell_type": "markdown",
   "id": "c96b0d66",
   "metadata": {},
   "source": [
    "# score > 90"
   ]
  },
  {
   "cell_type": "code",
   "execution_count": null,
   "id": "3a3ccdc3",
   "metadata": {},
   "outputs": [],
   "source": [
    "score = int(input(\"Enter a score: \"))\n",
    "\n",
    "if score > 90:\n",
    "    print(\"Accepted.\")\n",
    "    print(\"Also recieve a scholarship.\")\n",
    "else:\n",
    "    print(\"Not accepted.\")"
   ]
  },
  {
   "cell_type": "code",
   "execution_count": null,
   "id": "55cbb1a1",
   "metadata": {
    "scrolled": true
   },
   "outputs": [],
   "source": [
    "x = bool(0)\n",
    "print(x)"
   ]
  },
  {
   "cell_type": "markdown",
   "id": "07eef8fc",
   "metadata": {},
   "source": [
    "# multiple if statements vs if else statements"
   ]
  },
  {
   "cell_type": "code",
   "execution_count": null,
   "id": "838bbfc9",
   "metadata": {},
   "outputs": [],
   "source": [
    "hour = 24\n",
    "\n",
    "if hour < 12:\n",
    "    print(\"It's morning!\")\n",
    "else:\n",
    "    print(\"Is it afternoon or evening?\")\n",
    "    \n",
    "if hour < 12:\n",
    "    print(\"It's morning!\")\n",
    "if hour >= 12: \n",
    "    print(\"Is it afternoon or evening?\")"
   ]
  },
  {
   "cell_type": "markdown",
   "id": "36066489",
   "metadata": {},
   "source": [
    "# nested if statements"
   ]
  },
  {
   "cell_type": "code",
   "execution_count": null,
   "id": "a8389a10",
   "metadata": {},
   "outputs": [],
   "source": [
    "number = int(input(\"Enter a number: \"))\n",
    "\n",
    "if number >= 0:\n",
    "    if number == 0:\n",
    "        print(\"Your number is neither positive nor negative because it's a 0.\")\n",
    "    else:\n",
    "        print(\"Your number is positive.\")\n",
    "else:\n",
    "    print(\"Your number is negative.\")"
   ]
  },
  {
   "cell_type": "markdown",
   "id": "a1bfa2a7",
   "metadata": {},
   "source": [
    "# Grading"
   ]
  },
  {
   "cell_type": "code",
   "execution_count": null,
   "id": "c137948d",
   "metadata": {},
   "outputs": [],
   "source": [
    "# score = 110\n",
    "\n",
    "# Inefficient way of testing (too many unecessary conditions)\n",
    "if 90 <= score:\n",
    "    print(\"Your grade is A.\")\n",
    "elif 80 <= score < 90:\n",
    "    print(\"Your grade is B.\")\n",
    "elif 70 <= score < 80:\n",
    "    print(\"Your grade is C.\")\n",
    "elif 60 <= score < 70:\n",
    "    print(\"Your grade is D.\")\n",
    "elif 50 <= score < 60:\n",
    "    print(\"Your grade is E.\")\n",
    "else:\n",
    "    print(\"You have failed!\")\n",
    "\n",
    "    \n",
    "if score >= 90:\n",
    "    print(\"Your grade is A.\")\n",
    "elif score >= 80:\n",
    "    print(\"Your grade is B.\")\n",
    "elif score >= 70:\n",
    "    print(\"Your grade is C.\")\n",
    "elif score >= 60:\n",
    "    print(\"Your grade is D.\")\n",
    "elif score >= 50:\n",
    "    print(\"Your grade is E.\")\n",
    "else:\n",
    "    print(\"Your grade is F. Try harder next time!\")"
   ]
  },
  {
   "cell_type": "markdown",
   "id": "30fe23f9",
   "metadata": {},
   "source": [
    "# See if both numbers are odd or even"
   ]
  },
  {
   "cell_type": "code",
   "execution_count": null,
   "id": "f1272fdb",
   "metadata": {},
   "outputs": [],
   "source": [
    "a = 1\n",
    "b = 2\n",
    "\n",
    "if (a % 2 == 0) and (b % 2 == 0):\n",
    "    print(\"Your numbers are both even.\")\n",
    "elif (a % 2 == 1) and (b % 2 == 1):\n",
    "    print(\"Your numbers are both odd.\")\n",
    "else:\n",
    "    print(\"You have one odd and one even number!\")"
   ]
  },
  {
   "cell_type": "markdown",
   "id": "7b946117",
   "metadata": {},
   "source": [
    "# Fruits shopping"
   ]
  },
  {
   "cell_type": "code",
   "execution_count": null,
   "id": "1e3a1f91",
   "metadata": {
    "scrolled": false
   },
   "outputs": [],
   "source": [
    "apple = 5000\n",
    "grape = 6000\n",
    "melon = 8000\n",
    "orange = 2000\n",
    "\n",
    "print(\"#\" * 20)\n",
    "print(\"Welcome to Panha's fruit shop! Here are the fruits:\")\n",
    "print(f\"1: Apple (price: {apple} won)\")\n",
    "print(f\"2: Grape (price: {grape} won)\")\n",
    "print(f\"3: Melon (price: {melon} won)\")\n",
    "print(f\"4: Orange (price: {orange} won)\")\n",
    "print(\"#\" * 20)\n",
    "\n",
    "item_no = 0\n",
    "item_amount = 0\n",
    "money = 0\n",
    "\n",
    "while (item_no < 1 or item_no > 4):\n",
    "    try:\n",
    "        item_no = int(input(\"Enter item number (between 1 ~ 4): \"))\n",
    "    except ValueError:\n",
    "        print(\"Looks like someone doesn't know what a number is!\")\n",
    "\n",
    "while (item_amount < 1 or item_amount > 10):\n",
    "    try:\n",
    "        item_amount = int(input(\"Enter number of item (between 1 ~ 10): \"))\n",
    "    except ValueError:\n",
    "        print(\"Looks like someone doesn't know what a number is!\")\n",
    "\n",
    "if item_no == 1:\n",
    "    print(\"Fruit selected: Apple\")\n",
    "    total = item_amount * apple\n",
    "    print(f\"Price: {apple}\")\n",
    "elif item_no == 2:\n",
    "    print(\"Fruit selected: Grape\")\n",
    "    total = item_amount * grape\n",
    "    print(f\"Price: {grape}\")\n",
    "elif item_no == 3:\n",
    "    print(\"Fruit selected: Melon\")\n",
    "    total = item_amount * melon\n",
    "    print(f\"Price: {melon}\")\n",
    "else:\n",
    "    print(\"Fruit selected: Orange\")\n",
    "    total = item_amount * orange\n",
    "    print(f\"Price: {orange}\")\n",
    "\n",
    "print(f\"Quantity: {item_amount}\")\n",
    "print(f\"Total price is {total} won\")\n",
    "\n",
    "while (True):\n",
    "    \n",
    "    # Add more money to existing money\n",
    "    try:\n",
    "        inp_money = int(input(\"Insert money please (ex: 10000) >>> \"))\n",
    "    except ValueError:\n",
    "        print(\"Looks like someone doesn't know what a number is!\")\n",
    "        continue\n",
    "    \n",
    "    if (inp_money <= 0):\n",
    "        print(\"Cannot have negative won or 0 won\")\n",
    "        continue\n",
    "        \n",
    "    money += inp_money\n",
    "    \n",
    "    if (money < total):\n",
    "        print(f\"Not enough money. Needed {total - money} more.\")\n",
    "    if (money == total):\n",
    "        break\n",
    "\n",
    "print(f\"{money} won recieved. Your change is {money - total} won\")"
   ]
  },
  {
   "cell_type": "markdown",
   "id": "b3e2d9a6",
   "metadata": {},
   "source": [
    "# Consonant or vowel"
   ]
  },
  {
   "cell_type": "code",
   "execution_count": 2,
   "id": "ac6f1811",
   "metadata": {},
   "outputs": [
    {
     "name": "stdout",
     "output_type": "stream",
     "text": [
      "Enter in a letter: K\n",
      "K is a consonat.\n"
     ]
    }
   ],
   "source": [
    "vowels = ['a', 'e', 'i', 'o', 'u']\n",
    "\n",
    "user = input(\"Enter in a letter: \").lower()\n",
    "\n",
    "if user in vowels:\n",
    "    print(\"{} is a vowel.\".format(user.upper()))\n",
    "else:\n",
    "    print(\"{} is a consonat.\".format(user.upper()))"
   ]
  },
  {
   "cell_type": "markdown",
   "id": "ea86b85d",
   "metadata": {},
   "source": [
    "# is x a multiple of y?"
   ]
  },
  {
   "cell_type": "code",
   "execution_count": 4,
   "id": "1423f788",
   "metadata": {},
   "outputs": [
    {
     "name": "stdout",
     "output_type": "stream",
     "text": [
      "Enter two integers: 30 3\n",
      "30 is a multiple of 3\n"
     ]
    }
   ],
   "source": [
    "a, b = input(\"Enter two integers: \").split()\n",
    "\n",
    "a = int(a)\n",
    "b = int(b)\n",
    "\n",
    "if a % b == 0:\n",
    "    print(\"{} is a multiple of {}\".format(a, b))\n",
    "else:\n",
    "    print(\"{} is not a multiple of {}\".format(a, b))"
   ]
  },
  {
   "cell_type": "markdown",
   "id": "66494094",
   "metadata": {},
   "source": [
    "#  ID"
   ]
  },
  {
   "cell_type": "code",
   "execution_count": 11,
   "id": "0fc8a3a1",
   "metadata": {},
   "outputs": [
    {
     "name": "stdout",
     "output_type": "stream",
     "text": [
      "Enter the ID: ilovepython\n",
      "Welcome!\n",
      "Enter the ID: ilovepython\n",
      "Welcome!\n"
     ]
    }
   ],
   "source": [
    "id = \"ilovepython\"\n",
    "\n",
    "s = input(\"Enter the ID: \")\n",
    "\n",
    "if s == id:\n",
    "    print(\"Welcome!\")\n",
    "else:\n",
    "    print(\"ID not found!\")\n",
    "    \n",
    "###############################\n",
    "\n",
    "d = \"ilovepython\"\n",
    "\n",
    "s = input(\"Enter the ID: \")\n",
    "\n",
    "if s == id:\n",
    "    print(\"Welcome!\")\n",
    "else:\n",
    "    print(\"ID not found!\")"
   ]
  },
  {
   "cell_type": "markdown",
   "id": "1e332307",
   "metadata": {},
   "source": [
    " # Memory addresses (me)"
   ]
  },
  {
   "cell_type": "code",
   "execution_count": 80,
   "id": "5f076614",
   "metadata": {},
   "outputs": [
    {
     "name": "stdout",
     "output_type": "stream",
     "text": [
      "2327487537288\n"
     ]
    }
   ],
   "source": [
    "import ctypes\n",
    "variable = 42\n",
    "print(ctypes.addressof(ctypes.c_int(variable)))"
   ]
  },
  {
   "cell_type": "markdown",
   "id": "43c612b5",
   "metadata": {},
   "source": [
    "# random "
   ]
  },
  {
   "cell_type": "code",
   "execution_count": 59,
   "id": "2cd641ae",
   "metadata": {},
   "outputs": [
    {
     "name": "stdout",
     "output_type": "stream",
     "text": [
      "113\n",
      "0.9300819392431139\n",
      "9.300819392431139\n"
     ]
    }
   ],
   "source": [
    "import random\n",
    "\n",
    "x = random.randint(1, 1000)\n",
    "print(x)\n",
    "\n",
    "y = random.random()\n",
    "z = y * 10\n",
    "print(y)\n",
    "print(z)"
   ]
  },
  {
   "cell_type": "markdown",
   "id": "b207565a",
   "metadata": {},
   "source": [
    "# Coin toss"
   ]
  },
  {
   "cell_type": "code",
   "execution_count": 98,
   "id": "6b1b3d25",
   "metadata": {},
   "outputs": [
    {
     "name": "stdout",
     "output_type": "stream",
     "text": [
      "Head!\n",
      "499603\n",
      "500397\n"
     ]
    }
   ],
   "source": [
    "import random\n",
    "\n",
    "rand = random.randint(0, 1)\n",
    "\n",
    "head = 0\n",
    "tail = 0\n",
    "\n",
    "if rand == 0:\n",
    "    print(\"Head!\")\n",
    "if rand == 1:\n",
    "    print(\"Tail!\")\n",
    "    \n",
    "for i in range(1000_000):\n",
    "    if random.randint(0, 1) == 0:\n",
    "        head += 1\n",
    "    else:\n",
    "        tail += 1\n",
    "        \n",
    "print(head)\n",
    "print(tail)"
   ]
  },
  {
   "cell_type": "markdown",
   "id": "159fa149",
   "metadata": {},
   "source": [
    "# Calc"
   ]
  },
  {
   "cell_type": "code",
   "execution_count": 4,
   "id": "0f56dcf6",
   "metadata": {},
   "outputs": [
    {
     "name": "stdout",
     "output_type": "stream",
     "text": [
      "1) Addition   2) Subtraction   3) Multiplication   4) Division\n",
      "Enter the desired number of operation: 4\n",
      "Enter two number for operand.\n",
      "10\n",
      "9\n",
      "10 / 9 = 1.1111111111111112\n"
     ]
    }
   ],
   "source": [
    "def func():\n",
    "    print(\"1) Addition   2) Subtraction   3) Multiplication   4) Division\")\n",
    "\n",
    "    op = int(input(\"Enter the desired number of operation: \"))\n",
    "\n",
    "    if op not in [1, 2, 3, 4]:\n",
    "        print(\"Not a valid operator! Abort mission!\")\n",
    "        return\n",
    "\n",
    "    print(\"Enter two number for operand.\")\n",
    "\n",
    "    num1 = int(input(\"\"))\n",
    "    num2 = int(input(\"\"))\n",
    "\n",
    "    if op == 1:\n",
    "        print(f\"{num1} + {num2} = {num1 + num2}\")\n",
    "    elif op == 2:\n",
    "        print(f\"{num1} - {num2} = {num1 - num2}\")\n",
    "    elif op == 3:\n",
    "        print(f\"{num1} * {num2} = {num1 * num2}\")\n",
    "    else:\n",
    "        print(f\"{num1} / {num2} = {num1 / num2}\")\n",
    "    \n",
    "func()"
   ]
  },
  {
   "cell_type": "code",
   "execution_count": null,
   "id": "2acbf656",
   "metadata": {},
   "outputs": [],
   "source": []
  }
 ],
 "metadata": {
  "kernelspec": {
   "display_name": "Python 3 (ipykernel)",
   "language": "python",
   "name": "python3"
  },
  "language_info": {
   "codemirror_mode": {
    "name": "ipython",
    "version": 3
   },
   "file_extension": ".py",
   "mimetype": "text/x-python",
   "name": "python",
   "nbconvert_exporter": "python",
   "pygments_lexer": "ipython3",
   "version": "3.9.13"
  }
 },
 "nbformat": 4,
 "nbformat_minor": 5
}
