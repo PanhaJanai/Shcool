{
 "cells": [
  {
   "cell_type": "markdown",
   "id": "7b0f7278",
   "metadata": {},
   "source": [
    "# Quick sort"
   ]
  },
  {
   "cell_type": "markdown",
   "id": "6575a345",
   "metadata": {},
   "source": [
    "## Incorrect"
   ]
  },
  {
   "cell_type": "code",
   "execution_count": 92,
   "id": "4e8cccef",
   "metadata": {
    "scrolled": false
   },
   "outputs": [
    {
     "name": "stdout",
     "output_type": "stream",
     "text": [
      "[18, 39, 41, 45, 46, 50, 51, 80, 57, 84]\n"
     ]
    }
   ],
   "source": [
    "def partition(nums, low, high):\n",
    "    pivot = nums[low]\n",
    "    left, right = low + 1, high\n",
    "    while left < right:\n",
    "#         print(nums)\n",
    "        while left <= right and nums[left] <= pivot:\n",
    "            left += 1\n",
    "        while left <= right and nums[right] >= pivot:\n",
    "            right -= 1\n",
    "        if left < right:\n",
    "            nums[left], nums[right] = nums[right], nums[left]\n",
    "    pivot_point = right\n",
    "    nums[low], nums[pivot_point] = nums[pivot_point], nums[low]\n",
    "    return pivot_point\n",
    "\n",
    "def quickSort(nums, low, high):\n",
    "    if low < high:\n",
    "#         print(nums)\n",
    "        pivot_point = partition(nums, low, high)\n",
    "        quickSort(nums, low, pivot_point - 1)\n",
    "        quickSort(nums, pivot_point + 1, high)\n",
    "        \n",
    "from random import randint\n",
    "l = [randint(0, 100) for i in range(10)]\n",
    "# l = [25, 22, 20, 15, 13, 12, 10]\n",
    "\n",
    "quickSort(l, 0, len(l) - 1)\n",
    "\n",
    "print(l)\n",
    "\n",
    "# assert quickSort([3, 2, 1], 0, 2) == [1, 2, 3]\n",
    "# assert quickSort([5, 4, 3, 2, 1], 0, 4) == [1, 2, 3, 4, 5]\n",
    "# assert quickSort([1, 2, 3, 4, 5], 0, 4) == [1, 2, 3, 4, 5]"
   ]
  },
  {
   "cell_type": "markdown",
   "id": "27ca2efd",
   "metadata": {},
   "source": [
    "## Correct"
   ]
  },
  {
   "cell_type": "code",
   "execution_count": 67,
   "id": "c0605833",
   "metadata": {},
   "outputs": [
    {
     "name": "stdout",
     "output_type": "stream",
     "text": [
      "[58, 44, 98, 94, 47, 53, 72, 1, 2, 34]\n",
      "[58, 44, 98, 94, 47, 53, 72, 1, 2, 34] 0 9 pivot = 58\n",
      "[1, 44, 34, 2, 47, 53, 58, 72, 94, 98]\n",
      "[2, 44, 34, 1, 47, 53, 58, 72, 94, 98] 0 5 pivot = 2\n",
      "[1, 2, 34, 44, 47, 53, 58, 72, 94, 98]\n",
      "[1, 2, 44, 34, 47, 53, 58, 72, 94, 98] 2 5 pivot = 44\n",
      "[1, 2, 34, 44, 47, 53, 58, 72, 94, 98]\n",
      "[1, 2, 34, 44, 53, 47, 58, 72, 94, 98] 4 5 pivot = 53\n",
      "[1, 2, 34, 44, 47, 53, 58, 72, 94, 98]\n",
      "[1, 2, 34, 44, 47, 53, 58, 72, 94, 98] 7 9 pivot = 72\n",
      "[1, 2, 34, 44, 47, 53, 58, 72, 94, 98]\n",
      "[1, 2, 34, 44, 47, 53, 58, 72, 98, 94] 8 9 pivot = 98\n",
      "[1, 2, 34, 44, 47, 53, 58, 72, 94, 98]\n"
     ]
    }
   ],
   "source": [
    "from random import randint\n",
    "\n",
    "def partition2(nums, low, high):\n",
    "    rand = randint(low, high)\n",
    "    nums[low], nums[rand] = nums[rand], nums[low]\n",
    "    pivot, left, right = nums[low], low, high\n",
    "    print(nums, left, right, \"pivot =\", pivot)\n",
    "    while left < right:\n",
    "        while left < high and nums[left] <= pivot:\n",
    "            left += 1\n",
    "        while right > low and pivot <= nums[right]:\n",
    "            right -= 1\n",
    "        if left < right:\n",
    "            nums[left], nums[right] = nums[right], nums[left]\n",
    "    nums[low], nums[right] = nums[right], nums[low]\n",
    "    return right\n",
    "    \n",
    "def quickSort2(nums, low, high):\n",
    "    if low < high:\n",
    "        print(nums)\n",
    "        pivot_point = partition2(nums, low, high)\n",
    "        quickSort2(nums, low, pivot_point - 1)\n",
    "        quickSort2(nums, pivot_point + 1, high)\n",
    "        \n",
    "l = [randint(0, 100) for i in range(10)]\n",
    "l1 = [58, 44, 98, 94, 47, 53, 72, 1, 2, 34]\n",
    "\n",
    "quickSort2(l1, 0, len(l) - 1)\n",
    "\n",
    "print(l1)\n",
    "# [58, 44, 98, 94, 47, 53, 72, 1, 2, 34]"
   ]
  },
  {
   "cell_type": "code",
   "execution_count": null,
   "id": "0753b896",
   "metadata": {},
   "outputs": [],
   "source": []
  },
  {
   "cell_type": "code",
   "execution_count": null,
   "id": "016c005b",
   "metadata": {},
   "outputs": [],
   "source": []
  },
  {
   "cell_type": "code",
   "execution_count": null,
   "id": "cbf310a6",
   "metadata": {},
   "outputs": [],
   "source": [
    "S"
   ]
  }
 ],
 "metadata": {
  "kernelspec": {
   "display_name": "Python 3 (ipykernel)",
   "language": "python",
   "name": "python3"
  },
  "language_info": {
   "codemirror_mode": {
    "name": "ipython",
    "version": 3
   },
   "file_extension": ".py",
   "mimetype": "text/x-python",
   "name": "python",
   "nbconvert_exporter": "python",
   "pygments_lexer": "ipython3",
   "version": "3.9.13"
  }
 },
 "nbformat": 4,
 "nbformat_minor": 5
}
