{
 "cells": [
  {
   "cell_type": "markdown",
   "id": "bd245cac",
   "metadata": {},
   "source": [
    "# Q2"
   ]
  },
  {
   "cell_type": "code",
   "execution_count": 4,
   "id": "22654013",
   "metadata": {},
   "outputs": [
    {
     "name": "stdout",
     "output_type": "stream",
     "text": [
      "mul_add\n"
     ]
    },
    {
     "data": {
      "text/plain": [
       "14"
      ]
     },
     "execution_count": 4,
     "metadata": {},
     "output_type": "execute_result"
    }
   ],
   "source": [
    "def calc():\n",
    "    a = 3\n",
    "    b = 5\n",
    "    def mul_add(x):\n",
    "        return a * x + b\n",
    "    return mul_add\n",
    "\n",
    "num = calc()\n",
    "print(num.__name__)\n",
    "num(3)"
   ]
  },
  {
   "cell_type": "markdown",
   "id": "f17b0a25",
   "metadata": {},
   "source": [
    "# Q3"
   ]
  },
  {
   "cell_type": "code",
   "execution_count": 7,
   "id": "a733631b",
   "metadata": {},
   "outputs": [
    {
     "name": "stdout",
     "output_type": "stream",
     "text": [
      "<lambda>\n"
     ]
    },
    {
     "data": {
      "text/plain": [
       "14"
      ]
     },
     "execution_count": 7,
     "metadata": {},
     "output_type": "execute_result"
    }
   ],
   "source": [
    "def calc():\n",
    "    a = 3\n",
    "    b = 5\n",
    "    return lambda x: a * x + b\n",
    "\n",
    "num = calc()\n",
    "print(num.__name__)\n",
    "num(3)"
   ]
  },
  {
   "cell_type": "markdown",
   "id": "562a36d9",
   "metadata": {},
   "source": [
    "# Graphics with Python's turtle"
   ]
  },
  {
   "cell_type": "code",
   "execution_count": 2,
   "id": "cc0c1f2d",
   "metadata": {
    "collapsed": true
   },
   "outputs": [
    {
     "ename": "Terminator",
     "evalue": "",
     "output_type": "error",
     "traceback": [
      "\u001b[1;31m---------------------------------------------------------------------------\u001b[0m",
      "\u001b[1;31mTclError\u001b[0m                                  Traceback (most recent call last)",
      "\u001b[1;32m~\\anaconda\\lib\\turtle.py\u001b[0m in \u001b[0;36mforward\u001b[1;34m(distance)\u001b[0m\n",
      "\u001b[1;32m~\\anaconda\\lib\\turtle.py\u001b[0m in \u001b[0;36mforward\u001b[1;34m(self, distance)\u001b[0m\n\u001b[0;32m   1637\u001b[0m         \"\"\"\n\u001b[1;32m-> 1638\u001b[1;33m         \u001b[0mself\u001b[0m\u001b[1;33m.\u001b[0m\u001b[0m_go\u001b[0m\u001b[1;33m(\u001b[0m\u001b[0mdistance\u001b[0m\u001b[1;33m)\u001b[0m\u001b[1;33m\u001b[0m\u001b[1;33m\u001b[0m\u001b[0m\n\u001b[0m\u001b[0;32m   1639\u001b[0m \u001b[1;33m\u001b[0m\u001b[0m\n",
      "\u001b[1;32m~\\anaconda\\lib\\turtle.py\u001b[0m in \u001b[0;36m_go\u001b[1;34m(self, distance)\u001b[0m\n\u001b[0;32m   1605\u001b[0m         \u001b[0mende\u001b[0m \u001b[1;33m=\u001b[0m \u001b[0mself\u001b[0m\u001b[1;33m.\u001b[0m\u001b[0m_position\u001b[0m \u001b[1;33m+\u001b[0m \u001b[0mself\u001b[0m\u001b[1;33m.\u001b[0m\u001b[0m_orient\u001b[0m \u001b[1;33m*\u001b[0m \u001b[0mdistance\u001b[0m\u001b[1;33m\u001b[0m\u001b[1;33m\u001b[0m\u001b[0m\n\u001b[1;32m-> 1606\u001b[1;33m         \u001b[0mself\u001b[0m\u001b[1;33m.\u001b[0m\u001b[0m_goto\u001b[0m\u001b[1;33m(\u001b[0m\u001b[0mende\u001b[0m\u001b[1;33m)\u001b[0m\u001b[1;33m\u001b[0m\u001b[1;33m\u001b[0m\u001b[0m\n\u001b[0m\u001b[0;32m   1607\u001b[0m \u001b[1;33m\u001b[0m\u001b[0m\n",
      "\u001b[1;32m~\\anaconda\\lib\\turtle.py\u001b[0m in \u001b[0;36m_goto\u001b[1;34m(self, end)\u001b[0m\n\u001b[0;32m   3177\u001b[0m                 \u001b[1;32mif\u001b[0m \u001b[0mself\u001b[0m\u001b[1;33m.\u001b[0m\u001b[0m_drawing\u001b[0m\u001b[1;33m:\u001b[0m\u001b[1;33m\u001b[0m\u001b[1;33m\u001b[0m\u001b[0m\n\u001b[1;32m-> 3178\u001b[1;33m                     screen._drawline(self.drawingLineItem,\n\u001b[0m\u001b[0;32m   3179\u001b[0m                                      \u001b[1;33m(\u001b[0m\u001b[0mstart\u001b[0m\u001b[1;33m,\u001b[0m \u001b[0mself\u001b[0m\u001b[1;33m.\u001b[0m\u001b[0m_position\u001b[0m\u001b[1;33m)\u001b[0m\u001b[1;33m,\u001b[0m\u001b[1;33m\u001b[0m\u001b[1;33m\u001b[0m\u001b[0m\n",
      "\u001b[1;32m~\\anaconda\\lib\\turtle.py\u001b[0m in \u001b[0;36m_drawline\u001b[1;34m(self, lineitem, coordlist, fill, width, top)\u001b[0m\n\u001b[0;32m    543\u001b[0m                 \u001b[0mcl\u001b[0m\u001b[1;33m.\u001b[0m\u001b[0mappend\u001b[0m\u001b[1;33m(\u001b[0m\u001b[1;33m-\u001b[0m\u001b[0my\u001b[0m \u001b[1;33m*\u001b[0m \u001b[0mself\u001b[0m\u001b[1;33m.\u001b[0m\u001b[0myscale\u001b[0m\u001b[1;33m)\u001b[0m\u001b[1;33m\u001b[0m\u001b[1;33m\u001b[0m\u001b[0m\n\u001b[1;32m--> 544\u001b[1;33m             \u001b[0mself\u001b[0m\u001b[1;33m.\u001b[0m\u001b[0mcv\u001b[0m\u001b[1;33m.\u001b[0m\u001b[0mcoords\u001b[0m\u001b[1;33m(\u001b[0m\u001b[0mlineitem\u001b[0m\u001b[1;33m,\u001b[0m \u001b[1;33m*\u001b[0m\u001b[0mcl\u001b[0m\u001b[1;33m)\u001b[0m\u001b[1;33m\u001b[0m\u001b[1;33m\u001b[0m\u001b[0m\n\u001b[0m\u001b[0;32m    545\u001b[0m         \u001b[1;32mif\u001b[0m \u001b[0mfill\u001b[0m \u001b[1;32mis\u001b[0m \u001b[1;32mnot\u001b[0m \u001b[1;32mNone\u001b[0m\u001b[1;33m:\u001b[0m\u001b[1;33m\u001b[0m\u001b[1;33m\u001b[0m\u001b[0m\n",
      "\u001b[1;32m<string>\u001b[0m in \u001b[0;36mcoords\u001b[1;34m(self, *args, **kw)\u001b[0m\n",
      "\u001b[1;32m~\\anaconda\\lib\\tkinter\\__init__.py\u001b[0m in \u001b[0;36mcoords\u001b[1;34m(self, *args)\u001b[0m\n\u001b[0;32m   2765\u001b[0m                            self.tk.splitlist(\n\u001b[1;32m-> 2766\u001b[1;33m                    self.tk.call((self._w, 'coords') + args))]\n\u001b[0m\u001b[0;32m   2767\u001b[0m \u001b[1;33m\u001b[0m\u001b[0m\n",
      "\u001b[1;31mTclError\u001b[0m: invalid command name \".!canvas\"",
      "\nDuring handling of the above exception, another exception occurred:\n",
      "\u001b[1;31mTerminator\u001b[0m                                Traceback (most recent call last)",
      "\u001b[1;32m~\\AppData\\Local\\Temp\\ipykernel_6244\\2259803739.py\u001b[0m in \u001b[0;36m<module>\u001b[1;34m\u001b[0m\n\u001b[0;32m      6\u001b[0m \u001b[0mt\u001b[0m\u001b[1;33m.\u001b[0m\u001b[0mcolor\u001b[0m\u001b[1;33m(\u001b[0m\u001b[1;34m\"green\"\u001b[0m\u001b[1;33m)\u001b[0m\u001b[1;33m\u001b[0m\u001b[1;33m\u001b[0m\u001b[0m\n\u001b[0;32m      7\u001b[0m \u001b[1;32mfor\u001b[0m \u001b[0mi\u001b[0m \u001b[1;32min\u001b[0m \u001b[0mrange\u001b[0m\u001b[1;33m(\u001b[0m\u001b[1;36m200\u001b[0m\u001b[1;33m)\u001b[0m\u001b[1;33m:\u001b[0m\u001b[1;33m\u001b[0m\u001b[1;33m\u001b[0m\u001b[0m\n\u001b[1;32m----> 8\u001b[1;33m     \u001b[0mt\u001b[0m\u001b[1;33m.\u001b[0m\u001b[0mforward\u001b[0m\u001b[1;33m(\u001b[0m\u001b[0mi\u001b[0m\u001b[1;33m)\u001b[0m\u001b[1;33m\u001b[0m\u001b[1;33m\u001b[0m\u001b[0m\n\u001b[0m\u001b[0;32m      9\u001b[0m     \u001b[0mt\u001b[0m\u001b[1;33m.\u001b[0m\u001b[0mleft\u001b[0m\u001b[1;33m(\u001b[0m\u001b[1;36m93\u001b[0m\u001b[1;33m)\u001b[0m\u001b[1;33m\u001b[0m\u001b[1;33m\u001b[0m\u001b[0m\n\u001b[0;32m     10\u001b[0m     \u001b[1;32mif\u001b[0m \u001b[0mi\u001b[0m \u001b[1;33m%\u001b[0m \u001b[1;36m10\u001b[0m \u001b[1;33m==\u001b[0m \u001b[1;36m0\u001b[0m\u001b[1;33m:\u001b[0m\u001b[1;33m\u001b[0m\u001b[1;33m\u001b[0m\u001b[0m\n",
      "\u001b[1;32m~\\anaconda\\lib\\turtle.py\u001b[0m in \u001b[0;36mforward\u001b[1;34m(distance)\u001b[0m\n",
      "\u001b[1;31mTerminator\u001b[0m: "
     ]
    }
   ],
   "source": [
    "import turtle as t\n",
    "\n",
    "t.setup(width=100, height=100)\n",
    "\n",
    "t.color(\"green\")\n",
    "for i in range(200):\n",
    "    t.forward(i)\n",
    "    t.left(93)\n",
    "t.done()"
   ]
  },
  {
   "cell_type": "markdown",
   "id": "ad1b6669",
   "metadata": {},
   "source": [
    "# Regular Expression "
   ]
  },
  {
   "cell_type": "code",
   "execution_count": 7,
   "id": "c096bc2a",
   "metadata": {},
   "outputs": [
    {
     "name": "stdout",
     "output_type": "stream",
     "text": [
      "<re.Match object; span=(0, 4), match='Life'>\n"
     ]
    }
   ],
   "source": [
    "import re\n",
    "\n",
    "txt1 = \"Life is too short, you need Python.\"\n",
    "txt2 = \"The best moments of my Life.\"\n",
    "\n",
    "print(re.search(\"Life\", txt1))\n",
    "\n",
    "# span=(0, 4) \"Life\" span from index 0 to 4"
   ]
  },
  {
   "cell_type": "code",
   "execution_count": null,
   "id": "cd5c8bae",
   "metadata": {},
   "outputs": [],
   "source": []
  },
  {
   "cell_type": "code",
   "execution_count": 34,
   "id": "88c246de",
   "metadata": {},
   "outputs": [
    {
     "name": "stdout",
     "output_type": "stream",
     "text": [
      "012-3456-7890\n",
      "012-3456-7890\n",
      "012\n",
      "3456-7890\n"
     ]
    }
   ],
   "source": [
    "import re\n",
    "\n",
    "text = \"Please call 012-3456-7890\"\n",
    "\n",
    "regex = re.compile(\"(\\d{3})-(\\d{4}-\\d{4})\")\n",
    "match_obj = regex.search(text)\n",
    "\n",
    "print(match_obj.group())\n",
    "print(match_obj.group(0))\n",
    "print(match_obj.group(1))\n",
    "print(match_obj.group(2))"
   ]
  },
  {
   "cell_type": "markdown",
   "id": "23c6924d",
   "metadata": {},
   "source": [
    "## Re special symbols"
   ]
  },
  {
   "cell_type": "code",
   "execution_count": 80,
   "id": "2f244fb7",
   "metadata": {},
   "outputs": [
    {
     "name": "stdout",
     "output_type": "stream",
     "text": [
      "<re.Match object; span=(0, 4), match='Life'>\n",
      "<re.Match object; span=(13, 17), match='life'>\n",
      "['John', 'Yohn']\n",
      "----------- 1 ------------\n",
      "['1', '1', '2']\n",
      "['L', 'i', 'f', 'e', 'T', 'h', 'e', 'r', 'e', 'a', 'r', 'e', 'm', 'a', 'n', 'y', 't', 'h', 'i', 'n', 'g', 's', 'i', 'n', 'l', 'i', 'f', 'e', 'a', 'n', 'd', 'l', 'i', 'f', 'e', 'i', 'n', 'm', 'a', 'n', 'y', 't', 'h', 'i', 'n', 'g', 's', 'Y', 'o', 'u', 'h', 'a', 'v', 'e', '1', 'l', 'i', 'f', 'e', 'b', 'u', 't', 'l', 'i', 'f', 'e', 'i', 's', 'm', 'o', 'r', 'e', 't', 'h', 'a', 'n', '1', 'o', 'r', '2', 'W', 'e', 'e', 'e', 'e', 'e', 'e', 'e', 'e', 's', 'h', 'e', 'e', 'e', 'e', 'e', 's', 'h', 'W', 'e', 'w', 'e', 'w', 'e', 'w', 'e', 'w', 'e']\n",
      "----------- 2 ------------\n",
      "<re.Match object; span=(5, 6), match=' '>\n",
      "[' ', ' ', ' ', ' ', ' ', ' ', ' ', ' ', ' ', ' ', ' ', ' ', ' ', ' ', ' ', ' ', ' ', ' ', ' ', ' ', ' ', ' ', ' ', ' ', ' ', ' ']\n",
      "----------- 3 ------------\n",
      "<re.Match object; span=(0, 1), match='L'>\n",
      "['L', 'i', 'f', 'e', '!', 'T', 'h', 'e', 'r', 'e', 'a', 'r', 'e', 'm', 'a', 'n', 'y', 't', 'h', 'i', 'n', 'g', 's', 'i', 'n', 'l', 'i', 'f', 'e', ',', 'a', 'n', 'd', 'l', 'i', 'f', 'e', 'i', 'n', 'm', 'a', 'n', 'y', 't', 'h', 'i', 'n', 'g', 's', '.', 'Y', 'o', 'u', 'h', 'a', 'v', 'e', '1', 'l', 'i', 'f', 'e', ',', 'b', 'u', 't', 'l', 'i', 'f', 'e', 'i', 's', 'm', 'o', 'r', 'e', 't', 'h', 'a', 'n', '1', 'o', 'r', '2', '.', 'W', 'e', 'e', 'e', 'e', 'e', 'e', 'e', 'e', ',', 's', 'h', 'e', 'e', 'e', 'e', 'e', 's', 'h', '.', 'W', 'e', 'w', 'e', 'w', 'e', 'w', 'e', 'w', 'e', '.']\n",
      "----------- 4 ------------\n",
      "2\n",
      "<re.Match object; span=(109, 118), match='Weeeeeeee'>\n",
      "2\n",
      "<re.Match object; span=(109, 118), match='Weeeeeeee'>\n",
      "----------- 5 ------------\n",
      "<re.Match object; span=(3, 4), match='e'>\n",
      "<re.Match object; span=(0, 1), match='L'>\n",
      "['Life', 'life', 'life', 'life', 'life']\n",
      "----------- 6 ------------\n",
      "2\n",
      "<re.Match object; span=(109, 111), match='We'>\n",
      "----------- 7 ------------\n"
     ]
    },
    {
     "data": {
      "text/plain": [
       "<function print>"
      ]
     },
     "execution_count": 80,
     "metadata": {},
     "output_type": "execute_result"
    }
   ],
   "source": [
    "import re\n",
    "\n",
    "t1 = \"Life Life is good\"\n",
    "t2 = \"Good is life life\"\n",
    "txt = \"Life! There are many things in life, and life in many things. You have 1 life, but life is more than 1 or 2. Weeeeeeee, sheeeeesh. Wewewewewe.\"\n",
    "names = \"John, Panha, Hanha, Yohn, Sawn, Yawn\"\n",
    "\n",
    "# ^ is for find the first instance and $ is for the last\n",
    "print(re.search(\"^Life\", t1))\n",
    "print(re.search(\"life$\", t2))\n",
    "\n",
    "# '.' is like a place holder for 1 character\n",
    "print(re.findall(\".ohn\", names))\n",
    "\n",
    "print(\"----------- 1 ------------\")\n",
    "#search for digit for \"\\d\", and any character for \"\\w\"\n",
    "print(re.findall(\"\\d\", txt)) \n",
    "print(re.findall(\"\\w\", txt))\n",
    "\n",
    "print(\"----------- 2 ------------\")\n",
    "# search for the white-space(s)\n",
    "print(re.search(\"\\s\", txt))\n",
    "print(re.findall(\"\\s\", txt))\n",
    "\n",
    "print(\"----------- 3 ------------\")\n",
    "print(re.search(\"\\S\", txt))\n",
    "print(re.findall(\"\\S\", txt))\n",
    "\n",
    "print(\"----------- 4 ------------\")\n",
    "print(len(re.findall(\"We*\", txt)))\n",
    "print((re.search(\"We*\", txt)))\n",
    "print(len(re.findall(\"We+\", txt)))\n",
    "print((re.search(\"We+\", txt)))\n",
    "\n",
    "print(\"----------- 5 ------------\")\n",
    "print(re.search(\"[there]\", txt)) # find if there is any letters in \"there\" (t, h, e, r)\n",
    "print(re.search(\"[^there]\", txt)) # find if there is not any letters in \"there\" (t, h, e, r)\n",
    "print(re.findall(\"[Ll]ife\", txt)) # == re.findall(\"Life|life\")\n",
    "\n",
    "print(\"----------- 6 ------------\")\n",
    "print(len(re.findall(\"We?\", txt)))\n",
    "print((re.search(\"We?\", txt)))\n",
    "\n",
    "print(\"----------- 7 ------------\")\n",
    "print"
   ]
  },
  {
   "cell_type": "markdown",
   "id": "01fb73e4",
   "metadata": {},
   "source": [
    "# Q1"
   ]
  },
  {
   "cell_type": "code",
   "execution_count": 98,
   "id": "c7ad6f42",
   "metadata": {},
   "outputs": [
    {
     "name": "stdout",
     "output_type": "stream",
     "text": [
      "result: [5, 7, 10, 14, 15, 20, 21, 25, 28, 30, 35, 35, 40, 42, 45, 49, 50, 55, 56, 60, 63, 65, 70, 70, 75, 77, 80, 84, 85, 90, 91, 95, 98, 100]\n",
      "finale: [5, 7, 10, 14, 15, 20, 21, 25, 28, 30, 40, 42, 45, 49, 50, 55, 56, 60, 63, 65, 75, 77, 80, 84, 85, 90, 91, 95, 98, 100]\n"
     ]
    }
   ],
   "source": [
    "lst = list(range(1, 101))\n",
    "result = 0\n",
    "\n",
    "def func1(a):\n",
    "    def func2():\n",
    "        result1 = []\n",
    "        for i in a:\n",
    "            if i % 5 == 0:\n",
    "                result1.append(i)\n",
    "        return result1\n",
    "\n",
    "    def func3(): \n",
    "        result2 = []\n",
    "        for i in a:\n",
    "            if i % 7 == 0:\n",
    "                result2.append(i)\n",
    "        return result2\n",
    "    return func2, func3\n",
    "    \n",
    "functions = func1(lst)\n",
    "result = (functions[0]() + functions[1]())\n",
    "result.sort()\n",
    "\n",
    "print(\"result:\", result)\n",
    "print(\"finale:\", list(filter(lambda a: result.count(a) == 1, result)))"
   ]
  },
  {
   "cell_type": "markdown",
   "id": "1e1de603",
   "metadata": {},
   "source": [
    "# Class"
   ]
  },
  {
   "cell_type": "code",
   "execution_count": 40,
   "id": "3e543616",
   "metadata": {},
   "outputs": [
    {
     "name": "stdout",
     "output_type": "stream",
     "text": [
      "1000 dolla has been deposited. The balnce is 2000 won.\n",
      "The amount 3000 won is more than what the user have in theirs bank account. They have 2000\n"
     ]
    }
   ],
   "source": [
    "class BankAccount:\n",
    "    def __init__(self, name, acc_id, bal=0):\n",
    "        self.name = name\n",
    "        self.acc_id = acc_id\n",
    "        self.bal = bal\n",
    "        \n",
    "    def __str__(self):\n",
    "        print(\"This is an object of class BankAccount.\")\n",
    "        \n",
    "    def deposit(self, amount):\n",
    "        self.bal += amount\n",
    "        print(f\"{amount} dolla has been deposited. The balnce is {self.bal} won.\")\n",
    "        \n",
    "    def withdraw(self, amount):\n",
    "        if self.bal - amount > 0:\n",
    "            self.bal -= amount\n",
    "            print(f\"You withdrew {amount}. You now have {self.bal} in your bank account.\")\n",
    "        else:\n",
    "            print(f\"The amount {amount} won is more than what you have in your bank account. You have {self.bal}\")\n",
    "\n",
    "dav = BankAccount(\"David\", 1, 1000)\n",
    "\n",
    "dav.deposit(1000)\n",
    "dav.withdraw(3000)"
   ]
  },
  {
   "cell_type": "markdown",
   "id": "3d6b4bf6",
   "metadata": {},
   "source": [
    "## Cat class"
   ]
  },
  {
   "cell_type": "code",
   "execution_count": 12,
   "id": "cb870af1",
   "metadata": {},
   "outputs": [
    {
     "name": "stdout",
     "output_type": "stream",
     "text": [
      "Cat(name=Chungus, color=brown)\n",
      "{'name': 'Chungus', 'color': 'brown', 'gender': 'M'}\n"
     ]
    }
   ],
   "source": [
    "class Cat:\n",
    "    def __init__(self, chmous, poar, phet):\n",
    "        self.name = chmous\n",
    "        self.color = poar\n",
    "        self.gender = phet\n",
    "        \n",
    "    def __str__(self):\n",
    "        return f\"Cat(name={self.name}, color={self.color})\"\n",
    "        # 'Cat(name='+self.name+', color='+self.color+')'\n",
    "        # Only work if '' is used instead of \"\" because it's just simple string concatination\n",
    "        # 'Cat(name=' + self.name + ', color=' + self.color + ')'\n",
    "        \n",
    "    def meow(self):\n",
    "        pass\n",
    "    \n",
    "    def run(self):\n",
    "        pass\n",
    "    \n",
    "    def walk(self):\n",
    "        pass\n",
    "    \n",
    "cat1 = Cat(\"Chungus\", \"brown\", \"M\")\n",
    "\n",
    "print(cat1)\n",
    "print(cat1.__dict__)"
   ]
  },
  {
   "cell_type": "markdown",
   "id": "aceee2bc",
   "metadata": {},
   "source": [
    "## class Circle"
   ]
  },
  {
   "cell_type": "code",
   "execution_count": 79,
   "id": "be29715b",
   "metadata": {},
   "outputs": [
    {
     "name": "stdout",
     "output_type": "stream",
     "text": [
      "Area of c1 is 30.959144000000002\n",
      "Area of c2 is 30.988732221\n",
      "Area of c3 is 31.003533398375\n",
      "\n",
      "Attribute of c1 is {'_Circle__name': 'c1', '_Circle__radius': 3, '_Circle__pi': 3.14}\n",
      "c1\n"
     ]
    }
   ],
   "source": [
    "class Circle:\n",
    "    def __init__(self, name, radius, pi):\n",
    "        self.__name = name\n",
    "        self.__radius = radius\n",
    "        self.__pi = pi\n",
    "        \n",
    "    def getName(self):\n",
    "        return self.__name\n",
    "        \n",
    "    def calcArea(self):\n",
    "        return (self.__pi * (self.__pi ** 2))\n",
    "    \n",
    "c1 = Circle(\"c1\", 3, 3.14)\n",
    "print(\"Area of {} is\".format(c1.getName()), c1.calcArea())\n",
    "\n",
    "c2 = Circle(\"c2\", 6, 3.141)\n",
    "print(\"Area of {} is\".format(c2.getName()), c2.calcArea())\n",
    "\n",
    "c3 = Circle(\"c3\", 9, 3.1415)\n",
    "print(\"Area of {} is\".format(c3.getName()), c3.calcArea())\n",
    "\n",
    "print()\n",
    "print(\"Attribute of c1 is\", c1.__dict__)\n",
    "print(c1.__dict__[\"_Circle__name\"])"
   ]
  },
  {
   "cell_type": "markdown",
   "id": "4d019cd7",
   "metadata": {},
   "source": [
    "# Class inheritance"
   ]
  },
  {
   "cell_type": "code",
   "execution_count": 82,
   "id": "a399a8ff",
   "metadata": {
    "scrolled": true
   },
   "outputs": [
    {
     "name": "stdout",
     "output_type": "stream",
     "text": [
      "3.14\n",
      "3.14\n"
     ]
    }
   ],
   "source": [
    "class A:\n",
    "    PI = 3.14\n",
    "    \n",
    "class B(A):\n",
    "    pass\n",
    "\n",
    "a = A()\n",
    "b = B()\n",
    "\n",
    "print(a.PI)\n",
    "print(b.PI)"
   ]
  },
  {
   "cell_type": "markdown",
   "id": "eedfbfe4",
   "metadata": {},
   "source": [
    "# Q1"
   ]
  },
  {
   "cell_type": "code",
   "execution_count": 5,
   "id": "59ec60ef",
   "metadata": {},
   "outputs": [
    {
     "name": "stdout",
     "output_type": "stream",
     "text": [
      "Woof woof\n"
     ]
    }
   ],
   "source": [
    "class Dog:\n",
    "    def bark(self):\n",
    "        print(\"Woof woof\")\n",
    "        \n",
    "my_dog = Dog()\n",
    "my_dog.bark()"
   ]
  },
  {
   "cell_type": "markdown",
   "id": "f40b96f5",
   "metadata": {},
   "source": [
    "# Q2"
   ]
  },
  {
   "cell_type": "code",
   "execution_count": 6,
   "id": "f41ca95a",
   "metadata": {},
   "outputs": [
    {
     "name": "stdout",
     "output_type": "stream",
     "text": [
      "Bingo: Woof woof\n"
     ]
    }
   ],
   "source": [
    "class Dog:\n",
    "    def __init__(self, name):\n",
    "        self.name = name\n",
    "        \n",
    "    def bark(self):\n",
    "        print(f\"{self.name}: woof woof\")\n",
    "        \n",
    "my_dog = Dog(\"Bingo\")\n",
    "my_dog.bark()"
   ]
  },
  {
   "cell_type": "markdown",
   "id": "cb437f9b",
   "metadata": {},
   "source": [
    "## Importance of encapsulation"
   ]
  },
  {
   "cell_type": "code",
   "execution_count": 15,
   "id": "ba60b823",
   "metadata": {},
   "outputs": [
    {
     "name": "stdout",
     "output_type": "stream",
     "text": [
      "Cat(name=Chungus, age=4)\n",
      "Cat(name=Chungus, age=7)\n"
     ]
    }
   ],
   "source": [
    "class Cat:\n",
    "    def __init__(self, chmous, ahyu):\n",
    "        self.__name = chmous\n",
    "        self.__age = ahyu\n",
    "        \n",
    "    def __str__(self):\n",
    "        return f\"Cat(name={self.__name}, age={self.__age})\"\n",
    "    \n",
    "    def setAge(self, age):\n",
    "        if age > 0:\n",
    "            self.__age = age\n",
    "            \n",
    "    def getAge(self):\n",
    "        return self.__age\n",
    "    \n",
    "pussy = Cat(\"Chungus\", 4)\n",
    "print(pussy)\n",
    "\n",
    "pussy.setAge(7)\n",
    "pussy.setAge(-5)\n",
    "print(pussy)"
   ]
  },
  {
   "cell_type": "markdown",
   "id": "9835c46c",
   "metadata": {},
   "source": [
    "## Special methods for operating on classes\n",
    "\n",
    "Specimen 1: Without special methods"
   ]
  },
  {
   "cell_type": "code",
   "execution_count": 20,
   "id": "818c10d5",
   "metadata": {},
   "outputs": [
    {
     "name": "stdout",
     "output_type": "stream",
     "text": [
      "(40, 60)\n"
     ]
    }
   ],
   "source": [
    "class Vector2D:\n",
    "    def __init__(self, x, y):\n",
    "        self.x = x\n",
    "        self.y = y\n",
    "        \n",
    "    def __str__(self):\n",
    "        return f\"({self.x}, {self.y})\"\n",
    "    \n",
    "    def add(self, other):\n",
    "        return Vector2D(self.x + other.x, self.y + other.y)\n",
    "        \n",
    "v1 = Vector2D(10, 20)\n",
    "v2 = Vector2D(30, 40)\n",
    "v3 = v1.add(v2)\n",
    "\n",
    "print(v3.__str__())"
   ]
  },
  {
   "cell_type": "markdown",
   "id": "e3afdc82",
   "metadata": {},
   "source": [
    "Specimen 2: With special methods"
   ]
  },
  {
   "cell_type": "code",
   "execution_count": 27,
   "id": "2005654c",
   "metadata": {},
   "outputs": [
    {
     "name": "stdout",
     "output_type": "stream",
     "text": [
      "(40, 60)\n"
     ]
    }
   ],
   "source": [
    "class Vector2D:\n",
    "    def __init__(self, x, y):\n",
    "        self.x = x\n",
    "        self.y = y\n",
    "        \n",
    "    def __str__(self):\n",
    "        return f\"({self.x}, {self.y})\"\n",
    "    \n",
    "    def __add__(self, other):\n",
    "        return Vector2D(self.x + other.x, self.y + other.y)\n",
    "    \n",
    "    def __sub__(self, other):\n",
    "        return Vector2D(self.x - other.x, self.y - other.y)\n",
    "    \n",
    "    def __mul__(self, other):\n",
    "        return Vector2D(self.x * other.x, self.y * other.y)\n",
    "    \n",
    "    def __pow__(self, other):\n",
    "        return Vector2D(self.x ** other.x, self.y ** other.y)\n",
    "    \n",
    "    def __truediv__(self, other):\n",
    "        return Vector2D(self.x / other.x, self.y / other.y)\n",
    "    \n",
    "    def __floordiv__(self, other):\n",
    "        return Vector2D(self.x // other.x, self.y // other.y)\n",
    "    \n",
    "    def __mod__(self, other):\n",
    "        return Vector2D(self.x % other.x, self.y % other.y)\n",
    "    \n",
    "    def __pos__(self):\n",
    "        return Vector2D(self.x, self.y)\n",
    "    \n",
    "    def __neg__(self):\n",
    "        return Vector2D(-self.x, -self.y)\n",
    "        \n",
    "v1 = Vector2D(10, 20)\n",
    "v2 = Vector2D(30, 40)\n",
    "v3 = v1 + v2\n",
    "\n",
    "print(v3)"
   ]
  },
  {
   "cell_type": "markdown",
   "id": "df2603c0",
   "metadata": {},
   "source": [
    "## Inheritance with class Person as base "
   ]
  },
  {
   "cell_type": "code",
   "execution_count": 28,
   "id": "45505159",
   "metadata": {},
   "outputs": [],
   "source": [
    "class Person:\n",
    "    def __init__(self, name):\n",
    "        self.name = name\n",
    "    def get_name(self):\n",
    "        return self.name\n",
    "    \n",
    "class Employee(Person):\n",
    "    def __init__(self, name, staff_id):\n",
    "        Person.__init__(self, name)\n",
    "        self.staff_id = staff_id\n",
    "    def info(self):\n",
    "        return \"staff: \" + self.get_name() + \", staffID: \" + str(self.staff_id)\n",
    "\n",
    "class Manager(Person):"
   ]
  },
  {
   "cell_type": "code",
   "execution_count": null,
   "id": "f938d949",
   "metadata": {},
   "outputs": [],
   "source": []
  }
 ],
 "metadata": {
  "kernelspec": {
   "display_name": "Python 3 (ipykernel)",
   "language": "python",
   "name": "python3"
  },
  "language_info": {
   "codemirror_mode": {
    "name": "ipython",
    "version": 3
   },
   "file_extension": ".py",
   "mimetype": "text/x-python",
   "name": "python",
   "nbconvert_exporter": "python",
   "pygments_lexer": "ipython3",
   "version": "3.9.13"
  }
 },
 "nbformat": 4,
 "nbformat_minor": 5
}
