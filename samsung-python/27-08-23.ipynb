{
 "cells": [
  {
   "cell_type": "markdown",
   "id": "aeca4551",
   "metadata": {},
   "source": [
    "## get https response"
   ]
  },
  {
   "cell_type": "code",
   "execution_count": 13,
   "id": "15ee8a76",
   "metadata": {},
   "outputs": [
    {
     "name": "stdout",
     "output_type": "stream",
     "text": [
      "731027\n"
     ]
    }
   ],
   "source": [
    "import urllib.request\n",
    "\n",
    "with urllib.request.urlopen(\"https://www.youtube.com/\") as response:\n",
    "    html = response.read()\n",
    "#     print(html)\n",
    "    print(len(html))"
   ]
  },
  {
   "cell_type": "markdown",
   "id": "cbbfb651",
   "metadata": {},
   "source": [
    "## items()"
   ]
  },
  {
   "cell_type": "code",
   "execution_count": 3,
   "id": "271b35cb",
   "metadata": {
    "scrolled": true
   },
   "outputs": [
    {
     "name": "stdout",
     "output_type": "stream",
     "text": [
      "apple : 2000\n",
      "banana : 3500\n",
      "coconut : 3500\n"
     ]
    }
   ],
   "source": [
    "dic = {\n",
    "    'apple': 2000,\n",
    "    'banana': 3500, \n",
    "    'coconut': 3500\n",
    "}\n",
    "\n",
    "for fruit, price in dic.items():\n",
    "    print(f\"{fruit} : {price}\")"
   ]
  },
  {
   "cell_type": "markdown",
   "id": "723ccc73",
   "metadata": {},
   "source": [
    "# Q1"
   ]
  },
  {
   "cell_type": "code",
   "execution_count": 5,
   "id": "8068401b",
   "metadata": {},
   "outputs": [
    {
     "name": "stdout",
     "output_type": "stream",
     "text": [
      "first name : Nipanha\n",
      "last name : Sameth\n",
      "company : Panha inc.\n"
     ]
    }
   ],
   "source": [
    "employee = {\n",
    "    \"first name\": \"Nipanha\",\n",
    "    \"last name\": \"Sameth\",\n",
    "    \"company\": \"Panha inc.\"\n",
    "}\n",
    "\n",
    "for k, v in employee.items():\n",
    "    print(k, ':', v)"
   ]
  },
  {
   "cell_type": "markdown",
   "id": "17fdffd8",
   "metadata": {},
   "source": [
    "# Q2"
   ]
  },
  {
   "cell_type": "code",
   "execution_count": 11,
   "id": "69fc6670",
   "metadata": {
    "scrolled": true
   },
   "outputs": [
    {
     "name": "stdout",
     "output_type": "stream",
     "text": [
      "Enter name of the item: Coffee\n",
      "7\n"
     ]
    }
   ],
   "source": [
    "items = {\n",
    "    \"Coffee\": 7,\n",
    "    \"Pen\": 3,\n",
    "    \"Paper cup\": 2,\n",
    "    \"Milk\": 1,\n",
    "    \"Coke\": 4,\n",
    "    \"Book\": 5\n",
    "}\n",
    "\n",
    "user = input(\"Enter name of the item: \")\n",
    "\n",
    "print(items.get(user))"
   ]
  },
  {
   "cell_type": "markdown",
   "id": "f2c34077",
   "metadata": {},
   "source": [
    "## Using command prompt / powershell commands directly in notebook"
   ]
  },
  {
   "cell_type": "code",
   "execution_count": 16,
   "id": "f1713dbe",
   "metadata": {
    "scrolled": false
   },
   "outputs": [
    {
     "name": "stdout",
     "output_type": "stream",
     "text": [
      "pandas                        1.4.4\n",
      "pandas-datareader             0.10.0\n"
     ]
    }
   ],
   "source": [
    "!pip list | findstr \"panda\""
   ]
  },
  {
   "cell_type": "markdown",
   "id": "34744a92",
   "metadata": {},
   "source": [
    "## Brief example of pandas"
   ]
  },
  {
   "cell_type": "code",
   "execution_count": 19,
   "id": "79f5fcb5",
   "metadata": {},
   "outputs": [
    {
     "name": "stdout",
     "output_type": "stream",
     "text": [
      "    name  age gender\n",
      "0   John   25      M\n",
      "1   Mary   30      F\n",
      "2  Peter   35      M\n",
      "3   Jane   40      F\n"
     ]
    }
   ],
   "source": [
    "import pandas as pd\n",
    "\n",
    "# create a dictionary of data\n",
    "data = {'name': ['John', 'Mary', 'Peter', 'Jane'],\n",
    "        'age': [25, 30, 35, 40],\n",
    "        'gender': ['M', 'F', 'M', 'F']}\n",
    "\n",
    "# create a pandas DataFrame from the dictionary\n",
    "df = pd.DataFrame(data)\n",
    "\n",
    "# print the DataFrame\n",
    "print(df)"
   ]
  },
  {
   "cell_type": "markdown",
   "id": "a317652b",
   "metadata": {},
   "source": [
    "## str.split()"
   ]
  },
  {
   "cell_type": "code",
   "execution_count": 26,
   "id": "aa609132",
   "metadata": {},
   "outputs": [
    {
     "name": "stdout",
     "output_type": "stream",
     "text": [
      "['There', 'is', 'an', 'imposter', 'amongst', 'us!']\n"
     ]
    }
   ],
   "source": [
    "string = \"There is an  imposter amongst us!\"\n",
    "print(string.split())"
   ]
  },
  {
   "cell_type": "code",
   "execution_count": 29,
   "id": "b617b8ee",
   "metadata": {},
   "outputs": [
    {
     "name": "stdout",
     "output_type": "stream",
     "text": [
      "['There ', ' an  imposter amongst us!']\n"
     ]
    }
   ],
   "source": [
    "print(string.split(\"is\"))"
   ]
  },
  {
   "cell_type": "code",
   "execution_count": 30,
   "id": "278ab332",
   "metadata": {
    "scrolled": true
   },
   "outputs": [
    {
     "name": "stdout",
     "output_type": "stream",
     "text": [
      "['There is an', 'imposter amongst us!']\n"
     ]
    }
   ],
   "source": [
    "print(string.split(\"  \"))"
   ]
  },
  {
   "cell_type": "markdown",
   "id": "c7f1c8b6",
   "metadata": {},
   "source": [
    "## How to remove spaces and commas in a string"
   ]
  },
  {
   "cell_type": "code",
   "execution_count": 35,
   "id": "4045c22c",
   "metadata": {},
   "outputs": [
    {
     "name": "stdout",
     "output_type": "stream",
     "text": [
      "['I', ',', ',am', ',', 'Panha']\n",
      "[['I'], [], ['am'], ['Panha']]\n"
     ]
    }
   ],
   "source": [
    "string = \"I     ,           ,am             ,      Panha\"\n",
    "print(string.split())\n",
    "print([x.split() for x in string.split(\",\")])"
   ]
  },
  {
   "cell_type": "markdown",
   "id": "0a5b7d61",
   "metadata": {},
   "source": [
    "## New entries: lstrip() and rstrip()"
   ]
  },
  {
   "cell_type": "code",
   "execution_count": 44,
   "id": "9f682441",
   "metadata": {},
   "outputs": [
    {
     "name": "stdout",
     "output_type": "stream",
     "text": [
      "Z-A WO-RUDO-------\n",
      "------Z-A WO-RUDO\n",
      "Z-A WO-RUDO\n"
     ]
    }
   ],
   "source": [
    "string = \"------Z-A WO-RUDO-------\"\n",
    "\n",
    "print(string.lstrip('-'))\n",
    "print(string.rstrip('-'))\n",
    "print(string.strip('-'))"
   ]
  },
  {
   "cell_type": "markdown",
   "id": "6bd3b473",
   "metadata": {},
   "source": [
    "## string.join()"
   ]
  },
  {
   "cell_type": "code",
   "execution_count": 51,
   "id": "b0fdc30b",
   "metadata": {},
   "outputs": [
    {
     "name": "stdout",
     "output_type": "stream",
     "text": [
      "abc def ghi\n"
     ]
    }
   ],
   "source": [
    "string = \" \"\n",
    "\n",
    "string = string.join([\"abc\", \"def\", \"ghi\"])\n",
    "\n",
    "print(string)"
   ]
  },
  {
   "cell_type": "code",
   "execution_count": 53,
   "id": "d3b98404",
   "metadata": {},
   "outputs": [
    {
     "name": "stdout",
     "output_type": "stream",
     "text": [
      "['I', ' ', 'd', 'o', 'n', \"'\", 't', ' ', 'k', 'n', 'o', 'w']\n",
      "I don't know\n"
     ]
    }
   ],
   "source": [
    "string = \"I don't know\"\n",
    "\n",
    "char_list = list(string)\n",
    "\n",
    "print(char_list)\n",
    "print(''.join(char_list))"
   ]
  },
  {
   "cell_type": "markdown",
   "id": "9d4dc50c",
   "metadata": {},
   "source": [
    "## split X join"
   ]
  },
  {
   "cell_type": "code",
   "execution_count": 56,
   "id": "655df67a",
   "metadata": {},
   "outputs": [
    {
     "name": "stdout",
     "output_type": "stream",
     "text": [
      "012-345-678\n"
     ]
    }
   ],
   "source": [
    "string = \"012.345.678\"\n",
    "\n",
    "print('-'.join(string.split('.')))"
   ]
  },
  {
   "cell_type": "code",
   "execution_count": 61,
   "id": "bb679f6d",
   "metadata": {},
   "outputs": [
    {
     "name": "stdout",
     "output_type": "stream",
     "text": [
      "There is \n",
      "\t no doubts about \n",
      "\t it.\n",
      "['There', 'is', '\\n\\t', 'no', 'doubts', 'about', '\\n\\t', 'it.']\n",
      "['There', 'is', 'no', 'doubts', 'about', 'it.']\n",
      "There is no doubts about it.\n"
     ]
    }
   ],
   "source": [
    "string = \"There is \\n\\t no doubts about \\n\\t it.\"\n",
    "print(string)\n",
    "\n",
    "words = string.split()\n",
    "print(string.split(\" \"))\n",
    "print(words)\n",
    "\n",
    "refined_string = \" \".join(words)\n",
    "print(refined_string)"
   ]
  },
  {
   "cell_type": "markdown",
   "id": "6da2465c",
   "metadata": {},
   "source": [
    "## string.startwith()"
   ]
  },
  {
   "cell_type": "code",
   "execution_count": 97,
   "id": "ea7772a2",
   "metadata": {},
   "outputs": [
    {
     "name": "stdout",
     "output_type": "stream",
     "text": [
      "True\n",
      "True\n",
      "True\n"
     ]
    }
   ],
   "source": [
    "s = \"Creamu\"\n",
    "\n",
    "print(s.startswith('C'))\n",
    "\n",
    "# Is s starts with 'a' in index 3?\n",
    "# Second position is starting index. What index will it search from?\n",
    "print(s.startswith('a', 3))\n",
    "print(s.startswith(\"rea\", 1))"
   ]
  },
  {
   "cell_type": "markdown",
   "id": "fea5560c",
   "metadata": {},
   "source": [
    "## string.endswith()"
   ]
  },
  {
   "cell_type": "code",
   "execution_count": 76,
   "id": "d697372c",
   "metadata": {},
   "outputs": [
    {
     "name": "stdout",
     "output_type": "stream",
     "text": [
      "True\n",
      "True\n"
     ]
    }
   ],
   "source": [
    "print(s.endswith('u'))\n",
    "print(s.endswith('a', 2, 4))"
   ]
  },
  {
   "cell_type": "markdown",
   "id": "984d4e20",
   "metadata": {},
   "source": [
    "## string.replace() "
   ]
  },
  {
   "cell_type": "code",
   "execution_count": 87,
   "id": "867049f0",
   "metadata": {},
   "outputs": [
    {
     "name": "stdout",
     "output_type": "stream",
     "text": [
      "No one will ever knows...\n",
      "Noone will ever knows!\n",
      "No-one-will-ever knows!\n"
     ]
    }
   ],
   "source": [
    "text = \"No one will ever knows!\"\n",
    "\n",
    "replace_all = text.replace('!', '...')\n",
    "replace_t1 = text.replace(' ', '', 1)\n",
    "replace_t3 = text.replace(' ', '-', 3)\n",
    "\n",
    "print(replace_all)\n",
    "print(replace_t1)\n",
    "print(replace_t3)"
   ]
  },
  {
   "cell_type": "markdown",
   "id": "1e4fe379",
   "metadata": {},
   "source": [
    "# Q1"
   ]
  },
  {
   "cell_type": "code",
   "execution_count": 124,
   "id": "aa801994",
   "metadata": {
    "collapsed": true
   },
   "outputs": [
    {
     "name": "stdout",
     "output_type": "stream",
     "text": [
      "\n",
      "        -----------------OPTIONS-----------------\n",
      "        1) Check Stock\n",
      "        2) Warehousing\n",
      "        3) Release\n",
      "        4) Exit\n",
      "        Your option: 2\n",
      "[Warehousing] Enter item and amount to add to warehous (plese seperate by space): coffee 1234\n",
      "Input \"enter\" to continue...\n",
      "\n",
      "        -----------------OPTIONS-----------------\n",
      "        1) Check Stock\n",
      "        2) Warehousing\n",
      "        3) Release\n",
      "        4) Exit\n",
      "        Your option: 1\n",
      "[Check stock] Enter item: coffee\n",
      "Stock: 1241\n",
      "Input \"enter\" to continue...\n",
      "\n",
      "        -----------------OPTIONS-----------------\n",
      "        1) Check Stock\n",
      "        2) Warehousing\n",
      "        3) Release\n",
      "        4) Exit\n",
      "        Your option: 3\n",
      "[Release] Enter item and amount to release (ship out) (plese seperate by space): coffee 134344\n",
      "Cannot ship Coffee 134344 because there is only 1241 left!\n",
      "Input \"enter\" to continue...\n",
      "\n",
      "        -----------------OPTIONS-----------------\n",
      "        1) Check Stock\n",
      "        2) Warehousing\n",
      "        3) Release\n",
      "        4) Exit\n",
      "        Your option: 4\n"
     ]
    }
   ],
   "source": [
    "items = {\n",
    "    \"Coffee\": 7,\n",
    "    \"Pen\": 3,\n",
    "    \"Paper cup\": 2,\n",
    "    \"Milk\": 1,\n",
    "    \"Coke\": 4,\n",
    "    \"Book\": 5\n",
    "}\n",
    "\n",
    "while True:\n",
    "    try:\n",
    "        opt = int(input(\n",
    "        \"\"\"\n",
    "        -----------------OPTIONS-----------------\n",
    "        1) Check Stock\n",
    "        2) Warehousing\n",
    "        3) Release\n",
    "        4) Exit\n",
    "        Your option: \"\"\"))\n",
    "    except ValueError:\n",
    "        print(\"Invalid option. Try again!\")\n",
    "        continue\n",
    "    \n",
    "    if (opt == 1):\n",
    "        \n",
    "        user = input(\"[Check stock] Enter item: \")\n",
    "        print(\"Stock: {}\".format(items.get(user.capitalize(), 0)))\n",
    "        \n",
    "    elif (opt == 2):\n",
    "        \n",
    "        user = input(\"[Warehousing] Enter item and amount to add to warehous (plese seperate by space): \")\n",
    "        item, amount = user.split()\n",
    "        \n",
    "        item = item.capitalize()\n",
    "        amount = int(amount)\n",
    "        \n",
    "        items.setdefault(item, 0)\n",
    "        items[item] += amount\n",
    "        \n",
    "    elif (opt == 3):\n",
    "        \n",
    "        user = input(\"[Release] Enter item and amount to release (ship out) (plese seperate by space): \")\n",
    "        item, amount = user.split()\n",
    "        \n",
    "        item = item.capitalize()\n",
    "        amount = int(amount)\n",
    "        \n",
    "        items.setdefault(item, 0)\n",
    "        \n",
    "        if items[item] - amount < 0:\n",
    "            print(\"Cannot ship {} {} because there is only {} left!\".format(item, amount, items[item]))\n",
    "        else:\n",
    "            items[item] -= amount\n",
    "        \n",
    "        \n",
    "    elif (opt == 4):\n",
    "        break\n",
    "    else:\n",
    "        print(\"Invalid option. Try again!\")\n",
    "        \n",
    "    input(\"Input \\\"enter\\\" to continue...\")"
   ]
  },
  {
   "cell_type": "markdown",
   "id": "9c7390fd",
   "metadata": {},
   "source": [
    "## Telephone Directories"
   ]
  },
  {
   "cell_type": "code",
   "execution_count": 138,
   "id": "c4924ec6",
   "metadata": {},
   "outputs": [
    {
     "name": "stdout",
     "output_type": "stream",
     "text": [
      "The Pizza Company        : 023 880 880\n",
      "KFC                      : 012 345 567\n",
      "7 leveled spicy noodle   : 098 765 432\n",
      "Please write a address and the review for \"The Pizza Company\" separated by &: tpc.com & delicious\n",
      "Please write a address and the review for \"KFC\" separated by &: kfc.com.kh & pretty good ngl\n",
      "Please write a address and the review for \"7 leveled spicy noodle\" separated by &: Kandal & fire in my mouth\n",
      "The Pizza Company         : ('023-880-880', 'tpc.com', 'delicious')\n",
      "KFC                       : ('012-345-567', 'kfc.com.kh', 'pretty good ngl')\n",
      "7 leveled spicy noodle    : ('098-765-432', 'Kandal', 'fire in my mouth')\n"
     ]
    }
   ],
   "source": [
    "tele_dic = {\n",
    "    \"The Pizza Company\": (\"023 880 880\"),\n",
    "    \"KFC\": (\"012 345 567\"),\n",
    "    \"7 leveled spicy noodle\": (\"098 765 432\")\n",
    "}\n",
    "\n",
    "for res, info in tele_dic.items():\n",
    "    tele_dic[res] = (info.replace(' ', '-'))\n",
    "    print(res.ljust(25) + \":\" + info)\n",
    "    \n",
    "for res, tele in tele_dic.items():\n",
    "    addr, rew = input(f\"Please write a address and the review for \\\"{res}\\\" separated by &: \").split('&')\n",
    "    \n",
    "    addr = addr.strip()\n",
    "    rew = rew.strip()\n",
    "    \n",
    "    update = (tele, addr, rew)\n",
    "    tele_dic[res] = update\n",
    "    \n",
    "for res, info in tele_dic.items():\n",
    "    print(res.ljust(25), \":\", info)"
   ]
  },
  {
   "cell_type": "code",
   "execution_count": null,
   "id": "f4737c0d",
   "metadata": {},
   "outputs": [],
   "source": []
  },
  {
   "cell_type": "code",
   "execution_count": null,
   "id": "cc11b531",
   "metadata": {},
   "outputs": [],
   "source": []
  }
 ],
 "metadata": {
  "kernelspec": {
   "display_name": "Python 3 (ipykernel)",
   "language": "python",
   "name": "python3"
  },
  "language_info": {
   "codemirror_mode": {
    "name": "ipython",
    "version": 3
   },
   "file_extension": ".py",
   "mimetype": "text/x-python",
   "name": "python",
   "nbconvert_exporter": "python",
   "pygments_lexer": "ipython3",
   "version": "3.9.13"
  }
 },
 "nbformat": 4,
 "nbformat_minor": 5
}
