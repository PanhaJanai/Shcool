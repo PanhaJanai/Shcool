{
 "cells": [
  {
   "cell_type": "code",
   "execution_count": null,
   "id": "1b5ba4d9",
   "metadata": {},
   "outputs": [],
   "source": [
    "import pandas as pd\n",
    "import matplotlib.pyplot as plt\n",
    "import seaborn as sns\n",
    "\n",
    "song = pd.read_csv(\"./data/36-data sources/spotify_global_2019_most_streamed_tracks_audio_features.csv\")\n",
    "\n",
    "# print all items without placeholder \"...\"\n",
    "pd.set_option(\"display.max_columns\", None)\n",
    "pd.set_option(\"display.max_rows\", None)\n",
    "\n",
    "# disable new line display\n",
    "pd.set_option(\"expand_frame_repr\", False)\n",
    "\n",
    "# make song's column text adjust to the left\n",
    "pd.set_option(\"display.colheader_justify\", \"left\")\n",
    "\n",
    "# how to make data in each columns adjust to the left\n",
    "\n",
    "# list all set_option pattern\n",
    "print(pd.describe_option(\"display\"))\n",
    "\n",
    "print(song.head(10))\n",
    "\n",
    "song.describe()\n",
    "\n",
    "df = song[[\"Rank\", \"Artist\", \"Track Name\", \"Artist_popularity\", \"Streams\", \"tempo\", \"danceability\", \"energy\"]]\n",
    "# print all df columns and rows\n",
    "# print(df)\n",
    "\n",
    "df = song[[\"Artist\", \"Track Name\", \"danceability\"]]\n",
    "\n",
    "# check df's danceability column to see value > 0.9\n",
    "# print(df[df[\"danceability\"] > 0.9])\n",
    "\n",
    "# print item with the most danceability\n",
    "# print(df[df[\"danceability\"] == df[\"danceability\"].max()])"
   ]
  },
  {
   "cell_type": "code",
   "execution_count": null,
   "id": "3a940dfb",
   "metadata": {},
   "outputs": [],
   "source": [
    "import pandas as pd\n",
    "import matplotlib.pyplot as plt\n",
    "import seaborn as sns\n",
    "\n",
    "song = pd.read_csv(\"./data/36-data sources/spotify_global_2019_most_streamed_tracks_audio_features.csv\")"
   ]
  },
  {
   "cell_type": "code",
   "execution_count": null,
   "id": "c48675d2",
   "metadata": {},
   "outputs": [],
   "source": [
    "# print the first 10 items\n",
    "song.head(10)"
   ]
  },
  {
   "cell_type": "code",
   "execution_count": null,
   "id": "e45552fd",
   "metadata": {},
   "outputs": [],
   "source": [
    "# show info of each column on non-null value and data type\n",
    "song.info()"
   ]
  },
  {
   "cell_type": "code",
   "execution_count": null,
   "id": "44f33fdd",
   "metadata": {},
   "outputs": [],
   "source": [
    "# describe the data on count of each column, minimum and maximum value\n",
    "song.describe()"
   ]
  },
  {
   "cell_type": "code",
   "execution_count": null,
   "id": "fd238a5a",
   "metadata": {},
   "outputs": [],
   "source": [
    "# show only the selected columns\n",
    "df = song[[\"Rank\", \"Artist\", \"Track Name\", \"Artist_popularity\", \"Streams\", \"tempo\", \"danceability\", \"energy\"]]\n",
    "df.head()"
   ]
  },
  {
   "cell_type": "code",
   "execution_count": null,
   "id": "00f4a327",
   "metadata": {},
   "outputs": [],
   "source": [
    "# put all songs which have its artist's popularity > 90 into pop_song\n",
    "pop_song = df[df[\"Artist_popularity\"] > 90]\n",
    "pop_song.head()"
   ]
  },
  {
   "cell_type": "code",
   "execution_count": null,
   "id": "46d9b7b7",
   "metadata": {},
   "outputs": [],
   "source": [
    "# count all artist's songs in pop_song and rank them\n",
    "rank = pop_song[\"Artist\"].value_counts()\n",
    "rank"
   ]
  },
  {
   "cell_type": "code",
   "execution_count": null,
   "id": "7a869263",
   "metadata": {},
   "outputs": [],
   "source": [
    "type(rank)"
   ]
  },
  {
   "cell_type": "code",
   "execution_count": null,
   "id": "e043f9e6",
   "metadata": {},
   "outputs": [],
   "source": [
    "# get all unique artist in pop_song\n",
    "pop_song[\"Artist\"].unique()"
   ]
  },
  {
   "cell_type": "code",
   "execution_count": null,
   "id": "0880ec89",
   "metadata": {},
   "outputs": [],
   "source": [
    "for artist in pop_song[\"Artist\"].unique():\n",
    "    print(artist)\n",
    "\"BTS\" in rank"
   ]
  },
  {
   "cell_type": "code",
   "execution_count": null,
   "id": "8275888a",
   "metadata": {},
   "outputs": [],
   "source": [
    "bts = pop_song[pop_song[\"Artist\"] == \"BTS\"]\n",
    "\n",
    "# show the number of row and columns in bts\n",
    "bts.shape"
   ]
  },
  {
   "cell_type": "code",
   "execution_count": null,
   "id": "c7fedeab",
   "metadata": {},
   "outputs": [],
   "source": [
    "bts"
   ]
  },
  {
   "cell_type": "code",
   "execution_count": null,
   "id": "ac131323",
   "metadata": {},
   "outputs": [],
   "source": [
    "# put all songs with artist \"Post Malone\" into play_list\n",
    "play_list = pop_song[pop_song[\"Artist\"] == \"Post Malone\"]\n",
    "\n",
    "# reset the index of play_list\n",
    "# inplace = True means that the changes are saved to the df right away\n",
    "Malone = play_list.reset_index(drop=True, inplace=False)\n",
    "\n",
    "Malone"
   ]
  },
  {
   "cell_type": "code",
   "execution_count": null,
   "id": "683d75d2",
   "metadata": {},
   "outputs": [],
   "source": [
    "x = pop_song[\"energy\"]\n",
    "y = pop_song[\"Rank\"]\n",
    "\n",
    "# make a scatter graph where x is the energy level and y is the ranking\n",
    "plt.scatter(x, y, color=\"red\", alpha=0.5)\n",
    "\n",
    "plt.show()"
   ]
  },
  {
   "cell_type": "code",
   "execution_count": null,
   "id": "48f09c9a",
   "metadata": {},
   "outputs": [],
   "source": [
    "# drop \"Artist\" and \"Track Name\" in pop_song\n",
    "pop_song2 = pop_song.drop([\"Artist\", \"Track Name\"], axis=1)\n",
    "\n",
    "# correlation between columns\n",
    "cor = pop_song2.corr(method=\"pearson\")\n",
    "cor"
   ]
  },
  {
   "cell_type": "code",
   "execution_count": null,
   "id": "6f47ae88",
   "metadata": {},
   "outputs": [],
   "source": [
    "# matshow() is used to show the correlation in a matrix\n",
    "plt.matshow(cor)\n",
    "\n",
    "# colorbar() is used to show the color bar\n",
    "plt.colorbar()"
   ]
  },
  {
   "cell_type": "code",
   "execution_count": null,
   "id": "0990b9ff",
   "metadata": {},
   "outputs": [],
   "source": [
    "# figure() is used to set the figure size\n",
    "plt.figure(figsize=(8, 6))\n",
    "\n",
    "# heatmap() is used to show the correlation in a heatmap\n",
    "sns.heatmap(cor, annot=True)\n",
    "plt.show()"
   ]
  },
  {
   "cell_type": "code",
   "execution_count": null,
   "id": "e8e39efa",
   "metadata": {},
   "outputs": [],
   "source": []
  }
 ],
 "metadata": {
  "kernelspec": {
   "display_name": "Python 3 (ipykernel)",
   "language": "python",
   "name": "python3"
  },
  "language_info": {
   "codemirror_mode": {
    "name": "ipython",
    "version": 3
   },
   "file_extension": ".py",
   "mimetype": "text/x-python",
   "name": "python",
   "nbconvert_exporter": "python",
   "pygments_lexer": "ipython3",
   "version": "3.10.4"
  }
 },
 "nbformat": 4,
 "nbformat_minor": 5
}
