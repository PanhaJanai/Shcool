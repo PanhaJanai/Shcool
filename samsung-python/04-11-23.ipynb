{
 "cells": [
  {
   "cell_type": "markdown",
   "id": "97c6285a",
   "metadata": {},
   "source": [
    "# Stack"
   ]
  },
  {
   "cell_type": "markdown",
   "id": "f733a057",
   "metadata": {},
   "source": [
    "\n",
    "## Using stack to detect opening and closing parenthesis, bracket and square bracket"
   ]
  },
  {
   "cell_type": "code",
   "execution_count": 15,
   "id": "5a41e076",
   "metadata": {},
   "outputs": [
    {
     "name": "stdout",
     "output_type": "stream",
     "text": [
      ")\n",
      "False\n"
     ]
    }
   ],
   "source": [
    "def check(string):\n",
    "    opening = \"([{\"\n",
    "    closing = \")]}\"\n",
    "    stack = []\n",
    "    \n",
    "    for ch in string:\n",
    "        if ch in opening:\n",
    "            # put opening in stack\n",
    "            stack.append(ch)\n",
    "            \n",
    "        elif ch in closing:\n",
    "            # to test if the there is a closing parenthesis befor an opening one\n",
    "            if len(stack) == 0:\n",
    "                return False\n",
    "            \n",
    "            # get an item in stack and see if its index in opening is NOT corresponding to the same index in closing\n",
    "            # because if it does correspond then it's valid\n",
    "            if opening.index(stack.pop()) != closing.index(ch):\n",
    "                return False\n",
    "            \n",
    "    # to make sure that stack is empty\n",
    "    return len(stack) == 0\n",
    "\n",
    "string = input(\"\")\n",
    "print(check(string))"
   ]
  },
  {
   "cell_type": "markdown",
   "id": "a5a801f6",
   "metadata": {},
   "source": [
    "## "
   ]
  },
  {
   "cell_type": "code",
   "execution_count": 1,
   "id": "177042c2",
   "metadata": {},
   "outputs": [
    {
     "name": "stdout",
     "output_type": "stream",
     "text": [
      "[]\n"
     ]
    },
    {
     "ename": "TypeError",
     "evalue": "list.append() takes exactly one argument (0 given)",
     "output_type": "error",
     "traceback": [
      "\u001b[1;31m---------------------------------------------------------------------------\u001b[0m",
      "\u001b[1;31mTypeError\u001b[0m                                 Traceback (most recent call last)",
      "\u001b[1;32m~\\AppData\\Local\\Temp\\ipykernel_5100\\2170767769.py\u001b[0m in \u001b[0;36m<module>\u001b[1;34m\u001b[0m\n\u001b[0;32m      9\u001b[0m \u001b[0mprint\u001b[0m\u001b[1;33m(\u001b[0m\u001b[0mstack\u001b[0m\u001b[1;33m)\u001b[0m\u001b[1;33m\u001b[0m\u001b[1;33m\u001b[0m\u001b[0m\n\u001b[0;32m     10\u001b[0m \u001b[1;33m\u001b[0m\u001b[0m\n\u001b[1;32m---> 11\u001b[1;33m \u001b[0mpush\u001b[0m\u001b[1;33m(\u001b[0m\u001b[0mstack\u001b[0m\u001b[1;33m,\u001b[0m \u001b[1;34m\"A\"\u001b[0m\u001b[1;33m)\u001b[0m\u001b[1;33m\u001b[0m\u001b[1;33m\u001b[0m\u001b[0m\n\u001b[0m\u001b[0;32m     12\u001b[0m \u001b[0mprint\u001b[0m\u001b[1;33m(\u001b[0m\u001b[0mstack\u001b[0m\u001b[1;33m)\u001b[0m\u001b[1;33m\u001b[0m\u001b[1;33m\u001b[0m\u001b[0m\n\u001b[0;32m     13\u001b[0m \u001b[1;33m\u001b[0m\u001b[0m\n",
      "\u001b[1;32m~\\AppData\\Local\\Temp\\ipykernel_5100\\2170767769.py\u001b[0m in \u001b[0;36mpush\u001b[1;34m(stack, item)\u001b[0m\n\u001b[0;32m      2\u001b[0m \u001b[1;33m\u001b[0m\u001b[0m\n\u001b[0;32m      3\u001b[0m \u001b[1;32mdef\u001b[0m \u001b[0mpush\u001b[0m\u001b[1;33m(\u001b[0m\u001b[0mstack\u001b[0m\u001b[1;33m,\u001b[0m \u001b[0mitem\u001b[0m\u001b[1;33m)\u001b[0m\u001b[1;33m:\u001b[0m\u001b[1;33m\u001b[0m\u001b[1;33m\u001b[0m\u001b[0m\n\u001b[1;32m----> 4\u001b[1;33m     \u001b[0mstack\u001b[0m\u001b[1;33m.\u001b[0m\u001b[0mappend\u001b[0m\u001b[1;33m(\u001b[0m\u001b[1;33m)\u001b[0m\u001b[1;33m\u001b[0m\u001b[1;33m\u001b[0m\u001b[0m\n\u001b[0m\u001b[0;32m      5\u001b[0m \u001b[1;33m\u001b[0m\u001b[0m\n\u001b[0;32m      6\u001b[0m \u001b[1;32mdef\u001b[0m \u001b[0mpop\u001b[0m\u001b[1;33m(\u001b[0m\u001b[0mstack\u001b[0m\u001b[1;33m)\u001b[0m\u001b[1;33m:\u001b[0m\u001b[1;33m\u001b[0m\u001b[1;33m\u001b[0m\u001b[0m\n",
      "\u001b[1;31mTypeError\u001b[0m: list.append() takes exactly one argument (0 given)"
     ]
    }
   ],
   "source": [
    "stack = []\n",
    "\n",
    "def push(stack, item):\n",
    "    stack.append()\n",
    "    \n",
    "def pop(stack):\n",
    "    return stack.pop\n",
    "\n",
    "print(stack)\n",
    "\n",
    "push(stack, \"A\")\n",
    "print(stack)\n",
    "\n",
    "push(stack, \"B\")\n",
    "print(stack)\n",
    "\n",
    "push(stack, \"C\")\n",
    "print(stack)\n",
    "\n",
    "pop(stack)\n",
    "print(stack)\n",
    "\n",
    "pop(stack)\n",
    "print(stack)\n",
    "\n",
    "pop(stack)\n",
    "print(stack)"
   ]
  },
  {
   "cell_type": "code",
   "execution_count": null,
   "id": "b6059606",
   "metadata": {},
   "outputs": [],
   "source": []
  },
  {
   "cell_type": "code",
   "execution_count": null,
   "id": "69a72a08",
   "metadata": {},
   "outputs": [],
   "source": []
  }
 ],
 "metadata": {
  "kernelspec": {
   "display_name": "Python 3 (ipykernel)",
   "language": "python",
   "name": "python3"
  },
  "language_info": {
   "codemirror_mode": {
    "name": "ipython",
    "version": 3
   },
   "file_extension": ".py",
   "mimetype": "text/x-python",
   "name": "python",
   "nbconvert_exporter": "python",
   "pygments_lexer": "ipython3",
   "version": "3.9.13"
  }
 },
 "nbformat": 4,
 "nbformat_minor": 5
}
