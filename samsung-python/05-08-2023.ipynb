{
 "cells": [
  {
   "cell_type": "markdown",
   "id": "84d9ea0d",
   "metadata": {},
   "source": [
    "# range()"
   ]
  },
  {
   "cell_type": "code",
   "execution_count": 6,
   "id": "17b7e672",
   "metadata": {},
   "outputs": [
    {
     "name": "stdout",
     "output_type": "stream",
     "text": [
      "0 Welcome to M1!\n",
      "1 Welcome to M1!\n",
      "2 Welcome to M1!\n",
      "3 Welcome to M1!\n",
      "4 Welcome to M1!\n",
      "5 Welcome to M1!\n",
      "6 Welcome to M1!\n",
      "7 Welcome to M1!\n",
      "8 Welcome to M1!\n",
      "9 Welcome to M1!\n"
     ]
    }
   ],
   "source": [
    "for i in range(10):\n",
    "    print(i, \"Welcome to M1!\")"
   ]
  },
  {
   "cell_type": "code",
   "execution_count": null,
   "id": "9ee8d90d",
   "metadata": {},
   "outputs": [],
   "source": []
  },
  {
   "cell_type": "code",
   "execution_count": 8,
   "id": "d5777b3f",
   "metadata": {},
   "outputs": [
    {
     "name": "stdout",
     "output_type": "stream",
     "text": [
      "0 Hello\n",
      "1 Hello\n",
      "2 Hello\n",
      "3 Hello\n",
      "4 Hello\n",
      "5 Hello\n",
      "6 Hello\n",
      "7 Hello\n",
      "8 Hello\n",
      "9 Hello\n"
     ]
    }
   ],
   "source": [
    "for _ in range(10):\n",
    "    print(_, \"Hello\")"
   ]
  },
  {
   "cell_type": "code",
   "execution_count": 27,
   "id": "867b35b1",
   "metadata": {},
   "outputs": [
    {
     "name": "stdout",
     "output_type": "stream",
     "text": [
      "[0, 1, 2, 3, 4]\n",
      "[1, 3, 5, 7, 9]\n"
     ]
    }
   ],
   "source": [
    "print(list(range(5)))\n",
    "print(list(range(1, 10, 2)))"
   ]
  },
  {
   "cell_type": "code",
   "execution_count": 35,
   "id": "79ec63a4",
   "metadata": {},
   "outputs": [
    {
     "name": "stdout",
     "output_type": "stream",
     "text": [
      "Enter a number: 10\n",
      "s:  55\n",
      "s:  55\n",
      "f:  3628800\n"
     ]
    }
   ],
   "source": [
    "num = int(input(\"Enter a number: \"))\n",
    "s = 0\n",
    "f = 1\n",
    "\n",
    "for i in range(1, num + 1):\n",
    "    s += i\n",
    "    f *= i\n",
    "    \n",
    "print(\"s: \", s)\n",
    "print(\"s: \", sum(range(1, num + 1)))\n",
    "\n",
    "print(\"f: \", f)"
   ]
  },
  {
   "cell_type": "code",
   "execution_count": 41,
   "id": "4aded11b",
   "metadata": {},
   "outputs": [
    {
     "name": "stdout",
     "output_type": "stream",
     "text": [
      "H | e | l | l | o | , |   | w | o | r | l | d | ! | "
     ]
    }
   ],
   "source": [
    "for c in \"Hello, world!\":\n",
    "    print(c, end=\" | \")"
   ]
  },
  {
   "cell_type": "code",
   "execution_count": 45,
   "id": "aa769845",
   "metadata": {
    "scrolled": true
   },
   "outputs": [
    {
     "name": "stdout",
     "output_type": "stream",
     "text": [
      "1: Felix\n",
      "2: Seungmin\n",
      "3: Han\n",
      "4: Changbin\n",
      "5: Hyunjin\n",
      "6: Lee Know\n",
      "7: I.N\n",
      "8: Bang Chan\n"
     ]
    }
   ],
   "source": [
    "skz = [\"Felix\", \"Seungmin\", \"Han\", \"Changbin\", \"Hyunjin\", \"Lee Know\", \"I.N\", \"Bang Chan\"]\n",
    "\n",
    "for i in range(8):\n",
    "    print(f\"{i + 1}: \" + skz[i])"
   ]
  },
  {
   "cell_type": "markdown",
   "id": "d80251e4",
   "metadata": {},
   "source": [
    "# Quiz"
   ]
  },
  {
   "cell_type": "code",
   "execution_count": 49,
   "id": "75762526",
   "metadata": {
    "scrolled": true
   },
   "outputs": [
    {
     "name": "stdout",
     "output_type": "stream",
     "text": [
      "Sum of integers from 1 to 100: 5050\n"
     ]
    }
   ],
   "source": [
    "print(\"Sum of integers from 1 to 100:\", sum(range(1, 101)))"
   ]
  },
  {
   "cell_type": "code",
   "execution_count": 56,
   "id": "a32c27d2",
   "metadata": {
    "scrolled": true
   },
   "outputs": [
    {
     "name": "stdout",
     "output_type": "stream",
     "text": [
      "Sum of even number from 1 to 100: 2550\n"
     ]
    }
   ],
   "source": [
    "print(\"Sum of even number from 1 to 100:\", sum(range(2, 101, 2)))"
   ]
  },
  {
   "cell_type": "code",
   "execution_count": 53,
   "id": "b08f571b",
   "metadata": {},
   "outputs": [
    {
     "name": "stdout",
     "output_type": "stream",
     "text": [
      "Sum of odd number from 1 to 100: 2500\n"
     ]
    }
   ],
   "source": [
    "print(\"Sum of odd number from 1 to 100:\", sum(range(1, 101, 2)))"
   ]
  },
  {
   "cell_type": "markdown",
   "id": "c83ffb0d",
   "metadata": {},
   "source": [
    "# for i in list"
   ]
  },
  {
   "cell_type": "code",
   "execution_count": 57,
   "id": "0a4423e7",
   "metadata": {},
   "outputs": [
    {
     "name": "stdout",
     "output_type": "stream",
     "text": [
      "Lol\n",
      "Lol\n",
      "Lol\n",
      "Lol\n",
      "Lol\n"
     ]
    }
   ],
   "source": [
    "for i in [1, 2, 3, 4, 5]:\n",
    "    print(\"Lol\")"
   ]
  },
  {
   "cell_type": "code",
   "execution_count": 59,
   "id": "46fc785f",
   "metadata": {
    "scrolled": true
   },
   "outputs": [
    {
     "name": "stdout",
     "output_type": "stream",
     "text": [
      "H\n",
      "e\n",
      "l\n",
      "l\n",
      "o\n",
      ",\n",
      " \n",
      "w\n",
      "o\n",
      "r\n",
      "l\n",
      "d\n",
      "!\n"
     ]
    }
   ],
   "source": [
    "for c in \"Hello, world!\":\n",
    "    print(c)"
   ]
  },
  {
   "cell_type": "code",
   "execution_count": 62,
   "id": "66e298d0",
   "metadata": {},
   "outputs": [],
   "source": [
    "for i in range(1, 10, -1):\n",
    "    print(i)"
   ]
  },
  {
   "cell_type": "markdown",
   "id": "165dbe4f",
   "metadata": {},
   "source": [
    "# formatting"
   ]
  },
  {
   "cell_type": "code",
   "execution_count": 75,
   "id": "a2e06b74",
   "metadata": {
    "scrolled": true
   },
   "outputs": [
    {
     "name": "stdout",
     "output_type": "stream",
     "text": [
      "  123\n",
      "    1\n",
      "    3.1400\n"
     ]
    }
   ],
   "source": [
    "print(\"{:5d}\".format(123))\n",
    "print(\"{:5d}\".format(1))\n",
    "\n",
    "print(\"{:10.4f}\".format(3.14))"
   ]
  },
  {
   "cell_type": "markdown",
   "id": "625e92e8",
   "metadata": {},
   "source": [
    "# The snail problem"
   ]
  },
  {
   "cell_type": "code",
   "execution_count": 86,
   "id": "7eb4780f",
   "metadata": {},
   "outputs": [
    {
     "name": "stdout",
     "output_type": "stream",
     "text": [
      "Day 1: snail climb heigh: 7 meters\n",
      "Day 2 :snail climb height: 9 meters\n",
      "Day 3 :snail climb height: 11 meters\n",
      "Day 4 :snail climb height: 13 meters\n",
      "Day 5 :snail climb height: 15 meters\n",
      "Day 6 :snail climb height: 17 meters\n",
      "Day 7 :snail climb height: 19 meters\n",
      "Day 8 :snail climb height: 21 meters\n",
      "Day 9 :snail climb height: 23 meters\n",
      "Day 10 :snail climb height: 25 meters\n",
      "Day 11 :snail climb height: 27 meters\n",
      "Day 12 :snail climb height: 29 meters\n",
      "Day 13 :snail climb height: 31 meters\n"
     ]
    }
   ],
   "source": [
    "curr_pos = 0\n",
    "goal = 30\n",
    "up = 7\n",
    "down = 5\n",
    "day = 1\n",
    "\n",
    "# First day of operation \"gettotheplacethesnailwanttogo\"\n",
    "curr_pos = up\n",
    "print(\"Day 1: snail climb heigh:\", curr_pos, \"meters\")\n",
    "\n",
    "while curr_pos < goal:\n",
    "    \n",
    "    # Day climbing\n",
    "    curr_pos += up\n",
    "    \n",
    "    # New day for operation \"gettotheplacethesnailwanttogo\"\n",
    "    day += 1\n",
    "    \n",
    "    # Night climbing (but backward)\n",
    "    curr_pos -= down\n",
    "    \n",
    "    print(\"Day\", day, \":snail climb height:\", curr_pos, \"meters\")"
   ]
  },
  {
   "cell_type": "markdown",
   "id": "938bab29",
   "metadata": {},
   "source": [
    "# while loop"
   ]
  },
  {
   "cell_type": "code",
   "execution_count": 90,
   "id": "bf21493f",
   "metadata": {
    "scrolled": true
   },
   "outputs": [
    {
     "name": "stdout",
     "output_type": "stream",
     "text": [
      "Jo\n",
      "Jo\n",
      "Jo\n",
      "Jo\n",
      "Jo\n",
      "Jo\n",
      "Jo\n",
      "Jo\n",
      "Jo\n",
      "Jo\n"
     ]
    }
   ],
   "source": [
    "i = 0\n",
    "while i < 10:\n",
    "    print(\"Jo\")\n",
    "    i += 1"
   ]
  },
  {
   "cell_type": "code",
   "execution_count": 92,
   "id": "8e2224cb",
   "metadata": {},
   "outputs": [
    {
     "name": "stdout",
     "output_type": "stream",
     "text": [
      "Enter a number: 10\n",
      "Sum of 1 to 10 element is 55\n"
     ]
    }
   ],
   "source": [
    "n = int(input(\"Enter a number: \"))\n",
    "\n",
    "s = 0\n",
    "i = 1\n",
    "\n",
    "while i <= n:\n",
    "    s += i\n",
    "    i += 1\n",
    "    \n",
    "print(\"Sum of 1 to {} element is {}\".format(n, s))"
   ]
  },
  {
   "cell_type": "code",
   "execution_count": 101,
   "id": "c6b5ff68",
   "metadata": {},
   "outputs": [
    {
     "name": "stdout",
     "output_type": "stream",
     "text": [
      "Guess value: 1\n",
      "Guess value: 2\n",
      "Guess value: 3\n",
      "Guess value: 80085\n",
      "You win!\n"
     ]
    }
   ],
   "source": [
    "secret_numbers = [69, 420, 80085]\n",
    "n = 0\n",
    "\n",
    "while n not in secret_numbers:\n",
    "    n = int(input(\"Guess value: \"))\n",
    "    \n",
    "print(\"You win!\")"
   ]
  },
  {
   "cell_type": "code",
   "execution_count": null,
   "id": "c7e68f2d",
   "metadata": {},
   "outputs": [],
   "source": []
  }
 ],
 "metadata": {
  "kernelspec": {
   "display_name": "Python 3 (ipykernel)",
   "language": "python",
   "name": "python3"
  },
  "language_info": {
   "codemirror_mode": {
    "name": "ipython",
    "version": 3
   },
   "file_extension": ".py",
   "mimetype": "text/x-python",
   "name": "python",
   "nbconvert_exporter": "python",
   "pygments_lexer": "ipython3",
   "version": "3.9.13"
  }
 },
 "nbformat": 4,
 "nbformat_minor": 5
}
