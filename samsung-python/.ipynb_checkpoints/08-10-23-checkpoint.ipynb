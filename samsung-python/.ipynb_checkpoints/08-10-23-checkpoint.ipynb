{
 "cells": [
  {
   "cell_type": "markdown",
   "id": "7f5dc186",
   "metadata": {},
   "source": [
    "## list comprehension with input"
   ]
  },
  {
   "cell_type": "code",
   "execution_count": 13,
   "id": "bef51ec4",
   "metadata": {},
   "outputs": [
    {
     "name": "stdout",
     "output_type": "stream",
     "text": [
      "Enter a few numbers: 0 1 2 3 4 5 6 7 8 9\n",
      "[0, 1, 2, 3, 4, 5, 6, 7, 8, 9]\n"
     ]
    }
   ],
   "source": [
    "print([int(a) for a in input(\"Enter a few numbers: \").split()])"
   ]
  },
  {
   "cell_type": "markdown",
   "id": "68d49dc9",
   "metadata": {},
   "source": [
    "## multiple for in comprehension"
   ]
  },
  {
   "cell_type": "code",
   "execution_count": 15,
   "id": "d2ece10f",
   "metadata": {},
   "outputs": [
    {
     "name": "stdout",
     "output_type": "stream",
     "text": [
      "[2, 4, 6, 4, 8, 12, 6, 12, 18]\n"
     ]
    }
   ],
   "source": [
    "product_xy = [x * y for x in [1, 2, 3] for y in [2, 4, 6]]\n",
    "print(product_xy)"
   ]
  },
  {
   "cell_type": "markdown",
   "id": "beff6d80",
   "metadata": {},
   "source": [
    "## lambda vs comprehension"
   ]
  },
  {
   "cell_type": "code",
   "execution_count": 22,
   "id": "55967f42",
   "metadata": {},
   "outputs": [
    {
     "name": "stdout",
     "output_type": "stream",
     "text": [
      "[6, 12, 18, 24, 30]\n",
      "[6, 12, 18, 24, 30]\n",
      "[30]\n",
      "[30]\n"
     ]
    }
   ],
   "source": [
    "print([n for n in range(1, 31) if n % 2 == 0 if n % 3 == 0])\n",
    "print(list(filter(lambda n: n % 2 == 0 and n % 3 == 0, range(1, 31))))\n",
    "\n",
    "print([n for n in range(1, 31) if n % 2 == 0 if n % 3 == 0 if n % 5 == 0])\n",
    "print(list(filter(lambda n: n % 2 == 0 and n % 3 == 0 and n % 5 == 0, range(1, 31))))"
   ]
  },
  {
   "cell_type": "markdown",
   "id": "b7d7a635",
   "metadata": {},
   "source": [
    "# Q1 \n",
    "## v1"
   ]
  },
  {
   "cell_type": "code",
   "execution_count": 48,
   "id": "001e05dd",
   "metadata": {},
   "outputs": [
    {
     "name": "stdout",
     "output_type": "stream",
     "text": [
      "scores = [100, 90, 95, 90, 80, 70, 0, 80, 90, 90, 0, 90, 100, 75, 20, 30, 50, 90]\n",
      "The number of toal student is 6\n",
      "The number of students with valid scores is 4\n",
      "[[100, 90, 95], [90, 80, 70], [100, 75, 20], [30, 50, 90]]\n"
     ]
    }
   ],
   "source": [
    "scores = [100, 90, 95, 90, 80, 70, 0, 80, 90, 90, 0, 90, 100, 75, 20, 30, 50, 90]\n",
    "\n",
    "stu_scores = []\n",
    "[stu_scores.append(scores[i:i + 3]) for i in range(0, len(scores), 3)]\n",
    "\n",
    "valid_scores = [score for score in stu_score if all(score)]\n",
    "\n",
    "print(\"scores =\", scores)\n",
    "print(\"The number of toal student is\", len(stu_scores))\n",
    "# print(stu_score)\n",
    "print(\"The number of students with valid scores is\", len(valid_scores))\n",
    "print(valid_scores)"
   ]
  },
  {
   "cell_type": "markdown",
   "id": "76f6edba",
   "metadata": {},
   "source": [
    "## v2"
   ]
  },
  {
   "cell_type": "code",
   "execution_count": 56,
   "id": "48e33e56",
   "metadata": {},
   "outputs": [
    {
     "name": "stdout",
     "output_type": "stream",
     "text": [
      "scores = [100, 90, 95, 90, 80, 70, 0, 80, 90, 90, 0, 90, 100, 75, 20, 30, 50, 90]\n",
      "The number of toal student is 6\n",
      "The number of students with valid scores is 4\n",
      "[[100, 90, 95], [90, 80, 70], [100, 75, 20], [30, 50, 90]]\n"
     ]
    }
   ],
   "source": [
    "scores = [100, 90, 95, 90, 80, 70, 0, 80, 90, 90, 0, 90, 100, 75, 20, 30, 50, 90]\n",
    "\n",
    "stu_scores = []\n",
    "valid_scores = []\n",
    "\n",
    "# Separate three scores for each students\n",
    "for s in range(0, len(scores), 3):\n",
    "    stu_scores.append(scores[s: s + 3])\n",
    "    \n",
    "# Remove all student who score has at lease one zero with all function\n",
    "for stu in stu_scores:\n",
    "    valid_scores.append(stu) if all(stu) else ...\n",
    "\n",
    "print(\"scores =\", scores)\n",
    "print(\"The number of toal student is\", len(stu_scores))\n",
    "print(\"The number of students with valid scores is\", len(valid_scores))\n",
    "print(valid_scores)\n",
    "    \n",
    "# print(stu_scores)\n",
    "# print(valid_scores)"
   ]
  },
  {
   "cell_type": "markdown",
   "id": "3b7c85cb",
   "metadata": {},
   "source": [
    "## v3"
   ]
  },
  {
   "cell_type": "code",
   "execution_count": null,
   "id": "21c5332b",
   "metadata": {},
   "outputs": [],
   "source": [
    "scores = [100, 90, 95, 90, 80, 70, 0, 80, 90, 90, 0, 90, 100, 75, 20, 30, 50, 90]\n",
    "\n",
    "stu_scores = []\n",
    "valid_scores = []\n",
    "\n",
    "stu_scores = "
   ]
  },
  {
   "cell_type": "markdown",
   "id": "3d2bdd52",
   "metadata": {},
   "source": [
    "## other methods to separate list / array"
   ]
  },
  {
   "cell_type": "code",
   "execution_count": 59,
   "id": "89a556de",
   "metadata": {},
   "outputs": [
    {
     "name": "stdout",
     "output_type": "stream",
     "text": [
      "[array([100,  90,  95]), array([90, 80, 70]), array([ 0, 80, 90]), array([90,  0, 90]), array([100,  75,  20]), array([30, 50, 90])]\n"
     ]
    }
   ],
   "source": [
    "import numpy\n",
    "\n",
    "a = numpy.array_split(scores, 6)\n",
    "\n",
    "print(a)"
   ]
  },
  {
   "cell_type": "markdown",
   "id": "8ec34735",
   "metadata": {},
   "source": [
    "## Real world problems with dict"
   ]
  },
  {
   "cell_type": "code",
   "execution_count": 63,
   "id": "8e8a0a13",
   "metadata": {
    "scrolled": true
   },
   "outputs": [
    {
     "name": "stdout",
     "output_type": "stream",
     "text": [
      "Maximun population: 78451\n",
      "Minimun population: 19001\n",
      "Difference between maximun and minimun population: 59450\n",
      "Average population: 55624.0\n"
     ]
    }
   ],
   "source": [
    "def urban(city):\n",
    "    global max_pop, min_pop, pop_sum\n",
    "    n = 0\n",
    "    for name, pop in city.items():\n",
    "        if pop > max_pop:\n",
    "            max_pop = pop\n",
    "        if pop < min_pop:\n",
    "            min_pop = pop\n",
    "        pop_sum += pop\n",
    "        n += 1\n",
    "    print(\"Maximun population:\", max_pop)\n",
    "    print(\"Minimun population:\", min_pop) \n",
    "    print(\"Difference between maximun and minimun population:\", max_pop - min_pop)\n",
    "    print(\"Average population:\", pop_sum / n)\n",
    "    \n",
    "max_pop = 0\n",
    "min_pop = 1000_000\n",
    "pop_sum = 0\n",
    "\n",
    "city_pop = {\n",
    "    'A': 69420,\n",
    "    'B': 19001,\n",
    "    'C': 78451\n",
    "}\n",
    "urban(city_pop)"
   ]
  },
  {
   "cell_type": "code",
   "execution_count": 68,
   "id": "01785edf",
   "metadata": {},
   "outputs": [
    {
     "name": "stdout",
     "output_type": "stream",
     "text": [
      "10\n"
     ]
    }
   ],
   "source": [
    "def func1(a):\n",
    "    def func2(a):\n",
    "        print(a)\n",
    "    return func2\n",
    "        \n",
    "func1(1)\n",
    "func1(1)(10)"
   ]
  },
  {
   "cell_type": "markdown",
   "id": "9e0c5caa",
   "metadata": {},
   "source": [
    "## Passing around function like it's a object (which it is)"
   ]
  },
  {
   "cell_type": "code",
   "execution_count": 69,
   "id": "545ee326",
   "metadata": {},
   "outputs": [
    {
     "name": "stdout",
     "output_type": "stream",
     "text": [
      "a: 400\n",
      "b: 200\n"
     ]
    }
   ],
   "source": [
    "def plus(a, b):\n",
    "    return a + b\n",
    "\n",
    "def minus(a, b):\n",
    "    return a - b\n",
    "\n",
    "l = [plus, minus]\n",
    "\n",
    "a = l[0](100, 300)\n",
    "b = l[1](300, 100)\n",
    "\n",
    "print(\"a:\", a)\n",
    "print(\"b:\", b)"
   ]
  },
  {
   "cell_type": "code",
   "execution_count": 70,
   "id": "1af797be",
   "metadata": {},
   "outputs": [
    {
     "data": {
      "text/plain": [
       "489"
      ]
     },
     "execution_count": 70,
     "metadata": {},
     "output_type": "execute_result"
    }
   ],
   "source": [
    "def add(a, b):\n",
    "    return a + b\n",
    "\n",
    "def func(func_obj, a, b):\n",
    "    return func_obj(a, b)\n",
    "\n",
    "func(add, 69, 420)"
   ]
  },
  {
   "cell_type": "markdown",
   "id": "d0fd21ef",
   "metadata": {},
   "source": [
    "## function b disguise as function a"
   ]
  },
  {
   "cell_type": "code",
   "execution_count": 73,
   "id": "ac26856e",
   "metadata": {},
   "outputs": [
    {
     "name": "stdout",
     "output_type": "stream",
     "text": [
      "print(\"hello\")\n"
     ]
    }
   ],
   "source": [
    "def funcA():\n",
    "    print(\"print(\\\"hello\\\")\")\n",
    "    \n",
    "def funcB():\n",
    "    return funcA\n",
    "\n",
    "funcB()()"
   ]
  },
  {
   "cell_type": "markdown",
   "id": "d0809bdc",
   "metadata": {},
   "source": [
    "## nonlocal"
   ]
  },
  {
   "cell_type": "code",
   "execution_count": 79,
   "id": "95d46ebb",
   "metadata": {},
   "outputs": [
    {
     "name": "stdout",
     "output_type": "stream",
     "text": [
      "1\n"
     ]
    }
   ],
   "source": [
    "def func1():\n",
    "    n3 = 1\n",
    "    def func2():\n",
    "        nonlocal n3\n",
    "        n3 += 1\n",
    "        print(n3)\n",
    "    func2()\n",
    "    \n",
    "func1()"
   ]
  },
  {
   "cell_type": "code",
   "execution_count": 81,
   "id": "359fff36",
   "metadata": {
    "scrolled": true
   },
   "outputs": [
    {
     "name": "stdout",
     "output_type": "stream",
     "text": [
      "1\n",
      "2\n",
      "1\n"
     ]
    }
   ],
   "source": [
    "def makecounter():\n",
    "    count = 0\n",
    "    def counter():\n",
    "        nonlocal count\n",
    "        count += 1\n",
    "        return count\n",
    "    return counter\n",
    "\n",
    "c1 = makecounter()\n",
    "c2 = makecounter()\n",
    "\n",
    "print(c1())\n",
    "print(c1())\n",
    "print(c2())"
   ]
  },
  {
   "cell_type": "markdown",
   "id": "02605b3c",
   "metadata": {},
   "source": [
    "## idk calculator??"
   ]
  },
  {
   "cell_type": "code",
   "execution_count": 82,
   "id": "dbce11f6",
   "metadata": {},
   "outputs": [
    {
     "name": "stdout",
     "output_type": "stream",
     "text": [
      "8 11 14 17 20\n"
     ]
    }
   ],
   "source": [
    "def calc():\n",
    "    a = 3\n",
    "    b = 5\n",
    "    def mul_add(x):\n",
    "        return a * x + b\n",
    "    return mul_add\n",
    "\n",
    "c = calc()\n",
    "print(c(1), c(2), c(3), c(4), c(5))"
   ]
  },
  {
   "cell_type": "code",
   "execution_count": 84,
   "id": "eb03ef9f",
   "metadata": {},
   "outputs": [
    {
     "name": "stdout",
     "output_type": "stream",
     "text": [
      "8 11 14 17 20\n"
     ]
    }
   ],
   "source": [
    "def calc2():\n",
    "    a = 3\n",
    "    b = 5\n",
    "    return lambda x: a * x + b\n",
    "\n",
    "c = calc2()\n",
    "print(c(1), c(2), c(3), c(4), c(5))"
   ]
  },
  {
   "cell_type": "markdown",
   "id": "f4ce9aa4",
   "metadata": {},
   "source": [
    "# Q1"
   ]
  },
  {
   "cell_type": "code",
   "execution_count": 100,
   "id": "d2ea6f48",
   "metadata": {},
   "outputs": [
    {
     "name": "stdout",
     "output_type": "stream",
     "text": [
      "Hello\n",
      "Hello\n"
     ]
    }
   ],
   "source": [
    "def greetings():\n",
    "    def say_hi():\n",
    "        print(\"Hello\")\n",
    "    return say_hi\n",
    "        \n",
    "greetings()()\n",
    "\n",
    "g = greetings()\n",
    "g()"
   ]
  },
  {
   "cell_type": "code",
   "execution_count": null,
   "id": "52608256",
   "metadata": {},
   "outputs": [],
   "source": []
  },
  {
   "cell_type": "code",
   "execution_count": null,
   "id": "45e39e5b",
   "metadata": {},
   "outputs": [],
   "source": []
  }
 ],
 "metadata": {
  "kernelspec": {
   "display_name": "Python 3 (ipykernel)",
   "language": "python",
   "name": "python3"
  },
  "language_info": {
   "codemirror_mode": {
    "name": "ipython",
    "version": 3
   },
   "file_extension": ".py",
   "mimetype": "text/x-python",
   "name": "python",
   "nbconvert_exporter": "python",
   "pygments_lexer": "ipython3",
   "version": "3.9.13"
  }
 },
 "nbformat": 4,
 "nbformat_minor": 5
}
