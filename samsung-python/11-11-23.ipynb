{
 "cells": [
  {
   "cell_type": "markdown",
   "id": "ffdd2314-8b1b-49fd-aebc-4d7fda2b57b4",
   "metadata": {},
   "source": [
    "## Roman number converter"
   ]
  },
  {
   "cell_type": "code",
   "execution_count": 7,
   "id": "d7a7821c-fd7a-4a30-9ebd-604b14278133",
   "metadata": {},
   "outputs": [
    {
     "name": "stdout",
     "output_type": "stream",
     "text": [
      "Please input a roman numberal(s): dmclxvi\n"
     ]
    },
    {
     "data": {
      "text/plain": [
       "666"
      ]
     },
     "execution_count": 7,
     "metadata": {},
     "output_type": "execute_result"
    }
   ],
   "source": [
    "def roman_to_int(rom):\n",
    "    rom = rom.upper()\n",
    "    total = 0\n",
    "    table = {\n",
    "        'M': 1000,\n",
    "        'D': 500,\n",
    "        'C': 100,\n",
    "        'L': 50,\n",
    "        'X': 10,\n",
    "        'V': 5,\n",
    "        'I': 1\n",
    "    }\n",
    "    \n",
    "    for num in rom:\n",
    "        if num not in table:\n",
    "            return -1\n",
    "    \n",
    "    for i in range(len(rom) - 1):\n",
    "        if table[rom[i]] > table[rom[i + 1]]:\n",
    "            total += table[rom[i]]\n",
    "        else:\n",
    "            total -= table[rom[i]]\n",
    "    return total + table[rom[-1]]\n",
    "    \n",
    "    \n",
    "rom = input(\"Please input a roman numberal(s): \")\n",
    "roman_to_int(rom)"
   ]
  },
  {
   "cell_type": "markdown",
   "id": "56f42673",
   "metadata": {},
   "source": [
    "## Sort book tittles in a hash table"
   ]
  },
  {
   "cell_type": "code",
   "execution_count": 8,
   "id": "a4b5c2ab",
   "metadata": {},
   "outputs": [
    {
     "name": "stdout",
     "output_type": "stream",
     "text": [
      "1157 Atomic habit\n",
      "2255 The psychology of money\n",
      "1572 Rich dad, poor dad\n",
      "2203 Feel good productivity\n",
      "1332 No game no life\n"
     ]
    }
   ],
   "source": [
    "books = [\n",
    "    \"Atomic habit\",\n",
    "    \"The psychology of money\",\n",
    "    \"Rich dad, poor dad\",\n",
    "    \"Feel good productivity\",\n",
    "    \"No game no life\"\n",
    "]\n",
    "\n",
    "for book in books:\n",
    "    key = sum(map(ord, book))\n",
    "    print(key, book)"
   ]
  },
  {
   "cell_type": "markdown",
   "id": "46e5a24c",
   "metadata": {},
   "source": [
    "## Hash table (class)"
   ]
  },
  {
   "cell_type": "code",
   "execution_count": 21,
   "id": "eba5ddb8",
   "metadata": {},
   "outputs": [
    {
     "name": "stdout",
     "output_type": "stream",
     "text": [
      "[['apple', 'banana'], ['panha', 'hak']]\n",
      "[['dog', 'cat']]\n",
      "0     []\n",
      "1     [['apple', 'banana'], ['panha', 'hak']]\n",
      "2     []\n",
      "3     []\n",
      "4     []\n",
      "5     []\n",
      "6     []\n",
      "7     []\n",
      "8     []\n",
      "9     []\n",
      "10    []\n",
      "11    []\n",
      "12    []\n",
      "13    []\n",
      "14    []\n",
      "15    []\n",
      "16    []\n",
      "17    []\n",
      "18    []\n",
      "19    [['dog', 'cat']]\n"
     ]
    }
   ],
   "source": [
    "class hashingTable:\n",
    "    def __init__(self, size):\n",
    "        self.size = size\n",
    "        self.table = {}\n",
    "        for i in range(size):\n",
    "            self.table[i] = []\n",
    "            \n",
    "    def hashing(self, key):\n",
    "        return key % self.size\n",
    "    \n",
    "    def get(self, key):\n",
    "        return self.table[self.hashing(key)]\n",
    "    \n",
    "    def put(self, key, value):\n",
    "        bucket = self.table[self.hashing(key)]\n",
    "        if value not in bucket:\n",
    "            bucket.append(value)\n",
    "            \n",
    "    def display(self):\n",
    "        for _ in self.table:\n",
    "            print(str(_).ljust(5), self.table[_])\n",
    "            \n",
    "h = hashingTable(20)\n",
    "\n",
    "h.put(1, [\"apple\", \"banana\"])\n",
    "h.put(19, [\"dog\", \"cat\"])\n",
    "h.put(21, [\"panha\", \"hak\"])\n",
    "\n",
    "print(h.get(1))\n",
    "print(h.get(19))\n",
    "\n",
    "h.display()"
   ]
  },
  {
   "cell_type": "code",
   "execution_count": null,
   "id": "f92aee51",
   "metadata": {},
   "outputs": [],
   "source": []
  },
  {
   "cell_type": "code",
   "execution_count": null,
   "id": "87068de8",
   "metadata": {},
   "outputs": [],
   "source": []
  },
  {
   "cell_type": "code",
   "execution_count": null,
   "id": "b243e135",
   "metadata": {},
   "outputs": [],
   "source": []
  },
  {
   "cell_type": "code",
   "execution_count": null,
   "id": "4b09f2dd",
   "metadata": {},
   "outputs": [],
   "source": []
  },
  {
   "cell_type": "code",
   "execution_count": null,
   "id": "484a83c8",
   "metadata": {},
   "outputs": [],
   "source": []
  },
  {
   "cell_type": "code",
   "execution_count": null,
   "id": "9c9de193",
   "metadata": {},
   "outputs": [],
   "source": []
  },
  {
   "cell_type": "code",
   "execution_count": null,
   "id": "e9adb59b",
   "metadata": {},
   "outputs": [],
   "source": []
  }
 ],
 "metadata": {
  "kernelspec": {
   "display_name": "Python 3 (ipykernel)",
   "language": "python",
   "name": "python3"
  },
  "language_info": {
   "codemirror_mode": {
    "name": "ipython",
    "version": 3
   },
   "file_extension": ".py",
   "mimetype": "text/x-python",
   "name": "python",
   "nbconvert_exporter": "python",
   "pygments_lexer": "ipython3",
   "version": "3.9.13"
  }
 },
 "nbformat": 4,
 "nbformat_minor": 5
}
