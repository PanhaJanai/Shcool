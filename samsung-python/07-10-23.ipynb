{
 "cells": [
  {
   "cell_type": "markdown",
   "id": "6c322105",
   "metadata": {},
   "source": [
    "# Lambda"
   ]
  },
  {
   "cell_type": "code",
   "execution_count": 16,
   "id": "a9377637",
   "metadata": {},
   "outputs": [
    {
     "name": "stdout",
     "output_type": "stream",
     "text": [
      "420\n"
     ]
    }
   ],
   "source": [
    "x = lambda a: a + 69\n",
    "print(x(351))"
   ]
  },
  {
   "cell_type": "markdown",
   "id": "0cc92591",
   "metadata": {},
   "source": [
    "## Real world problem about Sherlock Holmes"
   ]
  },
  {
   "cell_type": "code",
   "execution_count": 5,
   "id": "0ad89544",
   "metadata": {},
   "outputs": [
    {
     "name": "stdout",
     "output_type": "stream",
     "text": [
      "Distinguish year, month and date by .(e.g. 1917.6.10): 11.11.11\n",
      "This is not a publication year of Sherlock Holmes series.\n",
      "This is not the publicationdate of a Sherlock Holmes series or the input an error.\n"
     ]
    }
   ],
   "source": [
    "def valid_date(date):\n",
    "    days = [31, 29, 31, 30, 31, 31, 30, 31, 30, 31]\n",
    "    sherlock_series = [1887, 1890, 1892, 1894, 1901, 1915, 1917, 1927]\n",
    "    splitted = date.split('.')\n",
    "    year = int(splitted[0])\n",
    "    month = int(splitted[1])\n",
    "    day = int(splitted[2])\n",
    "    is_sherlock_book_yr = lambda x: x in sherlock_series\n",
    "    \n",
    "    if not is_sherlock_book_yr(year):\n",
    "        print(\"This is not a publication year of Sherlock Holmes series.\")\n",
    "        return False\n",
    "    if month < 1 or month > 12:\n",
    "        print(\"Invalid month!\")\n",
    "        return False\n",
    "    if day < 1 or day > days[month - 1]:\n",
    "        print(\"No such date!\")\n",
    "        return False\n",
    "    return True\n",
    "\n",
    "date = input(\"Distinguish year, month and date by .(e.g. 1917.6.10): \")\n",
    "if valid_date(date) == True:\n",
    "    print(\"This is the publication date of Sherlock Holmes series!\")\n",
    "else:\n",
    "    print(\"This is not the publicationdate of a Sherlock Holmes series or the input an error.\")"
   ]
  },
  {
   "cell_type": "code",
   "execution_count": 17,
   "id": "8c9946a6",
   "metadata": {},
   "outputs": [
    {
     "name": "stdout",
     "output_type": "stream",
     "text": [
      "Sum of 69 and 420 is 489\n"
     ]
    }
   ],
   "source": [
    "add = lambda x, y: x + y\n",
    "\n",
    "print(\"Sum of 69 and 420 is {}\".format(add(69, 420)))"
   ]
  },
  {
   "cell_type": "markdown",
   "id": "ba30eb18",
   "metadata": {},
   "source": [
    "## Calling lambda function directly after creation"
   ]
  },
  {
   "cell_type": "code",
   "execution_count": 18,
   "id": "335f76b9",
   "metadata": {},
   "outputs": [
    {
     "name": "stdout",
     "output_type": "stream",
     "text": [
      "Sum of 69 and 420 is 489\n"
     ]
    }
   ],
   "source": [
    "print(\"Sum of 69 and 420 is {}\".format((lambda x, y: x + y)(69, 420)))"
   ]
  },
  {
   "cell_type": "markdown",
   "id": "6f023fae",
   "metadata": {},
   "source": [
    "## Squaring using lambda with map()"
   ]
  },
  {
   "cell_type": "code",
   "execution_count": 23,
   "id": "95500d7a",
   "metadata": {},
   "outputs": [
    {
     "name": "stdout",
     "output_type": "stream",
     "text": [
      "[1, 4, 9, 16, 25, 36, 49, 64, 81]\n"
     ]
    }
   ],
   "source": [
    "a = [1, 2, 3, 4, 5, 6, 7, 8, 9]\n",
    "square_a = list(map(lambda x: x ** 2, a))\n",
    "print(square_a)"
   ]
  },
  {
   "cell_type": "markdown",
   "id": "288d85b9",
   "metadata": {},
   "source": [
    "## filter()"
   ]
  },
  {
   "cell_type": "code",
   "execution_count": 20,
   "id": "8fc6ded6",
   "metadata": {},
   "outputs": [
    {
     "name": "stdout",
     "output_type": "stream",
     "text": [
      "Adults list: \n",
      "34 39 20 18 54 "
     ]
    }
   ],
   "source": [
    "def is_adult(n):\n",
    "    if n > 17:\n",
    "        return True\n",
    "    else:\n",
    "        return False\n",
    "    \n",
    "ages = [34, 39, 20, 18, 13, 54]\n",
    "print(\"Adults list: \")\n",
    "for a in filter(is_adult, ages):\n",
    "    print(a, end=\" \")"
   ]
  },
  {
   "cell_type": "code",
   "execution_count": 21,
   "id": "8cc71e5c",
   "metadata": {},
   "outputs": [
    {
     "name": "stdout",
     "output_type": "stream",
     "text": [
      "Adults list: \n",
      "34 39 20 18 54 "
     ]
    }
   ],
   "source": [
    "ages = [34, 39, 20, 18, 13, 54]\n",
    "print(\"Adults list: \")\n",
    "for a in filter(lambda x: x > 17, ages):\n",
    "    print(a, end=\" \")"
   ]
  },
  {
   "cell_type": "markdown",
   "id": "ae5fca37",
   "metadata": {},
   "source": [
    "## reduce()\n",
    "## using reduce to make max() like function"
   ]
  },
  {
   "cell_type": "code",
   "execution_count": 61,
   "id": "949ed67b",
   "metadata": {
    "scrolled": true
   },
   "outputs": [
    {
     "name": "stdout",
     "output_type": "stream",
     "text": [
      "10\n",
      "9\n"
     ]
    }
   ],
   "source": [
    "from functools import reduce\n",
    "\n",
    "a = [1, 2, 3, 4]\n",
    "n = reduce(lambda x, y: x + y, a)\n",
    "print(n)\n",
    "\n",
    "b = [5, 9, 8, 3, 7, 2, 1]\n",
    "\n",
    "m = reduce(lambda x, y: x if x > y else y, b)\n",
    "\n",
    "print(m)"
   ]
  },
  {
   "cell_type": "markdown",
   "id": "381caa66",
   "metadata": {},
   "source": [
    "# Q1"
   ]
  },
  {
   "cell_type": "code",
   "execution_count": 67,
   "id": "c194a4a5",
   "metadata": {},
   "outputs": [
    {
     "name": "stdout",
     "output_type": "stream",
     "text": [
      "2\n",
      "4\n",
      "6\n",
      "8\n",
      "10\n"
     ]
    }
   ],
   "source": [
    "n_list = [i for i in range(1, 11)]\n",
    "even_list = filter(lambda a: a % 2 == 0, n_list)\n",
    "for i in even_list:\n",
    "    print(i)"
   ]
  },
  {
   "cell_type": "markdown",
   "id": "f9c8e156",
   "metadata": {},
   "source": [
    "# Q2"
   ]
  },
  {
   "cell_type": "code",
   "execution_count": 66,
   "id": "39fdfbb6",
   "metadata": {},
   "outputs": [
    {
     "name": "stdout",
     "output_type": "stream",
     "text": [
      "[2, 4, 6, 8, 10]\n"
     ]
    }
   ],
   "source": [
    "n_list = [i for i in range(1, 11)]\n",
    "even_list = list(filter(lambda a: a % 2 == 0, n_list))\n",
    "print(even_list)"
   ]
  },
  {
   "cell_type": "markdown",
   "id": "c7ee5a31",
   "metadata": {},
   "source": [
    "# Q3"
   ]
  },
  {
   "cell_type": "code",
   "execution_count": 10,
   "id": "c8167045",
   "metadata": {},
   "outputs": [
    {
     "name": "stdout",
     "output_type": "stream",
     "text": [
      "['A', 'B', 'C', 'D']\n"
     ]
    }
   ],
   "source": [
    "a_list = ['a', 'b', 'c', 'd']\n",
    "def to_upper(letter):\n",
    "    return letter.upper()\n",
    "upper_a_list = list(map(to_upper, a_list))\n",
    "print(upper_a_list)"
   ]
  },
  {
   "cell_type": "markdown",
   "id": "21233078",
   "metadata": {},
   "source": [
    "# Q4 "
   ]
  },
  {
   "cell_type": "code",
   "execution_count": 73,
   "id": "b25953d5",
   "metadata": {},
   "outputs": [
    {
     "name": "stdout",
     "output_type": "stream",
     "text": [
      "5050\n"
     ]
    }
   ],
   "source": [
    "from functools import reduce\n",
    "sum = reduce(lambda num1, num2: num1 + num2, [i for i in range(1, 101)])\n",
    "print(sum)"
   ]
  },
  {
   "cell_type": "markdown",
   "id": "c902b657",
   "metadata": {},
   "source": [
    "# try & except"
   ]
  },
  {
   "cell_type": "code",
   "execution_count": 9,
   "id": "80c16edd",
   "metadata": {},
   "outputs": [
    {
     "name": "stdout",
     "output_type": "stream",
     "text": [
      "Enter two numbers (separate by space): 99 thirty three\n",
      "Check if the number are correct.\n"
     ]
    }
   ],
   "source": [
    "try:\n",
    "    a, b = input(\"Enter two numbers (separate by space): \").split()\n",
    "    result = int(a) / int(b)\n",
    "    print(\"{} / {} = {}\".format(a, b, result))\n",
    "except:\n",
    "    print(\"Check if the number are correct.\")"
   ]
  },
  {
   "cell_type": "code",
   "execution_count": 13,
   "id": "47a0c041",
   "metadata": {},
   "outputs": [
    {
     "name": "stdout",
     "output_type": "stream",
     "text": [
      "divide(100, 2)\n",
      "Result: 50.0\n",
      "Execution complete!\n",
      "divide(100, 0)\n",
      "Cannot devide by zero!\n",
      "Execution complete!\n"
     ]
    }
   ],
   "source": [
    "def divide(a, b):\n",
    "    try:\n",
    "        result = a / b\n",
    "    except ZeroDivisionError:\n",
    "        print(\"Cannot devide by zero!\")\n",
    "    else:\n",
    "        print(\"Result:\", result)\n",
    "    finally:\n",
    "        print(\"Execution complete!\")\n",
    "        \n",
    "print(\"divide(100, 2)\")\n",
    "divide(100, 2)\n",
    "print(\"divide(100, 0)\")\n",
    "divide(100, 0)"
   ]
  },
  {
   "cell_type": "markdown",
   "id": "c72aca00",
   "metadata": {},
   "source": [
    "## iter()"
   ]
  },
  {
   "cell_type": "code",
   "execution_count": 20,
   "id": "217caa12",
   "metadata": {
    "scrolled": true
   },
   "outputs": [
    {
     "name": "stdout",
     "output_type": "stream",
     "text": [
      "<list_iterator object at 0x000002EB117C78E0>\n",
      "10\n",
      "20\n",
      "30\n"
     ]
    },
    {
     "ename": "StopIteration",
     "evalue": "",
     "output_type": "error",
     "traceback": [
      "\u001b[1;31m---------------------------------------------------------------------------\u001b[0m",
      "\u001b[1;31mStopIteration\u001b[0m                             Traceback (most recent call last)",
      "\u001b[1;32m~\\AppData\\Local\\Temp\\ipykernel_13944\\3920087850.py\u001b[0m in \u001b[0;36m<module>\u001b[1;34m\u001b[0m\n\u001b[0;32m      4\u001b[0m \u001b[0mprint\u001b[0m\u001b[1;33m(\u001b[0m\u001b[0mnext\u001b[0m\u001b[1;33m(\u001b[0m\u001b[0miter_a\u001b[0m\u001b[1;33m)\u001b[0m\u001b[1;33m)\u001b[0m\u001b[1;33m\u001b[0m\u001b[1;33m\u001b[0m\u001b[0m\n\u001b[0;32m      5\u001b[0m \u001b[0mprint\u001b[0m\u001b[1;33m(\u001b[0m\u001b[0mnext\u001b[0m\u001b[1;33m(\u001b[0m\u001b[0miter_a\u001b[0m\u001b[1;33m)\u001b[0m\u001b[1;33m)\u001b[0m\u001b[1;33m\u001b[0m\u001b[1;33m\u001b[0m\u001b[0m\n\u001b[1;32m----> 6\u001b[1;33m \u001b[0mprint\u001b[0m\u001b[1;33m(\u001b[0m\u001b[0mnext\u001b[0m\u001b[1;33m(\u001b[0m\u001b[0miter_a\u001b[0m\u001b[1;33m)\u001b[0m\u001b[1;33m)\u001b[0m\u001b[1;33m\u001b[0m\u001b[1;33m\u001b[0m\u001b[0m\n\u001b[0m",
      "\u001b[1;31mStopIteration\u001b[0m: "
     ]
    }
   ],
   "source": [
    "iter_a = iter([10, 20, 30])\n",
    "print(iter_a)\n",
    "print(next(iter_a))\n",
    "print(next(iter_a))\n",
    "print(next(iter_a))\n",
    "print(next(iter_a))"
   ]
  },
  {
   "cell_type": "code",
   "execution_count": 25,
   "id": "e2fbc459",
   "metadata": {},
   "outputs": [
    {
     "name": "stdout",
     "output_type": "stream",
     "text": [
      "<list_iterator object at 0x000002EB10595AF0>\n",
      "10\n"
     ]
    }
   ],
   "source": [
    "iter_a = iter([10, 20, 30])\n",
    "print(iter_a)\n",
    "\n",
    "print(iter_a.__next__())"
   ]
  },
  {
   "cell_type": "code",
   "execution_count": 23,
   "id": "0637a49c",
   "metadata": {},
   "outputs": [
    {
     "name": "stdout",
     "output_type": "stream",
     "text": [
      "123\n",
      "None\n",
      "\n",
      "None\n",
      "<built-in function print>\n"
     ]
    }
   ],
   "source": [
    "print(print(123))\n",
    "print(print())\n",
    "print(print)"
   ]
  },
  {
   "cell_type": "code",
   "execution_count": null,
   "id": "2dfa4f91",
   "metadata": {},
   "outputs": [],
   "source": []
  },
  {
   "cell_type": "code",
   "execution_count": null,
   "id": "9a191710",
   "metadata": {},
   "outputs": [],
   "source": []
  }
 ],
 "metadata": {
  "kernelspec": {
   "display_name": "Python 3 (ipykernel)",
   "language": "python",
   "name": "python3"
  },
  "language_info": {
   "codemirror_mode": {
    "name": "ipython",
    "version": 3
   },
   "file_extension": ".py",
   "mimetype": "text/x-python",
   "name": "python",
   "nbconvert_exporter": "python",
   "pygments_lexer": "ipython3",
   "version": "3.9.13"
  }
 },
 "nbformat": 4,
 "nbformat_minor": 5
}
