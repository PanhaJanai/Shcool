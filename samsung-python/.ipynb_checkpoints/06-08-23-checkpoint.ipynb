{
 "cells": [
  {
   "cell_type": "markdown",
   "id": "06ba612f",
   "metadata": {},
   "source": [
    "# Lists"
   ]
  },
  {
   "cell_type": "markdown",
   "id": "58f9c2ff",
   "metadata": {},
   "source": [
    "## append() and extend()\n"
   ]
  },
  {
   "cell_type": "code",
   "execution_count": 2,
   "id": "c7df4dc4",
   "metadata": {},
   "outputs": [
    {
     "name": "stdout",
     "output_type": "stream",
     "text": [
      "['Hello', ', ', 'my ', 'name ', 'is ', ['Panha', 'Hak', 'Xing']]\n"
     ]
    }
   ],
   "source": [
    "l = [\"Hello\", \", \", \"my \", \"name \", \"is \"]\n",
    "l.append([\"Panha\", \"Hak\", \"Xing\"])\n",
    "\n",
    "print(l)"
   ]
  },
  {
   "cell_type": "code",
   "execution_count": 5,
   "id": "6b92d5e7",
   "metadata": {},
   "outputs": [
    {
     "name": "stdout",
     "output_type": "stream",
     "text": [
      "['Roses ', 'are ', 'red ', 'Violets ', 'are', 'blue']\n"
     ]
    }
   ],
   "source": [
    "l = [\"Roses \", \"are \", \"red \"]\n",
    "l.extend([\"Violets \", \"are\", \"blue\"])\n",
    "\n",
    "print(l)"
   ]
  },
  {
   "cell_type": "markdown",
   "id": "9d00dd82",
   "metadata": {},
   "source": [
    "## del keyword"
   ]
  },
  {
   "cell_type": "code",
   "execution_count": 13,
   "id": "51c75264",
   "metadata": {},
   "outputs": [
    {
     "name": "stdout",
     "output_type": "stream",
     "text": [
      "['Panha', 'Hak', 'Xing']\n",
      "Error!\n",
      "['Hak']\n"
     ]
    }
   ],
   "source": [
    "my_list = [\"Panha\", \"Hak\", \"Xing\", \"IDK\"]\n",
    "del my_list[3]\n",
    "\n",
    "print(my_list)\n",
    "\n",
    "\"\"\"\n",
    "    Even though there are 3 elements in the list index = 2 cannot be used because by the time\n",
    "    it gets there, there will no longer be an index = 2\n",
    "\"\"\"\n",
    "del my_list[0]\n",
    "del my_list[1]\n",
    "\n",
    "try:\n",
    "    del my_list[2]\n",
    "except IndexError:\n",
    "    print(\"Error!\")\n",
    "\n",
    "print(my_list)"
   ]
  },
  {
   "cell_type": "markdown",
   "id": "d181c2a3",
   "metadata": {},
   "source": [
    "## pop() and remove()"
   ]
  },
  {
   "cell_type": "code",
   "execution_count": 16,
   "id": "a26ea2f9",
   "metadata": {},
   "outputs": [
    {
     "name": "stdout",
     "output_type": "stream",
     "text": [
      "[1, 2, 3, 4, 5, 6, 7, 69]\n",
      "[1, 2, 3, 4, 5, 6, 7]\n"
     ]
    }
   ],
   "source": [
    "l = [1, 2, 3, 4, 5, 6, 7, 69, 420]\n",
    "\n",
    "# pop the last element\n",
    "l.pop()\n",
    "print(l)\n",
    "\n",
    "# remove the element not index\n",
    "l.remove(69)\n",
    "print(l)"
   ]
  },
  {
   "cell_type": "markdown",
   "id": "f73f6454",
   "metadata": {},
   "source": [
    "## Slicing"
   ]
  },
  {
   "cell_type": "code",
   "execution_count": 35,
   "id": "95c20302",
   "metadata": {},
   "outputs": [
    {
     "name": "stdout",
     "output_type": "stream",
     "text": [
      "[0, 1, 2, 3]\n",
      "[2, 3, 4, 5]\n",
      "[4, 5, 6]\n",
      "[0, 1, 2, 3, 4, 5, 6]\n",
      "\n",
      "[1, 0]\n",
      "[2, 1, 0]\n",
      "[3, 2, 1, 0]\n",
      "\n",
      "[0, 1, 2, 3, 4, 5]\n",
      "[0, 1, 2, 3, 4]\n"
     ]
    }
   ],
   "source": [
    "l = [0, 1, 2, 3, 4, 5, 6]\n",
    "\n",
    "# from index 0 to index 4 - 1\n",
    "print(l[:4])\n",
    "print(l[2:6])\n",
    "\n",
    "# from index 4 to last index\n",
    "print(l[4:])\n",
    "\n",
    "# from index 0 to last index with a step of 1\n",
    "print(l[::1])\n",
    "\n",
    "print()\n",
    "\n",
    "print(l[1::-1])\n",
    "print(l[2::-1])\n",
    "print(l[3::-1])\n",
    "\n",
    "print()\n",
    "\n",
    "print(l[:-1])\n",
    "print(l[:-2])"
   ]
  },
  {
   "cell_type": "markdown",
   "id": "3514d2fd",
   "metadata": {},
   "source": [
    "## Quiz 1"
   ]
  },
  {
   "cell_type": "code",
   "execution_count": 54,
   "id": "76bb1007",
   "metadata": {},
   "outputs": [
    {
     "name": "stdout",
     "output_type": "stream",
     "text": [
      "1st prime number in prime_list: 2\n"
     ]
    }
   ],
   "source": [
    "prime_list = [2, 3, 5, 7]\n",
    "\n",
    "print(\"1st prime number in prime_list:\", prime_list[0])"
   ]
  },
  {
   "cell_type": "markdown",
   "id": "7b3ed1da",
   "metadata": {},
   "source": [
    "## Quiz 2"
   ]
  },
  {
   "cell_type": "code",
   "execution_count": 55,
   "id": "32668ac5",
   "metadata": {},
   "outputs": [
    {
     "name": "stdout",
     "output_type": "stream",
     "text": [
      "Prime numbers: [2, 3, 5, 7]\n",
      "Prime numbers after addition: [2, 3, 5, 7, 11]\n"
     ]
    }
   ],
   "source": [
    "prime_list = [2, 3, 5, 7]\n",
    "\n",
    "print(\"Prime numbers:\", prime_list)\n",
    "prime_list.extend([11])\n",
    "print(\"Prime numbers after addition:\", prime_list)"
   ]
  },
  {
   "cell_type": "markdown",
   "id": "30355b90",
   "metadata": {},
   "source": [
    "## Quiz 3"
   ]
  },
  {
   "cell_type": "code",
   "execution_count": 57,
   "id": "bbab6551",
   "metadata": {},
   "outputs": [
    {
     "name": "stdout",
     "output_type": "stream",
     "text": [
      "3 * 2 = 6\n",
      "3 * 3 = 9\n",
      "3 * 4 = 12\n",
      "3 * 5 = 15\n",
      "3 * 6 = 18\n",
      "5 * 2 = 10\n",
      "5 * 3 = 15\n",
      "5 * 4 = 20\n",
      "5 * 5 = 25\n",
      "5 * 6 = 30\n",
      "7 * 2 = 14\n",
      "7 * 3 = 21\n",
      "7 * 4 = 28\n",
      "7 * 5 = 35\n",
      "7 * 6 = 42\n"
     ]
    }
   ],
   "source": [
    "list1 = [3, 5, 7]\n",
    "list2 = [2, 3, 4, 5, 6]\n",
    "for _a in list1:\n",
    "    for _b in list2:\n",
    "        print(f\"{_a} * {_b} = {_a * _b}\")"
   ]
  },
  {
   "cell_type": "markdown",
   "id": "d973514f",
   "metadata": {},
   "source": [
    "## insert()"
   ]
  },
  {
   "cell_type": "code",
   "execution_count": 60,
   "id": "6a5ba7a4",
   "metadata": {},
   "outputs": [
    {
     "name": "stdout",
     "output_type": "stream",
     "text": [
      "['Panha', 1000000, 'Hak', 0, 'Xing', 3000]\n",
      "['Panha', 1000000, 'Chan', 2, 'Hak', 0, 'Xing', 3000]\n",
      "['Panha', 1000000, ['Chhay', 69], 'Chan', 2, 'Hak', 0, 'Xing', 3000]\n"
     ]
    }
   ],
   "source": [
    "my_list = [\"Panha\", 1_000_000, \"Hak\", 0, \"Xing\", 3000]\n",
    "print(my_list)\n",
    "\n",
    "my_list.insert(2, \"Chan\")\n",
    "my_list.insert(3, 2)\n",
    "print(my_list)\n",
    "\n",
    "my_list.insert(2, [\"Chhay\", 69])\n",
    "print(my_list)"
   ]
  },
  {
   "cell_type": "markdown",
   "id": "2c435afe",
   "metadata": {},
   "source": [
    "## sort()"
   ]
  },
  {
   "cell_type": "code",
   "execution_count": 65,
   "id": "d60ba54c",
   "metadata": {},
   "outputs": [
    {
     "name": "stdout",
     "output_type": "stream",
     "text": [
      "['Apple', 'Banana', 'Cucumber', 'Octopus']\n",
      "['Octopus', 'Cucumber', 'Banana', 'Apple']\n",
      "['Cucumber', 'Octopus', 'Banana', 'Apple']\n"
     ]
    }
   ],
   "source": [
    "li = [\"Apple\", \"Banana\", \"Octopus\", \"Cucumber\"]\n",
    "li2 = list(li)\n",
    "li3 = list(li)\n",
    "\n",
    "li.sort()\n",
    "li2.sort(reverse=True)\n",
    "li3.reverse()\n",
    "\n",
    "print(li)\n",
    "print(li2)\n",
    "print(li3)"
   ]
  },
  {
   "cell_type": "markdown",
   "id": "03b8b0b0",
   "metadata": {},
   "source": [
    "## Quiz 1"
   ]
  },
  {
   "cell_type": "code",
   "execution_count": 82,
   "id": "4b89bcc8",
   "metadata": {},
   "outputs": [
    {
     "name": "stdout",
     "output_type": "stream",
     "text": [
      "w\n"
     ]
    }
   ],
   "source": [
    "s_list = [\"abc\", \"bcd\", \"bcdefg\", \"w\", \"abba\", \"cddc\", \"opq\", \"l\"]\n",
    "li = []\n",
    "\n",
    "for i in range(len(s_list)):\n",
    "    if len(s_list[i]) <= len(s_list[0]):\n",
    "        mini = len(s_list[i])\n",
    "\n",
    "for _ in s_list:\n",
    "    if len(_) == mini:\n",
    "        print(_)\n",
    "        break"
   ]
  },
  {
   "cell_type": "markdown",
   "id": "7b44e3f3",
   "metadata": {},
   "source": [
    "## Quiz 2"
   ]
  },
  {
   "cell_type": "code",
   "execution_count": 83,
   "id": "f663fa70",
   "metadata": {},
   "outputs": [
    {
     "name": "stdout",
     "output_type": "stream",
     "text": [
      "['w', 'l']\n"
     ]
    }
   ],
   "source": [
    "s_list = [\"abc\", \"bcd\", \"bcdefg\", \"w\", \"abba\", \"cddc\", \"opq\", \"l\"]\n",
    "li = []\n",
    "\n",
    "for i in range(len(s_list)):\n",
    "    if len(s_list[i]) <= len(s_list[0]):\n",
    "        mini = len(s_list[i])\n",
    "\n",
    "for l in s_list:\n",
    "    if len(l) == mini:\n",
    "        li.append(l)\n",
    "        \n",
    "print(li)"
   ]
  }
 ],
 "metadata": {
  "kernelspec": {
   "display_name": "Python 3 (ipykernel)",
   "language": "python",
   "name": "python3"
  },
  "language_info": {
   "codemirror_mode": {
    "name": "ipython",
    "version": 3
   },
   "file_extension": ".py",
   "mimetype": "text/x-python",
   "name": "python",
   "nbconvert_exporter": "python",
   "pygments_lexer": "ipython3",
   "version": "3.9.13"
  }
 },
 "nbformat": 4,
 "nbformat_minor": 5
}
