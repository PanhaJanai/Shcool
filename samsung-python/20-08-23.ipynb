{
 "cells": [
  {
   "cell_type": "markdown",
   "id": "9c6335a4",
   "metadata": {},
   "source": [
    "## find the most frequence number in a tuple"
   ]
  },
  {
   "cell_type": "code",
   "execution_count": 91,
   "id": "0183c8ee",
   "metadata": {},
   "outputs": [
    {
     "name": "stdout",
     "output_type": "stream",
     "text": [
      "9\n"
     ]
    }
   ],
   "source": [
    "t = (1, 2, 5, 4, 3, 2, 1, 4, 7, 8, 9, 9, 3, 7, 3, 9)\n",
    "m = t.count(t[0])\n",
    "\n",
    "for i in t:\n",
    "    if t.count(i) >= m:\n",
    "        m = t.count(i)\n",
    "        num = i\n",
    "\n",
    "print(num)"
   ]
  },
  {
   "cell_type": "markdown",
   "id": "e8bc89d0",
   "metadata": {},
   "source": [
    "## Remove all empty stuff"
   ]
  },
  {
   "cell_type": "code",
   "execution_count": 101,
   "id": "3f116a6c",
   "metadata": {
    "scrolled": false
   },
   "outputs": [
    {
     "name": "stdout",
     "output_type": "stream",
     "text": [
      "[(1,), 'abc', (1,), 'a', ('a', 'b'), ((),)]\n"
     ]
    }
   ],
   "source": [
    "l = [(), (1,), [], 'abc', (), (), (1,), ('a'), ('a', 'b'), ((),), \"\"]\n",
    "\n",
    "l = [i for i in l if i]\n",
    "\n",
    "print(l)"
   ]
  },
  {
   "cell_type": "markdown",
   "id": "19d8a1ab",
   "metadata": {},
   "source": [
    "# two-dimensional lists"
   ]
  },
  {
   "cell_type": "code",
   "execution_count": 130,
   "id": "602cb05b",
   "metadata": {},
   "outputs": [
    {
     "name": "stdout",
     "output_type": "stream",
     "text": [
      "[['Hak', 'stupid'], ['Panha', 'smart'], ['Xing', 'Meh']]\n",
      "['Hak', 'stupid']\n",
      "stupid\n",
      "\n",
      "Hak correspond to stupid\n",
      "Panha correspond to smart\n",
      "Xing correspond to Meh\n"
     ]
    }
   ],
   "source": [
    "_2d = [\n",
    "    [\"Hak\", \"stupid\"],\n",
    "    [\"Panha\", \"smart\"],\n",
    "    [\"Xing\", \"Meh\"]\n",
    "]\n",
    "\n",
    "print(_2d)\n",
    "print(_2d[0])\n",
    "print(_2d[0][1])\n",
    "\n",
    "print()\n",
    "\n",
    "for a, b in _2d:\n",
    "    print(f\"{a} correspond to {b}\")"
   ]
  },
  {
   "cell_type": "code",
   "execution_count": 111,
   "id": "aa7d1ab1",
   "metadata": {},
   "outputs": [
    {
     "name": "stdout",
     "output_type": "stream",
     "text": [
      "1 2\n"
     ]
    }
   ],
   "source": [
    "a, b = [1, 2]\n",
    "print(a, b)"
   ]
  },
  {
   "cell_type": "markdown",
   "id": "86ee0062",
   "metadata": {},
   "source": [
    "## Theater "
   ]
  },
  {
   "cell_type": "code",
   "execution_count": 273,
   "id": "541e16c0",
   "metadata": {
    "scrolled": true
   },
   "outputs": [
    {
     "name": "stdout",
     "output_type": "stream",
     "text": [
      "[[0, 0, 1, 0, 0, 1], [1, 0, 0, 0, 1, 1], [1, 1, 1, 1, 1, 1]]\n",
      "\n",
      "theater_seat = [\n",
      "    [0, 0, 1, 0, 0, 1],\n",
      "    [1, 0, 0, 0, 1, 1],\n",
      "    [1, 1, 1, 1, 1, 1],\n",
      "]\n"
     ]
    }
   ],
   "source": [
    "import random\n",
    "\n",
    "def format2DList(name, l): \n",
    "    print(f'{name} = [')\n",
    "    for i in l:\n",
    "        print(\"    [\", end='')\n",
    "        n = 0\n",
    "        for j in i:\n",
    "            if n != len(i) - 1:\n",
    "                print(str(j) + \", \", end='')\n",
    "            else:\n",
    "                print(str(j), end=\"\")\n",
    "            n += 1\n",
    "        print(\"],\")\n",
    "    print(']')\n",
    "\n",
    "theater_seat = []\n",
    "\n",
    "for i in range(3):\n",
    "    row = []\n",
    "    for j in range(6):\n",
    "        row.append(random.randint(0, 1))\n",
    "    theater_seat.append(row)\n",
    "\n",
    "print(theater_seat)\n",
    "print()\n",
    "\n",
    "format2DList(\"theater_seat\", theater_seat)\n",
    "\n"
   ]
  },
  {
   "cell_type": "markdown",
   "id": "3ec01bf8",
   "metadata": {},
   "source": [
    "## Get all elements of a 2D list "
   ]
  },
  {
   "cell_type": "code",
   "execution_count": 279,
   "id": "cb5e0f22",
   "metadata": {},
   "outputs": [
    {
     "name": "stdout",
     "output_type": "stream",
     "text": [
      "1 2 3 \n",
      "4 5 6 \n",
      "7 8 9 \n",
      "\n",
      "1 2 3 \n",
      "4 5 \n",
      "6 \n"
     ]
    }
   ],
   "source": [
    "_2d = [\n",
    "    [1, 2, 3],\n",
    "    [4, 5, 6],\n",
    "    [7, 8, 9]\n",
    "]\n",
    "\n",
    "_2dDifSizeRow = [\n",
    "    [1, 2, 3],\n",
    "    [4, 5],\n",
    "    [6]\n",
    "]\n",
    "\n",
    "for row in _2d:\n",
    "    for col in row:\n",
    "        print(f\"{col} \", end='')\n",
    "    print()\n",
    "    \n",
    "print()\n",
    "    \n",
    "for row in _2dDifSizeRow:\n",
    "    for col in row:\n",
    "        print(f\"{col} \", end='')\n",
    "    print()"
   ]
  },
  {
   "cell_type": "markdown",
   "id": "b629ff53",
   "metadata": {},
   "source": [
    "<h2 style=\"color: red\"> list assignment is not a copy of that same list (it's a reference) </h2>"
   ]
  },
  {
   "cell_type": "code",
   "execution_count": 300,
   "id": "2f79d6fe",
   "metadata": {},
   "outputs": [
    {
     "name": "stdout",
     "output_type": "stream",
     "text": [
      "420\n",
      "5\n",
      "420\n"
     ]
    }
   ],
   "source": [
    "import copy\n",
    "\n",
    "list_2d = [\n",
    "    [1, 2, 3],\n",
    "    [4, 5, 6],\n",
    "    [7, 8, 9]\n",
    "] \n",
    "\n",
    "# Not a copy, just passing the reference to another variable\n",
    "not_copy_list = list_2d\n",
    "\n",
    "# Is indeed a copy of list_2d\n",
    "a_copy_list = copy.deepcopy(list_2d)\n",
    "\n",
    "# Is actually not a copy, to my surprise\n",
    "list_copy_list = list(list_2d)\n",
    "\n",
    "not_copy_list[1][1] = 69\n",
    "list_copy_list[1][1] = 420\n",
    "\n",
    "print(list_2d[1][1])\n",
    "print(a_copy_list[1][1])\n",
    "print(list_copy_list[1][1])"
   ]
  },
  {
   "cell_type": "markdown",
   "id": "fb5f5b37",
   "metadata": {},
   "source": [
    "## Jagged list"
   ]
  },
  {
   "cell_type": "code",
   "execution_count": 291,
   "id": "d7b1a386",
   "metadata": {},
   "outputs": [
    {
     "name": "stdout",
     "output_type": "stream",
     "text": [
      "0 \n",
      "0 1 \n",
      "0 1 2 \n",
      "0 1 2 3 \n",
      "0 1 2 3 4 \n"
     ]
    }
   ],
   "source": [
    "list1 = [1, 2, 3, 4, 5]\n",
    "list2 = []\n",
    "\n",
    "for i in list1:\n",
    "    line = []\n",
    "    for j in range(i):\n",
    "        line.append(j)\n",
    "        print(j, end=' ')\n",
    "    list2.append(line)\n",
    "    print()"
   ]
  },
  {
   "cell_type": "markdown",
   "id": "c3ab85d2",
   "metadata": {},
   "source": [
    "# Q1"
   ]
  },
  {
   "cell_type": "code",
   "execution_count": 292,
   "id": "dad63d2b",
   "metadata": {},
   "outputs": [
    {
     "name": "stdout",
     "output_type": "stream",
     "text": [
      "30\n"
     ]
    }
   ],
   "source": [
    "twoDList = [\n",
    "    [10, 20], \n",
    "    [30, 40], \n",
    "    [50, 60]\n",
    "]\n",
    "\n",
    "print(twoDList[1][0])"
   ]
  },
  {
   "cell_type": "markdown",
   "id": "32f823b3",
   "metadata": {},
   "source": [
    "# Q2"
   ]
  },
  {
   "cell_type": "code",
   "execution_count": 302,
   "id": "9f7b4606",
   "metadata": {},
   "outputs": [
    {
     "name": "stdout",
     "output_type": "stream",
     "text": [
      "[[1, 2, 3, 4], [5, 6, 7, 8], [9, 10, 11, 12], [13, 14, 15, 16]]\n"
     ]
    }
   ],
   "source": [
    "twoDList = []\n",
    "n = 0\n",
    "\n",
    "for i in range(4):\n",
    "    row = []\n",
    "    for j in range(n + 1, n + 5):\n",
    "        row.append(j)\n",
    "    twoDList.append(row)\n",
    "    n += 4\n",
    "    \n",
    "print(twoDList)"
   ]
  },
  {
   "cell_type": "code",
   "execution_count": null,
   "id": "adbb5319",
   "metadata": {},
   "outputs": [],
   "source": []
  },
  {
   "cell_type": "code",
   "execution_count": null,
   "id": "f73894eb",
   "metadata": {},
   "outputs": [],
   "source": []
  },
  {
   "cell_type": "code",
   "execution_count": null,
   "id": "be8f8e00",
   "metadata": {},
   "outputs": [],
   "source": []
  }
 ],
 "metadata": {
  "kernelspec": {
   "display_name": "Python 3 (ipykernel)",
   "language": "python",
   "name": "python3"
  },
  "language_info": {
   "codemirror_mode": {
    "name": "ipython",
    "version": 3
   },
   "file_extension": ".py",
   "mimetype": "text/x-python",
   "name": "python",
   "nbconvert_exporter": "python",
   "pygments_lexer": "ipython3",
   "version": "3.9.13"
  }
 },
 "nbformat": 4,
 "nbformat_minor": 5
}
