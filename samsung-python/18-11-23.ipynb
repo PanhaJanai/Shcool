{
 "cells": [
  {
   "cell_type": "markdown",
   "id": "ec7e4e19",
   "metadata": {},
   "source": [
    "# Merge sort"
   ]
  },
  {
   "cell_type": "code",
   "execution_count": null,
   "id": "cfe3034b",
   "metadata": {},
   "outputs": [],
   "source": [
    "l1 = [1, 4, 6, 3, 2, 7, 8, 0, 9, 5]\n",
    "l2 = []\n",
    "\n",
    "while len(l2) < len(l1):\n",
    "    "
   ]
  },
  {
   "cell_type": "code",
   "execution_count": 24,
   "id": "a8d252d4",
   "metadata": {},
   "outputs": [
    {
     "name": "stdout",
     "output_type": "stream",
     "text": [
      "[1, 4, 6, 3, 2] [7, 8, 0, 9, 5]\n",
      "[1, 4] [6, 3, 2]\n",
      "[1] [4]\n",
      "[1, 4] [1] [4]\n",
      "[6] [3, 2]\n",
      "[3] [2]\n",
      "[3, 2] [3] [2]\n",
      "[6, 3, 2] [6] [2, 3]\n",
      "[1, 4, 6, 3, 2] [1, 4] [2, 3, 6]\n",
      "[7, 8] [0, 9, 5]\n",
      "[7] [8]\n",
      "[7, 8] [7] [8]\n",
      "[0] [9, 5]\n",
      "[9] [5]\n",
      "[9, 5] [9] [5]\n",
      "[0, 9, 5] [0] [5, 9]\n",
      "[7, 8, 0, 9, 5] [7, 8] [0, 5, 9]\n",
      "[1, 4, 6, 3, 2, 7, 8, 0, 9, 5] [1, 2, 3, 4, 6] [0, 5, 7, 8, 9]\n",
      "[0, 1, 2, 3, 4, 5, 6, 7, 8, 9]\n"
     ]
    }
   ],
   "source": [
    "def merge(nums, l, r):\n",
    "    k = 0\n",
    "    \n",
    "    while len(l) > 0 and len(r) > 0:\n",
    "        if l[0] <= r[0]:\n",
    "            nums[k] = l.pop(0)\n",
    "        else:\n",
    "            nums[k] = r.pop(0)\n",
    "        k += 1\n",
    "        \n",
    "    while len(l) != 0:\n",
    "        nums[k] = l.pop(0)\n",
    "        k += 1\n",
    "        \n",
    "    while len(r) != 0:\n",
    "        nums[k] = r.pop(0)\n",
    "        k += 1\n",
    "        \n",
    "def mergeSort(nums):\n",
    "    n = len(nums)\n",
    "    if n > 1:\n",
    "        \n",
    "#         print(nums)\n",
    "        \n",
    "        mid = n // 2\n",
    "        l, r = nums[:mid], nums[mid:]\n",
    "        \n",
    "        print(l, r)\n",
    "        \n",
    "        mergeSort(l)\n",
    "        mergeSort(r)\n",
    "        \n",
    "        print(nums, l, r)\n",
    "        merge(nums, l, r)\n",
    "          \n",
    "l1 = [1, 4, 6, 3, 2, 7, 8, 0, 9, 5]\n",
    "l2 = []\n",
    "\n",
    "mergeSort(l1)\n",
    "\n",
    "print(l1)"
   ]
  },
  {
   "cell_type": "markdown",
   "id": "063799b8",
   "metadata": {},
   "source": [
    "## merge sort (more efficiently)"
   ]
  },
  {
   "cell_type": "code",
   "execution_count": 138,
   "id": "2e41eec0",
   "metadata": {},
   "outputs": [
    {
     "name": "stdout",
     "output_type": "stream",
     "text": [
      "[0, 1, 2, 3, 4, 5, 6, 7, 8, 9]\n",
      "[7, 9, 4, 5, 6, 1, 2, 3, 8, 0]\n",
      "[4, 7, 9, 5, 6, 1, 2, 3, 8, 0]\n",
      "[4, 7, 9, 5, 6, 1, 2, 3, 8, 0]\n",
      "[4, 5, 6, 7, 9, 1, 2, 3, 8, 0]\n",
      "[4, 5, 6, 7, 9, 1, 2, 3, 8, 0]\n",
      "[4, 5, 6, 7, 9, 1, 2, 3, 8, 0]\n",
      "[4, 5, 6, 7, 9, 1, 2, 3, 0, 8]\n",
      "[4, 5, 6, 7, 9, 0, 1, 2, 3, 8]\n",
      "[0, 1, 2, 3, 4, 5, 6, 7, 8, 9]\n"
     ]
    }
   ],
   "source": [
    "main = []\n",
    "\n",
    "def merge2(nums, low, mid, high):\n",
    "    r = []\n",
    "    i, j = low, mid + 1\n",
    "    \n",
    "    # Comparing item and put it in list r while this list is the left sublist of the main list\n",
    "    while i <= mid and j <= high:\n",
    "        \n",
    "        # Compare numbers of two sublists\n",
    "        if nums[i] < nums[j]:\n",
    "            r.append(nums[i])\n",
    "            i += 1\n",
    "        else:\n",
    "            r.append(nums[j])\n",
    "            j += 1\n",
    "    \n",
    "    # If this is the right sublist of the main list\n",
    "    if i > mid:\n",
    "        for k in range(j, mid + 1):\n",
    "            r.append(nums[k])\n",
    "    else:\n",
    "        for k in range(i, mid + 1):\n",
    "            r.append(nums[k])\n",
    "            \n",
    "    for k in range(len(r)):\n",
    "        nums[low + k] = r[k]\n",
    "        \n",
    "    main.append(list(nums))\n",
    "\n",
    "def mergeSort2(nums, low, high):\n",
    "    if low < high:\n",
    "\n",
    "        mid = (low + high) // 2\n",
    "    \n",
    "        mergeSort2(nums, low, mid)\n",
    "        mergeSort2(nums, mid + 1, high)\n",
    "        \n",
    "        merge2(nums, low, mid, high)\n",
    "\n",
    "from random import randint, shuffle\n",
    "\n",
    "# l1 = [randint(0, 10) for i in range(10)]\n",
    "l1 = [7, 9, 4, 5, 6, 1, 2, 3, 8, 0]\n",
    "\n",
    "mergeSort2(l1, 0, len(l1) - 1)\n",
    "print(l1)\n",
    "\n",
    "for i in main:\n",
    "    print(i)"
   ]
  },
  {
   "cell_type": "code",
   "execution_count": null,
   "id": "057c298b",
   "metadata": {},
   "outputs": [],
   "source": []
  },
  {
   "cell_type": "code",
   "execution_count": null,
   "id": "7271640d",
   "metadata": {},
   "outputs": [],
   "source": []
  },
  {
   "cell_type": "code",
   "execution_count": null,
   "id": "94dbe0ec",
   "metadata": {},
   "outputs": [],
   "source": []
  }
 ],
 "metadata": {
  "kernelspec": {
   "display_name": "Python 3 (ipykernel)",
   "language": "python",
   "name": "python3"
  },
  "language_info": {
   "codemirror_mode": {
    "name": "ipython",
    "version": 3
   },
   "file_extension": ".py",
   "mimetype": "text/x-python",
   "name": "python",
   "nbconvert_exporter": "python",
   "pygments_lexer": "ipython3",
   "version": "3.9.13"
  }
 },
 "nbformat": 4,
 "nbformat_minor": 5
}
